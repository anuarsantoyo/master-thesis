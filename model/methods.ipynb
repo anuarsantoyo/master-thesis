{
 "cells": [
  {
   "cell_type": "markdown",
   "metadata": {
    "collapsed": true,
    "pycharm": {
     "name": "#%% md\n"
    }
   },
   "source": [
    "# Functions to determine R-values"
   ]
  },
  {
   "cell_type": "code",
   "execution_count": 1,
   "outputs": [],
   "source": [
    "from model.modelhelper import *"
   ],
   "metadata": {
    "collapsed": false,
    "pycharm": {
     "name": "#%%\n"
    }
   }
  },
  {
   "cell_type": "markdown",
   "source": [
    "## Random Walk"
   ],
   "metadata": {
    "collapsed": false,
    "pycharm": {
     "name": "#%% md\n"
    }
   }
  },
  {
   "cell_type": "code",
   "execution_count": 5,
   "outputs": [
    {
     "name": "stdout",
     "output_type": "stream",
     "text": [
      "4\n"
     ]
    }
   ],
   "source": [],
   "metadata": {
    "collapsed": false,
    "pycharm": {
     "name": "#%%\n"
    }
   }
  },
  {
   "cell_type": "code",
   "execution_count": 7,
   "outputs": [],
   "source": [
    "class Transformations:\n",
    "    def __init__(self):\n",
    "        pass\n",
    "    def bij_transform(self, prime, lower, upper):\n",
    "      \"\"\"Recieves a prime value of type tensor in [-inf, inf] and returns value in [lower, upper]\"\"\"\n",
    "      bij = 1 / (1 + torch.exp(-prime / upper))\n",
    "      scale = upper - lower\n",
    "      return scale * bij + lower\n",
    "\n",
    "    def bij_transform_inv(self, transf, lower, upper):\n",
    "      \"\"\"Inverse transformation - Recieves a value of type tensor in [lower, upper] and returns value in [-inf, inf]\"\"\"\n",
    "      return -torch.log(((upper - lower) / (transf - lower) - 1) ** upper)\n",
    "\n",
    "\n",
    "class RandomWalk(Transformations):\n",
    "    def __init__(self, sigma_init, r_0, lower, upper, device, dtype):\n",
    "        self.R0 = r_0\n",
    "        self.sigma = sigma_init\n",
    "        self.sigma_prime = self.bij_transform_inv(torch.tensor(self.sigma, device=device, dtype=dtype), lower, upper).detach().clone().requires_grad_(True)\n",
    "\n"
   ],
   "metadata": {
    "collapsed": false,
    "pycharm": {
     "name": "#%%\n"
    }
   }
  },
  {
   "cell_type": "code",
   "execution_count": null,
   "outputs": [],
   "source": [
    "def random_walk(epsilon, R0 , device, dtype):\n",
    "    n = epsilon.size(0)\n",
    "    # Initialize eta\n",
    "    eta = torch.zeros(n, device=device, dtype=dtype)  # transformed reproduction number\n",
    "    # calculate Rt: the basic reproduction number\n",
    "    # basic reproduction number as a latent random walk\n",
    "    beta_0 = torch.log(R0)\n",
    "    eta[0] = beta_0\n",
    "    eta[1:n] =beta_0 + epsilon[0:n-1]\n",
    "    R = torch.exp(eta)\n",
    "    return R"
   ],
   "metadata": {
    "collapsed": false,
    "pycharm": {
     "name": "#%%\n"
    }
   }
  },
  {
   "cell_type": "code",
   "execution_count": null,
   "outputs": [],
   "source": [],
   "metadata": {
    "collapsed": false,
    "pycharm": {
     "name": "#%%\n"
    }
   }
  }
 ],
 "metadata": {
  "kernelspec": {
   "display_name": "Python 3",
   "language": "python",
   "name": "python3"
  },
  "language_info": {
   "codemirror_mode": {
    "name": "ipython",
    "version": 2
   },
   "file_extension": ".py",
   "mimetype": "text/x-python",
   "name": "python",
   "nbconvert_exporter": "python",
   "pygments_lexer": "ipython2",
   "version": "2.7.6"
  }
 },
 "nbformat": 4,
 "nbformat_minor": 0
}