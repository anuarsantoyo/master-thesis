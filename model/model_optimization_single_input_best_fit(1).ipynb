{
 "cells": [
  {
   "cell_type": "markdown",
   "metadata": {
    "id": "jAejLl15fGhW"
   },
   "source": [
    " master-thesisInput:\n",
    "- True Observations\n",
    "- Number Training Steps\n",
    "\n",
    "Output:\n",
    "- New Model Parameter\n",
    "\n",
    "Parts of Optimization:\n",
    "- Initialization of Model Parameter\n",
    "- tbd"
   ]
  },
  {
   "cell_type": "markdown",
   "metadata": {
    "id": "tzUv-gnXAaCX"
   },
   "source": [
    "# Initialization"
   ]
  },
  {
   "cell_type": "markdown",
   "metadata": {
    "id": "GZBwcFlyIXFq"
   },
   "source": [
    "## Import Libraries and Mount Drive"
   ]
  },
  {
   "cell_type": "code",
   "execution_count": 1,
   "metadata": {
    "id": "NkXDaY_pAXG1",
    "executionInfo": {
     "status": "ok",
     "timestamp": 1655373784932,
     "user_tz": -120,
     "elapsed": 1537,
     "user": {
      "displayName": "Timo9092",
      "userId": "13096063072157218091"
     }
    }
   },
   "outputs": [],
   "source": [
    "import numpy as np\n",
    "import pandas as pd\n",
    "import matplotlib.pyplot as plt\n",
    "import seaborn as sns\n",
    "import time\n",
    "import torch\n",
    "from torch import distributions, optim\n",
    "from sklearn.metrics import mean_squared_error"
   ]
  },
  {
   "cell_type": "code",
   "execution_count": 2,
   "metadata": {
    "colab": {
     "base_uri": "https://localhost:8080/"
    },
    "id": "gMFNWln4HWP9",
    "outputId": "94fd81f4-da8d-466d-b4f6-ac40316e7994",
    "executionInfo": {
     "status": "ok",
     "timestamp": 1655373786531,
     "user_tz": -120,
     "elapsed": 1600,
     "user": {
      "displayName": "Timo9092",
      "userId": "13096063072157218091"
     }
    }
   },
   "outputs": [
    {
     "data": {
      "text/plain": "\"from google.colab import drive\\ndrive.mount('/content/drive')\\n\\n%cd /content/drive/MyDrive/GitHub/master-thesis\\n\\nimport sys\\nsys.path.append('/content/gdrive/My Drive/GitHub/master-thesis')\""
     },
     "execution_count": 2,
     "metadata": {},
     "output_type": "execute_result"
    }
   ],
   "source": [
    "'''from google.colab import drive\n",
    "drive.mount('/content/drive')\n",
    "\n",
    "%cd /content/drive/MyDrive/GitHub/master-thesis\n",
    "\n",
    "import sys\n",
    "sys.path.append('/content/gdrive/My Drive/GitHub/master-thesis')'''"
   ]
  },
  {
   "cell_type": "code",
   "execution_count": 3,
   "outputs": [
    {
     "name": "stdout",
     "output_type": "stream",
     "text": [
      "/home/anuarsantoyo/PycharmProjects/master-thesis\n"
     ]
    }
   ],
   "source": [
    "%cd .."
   ],
   "metadata": {
    "collapsed": false
   }
  },
  {
   "cell_type": "code",
   "execution_count": 4,
   "outputs": [],
   "source": [
    "from model.methods import *\n",
    "from model.modelcore import epid_model\n",
    "from model.modelhelper import *\n",
    "from clustering.utils import *"
   ],
   "metadata": {
    "id": "yYji4jfxEc9a",
    "executionInfo": {
     "status": "ok",
     "timestamp": 1655373786765,
     "user_tz": -120,
     "elapsed": 235,
     "user": {
      "displayName": "Timo9092",
      "userId": "13096063072157218091"
     }
    }
   }
  },
  {
   "cell_type": "markdown",
   "source": [
    "## Optimization Settings"
   ],
   "metadata": {
    "collapsed": false,
    "id": "NXZEmoGb8SHX"
   }
  },
  {
   "cell_type": "code",
   "execution_count": 5,
   "outputs": [],
   "source": [
    "observation = 'hospitalization' #'newly_infected' #'hospitalization'\n",
    "rolling_avg_obs = 7\n",
    "# Overall Time Period\n",
    "start_time='2020-09-15' # Mitte November/ Anfang Dezember bis Februar Before: '2020-08-01'\n",
    "end_time='2020-12-01'#'2021-02-01''2020-12-01'\n",
    "test_end_time='2021-02-01' # Begin Vaccination Wave\n",
    "\n",
    "# TODO: Mitte september Anfang, split 01.12.20 end 01.02.21\n",
    "\n",
    "\n",
    "dtype = torch.float32\n",
    "device = torch.device(\"cuda:0\" if torch.cuda.is_available() else \"cpu\") #cuda:0"
   ],
   "metadata": {
    "id": "_-1Pytbi8SHY",
    "executionInfo": {
     "status": "ok",
     "timestamp": 1655373787038,
     "user_tz": -120,
     "elapsed": 274,
     "user": {
      "displayName": "Timo9092",
      "userId": "13096063072157218091"
     }
    }
   }
  },
  {
   "cell_type": "markdown",
   "source": [
    "## Initialize Observations"
   ],
   "metadata": {
    "collapsed": false
   }
  },
  {
   "cell_type": "code",
   "execution_count": 6,
   "outputs": [
    {
     "data": {
      "text/plain": "        Date  number_of_deaths  newly_infected  hospitalization\n0 2020-09-15          0.857143      345.428571        13.142857\n1 2020-09-16          0.857143      382.000000        14.285714\n2 2020-09-17          0.857143      403.285714        14.142857",
      "text/html": "<div>\n<style scoped>\n    .dataframe tbody tr th:only-of-type {\n        vertical-align: middle;\n    }\n\n    .dataframe tbody tr th {\n        vertical-align: top;\n    }\n\n    .dataframe thead th {\n        text-align: right;\n    }\n</style>\n<table border=\"1\" class=\"dataframe\">\n  <thead>\n    <tr style=\"text-align: right;\">\n      <th></th>\n      <th>Date</th>\n      <th>number_of_deaths</th>\n      <th>newly_infected</th>\n      <th>hospitalization</th>\n    </tr>\n  </thead>\n  <tbody>\n    <tr>\n      <th>0</th>\n      <td>2020-09-15</td>\n      <td>0.857143</td>\n      <td>345.428571</td>\n      <td>13.142857</td>\n    </tr>\n    <tr>\n      <th>1</th>\n      <td>2020-09-16</td>\n      <td>0.857143</td>\n      <td>382.000000</td>\n      <td>14.285714</td>\n    </tr>\n    <tr>\n      <th>2</th>\n      <td>2020-09-17</td>\n      <td>0.857143</td>\n      <td>403.285714</td>\n      <td>14.142857</td>\n    </tr>\n  </tbody>\n</table>\n</div>"
     },
     "execution_count": 6,
     "metadata": {},
     "output_type": "execute_result"
    }
   ],
   "source": [
    "df_obs_initial = pd.read_csv('data/observations.csv' , sep=';', thousands='.', decimal=',', encoding='utf-8', parse_dates=['Date'])\n",
    "\n",
    "# Initialize Observations Training\n",
    "df_obs, initial_newly_infected = initialize_observations(df_obs_initial, start=start_time, end=end_time, rolling_avg=rolling_avg_obs)\n",
    "observed_train = torch.tensor(df_obs[observation], requires_grad=False, device=device, dtype=dtype)\n",
    "\n",
    "# Initialize Observations Training\n",
    "df_obs_test, initial_newly_infected_test = initialize_observations(df_obs_initial, start=start_time, end=test_end_time, rolling_avg=rolling_avg_obs)\n",
    "observed_train_test = df_obs_test[observation]\n",
    "\n",
    "df_obs.head(3)"
   ],
   "metadata": {
    "colab": {
     "base_uri": "https://localhost:8080/",
     "height": 143
    },
    "id": "Dq8sD-jg8SHY",
    "executionInfo": {
     "status": "ok",
     "timestamp": 1655373787038,
     "user_tz": -120,
     "elapsed": 9,
     "user": {
      "displayName": "Timo9092",
      "userId": "13096063072157218091"
     }
    },
    "outputId": "f46c67e7-e0ce-493c-f1cd-fe269e27b43f"
   }
  },
  {
   "cell_type": "markdown",
   "source": [
    "# Experiment Settings"
   ],
   "metadata": {
    "id": "oP51OfVS_Lm0"
   }
  },
  {
   "cell_type": "code",
   "source": [
    "method_type = 'linear'\n",
    "#method_type = 'nn'\n",
    "\n",
    "input_type = 'factor_data'\n",
    "#input_type = 'group_data'\n",
    "#input_type = 'mobility_data'"
   ],
   "metadata": {
    "id": "yB-Q2Arq_OC3",
    "executionInfo": {
     "status": "ok",
     "timestamp": 1655373787039,
     "user_tz": -120,
     "elapsed": 8,
     "user": {
      "displayName": "Timo9092",
      "userId": "13096063072157218091"
     }
    }
   },
   "execution_count": 7,
   "outputs": []
  },
  {
   "cell_type": "markdown",
   "source": [
    "# Load Input Data"
   ],
   "metadata": {
    "id": "23__1ioO24xA"
   }
  },
  {
   "cell_type": "code",
   "execution_count": 8,
   "outputs": [
    {
     "data": {
      "text/plain": "5"
     },
     "execution_count": 8,
     "metadata": {},
     "output_type": "execute_result"
    }
   ],
   "source": [
    "if input_type == 'factor_data':\n",
    "  input_data_cols = ['F0_cautious_behaviour','F1_perception_advice' ,'F2_applicability_usefullness_advice' , 'F3_behaviour_others','F4_consequence_advice']#]#\n",
    "  input_data = get_model_input(start=start_time, end=end_time, split_date=None, path='data/modeling/fa_data_model_input.csv', rolling_avg=1, input_data_cols=input_data_cols)\n",
    "\n",
    "elif input_type == 'group_data':\n",
    "  input_data_cols = ''\n",
    "  input_data = get_model_input(start=start_time, end=end_time, split_date=None, path='data/modeling/group_percentage_non_careful.csv', rolling_avg=7, input_data_cols=None)\n",
    "elif input_type == 'mobility_data':\n",
    "  input_data_cols = ['google_workplaces', 'google_residential', 'google_transit'] #['apple_driving', 'apple_walking', 'apple', 'google_retail', 'google_grocery', 'google_workplaces', 'google_residential', 'google_transit', 'google', 'telco', 'applegoogle']\n",
    "  input_data = get_model_input(start=start_time, end=end_time, split_date=None, path='data/modeling/mobility_data_denmark.csv', rolling_avg=7, input_data_cols=input_data_cols)\n",
    "input_data_size = input_data.shape[1]\n",
    "input_data_size"
   ],
   "metadata": {
    "collapsed": false
   }
  },
  {
   "cell_type": "code",
   "source": [
    "#df_mob = pd.read_csv('data/modeling/mobility_data.csv')\n",
    "#df_mob.date = pd.to_datetime(df_mob.date, format='%Y-%m-%d')\n",
    "#df_mob = df_mob[df_mob['region'] == 'denmark'].reset_index(drop=True)\n",
    "#df_mob.drop(columns=['region'], inplace=True)\n",
    "#df_mob.to_csv('data/modeling/mobility_data_denmark.csv', index=False)\n",
    "#df_mob.head()"
   ],
   "metadata": {
    "id": "tc79YmBrXnLl",
    "executionInfo": {
     "status": "ok",
     "timestamp": 1655373787039,
     "user_tz": -120,
     "elapsed": 5,
     "user": {
      "displayName": "Timo9092",
      "userId": "13096063072157218091"
     }
    }
   },
   "execution_count": 9,
   "outputs": []
  },
  {
   "cell_type": "markdown",
   "source": [
    "## Initialize Model Parameter"
   ],
   "metadata": {
    "collapsed": false,
    "id": "M8PB1HGA8SHZ"
   }
  },
  {
   "cell_type": "markdown",
   "source": [
    "### Initialize helper parameter"
   ],
   "metadata": {
    "collapsed": false,
    "id": "u1HF0wi38SHZ"
   }
  },
  {
   "cell_type": "code",
   "execution_count": 10,
   "metadata": {
    "id": "P6A9L25BHjZ8",
    "executionInfo": {
     "status": "ok",
     "timestamp": 1655373787303,
     "user_tz": -120,
     "elapsed": 7,
     "user": {
      "displayName": "Timo9092",
      "userId": "13096063072157218091"
     }
    }
   },
   "outputs": [],
   "source": [
    "cero = torch.tensor(0., requires_grad=False, device=device, dtype=dtype)"
   ]
  },
  {
   "cell_type": "markdown",
   "metadata": {
    "id": "H8sIHVnpJSFL"
   },
   "source": [
    "### Initialize method parameter"
   ]
  },
  {
   "cell_type": "code",
   "execution_count": 11,
   "outputs": [],
   "source": [
    "if method_type == 'linear':\n",
    "  method = Linear(device=device, dtype=dtype, input_size=input_data_size)\n",
    "  \n",
    "elif method_type == 'nn':\n",
    "  method = NN(device=device, dtype=dtype, input_size=input_data_size)"
   ],
   "metadata": {
    "id": "njwgxhOnEc9d",
    "executionInfo": {
     "status": "ok",
     "timestamp": 1655373787304,
     "user_tz": -120,
     "elapsed": 7,
     "user": {
      "displayName": "Timo9092",
      "userId": "13096063072157218091"
     }
    }
   }
  },
  {
   "cell_type": "markdown",
   "source": [
    "### Initialize alpha and phi"
   ],
   "metadata": {
    "collapsed": false,
    "id": "8LEECUSgEc9e"
   }
  },
  {
   "cell_type": "code",
   "execution_count": 12,
   "outputs": [],
   "source": [
    "exp_parameters = pd.read_csv('data/modeling/experiments_estimated_parameters.csv', index_col=0)"
   ],
   "metadata": {
    "collapsed": false
   }
  },
  {
   "cell_type": "code",
   "execution_count": 13,
   "outputs": [
    {
     "data": {
      "text/plain": "{'prime_values': {'alpha': tensor(-3.5835, requires_grad=True),\n  'phi': tensor(-0.0020, requires_grad=True)},\n 'real_values': {'alpha': tensor(0.0280, grad_fn=<AddBackward0>),\n  'phi': tensor(25., grad_fn=<AddBackward0>)}}"
     },
     "execution_count": 13,
     "metadata": {},
     "output_type": "execute_result"
    }
   ],
   "source": [
    "dict_param = initialize_parameter(['alpha', 'phi'], device, dtype)\n",
    "#dict_param['real_values']['alpha'] = torch.tensor(exp_parameters.describe()['alpha']['50%'], requires_grad=False, device=device, dtype=dtype)\n",
    "#dict_param['real_values']['phi'] = torch.tensor(exp_parameters.describe()['phi']['50%'], requires_grad=False, device=device, dtype=dtype)\n",
    "dict_param"
   ],
   "metadata": {
    "id": "IueNV1ZHEc9e",
    "colab": {
     "base_uri": "https://localhost:8080/"
    },
    "outputId": "3041332a-5fd8-4b13-9632-97b62593623d",
    "executionInfo": {
     "status": "ok",
     "timestamp": 1655373787304,
     "user_tz": -120,
     "elapsed": 7,
     "user": {
      "displayName": "Timo9092",
      "userId": "13096063072157218091"
     }
    }
   }
  },
  {
   "cell_type": "markdown",
   "metadata": {
    "id": "EajyQpZdDpaO"
   },
   "source": [
    "# Optimization"
   ]
  },
  {
   "cell_type": "markdown",
   "source": [
    "## Test Optimization"
   ],
   "metadata": {
    "collapsed": false
   }
  },
  {
   "cell_type": "code",
   "execution_count": 13,
   "outputs": [
    {
     "data": {
      "text/plain": "Factors:   0%|          | 0/3 [00:00<?, ?it/s]",
      "application/vnd.jupyter.widget-view+json": {
       "version_major": 2,
       "version_minor": 0,
       "model_id": "37a266076f7d469196c1953b076c666b"
      }
     },
     "metadata": {},
     "output_type": "display_data"
    },
    {
     "data": {
      "text/plain": "Meta Epochs:   0%|          | 0/100 [00:00<?, ?it/s]",
      "application/vnd.jupyter.widget-view+json": {
       "version_major": 2,
       "version_minor": 0,
       "model_id": "526550966b7b4030839f31b54f430f90"
      }
     },
     "metadata": {},
     "output_type": "display_data"
    },
    {
     "data": {
      "text/plain": "epochs:   0%|          | 0/999 [00:00<?, ?it/s]",
      "application/vnd.jupyter.widget-view+json": {
       "version_major": 2,
       "version_minor": 0,
       "model_id": "8e32740cad1448bc8fd168addde2551e"
      }
     },
     "metadata": {},
     "output_type": "display_data"
    },
    {
     "data": {
      "text/plain": "epochs:   0%|          | 0/999 [00:00<?, ?it/s]",
      "application/vnd.jupyter.widget-view+json": {
       "version_major": 2,
       "version_minor": 0,
       "model_id": "5d02cf3bddf645faabdb253480347330"
      }
     },
     "metadata": {},
     "output_type": "display_data"
    },
    {
     "name": "stdout",
     "output_type": "stream",
     "text": [
      "Gradient is zero\n"
     ]
    },
    {
     "data": {
      "text/plain": "epochs:   0%|          | 0/999 [00:00<?, ?it/s]",
      "application/vnd.jupyter.widget-view+json": {
       "version_major": 2,
       "version_minor": 0,
       "model_id": "c90c9f66f0aa45deabd9f324a66482f8"
      }
     },
     "metadata": {},
     "output_type": "display_data"
    },
    {
     "data": {
      "text/plain": "epochs:   0%|          | 0/999 [00:00<?, ?it/s]",
      "application/vnd.jupyter.widget-view+json": {
       "version_major": 2,
       "version_minor": 0,
       "model_id": "df71fa4f278e4f4b934f355089bf7501"
      }
     },
     "metadata": {},
     "output_type": "display_data"
    },
    {
     "name": "stdout",
     "output_type": "stream",
     "text": [
      "Gradient is zero\n"
     ]
    },
    {
     "data": {
      "text/plain": "epochs:   0%|          | 0/999 [00:00<?, ?it/s]",
      "application/vnd.jupyter.widget-view+json": {
       "version_major": 2,
       "version_minor": 0,
       "model_id": "f28b76f96349486d81f653a0e600909d"
      }
     },
     "metadata": {},
     "output_type": "display_data"
    },
    {
     "name": "stdout",
     "output_type": "stream",
     "text": [
      "Gradient is zero\n"
     ]
    },
    {
     "data": {
      "text/plain": "epochs:   0%|          | 0/999 [00:00<?, ?it/s]",
      "application/vnd.jupyter.widget-view+json": {
       "version_major": 2,
       "version_minor": 0,
       "model_id": "b07c7dae0aab4889aa37298b6ed27120"
      }
     },
     "metadata": {},
     "output_type": "display_data"
    },
    {
     "name": "stdout",
     "output_type": "stream",
     "text": [
      "Gradient is zero\n"
     ]
    },
    {
     "data": {
      "text/plain": "epochs:   0%|          | 0/999 [00:00<?, ?it/s]",
      "application/vnd.jupyter.widget-view+json": {
       "version_major": 2,
       "version_minor": 0,
       "model_id": "db8a91715b784edbb9082111fe42842f"
      }
     },
     "metadata": {},
     "output_type": "display_data"
    },
    {
     "data": {
      "text/plain": "epochs:   0%|          | 0/999 [00:00<?, ?it/s]",
      "application/vnd.jupyter.widget-view+json": {
       "version_major": 2,
       "version_minor": 0,
       "model_id": "7078802b869b48798d1f2f0311c1d981"
      }
     },
     "metadata": {},
     "output_type": "display_data"
    },
    {
     "name": "stdout",
     "output_type": "stream",
     "text": [
      "Gradient is zero\n"
     ]
    },
    {
     "data": {
      "text/plain": "epochs:   0%|          | 0/999 [00:00<?, ?it/s]",
      "application/vnd.jupyter.widget-view+json": {
       "version_major": 2,
       "version_minor": 0,
       "model_id": "cfb1bc3557b54ccaa002f0449e4d7e34"
      }
     },
     "metadata": {},
     "output_type": "display_data"
    },
    {
     "data": {
      "text/plain": "epochs:   0%|          | 0/999 [00:00<?, ?it/s]",
      "application/vnd.jupyter.widget-view+json": {
       "version_major": 2,
       "version_minor": 0,
       "model_id": "740ac5886b654a019f7104989dba0f4c"
      }
     },
     "metadata": {},
     "output_type": "display_data"
    },
    {
     "data": {
      "text/plain": "epochs:   0%|          | 0/999 [00:00<?, ?it/s]",
      "application/vnd.jupyter.widget-view+json": {
       "version_major": 2,
       "version_minor": 0,
       "model_id": "031b55b5f4dc4e378dfc39b566a0ade8"
      }
     },
     "metadata": {},
     "output_type": "display_data"
    },
    {
     "name": "stdout",
     "output_type": "stream",
     "text": [
      "Gradient is zero\n"
     ]
    },
    {
     "data": {
      "text/plain": "epochs:   0%|          | 0/999 [00:00<?, ?it/s]",
      "application/vnd.jupyter.widget-view+json": {
       "version_major": 2,
       "version_minor": 0,
       "model_id": "ced7263584e34f5381299affc6f9dcd7"
      }
     },
     "metadata": {},
     "output_type": "display_data"
    },
    {
     "data": {
      "text/plain": "epochs:   0%|          | 0/999 [00:00<?, ?it/s]",
      "application/vnd.jupyter.widget-view+json": {
       "version_major": 2,
       "version_minor": 0,
       "model_id": "c6aa498d2a3f441cbf4e3b58bc0e237d"
      }
     },
     "metadata": {},
     "output_type": "display_data"
    },
    {
     "data": {
      "text/plain": "epochs:   0%|          | 0/999 [00:00<?, ?it/s]",
      "application/vnd.jupyter.widget-view+json": {
       "version_major": 2,
       "version_minor": 0,
       "model_id": "7c59dcfeb2d54cc78fb6c7502cde2ae1"
      }
     },
     "metadata": {},
     "output_type": "display_data"
    },
    {
     "data": {
      "text/plain": "epochs:   0%|          | 0/999 [00:00<?, ?it/s]",
      "application/vnd.jupyter.widget-view+json": {
       "version_major": 2,
       "version_minor": 0,
       "model_id": "32c4520c448e4eaea56f394e025fe3ab"
      }
     },
     "metadata": {},
     "output_type": "display_data"
    },
    {
     "name": "stdout",
     "output_type": "stream",
     "text": [
      "Gradient is zero\n"
     ]
    },
    {
     "data": {
      "text/plain": "epochs:   0%|          | 0/999 [00:00<?, ?it/s]",
      "application/vnd.jupyter.widget-view+json": {
       "version_major": 2,
       "version_minor": 0,
       "model_id": "54203438b580463792b6e4bf786d262e"
      }
     },
     "metadata": {},
     "output_type": "display_data"
    },
    {
     "data": {
      "text/plain": "epochs:   0%|          | 0/999 [00:00<?, ?it/s]",
      "application/vnd.jupyter.widget-view+json": {
       "version_major": 2,
       "version_minor": 0,
       "model_id": "700454ec97b14d58b495951636854457"
      }
     },
     "metadata": {},
     "output_type": "display_data"
    },
    {
     "name": "stdout",
     "output_type": "stream",
     "text": [
      "Gradient is zero\n"
     ]
    },
    {
     "data": {
      "text/plain": "epochs:   0%|          | 0/999 [00:00<?, ?it/s]",
      "application/vnd.jupyter.widget-view+json": {
       "version_major": 2,
       "version_minor": 0,
       "model_id": "1a96e28f9ca148d487d2fdbdceda6513"
      }
     },
     "metadata": {},
     "output_type": "display_data"
    },
    {
     "data": {
      "text/plain": "epochs:   0%|          | 0/999 [00:00<?, ?it/s]",
      "application/vnd.jupyter.widget-view+json": {
       "version_major": 2,
       "version_minor": 0,
       "model_id": "4803bdb404594c56934471f3eb540ba0"
      }
     },
     "metadata": {},
     "output_type": "display_data"
    },
    {
     "data": {
      "text/plain": "epochs:   0%|          | 0/999 [00:00<?, ?it/s]",
      "application/vnd.jupyter.widget-view+json": {
       "version_major": 2,
       "version_minor": 0,
       "model_id": "4e0fd58f81844dd6af481482194b734d"
      }
     },
     "metadata": {},
     "output_type": "display_data"
    },
    {
     "data": {
      "text/plain": "epochs:   0%|          | 0/999 [00:00<?, ?it/s]",
      "application/vnd.jupyter.widget-view+json": {
       "version_major": 2,
       "version_minor": 0,
       "model_id": "022cd09251c8440998fd5e837e9dbd5a"
      }
     },
     "metadata": {},
     "output_type": "display_data"
    },
    {
     "data": {
      "text/plain": "epochs:   0%|          | 0/999 [00:00<?, ?it/s]",
      "application/vnd.jupyter.widget-view+json": {
       "version_major": 2,
       "version_minor": 0,
       "model_id": "952578bce9de42d1ba45d30d0f72a8b8"
      }
     },
     "metadata": {},
     "output_type": "display_data"
    },
    {
     "data": {
      "text/plain": "epochs:   0%|          | 0/999 [00:00<?, ?it/s]",
      "application/vnd.jupyter.widget-view+json": {
       "version_major": 2,
       "version_minor": 0,
       "model_id": "be4c74c264be483c927a447d10868a9f"
      }
     },
     "metadata": {},
     "output_type": "display_data"
    },
    {
     "data": {
      "text/plain": "epochs:   0%|          | 0/999 [00:00<?, ?it/s]",
      "application/vnd.jupyter.widget-view+json": {
       "version_major": 2,
       "version_minor": 0,
       "model_id": "f572862334fb417c8213de1cbf80697e"
      }
     },
     "metadata": {},
     "output_type": "display_data"
    },
    {
     "name": "stdout",
     "output_type": "stream",
     "text": [
      "Gradient is zero\n"
     ]
    },
    {
     "data": {
      "text/plain": "epochs:   0%|          | 0/999 [00:00<?, ?it/s]",
      "application/vnd.jupyter.widget-view+json": {
       "version_major": 2,
       "version_minor": 0,
       "model_id": "eee769798cc742e1933e7f3d5a919556"
      }
     },
     "metadata": {},
     "output_type": "display_data"
    },
    {
     "data": {
      "text/plain": "epochs:   0%|          | 0/999 [00:00<?, ?it/s]",
      "application/vnd.jupyter.widget-view+json": {
       "version_major": 2,
       "version_minor": 0,
       "model_id": "a075ec77412149a4885c17d5202a4deb"
      }
     },
     "metadata": {},
     "output_type": "display_data"
    },
    {
     "data": {
      "text/plain": "epochs:   0%|          | 0/999 [00:00<?, ?it/s]",
      "application/vnd.jupyter.widget-view+json": {
       "version_major": 2,
       "version_minor": 0,
       "model_id": "1d296973fe1d4562989c8af2f345c068"
      }
     },
     "metadata": {},
     "output_type": "display_data"
    },
    {
     "name": "stdout",
     "output_type": "stream",
     "text": [
      "Gradient is zero\n"
     ]
    },
    {
     "data": {
      "text/plain": "epochs:   0%|          | 0/999 [00:00<?, ?it/s]",
      "application/vnd.jupyter.widget-view+json": {
       "version_major": 2,
       "version_minor": 0,
       "model_id": "2a3d081be9674c1e86d3f8c3e11b9ecf"
      }
     },
     "metadata": {},
     "output_type": "display_data"
    },
    {
     "name": "stdout",
     "output_type": "stream",
     "text": [
      "Gradient is zero\n"
     ]
    },
    {
     "data": {
      "text/plain": "epochs:   0%|          | 0/999 [00:00<?, ?it/s]",
      "application/vnd.jupyter.widget-view+json": {
       "version_major": 2,
       "version_minor": 0,
       "model_id": "b57b3a3d8d634c9d8c9d5750dfc7d129"
      }
     },
     "metadata": {},
     "output_type": "display_data"
    },
    {
     "name": "stdout",
     "output_type": "stream",
     "text": [
      "Gradient is zero\n"
     ]
    },
    {
     "data": {
      "text/plain": "epochs:   0%|          | 0/999 [00:00<?, ?it/s]",
      "application/vnd.jupyter.widget-view+json": {
       "version_major": 2,
       "version_minor": 0,
       "model_id": "c10aeb18129d48d3949a679b8d640b1b"
      }
     },
     "metadata": {},
     "output_type": "display_data"
    },
    {
     "data": {
      "text/plain": "epochs:   0%|          | 0/999 [00:00<?, ?it/s]",
      "application/vnd.jupyter.widget-view+json": {
       "version_major": 2,
       "version_minor": 0,
       "model_id": "0aaa2b2e833f4669aff948609b5520c3"
      }
     },
     "metadata": {},
     "output_type": "display_data"
    },
    {
     "data": {
      "text/plain": "epochs:   0%|          | 0/999 [00:00<?, ?it/s]",
      "application/vnd.jupyter.widget-view+json": {
       "version_major": 2,
       "version_minor": 0,
       "model_id": "27df618d95c14346875ae7103e5890be"
      }
     },
     "metadata": {},
     "output_type": "display_data"
    },
    {
     "name": "stdout",
     "output_type": "stream",
     "text": [
      "Gradient is zero\n"
     ]
    },
    {
     "data": {
      "text/plain": "epochs:   0%|          | 0/999 [00:00<?, ?it/s]",
      "application/vnd.jupyter.widget-view+json": {
       "version_major": 2,
       "version_minor": 0,
       "model_id": "35974fb643fa4e5799e06b36fe450a98"
      }
     },
     "metadata": {},
     "output_type": "display_data"
    },
    {
     "name": "stdout",
     "output_type": "stream",
     "text": [
      "Gradient is zero\n"
     ]
    },
    {
     "data": {
      "text/plain": "epochs:   0%|          | 0/999 [00:00<?, ?it/s]",
      "application/vnd.jupyter.widget-view+json": {
       "version_major": 2,
       "version_minor": 0,
       "model_id": "1ee0c0d236994f1aac078fd5b4360031"
      }
     },
     "metadata": {},
     "output_type": "display_data"
    },
    {
     "name": "stdout",
     "output_type": "stream",
     "text": [
      "Gradient is zero\n"
     ]
    },
    {
     "data": {
      "text/plain": "epochs:   0%|          | 0/999 [00:00<?, ?it/s]",
      "application/vnd.jupyter.widget-view+json": {
       "version_major": 2,
       "version_minor": 0,
       "model_id": "c6573a2230b04eb482dd1039bf24c136"
      }
     },
     "metadata": {},
     "output_type": "display_data"
    },
    {
     "name": "stdout",
     "output_type": "stream",
     "text": [
      "Gradient is zero\n"
     ]
    },
    {
     "data": {
      "text/plain": "epochs:   0%|          | 0/999 [00:00<?, ?it/s]",
      "application/vnd.jupyter.widget-view+json": {
       "version_major": 2,
       "version_minor": 0,
       "model_id": "03e296fad63c48d18e7eb02acff8dbf2"
      }
     },
     "metadata": {},
     "output_type": "display_data"
    },
    {
     "name": "stdout",
     "output_type": "stream",
     "text": [
      "Gradient is zero\n"
     ]
    },
    {
     "data": {
      "text/plain": "epochs:   0%|          | 0/999 [00:00<?, ?it/s]",
      "application/vnd.jupyter.widget-view+json": {
       "version_major": 2,
       "version_minor": 0,
       "model_id": "eb7bf045906444b7aa65a6db53b6d727"
      }
     },
     "metadata": {},
     "output_type": "display_data"
    },
    {
     "data": {
      "text/plain": "epochs:   0%|          | 0/999 [00:00<?, ?it/s]",
      "application/vnd.jupyter.widget-view+json": {
       "version_major": 2,
       "version_minor": 0,
       "model_id": "3681c57110cb4b11834948d7bc834c86"
      }
     },
     "metadata": {},
     "output_type": "display_data"
    },
    {
     "name": "stdout",
     "output_type": "stream",
     "text": [
      "Gradient is zero\n"
     ]
    },
    {
     "data": {
      "text/plain": "epochs:   0%|          | 0/999 [00:00<?, ?it/s]",
      "application/vnd.jupyter.widget-view+json": {
       "version_major": 2,
       "version_minor": 0,
       "model_id": "5e6c07126ab34834942fa36eb0bc33fd"
      }
     },
     "metadata": {},
     "output_type": "display_data"
    },
    {
     "name": "stdout",
     "output_type": "stream",
     "text": [
      "Gradient is zero\n"
     ]
    },
    {
     "data": {
      "text/plain": "epochs:   0%|          | 0/999 [00:00<?, ?it/s]",
      "application/vnd.jupyter.widget-view+json": {
       "version_major": 2,
       "version_minor": 0,
       "model_id": "dca4704be34f40c6b2bc9a372c0f699d"
      }
     },
     "metadata": {},
     "output_type": "display_data"
    },
    {
     "data": {
      "text/plain": "epochs:   0%|          | 0/999 [00:00<?, ?it/s]",
      "application/vnd.jupyter.widget-view+json": {
       "version_major": 2,
       "version_minor": 0,
       "model_id": "7fe6ee88e6ff443b865011a4b3c09de5"
      }
     },
     "metadata": {},
     "output_type": "display_data"
    },
    {
     "data": {
      "text/plain": "epochs:   0%|          | 0/999 [00:00<?, ?it/s]",
      "application/vnd.jupyter.widget-view+json": {
       "version_major": 2,
       "version_minor": 0,
       "model_id": "d14fa6eb6def4485bdc5145ab4f6a042"
      }
     },
     "metadata": {},
     "output_type": "display_data"
    },
    {
     "name": "stdout",
     "output_type": "stream",
     "text": [
      "Gradient is zero\n"
     ]
    },
    {
     "data": {
      "text/plain": "epochs:   0%|          | 0/999 [00:00<?, ?it/s]",
      "application/vnd.jupyter.widget-view+json": {
       "version_major": 2,
       "version_minor": 0,
       "model_id": "26172c633e304775943530d4624e71bb"
      }
     },
     "metadata": {},
     "output_type": "display_data"
    },
    {
     "data": {
      "text/plain": "epochs:   0%|          | 0/999 [00:00<?, ?it/s]",
      "application/vnd.jupyter.widget-view+json": {
       "version_major": 2,
       "version_minor": 0,
       "model_id": "827d1a704e1b4a1f8fad0acadb3b0e1b"
      }
     },
     "metadata": {},
     "output_type": "display_data"
    },
    {
     "name": "stdout",
     "output_type": "stream",
     "text": [
      "Gradient is zero\n"
     ]
    },
    {
     "data": {
      "text/plain": "epochs:   0%|          | 0/999 [00:00<?, ?it/s]",
      "application/vnd.jupyter.widget-view+json": {
       "version_major": 2,
       "version_minor": 0,
       "model_id": "6a6cc45167ae4c58849a2c8ef3e24003"
      }
     },
     "metadata": {},
     "output_type": "display_data"
    },
    {
     "name": "stdout",
     "output_type": "stream",
     "text": [
      "Gradient is zero\n"
     ]
    },
    {
     "data": {
      "text/plain": "epochs:   0%|          | 0/999 [00:00<?, ?it/s]",
      "application/vnd.jupyter.widget-view+json": {
       "version_major": 2,
       "version_minor": 0,
       "model_id": "a11b610f9ae84fae90182e5e4e45f786"
      }
     },
     "metadata": {},
     "output_type": "display_data"
    },
    {
     "name": "stdout",
     "output_type": "stream",
     "text": [
      "Gradient is zero\n"
     ]
    },
    {
     "data": {
      "text/plain": "epochs:   0%|          | 0/999 [00:00<?, ?it/s]",
      "application/vnd.jupyter.widget-view+json": {
       "version_major": 2,
       "version_minor": 0,
       "model_id": "6ad832c4e7464909abb7c63077e7b7b3"
      }
     },
     "metadata": {},
     "output_type": "display_data"
    },
    {
     "name": "stdout",
     "output_type": "stream",
     "text": [
      "Gradient is zero\n"
     ]
    },
    {
     "data": {
      "text/plain": "epochs:   0%|          | 0/999 [00:00<?, ?it/s]",
      "application/vnd.jupyter.widget-view+json": {
       "version_major": 2,
       "version_minor": 0,
       "model_id": "9bc6313255f14c3eb24b92363d945100"
      }
     },
     "metadata": {},
     "output_type": "display_data"
    },
    {
     "data": {
      "text/plain": "epochs:   0%|          | 0/999 [00:00<?, ?it/s]",
      "application/vnd.jupyter.widget-view+json": {
       "version_major": 2,
       "version_minor": 0,
       "model_id": "23b8a82877d44b64922fdab51f4fa149"
      }
     },
     "metadata": {},
     "output_type": "display_data"
    },
    {
     "name": "stdout",
     "output_type": "stream",
     "text": [
      "Gradient is zero\n"
     ]
    },
    {
     "data": {
      "text/plain": "epochs:   0%|          | 0/999 [00:00<?, ?it/s]",
      "application/vnd.jupyter.widget-view+json": {
       "version_major": 2,
       "version_minor": 0,
       "model_id": "60401a8c026b42c8b470d7a8514a2409"
      }
     },
     "metadata": {},
     "output_type": "display_data"
    },
    {
     "name": "stdout",
     "output_type": "stream",
     "text": [
      "Gradient is zero\n"
     ]
    },
    {
     "data": {
      "text/plain": "epochs:   0%|          | 0/999 [00:00<?, ?it/s]",
      "application/vnd.jupyter.widget-view+json": {
       "version_major": 2,
       "version_minor": 0,
       "model_id": "8d58f2e34bdf495c8f83bae25c0a28cd"
      }
     },
     "metadata": {},
     "output_type": "display_data"
    },
    {
     "data": {
      "text/plain": "epochs:   0%|          | 0/999 [00:00<?, ?it/s]",
      "application/vnd.jupyter.widget-view+json": {
       "version_major": 2,
       "version_minor": 0,
       "model_id": "74229831edef4ad28670196136e280a6"
      }
     },
     "metadata": {},
     "output_type": "display_data"
    },
    {
     "name": "stdout",
     "output_type": "stream",
     "text": [
      "Gradient is zero\n"
     ]
    },
    {
     "data": {
      "text/plain": "epochs:   0%|          | 0/999 [00:00<?, ?it/s]",
      "application/vnd.jupyter.widget-view+json": {
       "version_major": 2,
       "version_minor": 0,
       "model_id": "fd033e58e7b940959c63f1d98c26e6ea"
      }
     },
     "metadata": {},
     "output_type": "display_data"
    },
    {
     "name": "stdout",
     "output_type": "stream",
     "text": [
      "Gradient is zero\n"
     ]
    },
    {
     "data": {
      "text/plain": "epochs:   0%|          | 0/999 [00:00<?, ?it/s]",
      "application/vnd.jupyter.widget-view+json": {
       "version_major": 2,
       "version_minor": 0,
       "model_id": "6a3c786629ed444cbc8bad9b67306fd3"
      }
     },
     "metadata": {},
     "output_type": "display_data"
    },
    {
     "name": "stdout",
     "output_type": "stream",
     "text": [
      "Gradient is zero\n"
     ]
    },
    {
     "data": {
      "text/plain": "epochs:   0%|          | 0/999 [00:00<?, ?it/s]",
      "application/vnd.jupyter.widget-view+json": {
       "version_major": 2,
       "version_minor": 0,
       "model_id": "2e013cb555414cf2b9f00bc8f40f83c6"
      }
     },
     "metadata": {},
     "output_type": "display_data"
    },
    {
     "data": {
      "text/plain": "epochs:   0%|          | 0/999 [00:00<?, ?it/s]",
      "application/vnd.jupyter.widget-view+json": {
       "version_major": 2,
       "version_minor": 0,
       "model_id": "54d585d949eb47e4a0d51770141c0b9b"
      }
     },
     "metadata": {},
     "output_type": "display_data"
    },
    {
     "name": "stdout",
     "output_type": "stream",
     "text": [
      "Gradient is zero\n"
     ]
    },
    {
     "data": {
      "text/plain": "epochs:   0%|          | 0/999 [00:00<?, ?it/s]",
      "application/vnd.jupyter.widget-view+json": {
       "version_major": 2,
       "version_minor": 0,
       "model_id": "ee5c3cf4acc9412ca1220701401bd2fe"
      }
     },
     "metadata": {},
     "output_type": "display_data"
    },
    {
     "data": {
      "text/plain": "epochs:   0%|          | 0/999 [00:00<?, ?it/s]",
      "application/vnd.jupyter.widget-view+json": {
       "version_major": 2,
       "version_minor": 0,
       "model_id": "89c71ec27df94a22a4c3a4ad2206a197"
      }
     },
     "metadata": {},
     "output_type": "display_data"
    },
    {
     "name": "stdout",
     "output_type": "stream",
     "text": [
      "Gradient is zero\n"
     ]
    },
    {
     "data": {
      "text/plain": "epochs:   0%|          | 0/999 [00:00<?, ?it/s]",
      "application/vnd.jupyter.widget-view+json": {
       "version_major": 2,
       "version_minor": 0,
       "model_id": "94af62e6a83048789af89907077025c3"
      }
     },
     "metadata": {},
     "output_type": "display_data"
    },
    {
     "data": {
      "text/plain": "epochs:   0%|          | 0/999 [00:00<?, ?it/s]",
      "application/vnd.jupyter.widget-view+json": {
       "version_major": 2,
       "version_minor": 0,
       "model_id": "9e6ffbcc70a14382bc29cf2619fb96de"
      }
     },
     "metadata": {},
     "output_type": "display_data"
    },
    {
     "name": "stdout",
     "output_type": "stream",
     "text": [
      "Gradient is zero\n"
     ]
    },
    {
     "data": {
      "text/plain": "epochs:   0%|          | 0/999 [00:00<?, ?it/s]",
      "application/vnd.jupyter.widget-view+json": {
       "version_major": 2,
       "version_minor": 0,
       "model_id": "400cb02cda9e4bc6a45500b3ac5f0178"
      }
     },
     "metadata": {},
     "output_type": "display_data"
    },
    {
     "data": {
      "text/plain": "epochs:   0%|          | 0/999 [00:00<?, ?it/s]",
      "application/vnd.jupyter.widget-view+json": {
       "version_major": 2,
       "version_minor": 0,
       "model_id": "aeae7c6c51744eb89ce5995e74686140"
      }
     },
     "metadata": {},
     "output_type": "display_data"
    },
    {
     "name": "stdout",
     "output_type": "stream",
     "text": [
      "Gradient is zero\n"
     ]
    },
    {
     "data": {
      "text/plain": "epochs:   0%|          | 0/999 [00:00<?, ?it/s]",
      "application/vnd.jupyter.widget-view+json": {
       "version_major": 2,
       "version_minor": 0,
       "model_id": "5401fe8279fc4c7eaaf8ad07cca2f31a"
      }
     },
     "metadata": {},
     "output_type": "display_data"
    },
    {
     "data": {
      "text/plain": "epochs:   0%|          | 0/999 [00:00<?, ?it/s]",
      "application/vnd.jupyter.widget-view+json": {
       "version_major": 2,
       "version_minor": 0,
       "model_id": "e337e13ccc92416dbaf4a92ab8b97245"
      }
     },
     "metadata": {},
     "output_type": "display_data"
    },
    {
     "data": {
      "text/plain": "epochs:   0%|          | 0/999 [00:00<?, ?it/s]",
      "application/vnd.jupyter.widget-view+json": {
       "version_major": 2,
       "version_minor": 0,
       "model_id": "33cef2c81cba47ad9896682f46b7690f"
      }
     },
     "metadata": {},
     "output_type": "display_data"
    },
    {
     "data": {
      "text/plain": "epochs:   0%|          | 0/999 [00:00<?, ?it/s]",
      "application/vnd.jupyter.widget-view+json": {
       "version_major": 2,
       "version_minor": 0,
       "model_id": "8f98fbe55493494fa465e4561bd714c2"
      }
     },
     "metadata": {},
     "output_type": "display_data"
    },
    {
     "name": "stdout",
     "output_type": "stream",
     "text": [
      "Gradient is zero\n"
     ]
    },
    {
     "data": {
      "text/plain": "epochs:   0%|          | 0/999 [00:00<?, ?it/s]",
      "application/vnd.jupyter.widget-view+json": {
       "version_major": 2,
       "version_minor": 0,
       "model_id": "11f79da3164949f388fc162b96a36333"
      }
     },
     "metadata": {},
     "output_type": "display_data"
    },
    {
     "name": "stdout",
     "output_type": "stream",
     "text": [
      "Gradient is zero\n"
     ]
    },
    {
     "data": {
      "text/plain": "epochs:   0%|          | 0/999 [00:00<?, ?it/s]",
      "application/vnd.jupyter.widget-view+json": {
       "version_major": 2,
       "version_minor": 0,
       "model_id": "af43ea2c67854a1eae124be212379239"
      }
     },
     "metadata": {},
     "output_type": "display_data"
    },
    {
     "data": {
      "text/plain": "epochs:   0%|          | 0/999 [00:00<?, ?it/s]",
      "application/vnd.jupyter.widget-view+json": {
       "version_major": 2,
       "version_minor": 0,
       "model_id": "1c8f6c334cec4b8d9170c8497832f7fc"
      }
     },
     "metadata": {},
     "output_type": "display_data"
    },
    {
     "name": "stdout",
     "output_type": "stream",
     "text": [
      "Gradient is zero\n"
     ]
    },
    {
     "data": {
      "text/plain": "epochs:   0%|          | 0/999 [00:00<?, ?it/s]",
      "application/vnd.jupyter.widget-view+json": {
       "version_major": 2,
       "version_minor": 0,
       "model_id": "9774c60c2721423984d4c9231d9dff34"
      }
     },
     "metadata": {},
     "output_type": "display_data"
    },
    {
     "data": {
      "text/plain": "epochs:   0%|          | 0/999 [00:00<?, ?it/s]",
      "application/vnd.jupyter.widget-view+json": {
       "version_major": 2,
       "version_minor": 0,
       "model_id": "eddc5a84220d4632a54ecce36248b30d"
      }
     },
     "metadata": {},
     "output_type": "display_data"
    },
    {
     "name": "stdout",
     "output_type": "stream",
     "text": [
      "Gradient is zero\n"
     ]
    },
    {
     "data": {
      "text/plain": "epochs:   0%|          | 0/999 [00:00<?, ?it/s]",
      "application/vnd.jupyter.widget-view+json": {
       "version_major": 2,
       "version_minor": 0,
       "model_id": "a62ff0fc874f404c895c631d2538b6d0"
      }
     },
     "metadata": {},
     "output_type": "display_data"
    },
    {
     "name": "stdout",
     "output_type": "stream",
     "text": [
      "Gradient is zero\n"
     ]
    },
    {
     "data": {
      "text/plain": "epochs:   0%|          | 0/999 [00:00<?, ?it/s]",
      "application/vnd.jupyter.widget-view+json": {
       "version_major": 2,
       "version_minor": 0,
       "model_id": "9f702a4a2991447cadcb1682e6d4bf3a"
      }
     },
     "metadata": {},
     "output_type": "display_data"
    },
    {
     "data": {
      "text/plain": "epochs:   0%|          | 0/999 [00:00<?, ?it/s]",
      "application/vnd.jupyter.widget-view+json": {
       "version_major": 2,
       "version_minor": 0,
       "model_id": "d02f17687dbf4189baa7610f5a5e3cef"
      }
     },
     "metadata": {},
     "output_type": "display_data"
    },
    {
     "data": {
      "text/plain": "epochs:   0%|          | 0/999 [00:00<?, ?it/s]",
      "application/vnd.jupyter.widget-view+json": {
       "version_major": 2,
       "version_minor": 0,
       "model_id": "738e7218eebd433baff253f0bb2c008b"
      }
     },
     "metadata": {},
     "output_type": "display_data"
    },
    {
     "name": "stdout",
     "output_type": "stream",
     "text": [
      "Gradient is zero\n"
     ]
    },
    {
     "data": {
      "text/plain": "epochs:   0%|          | 0/999 [00:00<?, ?it/s]",
      "application/vnd.jupyter.widget-view+json": {
       "version_major": 2,
       "version_minor": 0,
       "model_id": "b3930e1f655e4eee94e05c813b8d6abc"
      }
     },
     "metadata": {},
     "output_type": "display_data"
    },
    {
     "data": {
      "text/plain": "epochs:   0%|          | 0/999 [00:00<?, ?it/s]",
      "application/vnd.jupyter.widget-view+json": {
       "version_major": 2,
       "version_minor": 0,
       "model_id": "5a18716c6ac8480b85c1a4babfcdac70"
      }
     },
     "metadata": {},
     "output_type": "display_data"
    },
    {
     "data": {
      "text/plain": "epochs:   0%|          | 0/999 [00:00<?, ?it/s]",
      "application/vnd.jupyter.widget-view+json": {
       "version_major": 2,
       "version_minor": 0,
       "model_id": "db0807c267fd4fab8e15c5c69516b332"
      }
     },
     "metadata": {},
     "output_type": "display_data"
    },
    {
     "name": "stdout",
     "output_type": "stream",
     "text": [
      "Gradient is zero\n"
     ]
    },
    {
     "data": {
      "text/plain": "epochs:   0%|          | 0/999 [00:00<?, ?it/s]",
      "application/vnd.jupyter.widget-view+json": {
       "version_major": 2,
       "version_minor": 0,
       "model_id": "9b27f4054fa24cc8b86a94dff350c8f4"
      }
     },
     "metadata": {},
     "output_type": "display_data"
    },
    {
     "name": "stdout",
     "output_type": "stream",
     "text": [
      "Gradient is zero\n"
     ]
    },
    {
     "data": {
      "text/plain": "epochs:   0%|          | 0/999 [00:00<?, ?it/s]",
      "application/vnd.jupyter.widget-view+json": {
       "version_major": 2,
       "version_minor": 0,
       "model_id": "6287a296e6554931ad897a91fc95ad61"
      }
     },
     "metadata": {},
     "output_type": "display_data"
    },
    {
     "name": "stdout",
     "output_type": "stream",
     "text": [
      "Gradient is zero\n"
     ]
    },
    {
     "data": {
      "text/plain": "epochs:   0%|          | 0/999 [00:00<?, ?it/s]",
      "application/vnd.jupyter.widget-view+json": {
       "version_major": 2,
       "version_minor": 0,
       "model_id": "9a80b29429b441e597b81afce729f81e"
      }
     },
     "metadata": {},
     "output_type": "display_data"
    },
    {
     "data": {
      "text/plain": "epochs:   0%|          | 0/999 [00:00<?, ?it/s]",
      "application/vnd.jupyter.widget-view+json": {
       "version_major": 2,
       "version_minor": 0,
       "model_id": "d76f0e4103bc4ee5832eb0830bd557af"
      }
     },
     "metadata": {},
     "output_type": "display_data"
    },
    {
     "data": {
      "text/plain": "epochs:   0%|          | 0/999 [00:00<?, ?it/s]",
      "application/vnd.jupyter.widget-view+json": {
       "version_major": 2,
       "version_minor": 0,
       "model_id": "1fa20bf06ad24222bd1ca72240512b17"
      }
     },
     "metadata": {},
     "output_type": "display_data"
    },
    {
     "name": "stdout",
     "output_type": "stream",
     "text": [
      "Gradient is zero\n"
     ]
    },
    {
     "data": {
      "text/plain": "epochs:   0%|          | 0/999 [00:00<?, ?it/s]",
      "application/vnd.jupyter.widget-view+json": {
       "version_major": 2,
       "version_minor": 0,
       "model_id": "db803fb62cba4a86928e2969b7d58b7c"
      }
     },
     "metadata": {},
     "output_type": "display_data"
    },
    {
     "name": "stdout",
     "output_type": "stream",
     "text": [
      "Gradient is zero\n"
     ]
    },
    {
     "data": {
      "text/plain": "epochs:   0%|          | 0/999 [00:00<?, ?it/s]",
      "application/vnd.jupyter.widget-view+json": {
       "version_major": 2,
       "version_minor": 0,
       "model_id": "d9cf1e1f968f4457996d53a208dcbd69"
      }
     },
     "metadata": {},
     "output_type": "display_data"
    },
    {
     "name": "stdout",
     "output_type": "stream",
     "text": [
      "Gradient is zero\n"
     ]
    },
    {
     "data": {
      "text/plain": "epochs:   0%|          | 0/999 [00:00<?, ?it/s]",
      "application/vnd.jupyter.widget-view+json": {
       "version_major": 2,
       "version_minor": 0,
       "model_id": "c182c62fe7e147dd96a1d55737774a0a"
      }
     },
     "metadata": {},
     "output_type": "display_data"
    },
    {
     "data": {
      "text/plain": "epochs:   0%|          | 0/999 [00:00<?, ?it/s]",
      "application/vnd.jupyter.widget-view+json": {
       "version_major": 2,
       "version_minor": 0,
       "model_id": "8c706ca75bf445aaacc819525eca5cb0"
      }
     },
     "metadata": {},
     "output_type": "display_data"
    },
    {
     "data": {
      "text/plain": "epochs:   0%|          | 0/999 [00:00<?, ?it/s]",
      "application/vnd.jupyter.widget-view+json": {
       "version_major": 2,
       "version_minor": 0,
       "model_id": "2115e6ce165b41fa9a450d31b193f71a"
      }
     },
     "metadata": {},
     "output_type": "display_data"
    },
    {
     "name": "stdout",
     "output_type": "stream",
     "text": [
      "Gradient is zero\n"
     ]
    },
    {
     "data": {
      "text/plain": "epochs:   0%|          | 0/999 [00:00<?, ?it/s]",
      "application/vnd.jupyter.widget-view+json": {
       "version_major": 2,
       "version_minor": 0,
       "model_id": "7fca73c3d63c4da7978f44971bc24536"
      }
     },
     "metadata": {},
     "output_type": "display_data"
    },
    {
     "name": "stdout",
     "output_type": "stream",
     "text": [
      "Gradient is zero\n"
     ]
    },
    {
     "data": {
      "text/plain": "epochs:   0%|          | 0/999 [00:00<?, ?it/s]",
      "application/vnd.jupyter.widget-view+json": {
       "version_major": 2,
       "version_minor": 0,
       "model_id": "8927ff37d3f1487cbe45d4dbfe4bf68e"
      }
     },
     "metadata": {},
     "output_type": "display_data"
    },
    {
     "name": "stdout",
     "output_type": "stream",
     "text": [
      "Gradient is zero\n"
     ]
    },
    {
     "data": {
      "text/plain": "epochs:   0%|          | 0/999 [00:00<?, ?it/s]",
      "application/vnd.jupyter.widget-view+json": {
       "version_major": 2,
       "version_minor": 0,
       "model_id": "85946d7b4dd14472baf4b180da971e42"
      }
     },
     "metadata": {},
     "output_type": "display_data"
    },
    {
     "name": "stdout",
     "output_type": "stream",
     "text": [
      "Gradient is zero\n"
     ]
    },
    {
     "data": {
      "text/plain": "epochs:   0%|          | 0/999 [00:00<?, ?it/s]",
      "application/vnd.jupyter.widget-view+json": {
       "version_major": 2,
       "version_minor": 0,
       "model_id": "efbb9e2b1e7649cfbe255f0309188b91"
      }
     },
     "metadata": {},
     "output_type": "display_data"
    },
    {
     "name": "stdout",
     "output_type": "stream",
     "text": [
      "Gradient is zero\n"
     ]
    },
    {
     "data": {
      "text/plain": "epochs:   0%|          | 0/999 [00:00<?, ?it/s]",
      "application/vnd.jupyter.widget-view+json": {
       "version_major": 2,
       "version_minor": 0,
       "model_id": "e39365cbee4a4a8d9ab88befbcc39256"
      }
     },
     "metadata": {},
     "output_type": "display_data"
    },
    {
     "name": "stdout",
     "output_type": "stream",
     "text": [
      "Gradient is zero\n"
     ]
    },
    {
     "data": {
      "text/plain": "epochs:   0%|          | 0/999 [00:00<?, ?it/s]",
      "application/vnd.jupyter.widget-view+json": {
       "version_major": 2,
       "version_minor": 0,
       "model_id": "6d0b809ae9bf4abdb9a0b32ba85f1d01"
      }
     },
     "metadata": {},
     "output_type": "display_data"
    },
    {
     "data": {
      "text/plain": "epochs:   0%|          | 0/999 [00:00<?, ?it/s]",
      "application/vnd.jupyter.widget-view+json": {
       "version_major": 2,
       "version_minor": 0,
       "model_id": "db447f474488457db83b340ad6d47570"
      }
     },
     "metadata": {},
     "output_type": "display_data"
    },
    {
     "name": "stdout",
     "output_type": "stream",
     "text": [
      "Gradient is zero\n"
     ]
    },
    {
     "data": {
      "text/plain": "epochs:   0%|          | 0/999 [00:00<?, ?it/s]",
      "application/vnd.jupyter.widget-view+json": {
       "version_major": 2,
       "version_minor": 0,
       "model_id": "944651b4dffa4afbba61f3779871f8f9"
      }
     },
     "metadata": {},
     "output_type": "display_data"
    },
    {
     "name": "stdout",
     "output_type": "stream",
     "text": [
      "Gradient is zero\n"
     ]
    },
    {
     "data": {
      "text/plain": "epochs:   0%|          | 0/999 [00:00<?, ?it/s]",
      "application/vnd.jupyter.widget-view+json": {
       "version_major": 2,
       "version_minor": 0,
       "model_id": "6195097648fe4b9bb260d9a7d9d5b145"
      }
     },
     "metadata": {},
     "output_type": "display_data"
    },
    {
     "data": {
      "text/plain": "epochs:   0%|          | 0/999 [00:00<?, ?it/s]",
      "application/vnd.jupyter.widget-view+json": {
       "version_major": 2,
       "version_minor": 0,
       "model_id": "ddb604b68ab1478caf0d07ff8fbec477"
      }
     },
     "metadata": {},
     "output_type": "display_data"
    },
    {
     "data": {
      "text/plain": "epochs:   0%|          | 0/999 [00:00<?, ?it/s]",
      "application/vnd.jupyter.widget-view+json": {
       "version_major": 2,
       "version_minor": 0,
       "model_id": "fa4750c1f9a94acf87cb05cc006bcae7"
      }
     },
     "metadata": {},
     "output_type": "display_data"
    },
    {
     "data": {
      "text/plain": "epochs:   0%|          | 0/999 [00:00<?, ?it/s]",
      "application/vnd.jupyter.widget-view+json": {
       "version_major": 2,
       "version_minor": 0,
       "model_id": "d1691383a9b4440aa3df6bdc24849144"
      }
     },
     "metadata": {},
     "output_type": "display_data"
    },
    {
     "name": "stdout",
     "output_type": "stream",
     "text": [
      "Gradient is zero\n"
     ]
    },
    {
     "data": {
      "text/plain": "Meta Epochs:   0%|          | 0/100 [00:00<?, ?it/s]",
      "application/vnd.jupyter.widget-view+json": {
       "version_major": 2,
       "version_minor": 0,
       "model_id": "e08204fc763948d3bb960b6859daaeda"
      }
     },
     "metadata": {},
     "output_type": "display_data"
    },
    {
     "data": {
      "text/plain": "epochs:   0%|          | 0/999 [00:00<?, ?it/s]",
      "application/vnd.jupyter.widget-view+json": {
       "version_major": 2,
       "version_minor": 0,
       "model_id": "ef2cc3335e144fa8abc238ab97ed603e"
      }
     },
     "metadata": {},
     "output_type": "display_data"
    },
    {
     "data": {
      "text/plain": "epochs:   0%|          | 0/999 [00:00<?, ?it/s]",
      "application/vnd.jupyter.widget-view+json": {
       "version_major": 2,
       "version_minor": 0,
       "model_id": "fc1333c1209049c1bb1f3bffa839b3ba"
      }
     },
     "metadata": {},
     "output_type": "display_data"
    },
    {
     "data": {
      "text/plain": "epochs:   0%|          | 0/999 [00:00<?, ?it/s]",
      "application/vnd.jupyter.widget-view+json": {
       "version_major": 2,
       "version_minor": 0,
       "model_id": "d65326e662d94116abb4ffd4cec72067"
      }
     },
     "metadata": {},
     "output_type": "display_data"
    },
    {
     "name": "stdout",
     "output_type": "stream",
     "text": [
      "Gradient is zero\n"
     ]
    },
    {
     "data": {
      "text/plain": "epochs:   0%|          | 0/999 [00:00<?, ?it/s]",
      "application/vnd.jupyter.widget-view+json": {
       "version_major": 2,
       "version_minor": 0,
       "model_id": "2414723345e14963a353e51dd4c37b27"
      }
     },
     "metadata": {},
     "output_type": "display_data"
    },
    {
     "name": "stdout",
     "output_type": "stream",
     "text": [
      "Gradient is zero\n"
     ]
    },
    {
     "data": {
      "text/plain": "epochs:   0%|          | 0/999 [00:00<?, ?it/s]",
      "application/vnd.jupyter.widget-view+json": {
       "version_major": 2,
       "version_minor": 0,
       "model_id": "e9955d60984240f18e366d79aed8e139"
      }
     },
     "metadata": {},
     "output_type": "display_data"
    },
    {
     "name": "stdout",
     "output_type": "stream",
     "text": [
      "Gradient is zero\n"
     ]
    },
    {
     "data": {
      "text/plain": "epochs:   0%|          | 0/999 [00:00<?, ?it/s]",
      "application/vnd.jupyter.widget-view+json": {
       "version_major": 2,
       "version_minor": 0,
       "model_id": "5163460745c849fcb811a636323837a4"
      }
     },
     "metadata": {},
     "output_type": "display_data"
    },
    {
     "data": {
      "text/plain": "epochs:   0%|          | 0/999 [00:00<?, ?it/s]",
      "application/vnd.jupyter.widget-view+json": {
       "version_major": 2,
       "version_minor": 0,
       "model_id": "e3ad23e07400465599a906694c7646d4"
      }
     },
     "metadata": {},
     "output_type": "display_data"
    },
    {
     "name": "stdout",
     "output_type": "stream",
     "text": [
      "Gradient is zero\n"
     ]
    },
    {
     "data": {
      "text/plain": "epochs:   0%|          | 0/999 [00:00<?, ?it/s]",
      "application/vnd.jupyter.widget-view+json": {
       "version_major": 2,
       "version_minor": 0,
       "model_id": "367e6d0799c8429e8d5a43fe8219a821"
      }
     },
     "metadata": {},
     "output_type": "display_data"
    },
    {
     "data": {
      "text/plain": "epochs:   0%|          | 0/999 [00:00<?, ?it/s]",
      "application/vnd.jupyter.widget-view+json": {
       "version_major": 2,
       "version_minor": 0,
       "model_id": "95be09b531584e67bd2457b86334cca5"
      }
     },
     "metadata": {},
     "output_type": "display_data"
    },
    {
     "data": {
      "text/plain": "epochs:   0%|          | 0/999 [00:00<?, ?it/s]",
      "application/vnd.jupyter.widget-view+json": {
       "version_major": 2,
       "version_minor": 0,
       "model_id": "7ea923d39cd24076a2f86bfb400b7a5f"
      }
     },
     "metadata": {},
     "output_type": "display_data"
    },
    {
     "data": {
      "text/plain": "epochs:   0%|          | 0/999 [00:00<?, ?it/s]",
      "application/vnd.jupyter.widget-view+json": {
       "version_major": 2,
       "version_minor": 0,
       "model_id": "0875d00dc4d9404b919778b02f5fe3e1"
      }
     },
     "metadata": {},
     "output_type": "display_data"
    },
    {
     "name": "stdout",
     "output_type": "stream",
     "text": [
      "Gradient is zero\n"
     ]
    },
    {
     "data": {
      "text/plain": "epochs:   0%|          | 0/999 [00:00<?, ?it/s]",
      "application/vnd.jupyter.widget-view+json": {
       "version_major": 2,
       "version_minor": 0,
       "model_id": "b17ac4e25aed4ffca970c9e687dc1620"
      }
     },
     "metadata": {},
     "output_type": "display_data"
    },
    {
     "data": {
      "text/plain": "epochs:   0%|          | 0/999 [00:00<?, ?it/s]",
      "application/vnd.jupyter.widget-view+json": {
       "version_major": 2,
       "version_minor": 0,
       "model_id": "7a256d063e394bce9ecba5ecd4c94700"
      }
     },
     "metadata": {},
     "output_type": "display_data"
    },
    {
     "data": {
      "text/plain": "epochs:   0%|          | 0/999 [00:00<?, ?it/s]",
      "application/vnd.jupyter.widget-view+json": {
       "version_major": 2,
       "version_minor": 0,
       "model_id": "3600f6d461a646ccbf15ff4db4ce47ab"
      }
     },
     "metadata": {},
     "output_type": "display_data"
    },
    {
     "name": "stdout",
     "output_type": "stream",
     "text": [
      "Gradient is zero\n"
     ]
    },
    {
     "data": {
      "text/plain": "epochs:   0%|          | 0/999 [00:00<?, ?it/s]",
      "application/vnd.jupyter.widget-view+json": {
       "version_major": 2,
       "version_minor": 0,
       "model_id": "c8cfca9d5dad41f08a32a5003a17c044"
      }
     },
     "metadata": {},
     "output_type": "display_data"
    },
    {
     "data": {
      "text/plain": "epochs:   0%|          | 0/999 [00:00<?, ?it/s]",
      "application/vnd.jupyter.widget-view+json": {
       "version_major": 2,
       "version_minor": 0,
       "model_id": "89162c03336a45d78a5b4432f9d5a1e1"
      }
     },
     "metadata": {},
     "output_type": "display_data"
    },
    {
     "name": "stdout",
     "output_type": "stream",
     "text": [
      "Gradient is zero\n"
     ]
    },
    {
     "data": {
      "text/plain": "epochs:   0%|          | 0/999 [00:00<?, ?it/s]",
      "application/vnd.jupyter.widget-view+json": {
       "version_major": 2,
       "version_minor": 0,
       "model_id": "d276b2dca68b4b7eb25946fab37cbad0"
      }
     },
     "metadata": {},
     "output_type": "display_data"
    },
    {
     "data": {
      "text/plain": "epochs:   0%|          | 0/999 [00:00<?, ?it/s]",
      "application/vnd.jupyter.widget-view+json": {
       "version_major": 2,
       "version_minor": 0,
       "model_id": "3d8972e966b749629f104b66fbf227fe"
      }
     },
     "metadata": {},
     "output_type": "display_data"
    },
    {
     "data": {
      "text/plain": "epochs:   0%|          | 0/999 [00:00<?, ?it/s]",
      "application/vnd.jupyter.widget-view+json": {
       "version_major": 2,
       "version_minor": 0,
       "model_id": "ac3247e7789d4bac89c390ee386fc324"
      }
     },
     "metadata": {},
     "output_type": "display_data"
    },
    {
     "name": "stdout",
     "output_type": "stream",
     "text": [
      "Gradient is zero\n"
     ]
    },
    {
     "data": {
      "text/plain": "epochs:   0%|          | 0/999 [00:00<?, ?it/s]",
      "application/vnd.jupyter.widget-view+json": {
       "version_major": 2,
       "version_minor": 0,
       "model_id": "4edafe8bee7d4916acf7456790b0c880"
      }
     },
     "metadata": {},
     "output_type": "display_data"
    },
    {
     "name": "stdout",
     "output_type": "stream",
     "text": [
      "Gradient is zero\n"
     ]
    },
    {
     "data": {
      "text/plain": "epochs:   0%|          | 0/999 [00:00<?, ?it/s]",
      "application/vnd.jupyter.widget-view+json": {
       "version_major": 2,
       "version_minor": 0,
       "model_id": "109d0c6e9aac48889f8c9d206f71b524"
      }
     },
     "metadata": {},
     "output_type": "display_data"
    },
    {
     "name": "stdout",
     "output_type": "stream",
     "text": [
      "Gradient is zero\n"
     ]
    },
    {
     "data": {
      "text/plain": "epochs:   0%|          | 0/999 [00:00<?, ?it/s]",
      "application/vnd.jupyter.widget-view+json": {
       "version_major": 2,
       "version_minor": 0,
       "model_id": "5cfe5e4cc7d848dbbb6e282ed6a607a2"
      }
     },
     "metadata": {},
     "output_type": "display_data"
    },
    {
     "data": {
      "text/plain": "epochs:   0%|          | 0/999 [00:00<?, ?it/s]",
      "application/vnd.jupyter.widget-view+json": {
       "version_major": 2,
       "version_minor": 0,
       "model_id": "239a3324cd134e938b710dd4ce383a89"
      }
     },
     "metadata": {},
     "output_type": "display_data"
    },
    {
     "name": "stdout",
     "output_type": "stream",
     "text": [
      "Gradient is zero\n"
     ]
    },
    {
     "data": {
      "text/plain": "epochs:   0%|          | 0/999 [00:00<?, ?it/s]",
      "application/vnd.jupyter.widget-view+json": {
       "version_major": 2,
       "version_minor": 0,
       "model_id": "b29bca08623d4c92b4fc29faa351e4a3"
      }
     },
     "metadata": {},
     "output_type": "display_data"
    },
    {
     "data": {
      "text/plain": "epochs:   0%|          | 0/999 [00:00<?, ?it/s]",
      "application/vnd.jupyter.widget-view+json": {
       "version_major": 2,
       "version_minor": 0,
       "model_id": "dc73b7d600844661845b5c46118afb6a"
      }
     },
     "metadata": {},
     "output_type": "display_data"
    },
    {
     "name": "stdout",
     "output_type": "stream",
     "text": [
      "Gradient is zero\n"
     ]
    },
    {
     "data": {
      "text/plain": "epochs:   0%|          | 0/999 [00:00<?, ?it/s]",
      "application/vnd.jupyter.widget-view+json": {
       "version_major": 2,
       "version_minor": 0,
       "model_id": "a857c2651b5144e38f931aea2eeb714d"
      }
     },
     "metadata": {},
     "output_type": "display_data"
    },
    {
     "data": {
      "text/plain": "epochs:   0%|          | 0/999 [00:00<?, ?it/s]",
      "application/vnd.jupyter.widget-view+json": {
       "version_major": 2,
       "version_minor": 0,
       "model_id": "8dd4d8797229469098ad1c60c0f95f33"
      }
     },
     "metadata": {},
     "output_type": "display_data"
    },
    {
     "name": "stdout",
     "output_type": "stream",
     "text": [
      "Gradient is zero\n"
     ]
    },
    {
     "data": {
      "text/plain": "epochs:   0%|          | 0/999 [00:00<?, ?it/s]",
      "application/vnd.jupyter.widget-view+json": {
       "version_major": 2,
       "version_minor": 0,
       "model_id": "9dd6d65847944aee9a6f16f3080e782a"
      }
     },
     "metadata": {},
     "output_type": "display_data"
    },
    {
     "data": {
      "text/plain": "epochs:   0%|          | 0/999 [00:00<?, ?it/s]",
      "application/vnd.jupyter.widget-view+json": {
       "version_major": 2,
       "version_minor": 0,
       "model_id": "bb4e6a0a0c2b45039dad61f3d4935f69"
      }
     },
     "metadata": {},
     "output_type": "display_data"
    },
    {
     "data": {
      "text/plain": "epochs:   0%|          | 0/999 [00:00<?, ?it/s]",
      "application/vnd.jupyter.widget-view+json": {
       "version_major": 2,
       "version_minor": 0,
       "model_id": "f5e2787a475c4a27824fa403b8f33111"
      }
     },
     "metadata": {},
     "output_type": "display_data"
    },
    {
     "data": {
      "text/plain": "epochs:   0%|          | 0/999 [00:00<?, ?it/s]",
      "application/vnd.jupyter.widget-view+json": {
       "version_major": 2,
       "version_minor": 0,
       "model_id": "771e3740df6047a8a28111a28ece2deb"
      }
     },
     "metadata": {},
     "output_type": "display_data"
    },
    {
     "name": "stdout",
     "output_type": "stream",
     "text": [
      "Gradient is zero\n"
     ]
    },
    {
     "data": {
      "text/plain": "epochs:   0%|          | 0/999 [00:00<?, ?it/s]",
      "application/vnd.jupyter.widget-view+json": {
       "version_major": 2,
       "version_minor": 0,
       "model_id": "7823853655194f29870afda5de86e075"
      }
     },
     "metadata": {},
     "output_type": "display_data"
    },
    {
     "name": "stdout",
     "output_type": "stream",
     "text": [
      "Gradient is zero\n"
     ]
    },
    {
     "data": {
      "text/plain": "epochs:   0%|          | 0/999 [00:00<?, ?it/s]",
      "application/vnd.jupyter.widget-view+json": {
       "version_major": 2,
       "version_minor": 0,
       "model_id": "3bb380d4be0d4b5dbe4f5b746c97f76b"
      }
     },
     "metadata": {},
     "output_type": "display_data"
    },
    {
     "data": {
      "text/plain": "epochs:   0%|          | 0/999 [00:00<?, ?it/s]",
      "application/vnd.jupyter.widget-view+json": {
       "version_major": 2,
       "version_minor": 0,
       "model_id": "cf496b9d93f148118e449130c3304256"
      }
     },
     "metadata": {},
     "output_type": "display_data"
    },
    {
     "data": {
      "text/plain": "epochs:   0%|          | 0/999 [00:00<?, ?it/s]",
      "application/vnd.jupyter.widget-view+json": {
       "version_major": 2,
       "version_minor": 0,
       "model_id": "fbfcf3a3f0194b87b8432935f1cdea6d"
      }
     },
     "metadata": {},
     "output_type": "display_data"
    },
    {
     "name": "stdout",
     "output_type": "stream",
     "text": [
      "Gradient is zero\n"
     ]
    },
    {
     "data": {
      "text/plain": "epochs:   0%|          | 0/999 [00:00<?, ?it/s]",
      "application/vnd.jupyter.widget-view+json": {
       "version_major": 2,
       "version_minor": 0,
       "model_id": "0eba7fa0d28a40078a0935e6ba5bf0f6"
      }
     },
     "metadata": {},
     "output_type": "display_data"
    },
    {
     "data": {
      "text/plain": "epochs:   0%|          | 0/999 [00:00<?, ?it/s]",
      "application/vnd.jupyter.widget-view+json": {
       "version_major": 2,
       "version_minor": 0,
       "model_id": "9a8df749d22641369253808a17f98132"
      }
     },
     "metadata": {},
     "output_type": "display_data"
    },
    {
     "data": {
      "text/plain": "epochs:   0%|          | 0/999 [00:00<?, ?it/s]",
      "application/vnd.jupyter.widget-view+json": {
       "version_major": 2,
       "version_minor": 0,
       "model_id": "2d0b852ece9c4c36be8fd87bd92bc4e4"
      }
     },
     "metadata": {},
     "output_type": "display_data"
    },
    {
     "data": {
      "text/plain": "epochs:   0%|          | 0/999 [00:00<?, ?it/s]",
      "application/vnd.jupyter.widget-view+json": {
       "version_major": 2,
       "version_minor": 0,
       "model_id": "14708406c82f42b28b0128ea7c3aa3bb"
      }
     },
     "metadata": {},
     "output_type": "display_data"
    },
    {
     "data": {
      "text/plain": "epochs:   0%|          | 0/999 [00:00<?, ?it/s]",
      "application/vnd.jupyter.widget-view+json": {
       "version_major": 2,
       "version_minor": 0,
       "model_id": "f204e405e16e4612a5d0405ed485f444"
      }
     },
     "metadata": {},
     "output_type": "display_data"
    },
    {
     "data": {
      "text/plain": "epochs:   0%|          | 0/999 [00:00<?, ?it/s]",
      "application/vnd.jupyter.widget-view+json": {
       "version_major": 2,
       "version_minor": 0,
       "model_id": "5bce7dcd7f0841deae46d11a7119fc4b"
      }
     },
     "metadata": {},
     "output_type": "display_data"
    },
    {
     "name": "stdout",
     "output_type": "stream",
     "text": [
      "Gradient is zero\n"
     ]
    },
    {
     "data": {
      "text/plain": "epochs:   0%|          | 0/999 [00:00<?, ?it/s]",
      "application/vnd.jupyter.widget-view+json": {
       "version_major": 2,
       "version_minor": 0,
       "model_id": "ae4bafccac2d4205b8b6858aa64bca68"
      }
     },
     "metadata": {},
     "output_type": "display_data"
    },
    {
     "name": "stdout",
     "output_type": "stream",
     "text": [
      "Gradient is zero\n"
     ]
    },
    {
     "data": {
      "text/plain": "epochs:   0%|          | 0/999 [00:00<?, ?it/s]",
      "application/vnd.jupyter.widget-view+json": {
       "version_major": 2,
       "version_minor": 0,
       "model_id": "d142a9832adc418e94848bea9d1d75ee"
      }
     },
     "metadata": {},
     "output_type": "display_data"
    },
    {
     "data": {
      "text/plain": "epochs:   0%|          | 0/999 [00:00<?, ?it/s]",
      "application/vnd.jupyter.widget-view+json": {
       "version_major": 2,
       "version_minor": 0,
       "model_id": "97816f6121cd4bf98dc4fc789bbc14ae"
      }
     },
     "metadata": {},
     "output_type": "display_data"
    },
    {
     "data": {
      "text/plain": "epochs:   0%|          | 0/999 [00:00<?, ?it/s]",
      "application/vnd.jupyter.widget-view+json": {
       "version_major": 2,
       "version_minor": 0,
       "model_id": "66c8ffa926424fbd984ee3fb3c62d0ec"
      }
     },
     "metadata": {},
     "output_type": "display_data"
    },
    {
     "data": {
      "text/plain": "epochs:   0%|          | 0/999 [00:00<?, ?it/s]",
      "application/vnd.jupyter.widget-view+json": {
       "version_major": 2,
       "version_minor": 0,
       "model_id": "c43aea7890844e9f82a7afd7f1e91af2"
      }
     },
     "metadata": {},
     "output_type": "display_data"
    },
    {
     "data": {
      "text/plain": "epochs:   0%|          | 0/999 [00:00<?, ?it/s]",
      "application/vnd.jupyter.widget-view+json": {
       "version_major": 2,
       "version_minor": 0,
       "model_id": "29cef5fcf12f42e49dbbd0e51f6d1a4c"
      }
     },
     "metadata": {},
     "output_type": "display_data"
    },
    {
     "data": {
      "text/plain": "epochs:   0%|          | 0/999 [00:00<?, ?it/s]",
      "application/vnd.jupyter.widget-view+json": {
       "version_major": 2,
       "version_minor": 0,
       "model_id": "67bbf0961af64c59a0a6d2ada581b95d"
      }
     },
     "metadata": {},
     "output_type": "display_data"
    },
    {
     "data": {
      "text/plain": "epochs:   0%|          | 0/999 [00:00<?, ?it/s]",
      "application/vnd.jupyter.widget-view+json": {
       "version_major": 2,
       "version_minor": 0,
       "model_id": "6673274652d44e438f99e5ca71b89198"
      }
     },
     "metadata": {},
     "output_type": "display_data"
    },
    {
     "data": {
      "text/plain": "epochs:   0%|          | 0/999 [00:00<?, ?it/s]",
      "application/vnd.jupyter.widget-view+json": {
       "version_major": 2,
       "version_minor": 0,
       "model_id": "42ece77a4351444882b91266c0c3a741"
      }
     },
     "metadata": {},
     "output_type": "display_data"
    },
    {
     "data": {
      "text/plain": "epochs:   0%|          | 0/999 [00:00<?, ?it/s]",
      "application/vnd.jupyter.widget-view+json": {
       "version_major": 2,
       "version_minor": 0,
       "model_id": "8d7b237e96bf4277b5e8f24b212e95e3"
      }
     },
     "metadata": {},
     "output_type": "display_data"
    },
    {
     "name": "stdout",
     "output_type": "stream",
     "text": [
      "Gradient is zero\n"
     ]
    },
    {
     "data": {
      "text/plain": "epochs:   0%|          | 0/999 [00:00<?, ?it/s]",
      "application/vnd.jupyter.widget-view+json": {
       "version_major": 2,
       "version_minor": 0,
       "model_id": "bafd47b918994bd7b2e0b7c1b37c1ced"
      }
     },
     "metadata": {},
     "output_type": "display_data"
    },
    {
     "data": {
      "text/plain": "epochs:   0%|          | 0/999 [00:00<?, ?it/s]",
      "application/vnd.jupyter.widget-view+json": {
       "version_major": 2,
       "version_minor": 0,
       "model_id": "b332bbe6a8874254a631e8438bea13c8"
      }
     },
     "metadata": {},
     "output_type": "display_data"
    },
    {
     "data": {
      "text/plain": "epochs:   0%|          | 0/999 [00:00<?, ?it/s]",
      "application/vnd.jupyter.widget-view+json": {
       "version_major": 2,
       "version_minor": 0,
       "model_id": "dd7bf36fba8c434ca02c14aeb79bcf0f"
      }
     },
     "metadata": {},
     "output_type": "display_data"
    },
    {
     "data": {
      "text/plain": "epochs:   0%|          | 0/999 [00:00<?, ?it/s]",
      "application/vnd.jupyter.widget-view+json": {
       "version_major": 2,
       "version_minor": 0,
       "model_id": "391771e0ffc641c4a30d8af7ad0e1636"
      }
     },
     "metadata": {},
     "output_type": "display_data"
    },
    {
     "name": "stdout",
     "output_type": "stream",
     "text": [
      "Gradient is zero\n"
     ]
    },
    {
     "data": {
      "text/plain": "epochs:   0%|          | 0/999 [00:00<?, ?it/s]",
      "application/vnd.jupyter.widget-view+json": {
       "version_major": 2,
       "version_minor": 0,
       "model_id": "68173bff10804507b3679e46fd5bbe40"
      }
     },
     "metadata": {},
     "output_type": "display_data"
    },
    {
     "data": {
      "text/plain": "epochs:   0%|          | 0/999 [00:00<?, ?it/s]",
      "application/vnd.jupyter.widget-view+json": {
       "version_major": 2,
       "version_minor": 0,
       "model_id": "9fbf67fe952241dca9d40f893f6d58ea"
      }
     },
     "metadata": {},
     "output_type": "display_data"
    },
    {
     "name": "stdout",
     "output_type": "stream",
     "text": [
      "Gradient is zero\n"
     ]
    },
    {
     "data": {
      "text/plain": "epochs:   0%|          | 0/999 [00:00<?, ?it/s]",
      "application/vnd.jupyter.widget-view+json": {
       "version_major": 2,
       "version_minor": 0,
       "model_id": "1cb9c58bd507487d90331add4dbf27c0"
      }
     },
     "metadata": {},
     "output_type": "display_data"
    },
    {
     "data": {
      "text/plain": "epochs:   0%|          | 0/999 [00:00<?, ?it/s]",
      "application/vnd.jupyter.widget-view+json": {
       "version_major": 2,
       "version_minor": 0,
       "model_id": "2db0acc4b2714be7a77c4affc67f1df3"
      }
     },
     "metadata": {},
     "output_type": "display_data"
    },
    {
     "data": {
      "text/plain": "epochs:   0%|          | 0/999 [00:00<?, ?it/s]",
      "application/vnd.jupyter.widget-view+json": {
       "version_major": 2,
       "version_minor": 0,
       "model_id": "683c0f9b3b324b358ecce5e78a96c98f"
      }
     },
     "metadata": {},
     "output_type": "display_data"
    },
    {
     "name": "stdout",
     "output_type": "stream",
     "text": [
      "Gradient is zero\n"
     ]
    },
    {
     "data": {
      "text/plain": "epochs:   0%|          | 0/999 [00:00<?, ?it/s]",
      "application/vnd.jupyter.widget-view+json": {
       "version_major": 2,
       "version_minor": 0,
       "model_id": "050c5b4fd514406faf9f6faaff6c36f5"
      }
     },
     "metadata": {},
     "output_type": "display_data"
    },
    {
     "data": {
      "text/plain": "epochs:   0%|          | 0/999 [00:00<?, ?it/s]",
      "application/vnd.jupyter.widget-view+json": {
       "version_major": 2,
       "version_minor": 0,
       "model_id": "85fa3536247b4b0aa55e210f9c5d9404"
      }
     },
     "metadata": {},
     "output_type": "display_data"
    },
    {
     "name": "stdout",
     "output_type": "stream",
     "text": [
      "Gradient is zero\n"
     ]
    },
    {
     "data": {
      "text/plain": "epochs:   0%|          | 0/999 [00:00<?, ?it/s]",
      "application/vnd.jupyter.widget-view+json": {
       "version_major": 2,
       "version_minor": 0,
       "model_id": "e40a498b422d4c75acfca7bf1a79575c"
      }
     },
     "metadata": {},
     "output_type": "display_data"
    },
    {
     "data": {
      "text/plain": "epochs:   0%|          | 0/999 [00:00<?, ?it/s]",
      "application/vnd.jupyter.widget-view+json": {
       "version_major": 2,
       "version_minor": 0,
       "model_id": "6b793bf893e148bcad90b42239230ee1"
      }
     },
     "metadata": {},
     "output_type": "display_data"
    },
    {
     "name": "stdout",
     "output_type": "stream",
     "text": [
      "Gradient is zero\n"
     ]
    },
    {
     "data": {
      "text/plain": "epochs:   0%|          | 0/999 [00:00<?, ?it/s]",
      "application/vnd.jupyter.widget-view+json": {
       "version_major": 2,
       "version_minor": 0,
       "model_id": "db7c940183044d539309fc45e8ff8caf"
      }
     },
     "metadata": {},
     "output_type": "display_data"
    },
    {
     "name": "stdout",
     "output_type": "stream",
     "text": [
      "Gradient is zero\n"
     ]
    },
    {
     "data": {
      "text/plain": "epochs:   0%|          | 0/999 [00:00<?, ?it/s]",
      "application/vnd.jupyter.widget-view+json": {
       "version_major": 2,
       "version_minor": 0,
       "model_id": "fddce773dd33419ba0e6dafd39f1b792"
      }
     },
     "metadata": {},
     "output_type": "display_data"
    },
    {
     "data": {
      "text/plain": "epochs:   0%|          | 0/999 [00:00<?, ?it/s]",
      "application/vnd.jupyter.widget-view+json": {
       "version_major": 2,
       "version_minor": 0,
       "model_id": "e48737684d86484f9aa77747335889d2"
      }
     },
     "metadata": {},
     "output_type": "display_data"
    },
    {
     "data": {
      "text/plain": "epochs:   0%|          | 0/999 [00:00<?, ?it/s]",
      "application/vnd.jupyter.widget-view+json": {
       "version_major": 2,
       "version_minor": 0,
       "model_id": "4116a74fc7e84b6b8b7786e9b6ce1467"
      }
     },
     "metadata": {},
     "output_type": "display_data"
    },
    {
     "data": {
      "text/plain": "epochs:   0%|          | 0/999 [00:00<?, ?it/s]",
      "application/vnd.jupyter.widget-view+json": {
       "version_major": 2,
       "version_minor": 0,
       "model_id": "ed9d441e2bb24c6cbd5aca4eaa00e4d7"
      }
     },
     "metadata": {},
     "output_type": "display_data"
    },
    {
     "name": "stdout",
     "output_type": "stream",
     "text": [
      "Gradient is zero\n"
     ]
    },
    {
     "data": {
      "text/plain": "epochs:   0%|          | 0/999 [00:00<?, ?it/s]",
      "application/vnd.jupyter.widget-view+json": {
       "version_major": 2,
       "version_minor": 0,
       "model_id": "29b2bc199ec84476b54aae64d0fbd12c"
      }
     },
     "metadata": {},
     "output_type": "display_data"
    },
    {
     "name": "stdout",
     "output_type": "stream",
     "text": [
      "Gradient is zero\n"
     ]
    },
    {
     "data": {
      "text/plain": "epochs:   0%|          | 0/999 [00:00<?, ?it/s]",
      "application/vnd.jupyter.widget-view+json": {
       "version_major": 2,
       "version_minor": 0,
       "model_id": "1de3e9c02df54f49a5775fbf00aa6e67"
      }
     },
     "metadata": {},
     "output_type": "display_data"
    },
    {
     "name": "stdout",
     "output_type": "stream",
     "text": [
      "Gradient is zero\n"
     ]
    },
    {
     "data": {
      "text/plain": "epochs:   0%|          | 0/999 [00:00<?, ?it/s]",
      "application/vnd.jupyter.widget-view+json": {
       "version_major": 2,
       "version_minor": 0,
       "model_id": "853a8242c0294c11b3d26bbc2d615205"
      }
     },
     "metadata": {},
     "output_type": "display_data"
    },
    {
     "data": {
      "text/plain": "epochs:   0%|          | 0/999 [00:00<?, ?it/s]",
      "application/vnd.jupyter.widget-view+json": {
       "version_major": 2,
       "version_minor": 0,
       "model_id": "a8e42d37424d4d5a84ec2562b3aec1d6"
      }
     },
     "metadata": {},
     "output_type": "display_data"
    },
    {
     "name": "stdout",
     "output_type": "stream",
     "text": [
      "Gradient is zero\n"
     ]
    },
    {
     "data": {
      "text/plain": "epochs:   0%|          | 0/999 [00:00<?, ?it/s]",
      "application/vnd.jupyter.widget-view+json": {
       "version_major": 2,
       "version_minor": 0,
       "model_id": "f42495ed977041f38a41854a038b5c69"
      }
     },
     "metadata": {},
     "output_type": "display_data"
    },
    {
     "data": {
      "text/plain": "epochs:   0%|          | 0/999 [00:00<?, ?it/s]",
      "application/vnd.jupyter.widget-view+json": {
       "version_major": 2,
       "version_minor": 0,
       "model_id": "7d1b6aa0749542f4be1e1f64c02a925c"
      }
     },
     "metadata": {},
     "output_type": "display_data"
    },
    {
     "data": {
      "text/plain": "epochs:   0%|          | 0/999 [00:00<?, ?it/s]",
      "application/vnd.jupyter.widget-view+json": {
       "version_major": 2,
       "version_minor": 0,
       "model_id": "5733591d7b104d15b19ed1b326c78307"
      }
     },
     "metadata": {},
     "output_type": "display_data"
    },
    {
     "name": "stdout",
     "output_type": "stream",
     "text": [
      "Gradient is zero\n"
     ]
    },
    {
     "data": {
      "text/plain": "epochs:   0%|          | 0/999 [00:00<?, ?it/s]",
      "application/vnd.jupyter.widget-view+json": {
       "version_major": 2,
       "version_minor": 0,
       "model_id": "320676502bce49e8914f595b0f3443df"
      }
     },
     "metadata": {},
     "output_type": "display_data"
    },
    {
     "name": "stdout",
     "output_type": "stream",
     "text": [
      "Gradient is zero\n"
     ]
    },
    {
     "data": {
      "text/plain": "epochs:   0%|          | 0/999 [00:00<?, ?it/s]",
      "application/vnd.jupyter.widget-view+json": {
       "version_major": 2,
       "version_minor": 0,
       "model_id": "6d3c038459954cc9aafb2a6839c017c5"
      }
     },
     "metadata": {},
     "output_type": "display_data"
    },
    {
     "data": {
      "text/plain": "epochs:   0%|          | 0/999 [00:00<?, ?it/s]",
      "application/vnd.jupyter.widget-view+json": {
       "version_major": 2,
       "version_minor": 0,
       "model_id": "d91f70ce9234458a9d85450940f92d1d"
      }
     },
     "metadata": {},
     "output_type": "display_data"
    },
    {
     "name": "stdout",
     "output_type": "stream",
     "text": [
      "Gradient is zero\n"
     ]
    },
    {
     "data": {
      "text/plain": "epochs:   0%|          | 0/999 [00:00<?, ?it/s]",
      "application/vnd.jupyter.widget-view+json": {
       "version_major": 2,
       "version_minor": 0,
       "model_id": "6b866e3ddc9f40c7853ee72814405d48"
      }
     },
     "metadata": {},
     "output_type": "display_data"
    },
    {
     "data": {
      "text/plain": "epochs:   0%|          | 0/999 [00:00<?, ?it/s]",
      "application/vnd.jupyter.widget-view+json": {
       "version_major": 2,
       "version_minor": 0,
       "model_id": "cdfaff23e3c147deb8294ae41e2f8671"
      }
     },
     "metadata": {},
     "output_type": "display_data"
    },
    {
     "data": {
      "text/plain": "epochs:   0%|          | 0/999 [00:00<?, ?it/s]",
      "application/vnd.jupyter.widget-view+json": {
       "version_major": 2,
       "version_minor": 0,
       "model_id": "654acdb1124143259de67ff5f599a395"
      }
     },
     "metadata": {},
     "output_type": "display_data"
    },
    {
     "name": "stdout",
     "output_type": "stream",
     "text": [
      "Gradient is zero\n"
     ]
    },
    {
     "data": {
      "text/plain": "epochs:   0%|          | 0/999 [00:00<?, ?it/s]",
      "application/vnd.jupyter.widget-view+json": {
       "version_major": 2,
       "version_minor": 0,
       "model_id": "cf8a8829378d435abcf20c6b400244b7"
      }
     },
     "metadata": {},
     "output_type": "display_data"
    },
    {
     "name": "stdout",
     "output_type": "stream",
     "text": [
      "Gradient is zero\n"
     ]
    },
    {
     "data": {
      "text/plain": "epochs:   0%|          | 0/999 [00:00<?, ?it/s]",
      "application/vnd.jupyter.widget-view+json": {
       "version_major": 2,
       "version_minor": 0,
       "model_id": "ad1d10398948456d8ba0d0eb64d92cc4"
      }
     },
     "metadata": {},
     "output_type": "display_data"
    },
    {
     "name": "stdout",
     "output_type": "stream",
     "text": [
      "Gradient is zero\n"
     ]
    },
    {
     "data": {
      "text/plain": "epochs:   0%|          | 0/999 [00:00<?, ?it/s]",
      "application/vnd.jupyter.widget-view+json": {
       "version_major": 2,
       "version_minor": 0,
       "model_id": "73671df18a474aadbecac80c2c5cfc43"
      }
     },
     "metadata": {},
     "output_type": "display_data"
    },
    {
     "data": {
      "text/plain": "epochs:   0%|          | 0/999 [00:00<?, ?it/s]",
      "application/vnd.jupyter.widget-view+json": {
       "version_major": 2,
       "version_minor": 0,
       "model_id": "653669c1d47a4a248853476afcbb7d17"
      }
     },
     "metadata": {},
     "output_type": "display_data"
    },
    {
     "name": "stdout",
     "output_type": "stream",
     "text": [
      "Gradient is zero\n"
     ]
    },
    {
     "data": {
      "text/plain": "epochs:   0%|          | 0/999 [00:00<?, ?it/s]",
      "application/vnd.jupyter.widget-view+json": {
       "version_major": 2,
       "version_minor": 0,
       "model_id": "be51ab8572af4f909c064f9d40a75e87"
      }
     },
     "metadata": {},
     "output_type": "display_data"
    },
    {
     "data": {
      "text/plain": "epochs:   0%|          | 0/999 [00:00<?, ?it/s]",
      "application/vnd.jupyter.widget-view+json": {
       "version_major": 2,
       "version_minor": 0,
       "model_id": "91ff9d7215d944e19d8457937ae07051"
      }
     },
     "metadata": {},
     "output_type": "display_data"
    },
    {
     "name": "stdout",
     "output_type": "stream",
     "text": [
      "Gradient is zero\n"
     ]
    },
    {
     "data": {
      "text/plain": "epochs:   0%|          | 0/999 [00:00<?, ?it/s]",
      "application/vnd.jupyter.widget-view+json": {
       "version_major": 2,
       "version_minor": 0,
       "model_id": "e0c95a429fe442be9d63cd39a73b0564"
      }
     },
     "metadata": {},
     "output_type": "display_data"
    },
    {
     "name": "stdout",
     "output_type": "stream",
     "text": [
      "Gradient is zero\n"
     ]
    },
    {
     "data": {
      "text/plain": "epochs:   0%|          | 0/999 [00:00<?, ?it/s]",
      "application/vnd.jupyter.widget-view+json": {
       "version_major": 2,
       "version_minor": 0,
       "model_id": "06136550d2b342a9b65476f149001afd"
      }
     },
     "metadata": {},
     "output_type": "display_data"
    },
    {
     "name": "stdout",
     "output_type": "stream",
     "text": [
      "Gradient is zero\n"
     ]
    },
    {
     "data": {
      "text/plain": "epochs:   0%|          | 0/999 [00:00<?, ?it/s]",
      "application/vnd.jupyter.widget-view+json": {
       "version_major": 2,
       "version_minor": 0,
       "model_id": "ac1ef4594c1e40aeb2e2be6bb10f2460"
      }
     },
     "metadata": {},
     "output_type": "display_data"
    },
    {
     "name": "stdout",
     "output_type": "stream",
     "text": [
      "Gradient is zero\n"
     ]
    },
    {
     "data": {
      "text/plain": "epochs:   0%|          | 0/999 [00:00<?, ?it/s]",
      "application/vnd.jupyter.widget-view+json": {
       "version_major": 2,
       "version_minor": 0,
       "model_id": "8902d2131ee44c1d82435cd2e4a5a9cf"
      }
     },
     "metadata": {},
     "output_type": "display_data"
    },
    {
     "name": "stdout",
     "output_type": "stream",
     "text": [
      "Gradient is zero\n"
     ]
    },
    {
     "data": {
      "text/plain": "epochs:   0%|          | 0/999 [00:00<?, ?it/s]",
      "application/vnd.jupyter.widget-view+json": {
       "version_major": 2,
       "version_minor": 0,
       "model_id": "c2d1319dfd5e400ca068b618ad7ca2a8"
      }
     },
     "metadata": {},
     "output_type": "display_data"
    },
    {
     "name": "stdout",
     "output_type": "stream",
     "text": [
      "Gradient is zero\n"
     ]
    },
    {
     "data": {
      "text/plain": "epochs:   0%|          | 0/999 [00:00<?, ?it/s]",
      "application/vnd.jupyter.widget-view+json": {
       "version_major": 2,
       "version_minor": 0,
       "model_id": "079a7f52e6db4f50addcf9995a462a10"
      }
     },
     "metadata": {},
     "output_type": "display_data"
    },
    {
     "data": {
      "text/plain": "epochs:   0%|          | 0/999 [00:00<?, ?it/s]",
      "application/vnd.jupyter.widget-view+json": {
       "version_major": 2,
       "version_minor": 0,
       "model_id": "d8e0798dd649455d87e634076e2ce9f4"
      }
     },
     "metadata": {},
     "output_type": "display_data"
    },
    {
     "name": "stdout",
     "output_type": "stream",
     "text": [
      "Gradient is zero\n"
     ]
    },
    {
     "data": {
      "text/plain": "epochs:   0%|          | 0/999 [00:00<?, ?it/s]",
      "application/vnd.jupyter.widget-view+json": {
       "version_major": 2,
       "version_minor": 0,
       "model_id": "21243658015d42b89f49087c01c090be"
      }
     },
     "metadata": {},
     "output_type": "display_data"
    },
    {
     "name": "stdout",
     "output_type": "stream",
     "text": [
      "Gradient is zero\n"
     ]
    },
    {
     "data": {
      "text/plain": "epochs:   0%|          | 0/999 [00:00<?, ?it/s]",
      "application/vnd.jupyter.widget-view+json": {
       "version_major": 2,
       "version_minor": 0,
       "model_id": "ae74d83f2b7545dbbc2e2e125619e5e7"
      }
     },
     "metadata": {},
     "output_type": "display_data"
    },
    {
     "data": {
      "text/plain": "epochs:   0%|          | 0/999 [00:00<?, ?it/s]",
      "application/vnd.jupyter.widget-view+json": {
       "version_major": 2,
       "version_minor": 0,
       "model_id": "00ade470a56540c09bad1197e69defa5"
      }
     },
     "metadata": {},
     "output_type": "display_data"
    },
    {
     "name": "stdout",
     "output_type": "stream",
     "text": [
      "Gradient is zero\n"
     ]
    },
    {
     "data": {
      "text/plain": "epochs:   0%|          | 0/999 [00:00<?, ?it/s]",
      "application/vnd.jupyter.widget-view+json": {
       "version_major": 2,
       "version_minor": 0,
       "model_id": "f406571b14404ec1bf35396f963b0f41"
      }
     },
     "metadata": {},
     "output_type": "display_data"
    },
    {
     "name": "stdout",
     "output_type": "stream",
     "text": [
      "Gradient is zero\n"
     ]
    },
    {
     "data": {
      "text/plain": "epochs:   0%|          | 0/999 [00:00<?, ?it/s]",
      "application/vnd.jupyter.widget-view+json": {
       "version_major": 2,
       "version_minor": 0,
       "model_id": "fd54b677d0c543daa79142460b3fa332"
      }
     },
     "metadata": {},
     "output_type": "display_data"
    },
    {
     "name": "stdout",
     "output_type": "stream",
     "text": [
      "Gradient is zero\n"
     ]
    },
    {
     "data": {
      "text/plain": "Meta Epochs:   0%|          | 0/100 [00:00<?, ?it/s]",
      "application/vnd.jupyter.widget-view+json": {
       "version_major": 2,
       "version_minor": 0,
       "model_id": "12af4df798584adc9922973196ebf0e2"
      }
     },
     "metadata": {},
     "output_type": "display_data"
    },
    {
     "data": {
      "text/plain": "epochs:   0%|          | 0/999 [00:00<?, ?it/s]",
      "application/vnd.jupyter.widget-view+json": {
       "version_major": 2,
       "version_minor": 0,
       "model_id": "cb1563de413840299e653d227be55f35"
      }
     },
     "metadata": {},
     "output_type": "display_data"
    },
    {
     "name": "stdout",
     "output_type": "stream",
     "text": [
      "Gradient is zero\n"
     ]
    },
    {
     "data": {
      "text/plain": "epochs:   0%|          | 0/999 [00:00<?, ?it/s]",
      "application/vnd.jupyter.widget-view+json": {
       "version_major": 2,
       "version_minor": 0,
       "model_id": "6f1fb0969586443f8a75fed4ca983429"
      }
     },
     "metadata": {},
     "output_type": "display_data"
    },
    {
     "name": "stdout",
     "output_type": "stream",
     "text": [
      "Gradient is zero\n"
     ]
    },
    {
     "data": {
      "text/plain": "epochs:   0%|          | 0/999 [00:00<?, ?it/s]",
      "application/vnd.jupyter.widget-view+json": {
       "version_major": 2,
       "version_minor": 0,
       "model_id": "b78caf931162487f9ae75ff98e0acc57"
      }
     },
     "metadata": {},
     "output_type": "display_data"
    },
    {
     "data": {
      "text/plain": "epochs:   0%|          | 0/999 [00:00<?, ?it/s]",
      "application/vnd.jupyter.widget-view+json": {
       "version_major": 2,
       "version_minor": 0,
       "model_id": "efac222ff1ae42dcb38165675edc22a8"
      }
     },
     "metadata": {},
     "output_type": "display_data"
    },
    {
     "name": "stdout",
     "output_type": "stream",
     "text": [
      "Gradient is zero\n"
     ]
    },
    {
     "data": {
      "text/plain": "epochs:   0%|          | 0/999 [00:00<?, ?it/s]",
      "application/vnd.jupyter.widget-view+json": {
       "version_major": 2,
       "version_minor": 0,
       "model_id": "6476dd6646834458a5c64338039a0f28"
      }
     },
     "metadata": {},
     "output_type": "display_data"
    },
    {
     "name": "stdout",
     "output_type": "stream",
     "text": [
      "Gradient is zero\n"
     ]
    },
    {
     "data": {
      "text/plain": "epochs:   0%|          | 0/999 [00:00<?, ?it/s]",
      "application/vnd.jupyter.widget-view+json": {
       "version_major": 2,
       "version_minor": 0,
       "model_id": "b3e8bb55d4834add83ab8dfb85eb4cce"
      }
     },
     "metadata": {},
     "output_type": "display_data"
    },
    {
     "data": {
      "text/plain": "epochs:   0%|          | 0/999 [00:00<?, ?it/s]",
      "application/vnd.jupyter.widget-view+json": {
       "version_major": 2,
       "version_minor": 0,
       "model_id": "cc598b6cff6d4d9080c3cb6f5189e4f8"
      }
     },
     "metadata": {},
     "output_type": "display_data"
    },
    {
     "name": "stdout",
     "output_type": "stream",
     "text": [
      "Gradient is zero\n"
     ]
    },
    {
     "data": {
      "text/plain": "epochs:   0%|          | 0/999 [00:00<?, ?it/s]",
      "application/vnd.jupyter.widget-view+json": {
       "version_major": 2,
       "version_minor": 0,
       "model_id": "9ec4c44806e44493b1da7c15d8c2db3c"
      }
     },
     "metadata": {},
     "output_type": "display_data"
    },
    {
     "data": {
      "text/plain": "epochs:   0%|          | 0/999 [00:00<?, ?it/s]",
      "application/vnd.jupyter.widget-view+json": {
       "version_major": 2,
       "version_minor": 0,
       "model_id": "60af749504024780945331c8b16d5c17"
      }
     },
     "metadata": {},
     "output_type": "display_data"
    },
    {
     "name": "stdout",
     "output_type": "stream",
     "text": [
      "Gradient is zero\n"
     ]
    },
    {
     "data": {
      "text/plain": "epochs:   0%|          | 0/999 [00:00<?, ?it/s]",
      "application/vnd.jupyter.widget-view+json": {
       "version_major": 2,
       "version_minor": 0,
       "model_id": "82195718a99147ae9f314d9dc61a0ae3"
      }
     },
     "metadata": {},
     "output_type": "display_data"
    },
    {
     "name": "stdout",
     "output_type": "stream",
     "text": [
      "Gradient is zero\n"
     ]
    },
    {
     "data": {
      "text/plain": "epochs:   0%|          | 0/999 [00:00<?, ?it/s]",
      "application/vnd.jupyter.widget-view+json": {
       "version_major": 2,
       "version_minor": 0,
       "model_id": "53d54f3fd38d4a4eafc09a6d325a2914"
      }
     },
     "metadata": {},
     "output_type": "display_data"
    },
    {
     "name": "stdout",
     "output_type": "stream",
     "text": [
      "Gradient is zero\n"
     ]
    },
    {
     "data": {
      "text/plain": "epochs:   0%|          | 0/999 [00:00<?, ?it/s]",
      "application/vnd.jupyter.widget-view+json": {
       "version_major": 2,
       "version_minor": 0,
       "model_id": "0a8e14cefd5a4e79b2fdecc18b1bb4d3"
      }
     },
     "metadata": {},
     "output_type": "display_data"
    },
    {
     "data": {
      "text/plain": "epochs:   0%|          | 0/999 [00:00<?, ?it/s]",
      "application/vnd.jupyter.widget-view+json": {
       "version_major": 2,
       "version_minor": 0,
       "model_id": "b7cc2ce9a557492291f39568609e14e9"
      }
     },
     "metadata": {},
     "output_type": "display_data"
    },
    {
     "name": "stdout",
     "output_type": "stream",
     "text": [
      "Gradient is zero\n"
     ]
    },
    {
     "data": {
      "text/plain": "epochs:   0%|          | 0/999 [00:00<?, ?it/s]",
      "application/vnd.jupyter.widget-view+json": {
       "version_major": 2,
       "version_minor": 0,
       "model_id": "df3695c3a19d4ad78318bfb5a2ab5527"
      }
     },
     "metadata": {},
     "output_type": "display_data"
    },
    {
     "data": {
      "text/plain": "epochs:   0%|          | 0/999 [00:00<?, ?it/s]",
      "application/vnd.jupyter.widget-view+json": {
       "version_major": 2,
       "version_minor": 0,
       "model_id": "00bd46b007c5473f85b2a7c8c7a3c63f"
      }
     },
     "metadata": {},
     "output_type": "display_data"
    },
    {
     "data": {
      "text/plain": "epochs:   0%|          | 0/999 [00:00<?, ?it/s]",
      "application/vnd.jupyter.widget-view+json": {
       "version_major": 2,
       "version_minor": 0,
       "model_id": "e38018680f96451c8196ea34c00dd707"
      }
     },
     "metadata": {},
     "output_type": "display_data"
    },
    {
     "data": {
      "text/plain": "epochs:   0%|          | 0/999 [00:00<?, ?it/s]",
      "application/vnd.jupyter.widget-view+json": {
       "version_major": 2,
       "version_minor": 0,
       "model_id": "27b4d6e6f81f477fb520e11eccadf614"
      }
     },
     "metadata": {},
     "output_type": "display_data"
    },
    {
     "data": {
      "text/plain": "epochs:   0%|          | 0/999 [00:00<?, ?it/s]",
      "application/vnd.jupyter.widget-view+json": {
       "version_major": 2,
       "version_minor": 0,
       "model_id": "3a40f34665db4d458065b4592ba65c0a"
      }
     },
     "metadata": {},
     "output_type": "display_data"
    },
    {
     "data": {
      "text/plain": "epochs:   0%|          | 0/999 [00:00<?, ?it/s]",
      "application/vnd.jupyter.widget-view+json": {
       "version_major": 2,
       "version_minor": 0,
       "model_id": "ae456851af204736ae54e3bd4a8816f8"
      }
     },
     "metadata": {},
     "output_type": "display_data"
    },
    {
     "name": "stdout",
     "output_type": "stream",
     "text": [
      "Gradient is zero\n"
     ]
    },
    {
     "data": {
      "text/plain": "epochs:   0%|          | 0/999 [00:00<?, ?it/s]",
      "application/vnd.jupyter.widget-view+json": {
       "version_major": 2,
       "version_minor": 0,
       "model_id": "be2d0bea5b0a4a58ac28677708cc8370"
      }
     },
     "metadata": {},
     "output_type": "display_data"
    },
    {
     "name": "stdout",
     "output_type": "stream",
     "text": [
      "Gradient is zero\n"
     ]
    },
    {
     "data": {
      "text/plain": "epochs:   0%|          | 0/999 [00:00<?, ?it/s]",
      "application/vnd.jupyter.widget-view+json": {
       "version_major": 2,
       "version_minor": 0,
       "model_id": "3dae3919468845049a0655de403554db"
      }
     },
     "metadata": {},
     "output_type": "display_data"
    },
    {
     "name": "stdout",
     "output_type": "stream",
     "text": [
      "Gradient is zero\n"
     ]
    },
    {
     "data": {
      "text/plain": "epochs:   0%|          | 0/999 [00:00<?, ?it/s]",
      "application/vnd.jupyter.widget-view+json": {
       "version_major": 2,
       "version_minor": 0,
       "model_id": "f4ef0a23cc9b42d28d4cdaefed077447"
      }
     },
     "metadata": {},
     "output_type": "display_data"
    },
    {
     "name": "stdout",
     "output_type": "stream",
     "text": [
      "Gradient is zero\n"
     ]
    },
    {
     "data": {
      "text/plain": "epochs:   0%|          | 0/999 [00:00<?, ?it/s]",
      "application/vnd.jupyter.widget-view+json": {
       "version_major": 2,
       "version_minor": 0,
       "model_id": "9f604ae569654aa6a25c2104e25d0554"
      }
     },
     "metadata": {},
     "output_type": "display_data"
    },
    {
     "name": "stdout",
     "output_type": "stream",
     "text": [
      "Gradient is zero\n"
     ]
    },
    {
     "data": {
      "text/plain": "epochs:   0%|          | 0/999 [00:00<?, ?it/s]",
      "application/vnd.jupyter.widget-view+json": {
       "version_major": 2,
       "version_minor": 0,
       "model_id": "b0a96b06873348a7953794f40b5150a4"
      }
     },
     "metadata": {},
     "output_type": "display_data"
    },
    {
     "name": "stdout",
     "output_type": "stream",
     "text": [
      "Gradient is zero\n"
     ]
    },
    {
     "data": {
      "text/plain": "epochs:   0%|          | 0/999 [00:00<?, ?it/s]",
      "application/vnd.jupyter.widget-view+json": {
       "version_major": 2,
       "version_minor": 0,
       "model_id": "4c6d84d930ff436d8223633290954a14"
      }
     },
     "metadata": {},
     "output_type": "display_data"
    },
    {
     "data": {
      "text/plain": "epochs:   0%|          | 0/999 [00:00<?, ?it/s]",
      "application/vnd.jupyter.widget-view+json": {
       "version_major": 2,
       "version_minor": 0,
       "model_id": "4561164d512c45159e3c1e987aa16868"
      }
     },
     "metadata": {},
     "output_type": "display_data"
    },
    {
     "name": "stdout",
     "output_type": "stream",
     "text": [
      "Gradient is zero\n"
     ]
    },
    {
     "data": {
      "text/plain": "epochs:   0%|          | 0/999 [00:00<?, ?it/s]",
      "application/vnd.jupyter.widget-view+json": {
       "version_major": 2,
       "version_minor": 0,
       "model_id": "8c6d81502544490e80772f807064f006"
      }
     },
     "metadata": {},
     "output_type": "display_data"
    },
    {
     "name": "stdout",
     "output_type": "stream",
     "text": [
      "Gradient is zero\n"
     ]
    },
    {
     "data": {
      "text/plain": "epochs:   0%|          | 0/999 [00:00<?, ?it/s]",
      "application/vnd.jupyter.widget-view+json": {
       "version_major": 2,
       "version_minor": 0,
       "model_id": "c64cd03d6d8b49b59cfa6f5256f9eb0f"
      }
     },
     "metadata": {},
     "output_type": "display_data"
    },
    {
     "data": {
      "text/plain": "epochs:   0%|          | 0/999 [00:00<?, ?it/s]",
      "application/vnd.jupyter.widget-view+json": {
       "version_major": 2,
       "version_minor": 0,
       "model_id": "7761ef4d459d4576a94affbf52d31a96"
      }
     },
     "metadata": {},
     "output_type": "display_data"
    },
    {
     "name": "stdout",
     "output_type": "stream",
     "text": [
      "Gradient is zero\n"
     ]
    },
    {
     "data": {
      "text/plain": "epochs:   0%|          | 0/999 [00:00<?, ?it/s]",
      "application/vnd.jupyter.widget-view+json": {
       "version_major": 2,
       "version_minor": 0,
       "model_id": "76c1f67a99ce4dcdbe02218c93c1c779"
      }
     },
     "metadata": {},
     "output_type": "display_data"
    },
    {
     "name": "stdout",
     "output_type": "stream",
     "text": [
      "Gradient is zero\n"
     ]
    },
    {
     "data": {
      "text/plain": "epochs:   0%|          | 0/999 [00:00<?, ?it/s]",
      "application/vnd.jupyter.widget-view+json": {
       "version_major": 2,
       "version_minor": 0,
       "model_id": "d0f66ea995b84d148a8b05587cfb523d"
      }
     },
     "metadata": {},
     "output_type": "display_data"
    },
    {
     "name": "stdout",
     "output_type": "stream",
     "text": [
      "Gradient is zero\n"
     ]
    },
    {
     "data": {
      "text/plain": "epochs:   0%|          | 0/999 [00:00<?, ?it/s]",
      "application/vnd.jupyter.widget-view+json": {
       "version_major": 2,
       "version_minor": 0,
       "model_id": "5e1d0fabdf83427d8365132f4cd4c7f9"
      }
     },
     "metadata": {},
     "output_type": "display_data"
    },
    {
     "name": "stdout",
     "output_type": "stream",
     "text": [
      "Gradient is zero\n"
     ]
    },
    {
     "data": {
      "text/plain": "epochs:   0%|          | 0/999 [00:00<?, ?it/s]",
      "application/vnd.jupyter.widget-view+json": {
       "version_major": 2,
       "version_minor": 0,
       "model_id": "ee85a7686f6b4c13bac2a8ad07f73987"
      }
     },
     "metadata": {},
     "output_type": "display_data"
    },
    {
     "name": "stdout",
     "output_type": "stream",
     "text": [
      "Gradient is zero\n"
     ]
    },
    {
     "data": {
      "text/plain": "epochs:   0%|          | 0/999 [00:00<?, ?it/s]",
      "application/vnd.jupyter.widget-view+json": {
       "version_major": 2,
       "version_minor": 0,
       "model_id": "2a667f4ae52c4e7790fd6f96d7c1cad9"
      }
     },
     "metadata": {},
     "output_type": "display_data"
    },
    {
     "data": {
      "text/plain": "epochs:   0%|          | 0/999 [00:00<?, ?it/s]",
      "application/vnd.jupyter.widget-view+json": {
       "version_major": 2,
       "version_minor": 0,
       "model_id": "c7023115cc104848915ccea7fb6a7ca1"
      }
     },
     "metadata": {},
     "output_type": "display_data"
    },
    {
     "data": {
      "text/plain": "epochs:   0%|          | 0/999 [00:00<?, ?it/s]",
      "application/vnd.jupyter.widget-view+json": {
       "version_major": 2,
       "version_minor": 0,
       "model_id": "894e835373ce4c469fb8a52a068f1f13"
      }
     },
     "metadata": {},
     "output_type": "display_data"
    },
    {
     "data": {
      "text/plain": "epochs:   0%|          | 0/999 [00:00<?, ?it/s]",
      "application/vnd.jupyter.widget-view+json": {
       "version_major": 2,
       "version_minor": 0,
       "model_id": "245ddd47fb4442b3a3813af658e91215"
      }
     },
     "metadata": {},
     "output_type": "display_data"
    },
    {
     "name": "stdout",
     "output_type": "stream",
     "text": [
      "Gradient is zero\n"
     ]
    },
    {
     "data": {
      "text/plain": "epochs:   0%|          | 0/999 [00:00<?, ?it/s]",
      "application/vnd.jupyter.widget-view+json": {
       "version_major": 2,
       "version_minor": 0,
       "model_id": "c8df8060edf34486a81eb1dad9204228"
      }
     },
     "metadata": {},
     "output_type": "display_data"
    },
    {
     "name": "stdout",
     "output_type": "stream",
     "text": [
      "Gradient is zero\n"
     ]
    },
    {
     "data": {
      "text/plain": "epochs:   0%|          | 0/999 [00:00<?, ?it/s]",
      "application/vnd.jupyter.widget-view+json": {
       "version_major": 2,
       "version_minor": 0,
       "model_id": "7cfaf1f87afe47c9b86c1e069a116e43"
      }
     },
     "metadata": {},
     "output_type": "display_data"
    },
    {
     "data": {
      "text/plain": "epochs:   0%|          | 0/999 [00:00<?, ?it/s]",
      "application/vnd.jupyter.widget-view+json": {
       "version_major": 2,
       "version_minor": 0,
       "model_id": "6563237638854dae829f71aea9cf54bb"
      }
     },
     "metadata": {},
     "output_type": "display_data"
    },
    {
     "name": "stdout",
     "output_type": "stream",
     "text": [
      "Gradient is zero\n"
     ]
    },
    {
     "data": {
      "text/plain": "epochs:   0%|          | 0/999 [00:00<?, ?it/s]",
      "application/vnd.jupyter.widget-view+json": {
       "version_major": 2,
       "version_minor": 0,
       "model_id": "ea4799be76694470b113cbd824a888c7"
      }
     },
     "metadata": {},
     "output_type": "display_data"
    },
    {
     "data": {
      "text/plain": "epochs:   0%|          | 0/999 [00:00<?, ?it/s]",
      "application/vnd.jupyter.widget-view+json": {
       "version_major": 2,
       "version_minor": 0,
       "model_id": "8938952d6bd24773a266d17a7bf891a3"
      }
     },
     "metadata": {},
     "output_type": "display_data"
    },
    {
     "data": {
      "text/plain": "epochs:   0%|          | 0/999 [00:00<?, ?it/s]",
      "application/vnd.jupyter.widget-view+json": {
       "version_major": 2,
       "version_minor": 0,
       "model_id": "c830c38dd71d4da89292503af2a2eea2"
      }
     },
     "metadata": {},
     "output_type": "display_data"
    },
    {
     "data": {
      "text/plain": "epochs:   0%|          | 0/999 [00:00<?, ?it/s]",
      "application/vnd.jupyter.widget-view+json": {
       "version_major": 2,
       "version_minor": 0,
       "model_id": "fad095454f654401b66982c44d048ab1"
      }
     },
     "metadata": {},
     "output_type": "display_data"
    },
    {
     "data": {
      "text/plain": "epochs:   0%|          | 0/999 [00:00<?, ?it/s]",
      "application/vnd.jupyter.widget-view+json": {
       "version_major": 2,
       "version_minor": 0,
       "model_id": "08523176b63a47e5a0eb9cc68ac52796"
      }
     },
     "metadata": {},
     "output_type": "display_data"
    },
    {
     "name": "stdout",
     "output_type": "stream",
     "text": [
      "Gradient is zero\n"
     ]
    },
    {
     "data": {
      "text/plain": "epochs:   0%|          | 0/999 [00:00<?, ?it/s]",
      "application/vnd.jupyter.widget-view+json": {
       "version_major": 2,
       "version_minor": 0,
       "model_id": "dece759bc08e4533adb47b6ed7a04fa1"
      }
     },
     "metadata": {},
     "output_type": "display_data"
    },
    {
     "name": "stdout",
     "output_type": "stream",
     "text": [
      "Gradient is zero\n"
     ]
    },
    {
     "data": {
      "text/plain": "epochs:   0%|          | 0/999 [00:00<?, ?it/s]",
      "application/vnd.jupyter.widget-view+json": {
       "version_major": 2,
       "version_minor": 0,
       "model_id": "0b710217f38d4eb78206188fcbb2e6b0"
      }
     },
     "metadata": {},
     "output_type": "display_data"
    },
    {
     "data": {
      "text/plain": "epochs:   0%|          | 0/999 [00:00<?, ?it/s]",
      "application/vnd.jupyter.widget-view+json": {
       "version_major": 2,
       "version_minor": 0,
       "model_id": "0a322529b07a4e48a72b6c48402d4f3d"
      }
     },
     "metadata": {},
     "output_type": "display_data"
    },
    {
     "data": {
      "text/plain": "epochs:   0%|          | 0/999 [00:00<?, ?it/s]",
      "application/vnd.jupyter.widget-view+json": {
       "version_major": 2,
       "version_minor": 0,
       "model_id": "599d0bf350684295b1b0491133d9d07d"
      }
     },
     "metadata": {},
     "output_type": "display_data"
    },
    {
     "name": "stdout",
     "output_type": "stream",
     "text": [
      "Gradient is zero\n"
     ]
    },
    {
     "data": {
      "text/plain": "epochs:   0%|          | 0/999 [00:00<?, ?it/s]",
      "application/vnd.jupyter.widget-view+json": {
       "version_major": 2,
       "version_minor": 0,
       "model_id": "07a96cce3f0149b58015bc3b367c7085"
      }
     },
     "metadata": {},
     "output_type": "display_data"
    },
    {
     "data": {
      "text/plain": "epochs:   0%|          | 0/999 [00:00<?, ?it/s]",
      "application/vnd.jupyter.widget-view+json": {
       "version_major": 2,
       "version_minor": 0,
       "model_id": "fbf81f9c700546a5941047d8fb50dbff"
      }
     },
     "metadata": {},
     "output_type": "display_data"
    },
    {
     "name": "stdout",
     "output_type": "stream",
     "text": [
      "Gradient is zero\n"
     ]
    },
    {
     "data": {
      "text/plain": "epochs:   0%|          | 0/999 [00:00<?, ?it/s]",
      "application/vnd.jupyter.widget-view+json": {
       "version_major": 2,
       "version_minor": 0,
       "model_id": "7a563682189e497fb576aaf9086be193"
      }
     },
     "metadata": {},
     "output_type": "display_data"
    },
    {
     "data": {
      "text/plain": "epochs:   0%|          | 0/999 [00:00<?, ?it/s]",
      "application/vnd.jupyter.widget-view+json": {
       "version_major": 2,
       "version_minor": 0,
       "model_id": "176f594da8234ab8b0a34f94b3722884"
      }
     },
     "metadata": {},
     "output_type": "display_data"
    },
    {
     "data": {
      "text/plain": "epochs:   0%|          | 0/999 [00:00<?, ?it/s]",
      "application/vnd.jupyter.widget-view+json": {
       "version_major": 2,
       "version_minor": 0,
       "model_id": "5126d94396704c81b0f4851330b3636b"
      }
     },
     "metadata": {},
     "output_type": "display_data"
    },
    {
     "data": {
      "text/plain": "epochs:   0%|          | 0/999 [00:00<?, ?it/s]",
      "application/vnd.jupyter.widget-view+json": {
       "version_major": 2,
       "version_minor": 0,
       "model_id": "278d7307e1264f61a01b1ad349bccfdf"
      }
     },
     "metadata": {},
     "output_type": "display_data"
    },
    {
     "data": {
      "text/plain": "epochs:   0%|          | 0/999 [00:00<?, ?it/s]",
      "application/vnd.jupyter.widget-view+json": {
       "version_major": 2,
       "version_minor": 0,
       "model_id": "89281247390e400597e0436138f8f135"
      }
     },
     "metadata": {},
     "output_type": "display_data"
    },
    {
     "data": {
      "text/plain": "epochs:   0%|          | 0/999 [00:00<?, ?it/s]",
      "application/vnd.jupyter.widget-view+json": {
       "version_major": 2,
       "version_minor": 0,
       "model_id": "47ed5eb29327428d8d6b0af6c152e1e1"
      }
     },
     "metadata": {},
     "output_type": "display_data"
    },
    {
     "name": "stdout",
     "output_type": "stream",
     "text": [
      "Gradient is zero\n"
     ]
    },
    {
     "data": {
      "text/plain": "epochs:   0%|          | 0/999 [00:00<?, ?it/s]",
      "application/vnd.jupyter.widget-view+json": {
       "version_major": 2,
       "version_minor": 0,
       "model_id": "cd9fe40d4bb34756a6897f832a67928b"
      }
     },
     "metadata": {},
     "output_type": "display_data"
    },
    {
     "name": "stdout",
     "output_type": "stream",
     "text": [
      "Gradient is zero\n"
     ]
    },
    {
     "data": {
      "text/plain": "epochs:   0%|          | 0/999 [00:00<?, ?it/s]",
      "application/vnd.jupyter.widget-view+json": {
       "version_major": 2,
       "version_minor": 0,
       "model_id": "711e521fe7144b12943772e43c37d5cf"
      }
     },
     "metadata": {},
     "output_type": "display_data"
    },
    {
     "data": {
      "text/plain": "epochs:   0%|          | 0/999 [00:00<?, ?it/s]",
      "application/vnd.jupyter.widget-view+json": {
       "version_major": 2,
       "version_minor": 0,
       "model_id": "27a0beab54434a74b6a80b061b6ebddd"
      }
     },
     "metadata": {},
     "output_type": "display_data"
    },
    {
     "data": {
      "text/plain": "epochs:   0%|          | 0/999 [00:00<?, ?it/s]",
      "application/vnd.jupyter.widget-view+json": {
       "version_major": 2,
       "version_minor": 0,
       "model_id": "b909be6519054232b7988fb552653c02"
      }
     },
     "metadata": {},
     "output_type": "display_data"
    },
    {
     "data": {
      "text/plain": "epochs:   0%|          | 0/999 [00:00<?, ?it/s]",
      "application/vnd.jupyter.widget-view+json": {
       "version_major": 2,
       "version_minor": 0,
       "model_id": "3d8e71cfdd4b44feb70a8d73c51acefb"
      }
     },
     "metadata": {},
     "output_type": "display_data"
    },
    {
     "name": "stdout",
     "output_type": "stream",
     "text": [
      "Gradient is zero\n"
     ]
    },
    {
     "data": {
      "text/plain": "epochs:   0%|          | 0/999 [00:00<?, ?it/s]",
      "application/vnd.jupyter.widget-view+json": {
       "version_major": 2,
       "version_minor": 0,
       "model_id": "851370b3270f4078ada829185fe7ba04"
      }
     },
     "metadata": {},
     "output_type": "display_data"
    },
    {
     "data": {
      "text/plain": "epochs:   0%|          | 0/999 [00:00<?, ?it/s]",
      "application/vnd.jupyter.widget-view+json": {
       "version_major": 2,
       "version_minor": 0,
       "model_id": "3e60a82f34bb4d4db4a81b39b2511640"
      }
     },
     "metadata": {},
     "output_type": "display_data"
    },
    {
     "data": {
      "text/plain": "epochs:   0%|          | 0/999 [00:00<?, ?it/s]",
      "application/vnd.jupyter.widget-view+json": {
       "version_major": 2,
       "version_minor": 0,
       "model_id": "be530f154081411bbbcaeec9a36f12df"
      }
     },
     "metadata": {},
     "output_type": "display_data"
    },
    {
     "name": "stdout",
     "output_type": "stream",
     "text": [
      "Gradient is zero\n"
     ]
    },
    {
     "data": {
      "text/plain": "epochs:   0%|          | 0/999 [00:00<?, ?it/s]",
      "application/vnd.jupyter.widget-view+json": {
       "version_major": 2,
       "version_minor": 0,
       "model_id": "b7e8ca53106d4cc5b052815a8060f164"
      }
     },
     "metadata": {},
     "output_type": "display_data"
    },
    {
     "data": {
      "text/plain": "epochs:   0%|          | 0/999 [00:00<?, ?it/s]",
      "application/vnd.jupyter.widget-view+json": {
       "version_major": 2,
       "version_minor": 0,
       "model_id": "36db280e6e1744dc93f75610ec688306"
      }
     },
     "metadata": {},
     "output_type": "display_data"
    },
    {
     "name": "stdout",
     "output_type": "stream",
     "text": [
      "Gradient is zero\n"
     ]
    },
    {
     "data": {
      "text/plain": "epochs:   0%|          | 0/999 [00:00<?, ?it/s]",
      "application/vnd.jupyter.widget-view+json": {
       "version_major": 2,
       "version_minor": 0,
       "model_id": "3c85abae9e1a4219b597fb8bd182639f"
      }
     },
     "metadata": {},
     "output_type": "display_data"
    },
    {
     "data": {
      "text/plain": "epochs:   0%|          | 0/999 [00:00<?, ?it/s]",
      "application/vnd.jupyter.widget-view+json": {
       "version_major": 2,
       "version_minor": 0,
       "model_id": "c626a7c424954e37b696c142d060e026"
      }
     },
     "metadata": {},
     "output_type": "display_data"
    },
    {
     "data": {
      "text/plain": "epochs:   0%|          | 0/999 [00:00<?, ?it/s]",
      "application/vnd.jupyter.widget-view+json": {
       "version_major": 2,
       "version_minor": 0,
       "model_id": "624645fdb45246a8a4fc1160d5e50759"
      }
     },
     "metadata": {},
     "output_type": "display_data"
    },
    {
     "data": {
      "text/plain": "epochs:   0%|          | 0/999 [00:00<?, ?it/s]",
      "application/vnd.jupyter.widget-view+json": {
       "version_major": 2,
       "version_minor": 0,
       "model_id": "46c2b446b8424e7bbe3bc25b51478646"
      }
     },
     "metadata": {},
     "output_type": "display_data"
    },
    {
     "data": {
      "text/plain": "epochs:   0%|          | 0/999 [00:00<?, ?it/s]",
      "application/vnd.jupyter.widget-view+json": {
       "version_major": 2,
       "version_minor": 0,
       "model_id": "c01c0a45fe1248cbb368b991ce8b0d03"
      }
     },
     "metadata": {},
     "output_type": "display_data"
    },
    {
     "name": "stdout",
     "output_type": "stream",
     "text": [
      "Gradient is zero\n"
     ]
    },
    {
     "data": {
      "text/plain": "epochs:   0%|          | 0/999 [00:00<?, ?it/s]",
      "application/vnd.jupyter.widget-view+json": {
       "version_major": 2,
       "version_minor": 0,
       "model_id": "4bcb7661ef8e4d9486c5a97a87643b69"
      }
     },
     "metadata": {},
     "output_type": "display_data"
    },
    {
     "name": "stdout",
     "output_type": "stream",
     "text": [
      "Gradient is zero\n"
     ]
    },
    {
     "data": {
      "text/plain": "epochs:   0%|          | 0/999 [00:00<?, ?it/s]",
      "application/vnd.jupyter.widget-view+json": {
       "version_major": 2,
       "version_minor": 0,
       "model_id": "cc1c21985c934eeb81250ea7d94fc823"
      }
     },
     "metadata": {},
     "output_type": "display_data"
    },
    {
     "name": "stdout",
     "output_type": "stream",
     "text": [
      "Gradient is zero\n"
     ]
    },
    {
     "data": {
      "text/plain": "epochs:   0%|          | 0/999 [00:00<?, ?it/s]",
      "application/vnd.jupyter.widget-view+json": {
       "version_major": 2,
       "version_minor": 0,
       "model_id": "cdc2d61018d04ef095a7dd415e9f5ea3"
      }
     },
     "metadata": {},
     "output_type": "display_data"
    },
    {
     "data": {
      "text/plain": "epochs:   0%|          | 0/999 [00:00<?, ?it/s]",
      "application/vnd.jupyter.widget-view+json": {
       "version_major": 2,
       "version_minor": 0,
       "model_id": "6dc8896988be430e8f795e2d0137d1ab"
      }
     },
     "metadata": {},
     "output_type": "display_data"
    },
    {
     "data": {
      "text/plain": "epochs:   0%|          | 0/999 [00:00<?, ?it/s]",
      "application/vnd.jupyter.widget-view+json": {
       "version_major": 2,
       "version_minor": 0,
       "model_id": "572e2ed3ae9f4710b77e8fdbfa963036"
      }
     },
     "metadata": {},
     "output_type": "display_data"
    },
    {
     "name": "stdout",
     "output_type": "stream",
     "text": [
      "Gradient is zero\n"
     ]
    },
    {
     "data": {
      "text/plain": "epochs:   0%|          | 0/999 [00:00<?, ?it/s]",
      "application/vnd.jupyter.widget-view+json": {
       "version_major": 2,
       "version_minor": 0,
       "model_id": "cb682dedc3224c8dac9e947631adcf6d"
      }
     },
     "metadata": {},
     "output_type": "display_data"
    },
    {
     "data": {
      "text/plain": "epochs:   0%|          | 0/999 [00:00<?, ?it/s]",
      "application/vnd.jupyter.widget-view+json": {
       "version_major": 2,
       "version_minor": 0,
       "model_id": "321af3630cce432d922bb77072a0117c"
      }
     },
     "metadata": {},
     "output_type": "display_data"
    },
    {
     "name": "stdout",
     "output_type": "stream",
     "text": [
      "Gradient is zero\n"
     ]
    },
    {
     "data": {
      "text/plain": "epochs:   0%|          | 0/999 [00:00<?, ?it/s]",
      "application/vnd.jupyter.widget-view+json": {
       "version_major": 2,
       "version_minor": 0,
       "model_id": "1b364090d11243659e1f38169a658026"
      }
     },
     "metadata": {},
     "output_type": "display_data"
    },
    {
     "name": "stdout",
     "output_type": "stream",
     "text": [
      "Gradient is zero\n"
     ]
    },
    {
     "data": {
      "text/plain": "epochs:   0%|          | 0/999 [00:00<?, ?it/s]",
      "application/vnd.jupyter.widget-view+json": {
       "version_major": 2,
       "version_minor": 0,
       "model_id": "1ed3542a684d40b0be05f21c063f81c5"
      }
     },
     "metadata": {},
     "output_type": "display_data"
    },
    {
     "data": {
      "text/plain": "epochs:   0%|          | 0/999 [00:00<?, ?it/s]",
      "application/vnd.jupyter.widget-view+json": {
       "version_major": 2,
       "version_minor": 0,
       "model_id": "680adcd619fb467eab75473b4e04bc88"
      }
     },
     "metadata": {},
     "output_type": "display_data"
    },
    {
     "data": {
      "text/plain": "epochs:   0%|          | 0/999 [00:00<?, ?it/s]",
      "application/vnd.jupyter.widget-view+json": {
       "version_major": 2,
       "version_minor": 0,
       "model_id": "99109e78e9924142bafd7ca5ea612d99"
      }
     },
     "metadata": {},
     "output_type": "display_data"
    },
    {
     "data": {
      "text/plain": "epochs:   0%|          | 0/999 [00:00<?, ?it/s]",
      "application/vnd.jupyter.widget-view+json": {
       "version_major": 2,
       "version_minor": 0,
       "model_id": "d911ca9446854848bba795c4fe5b88ca"
      }
     },
     "metadata": {},
     "output_type": "display_data"
    },
    {
     "data": {
      "text/plain": "epochs:   0%|          | 0/999 [00:00<?, ?it/s]",
      "application/vnd.jupyter.widget-view+json": {
       "version_major": 2,
       "version_minor": 0,
       "model_id": "67d5353a9dfc49bdb7926ab0d594e0df"
      }
     },
     "metadata": {},
     "output_type": "display_data"
    },
    {
     "data": {
      "text/plain": "epochs:   0%|          | 0/999 [00:00<?, ?it/s]",
      "application/vnd.jupyter.widget-view+json": {
       "version_major": 2,
       "version_minor": 0,
       "model_id": "09b0dfd7131b4788a800ca5a75e6fa9a"
      }
     },
     "metadata": {},
     "output_type": "display_data"
    },
    {
     "data": {
      "text/plain": "epochs:   0%|          | 0/999 [00:00<?, ?it/s]",
      "application/vnd.jupyter.widget-view+json": {
       "version_major": 2,
       "version_minor": 0,
       "model_id": "97ba0e412d0d46e685e22aad58ec8dc9"
      }
     },
     "metadata": {},
     "output_type": "display_data"
    },
    {
     "name": "stdout",
     "output_type": "stream",
     "text": [
      "Gradient is zero\n"
     ]
    },
    {
     "data": {
      "text/plain": "epochs:   0%|          | 0/999 [00:00<?, ?it/s]",
      "application/vnd.jupyter.widget-view+json": {
       "version_major": 2,
       "version_minor": 0,
       "model_id": "5fca2ef695b74abb9a2fa8afa2479f1a"
      }
     },
     "metadata": {},
     "output_type": "display_data"
    },
    {
     "data": {
      "text/plain": "epochs:   0%|          | 0/999 [00:00<?, ?it/s]",
      "application/vnd.jupyter.widget-view+json": {
       "version_major": 2,
       "version_minor": 0,
       "model_id": "c52ce64e63a3414e988d9ebc728b31bf"
      }
     },
     "metadata": {},
     "output_type": "display_data"
    },
    {
     "name": "stdout",
     "output_type": "stream",
     "text": [
      "Gradient is zero\n"
     ]
    },
    {
     "data": {
      "text/plain": "epochs:   0%|          | 0/999 [00:00<?, ?it/s]",
      "application/vnd.jupyter.widget-view+json": {
       "version_major": 2,
       "version_minor": 0,
       "model_id": "b4916d8b475d48419384562754ce7ebc"
      }
     },
     "metadata": {},
     "output_type": "display_data"
    },
    {
     "data": {
      "text/plain": "epochs:   0%|          | 0/999 [00:00<?, ?it/s]",
      "application/vnd.jupyter.widget-view+json": {
       "version_major": 2,
       "version_minor": 0,
       "model_id": "e5c12f40dc674b78aba78f6462b96722"
      }
     },
     "metadata": {},
     "output_type": "display_data"
    },
    {
     "data": {
      "text/plain": "epochs:   0%|          | 0/999 [00:00<?, ?it/s]",
      "application/vnd.jupyter.widget-view+json": {
       "version_major": 2,
       "version_minor": 0,
       "model_id": "8335ef72b5964461a51e1ff6b5b514ad"
      }
     },
     "metadata": {},
     "output_type": "display_data"
    },
    {
     "data": {
      "text/plain": "epochs:   0%|          | 0/999 [00:00<?, ?it/s]",
      "application/vnd.jupyter.widget-view+json": {
       "version_major": 2,
       "version_minor": 0,
       "model_id": "dd70d8133262405fbb82b3142af6ad12"
      }
     },
     "metadata": {},
     "output_type": "display_data"
    },
    {
     "name": "stdout",
     "output_type": "stream",
     "text": [
      "Gradient is zero\n"
     ]
    },
    {
     "data": {
      "text/plain": "epochs:   0%|          | 0/999 [00:00<?, ?it/s]",
      "application/vnd.jupyter.widget-view+json": {
       "version_major": 2,
       "version_minor": 0,
       "model_id": "01aab8db752342b1a46964998e1b2837"
      }
     },
     "metadata": {},
     "output_type": "display_data"
    },
    {
     "data": {
      "text/plain": "epochs:   0%|          | 0/999 [00:00<?, ?it/s]",
      "application/vnd.jupyter.widget-view+json": {
       "version_major": 2,
       "version_minor": 0,
       "model_id": "41492b4d3ab64665bcdaef02aa3aff17"
      }
     },
     "metadata": {},
     "output_type": "display_data"
    },
    {
     "name": "stdout",
     "output_type": "stream",
     "text": [
      "Gradient is zero\n"
     ]
    },
    {
     "data": {
      "text/plain": "epochs:   0%|          | 0/999 [00:00<?, ?it/s]",
      "application/vnd.jupyter.widget-view+json": {
       "version_major": 2,
       "version_minor": 0,
       "model_id": "67152c9360994693b5f0c24e6e7fd106"
      }
     },
     "metadata": {},
     "output_type": "display_data"
    },
    {
     "name": "stdout",
     "output_type": "stream",
     "text": [
      "Gradient is zero\n"
     ]
    },
    {
     "data": {
      "text/plain": "epochs:   0%|          | 0/999 [00:00<?, ?it/s]",
      "application/vnd.jupyter.widget-view+json": {
       "version_major": 2,
       "version_minor": 0,
       "model_id": "897a608e629541d79ba523355dd51a02"
      }
     },
     "metadata": {},
     "output_type": "display_data"
    },
    {
     "data": {
      "text/plain": "epochs:   0%|          | 0/999 [00:00<?, ?it/s]",
      "application/vnd.jupyter.widget-view+json": {
       "version_major": 2,
       "version_minor": 0,
       "model_id": "8400aa9e9f224856ad66a6b05e29947c"
      }
     },
     "metadata": {},
     "output_type": "display_data"
    },
    {
     "name": "stdout",
     "output_type": "stream",
     "text": [
      "Gradient is zero\n"
     ]
    },
    {
     "data": {
      "text/plain": "epochs:   0%|          | 0/999 [00:00<?, ?it/s]",
      "application/vnd.jupyter.widget-view+json": {
       "version_major": 2,
       "version_minor": 0,
       "model_id": "0ea69d9557334b40abd67b7b425f99ed"
      }
     },
     "metadata": {},
     "output_type": "display_data"
    },
    {
     "name": "stdout",
     "output_type": "stream",
     "text": [
      "Gradient is zero\n"
     ]
    },
    {
     "data": {
      "text/plain": "epochs:   0%|          | 0/999 [00:00<?, ?it/s]",
      "application/vnd.jupyter.widget-view+json": {
       "version_major": 2,
       "version_minor": 0,
       "model_id": "7db2ba1d84164e75b9b4e0c6cbfccd80"
      }
     },
     "metadata": {},
     "output_type": "display_data"
    }
   ],
   "source": [
    "from tqdm.auto import tqdm\n",
    "\n",
    "plot = False\n",
    "#[['F0_cautious_behaviour'],['F1_perception_advice'] ,['F2_applicability_usefullness_advice'] , ['F3_behaviour_others'],['F4_consequence_advice']]\n",
    "#[['google_workplaces'], ['google_residential'], ['google_transit']]\n",
    "#[None]\n",
    "factor_info = dict()\n",
    "for factor in tqdm([['google_workplaces'], ['google_residential'], ['google_transit']], desc=f'Factors', leave=True):\n",
    "\n",
    "    #torch.manual_seed(42)\n",
    "    _input_data = get_model_input(start=start_time, end=test_end_time, split_date=end_time, path='data/modeling/mobility_data_denmark.csv', rolling_avg=7, input_data_cols=factor)\n",
    "    input_data = _input_data[0]\n",
    "\n",
    "    test_input_data = np.concatenate((_input_data[0], _input_data[1]), axis=0)\n",
    "\n",
    "    input_data_size = input_data.shape[1]\n",
    "\n",
    "\n",
    "    meta_epoch_params = {}\n",
    "    loss_development = {}\n",
    "    meta_epoch_pred = {}\n",
    "    meta_epoch_pred_test = {}\n",
    "    meta_epoch_test_mse = {}\n",
    "\n",
    "    for meta_epoch in tqdm(range(100), desc=f'Meta Epochs', leave=False):\n",
    "        #method = NN(device=device, dtype=dtype, input_size=input_data_size)\n",
    "        method = Linear(device=device, dtype=dtype, input_size=input_data_size)\n",
    "\n",
    "        dict_param = initialize_parameter(['alpha', 'phi'], device, dtype)\n",
    "\n",
    "        params_to_be_optimized = method.get_parameters() + [dict_param['prime_values']['phi'], dict_param['prime_values']['alpha']]\n",
    "        optimizer = optim.Adam(params_to_be_optimized, lr=0.01)\n",
    "\n",
    "        loss_development[meta_epoch] = []\n",
    "\n",
    "        if plot:\n",
    "            with torch.no_grad():\n",
    "                print(f'{factor} Before Optimization')\n",
    "                print(f'Metha epoch: {meta_epoch}\\n'\n",
    "                      f'Linear Factors: {method.get_parameters()[0].detach().numpy()}\\n',\n",
    "                      f'Bias: {method.get_parameters()[1].detach().numpy()}\\n',\n",
    "                      f'Alpha: {dict_param[\"real_values\"][\"alpha\"]}\\n',\n",
    "                      f'Phi: {dict_param[\"real_values\"][\"phi\"]}\\n')\n",
    "\n",
    "        for i in tqdm(range(1, 1000), desc='epochs', leave=False):\n",
    "            iteration_time = time.time()\n",
    "            optimizer.zero_grad()\n",
    "\n",
    "            # transform alphi, phi\n",
    "            dict_param = transform_prime_variables(dict_param)\n",
    "\n",
    "            # forward pass\n",
    "            expected = epid_model(R=method.calculate_R(input_data), initial_newly_infected = initial_newly_infected, alpha=dict_param['real_values']['alpha'], device=device, dtype=dtype)[observation]\n",
    "\n",
    "            # calc loss\n",
    "            comparison_loss_train =  calc_mse(expected, observed_train) * dict_param['real_values']['phi'] #calc_negative_binomnial_loss(expected, observed_train, dict_param['real_values']['phi']) #\n",
    "            method_loss = method.calculate_loss()\n",
    "            model_param_loss = calc_prior_loss(dict_param, device, dtype)\n",
    "            loss = comparison_loss_train + method_loss + model_param_loss\n",
    "\n",
    "            loss_development[meta_epoch].append(loss.item())\n",
    "\n",
    "            # backward pass\n",
    "            loss.backward()\n",
    "            optimizer.step()\n",
    "\n",
    "            with torch.no_grad():\n",
    "                if params_to_be_optimized[1].grad.detach().numpy()[0] == 0:\n",
    "                    print('Gradient is zero')\n",
    "                    break\n",
    "\n",
    "        if params_to_be_optimized[1].grad.detach().numpy()[0] == 0:\n",
    "            del loss_development[meta_epoch]\n",
    "            continue\n",
    "        else:\n",
    "            with torch.no_grad():\n",
    "                expected_test = epid_model(R=method.calculate_R(test_input_data), initial_newly_infected = initial_newly_infected, alpha=dict_param['real_values']['alpha'], device=device, dtype=dtype)[observation]\n",
    "\n",
    "                meta_epoch_params[meta_epoch] = {'lin_params': method.get_parameters(),'loss': loss,'alpha': dict_param[\"real_values\"][\"alpha\"].detach().numpy(),'phi': dict_param[\"real_values\"][\"phi\"].detach().numpy()}\n",
    "\n",
    "                meta_epoch_pred[meta_epoch] = expected.cpu().detach().numpy()\n",
    "                meta_epoch_pred_test[meta_epoch] = expected_test.cpu().detach().numpy()\n",
    "                test_size = _input_data[1].shape[0]\n",
    "                meta_epoch_test_mse[meta_epoch] = mean_squared_error(expected_test.cpu().detach().numpy()[-test_size:], observed_train_test[-test_size:].reset_index(drop=True))\n",
    "\n",
    "                if plot:\n",
    "                    print('normal')\n",
    "                    plt.plot(expected_test.cpu().detach().numpy())\n",
    "                    plt.plot(observed_train_test)\n",
    "                    plt.show()\n",
    "\n",
    "                    print('tail')\n",
    "                    plt.plot(expected_test.cpu().detach().numpy()[-test_size:])\n",
    "                    plt.plot(observed_train_test[-test_size:].reset_index(drop=True))\n",
    "                    plt.show()\n",
    "\n",
    "\n",
    "\n",
    "\n",
    "\n",
    "        if plot:\n",
    "            with torch.no_grad():\n",
    "\n",
    "                meta_epoch_params[meta_epoch] = (method.get_parameters(), loss, dict_param[\"real_values\"][\"alpha\"].detach().numpy(), dict_param[\"real_values\"][\"phi\"].detach().numpy())\n",
    "                print('After Optimization')\n",
    "                print(f'Metha epoch: {meta_epoch}\\n'\n",
    "                      f'Linear Factors: {method.get_parameters()[0].detach().numpy()}\\n',\n",
    "                      f'Bias: {method.get_parameters()[1].detach().numpy()}\\n',\n",
    "                      f'Alpha: {dict_param[\"real_values\"][\"alpha\"]}\\n',\n",
    "                      f'Phi: {dict_param[\"real_values\"][\"phi\"]}')\n",
    "\n",
    "\n",
    "                plt.plot(df_obs['Date'], expected.cpu().detach().numpy(), label='predicted')\n",
    "                plt.plot(df_obs['Date'], observed_train.cpu().detach().numpy(), label='observed')\n",
    "                plt.legend()\n",
    "                plt.show()\n",
    "                plt.plot()\n",
    "\n",
    "\n",
    "    factor_info[str(factor)] = {'meta_epoch_params': meta_epoch_params, 'meta_epoch_pred': meta_epoch_pred,'meta_epoch_pred_test': meta_epoch_pred_test, 'loss_development': loss_development, 'meta_epoch_test_mse':meta_epoch_test_mse}\n",
    "\n"
   ],
   "metadata": {
    "collapsed": false
   }
  },
  {
   "cell_type": "code",
   "execution_count": 14,
   "outputs": [],
   "source": [
    "import _pickle as cPickle\n",
    "\n",
    "with open(r\"data/modeling/split_tests/split_test_50_new/linear_mobility50_new.pickle\", \"wb\") as output_file:\n",
    "    cPickle.dump(factor_info, output_file)"
   ],
   "metadata": {
    "collapsed": false
   }
  },
  {
   "cell_type": "code",
   "execution_count": 30,
   "outputs": [
    {
     "name": "stdout",
     "output_type": "stream",
     "text": [
      "['google_workplaces']\n"
     ]
    },
    {
     "data": {
      "text/plain": "<Figure size 432x288 with 1 Axes>",
      "image/png": "[encoded data removed]"
     },
     "metadata": {
      "needs_background": "light"
     },
     "output_type": "display_data"
    },
    {
     "name": "stdout",
     "output_type": "stream",
     "text": [
      "['google_residential']\n"
     ]
    },
    {
     "data": {
      "text/plain": "<Figure size 432x288 with 1 Axes>",
      "image/png": "[encoded data removed]"
     },
     "metadata": {
      "needs_background": "light"
     },
     "output_type": "display_data"
    },
    {
     "name": "stdout",
     "output_type": "stream",
     "text": [
      "['google_transit']\n"
     ]
    },
    {
     "data": {
      "text/plain": "<Figure size 432x288 with 1 Axes>",
      "image/png": "[encoded data removed]"
     },
     "metadata": {
      "needs_background": "light"
     },
     "output_type": "display_data"
    }
   ],
   "source": [
    "for key in factor_info.keys():\n",
    "    print(key)\n",
    "    for i in factor_info[key]['loss_development'].keys():\n",
    "        try:\n",
    "            plt.plot(factor_info[key]['loss_development'][i])\n",
    "        except:\n",
    "            pass\n",
    "    plt.show()"
   ],
   "metadata": {
    "collapsed": false
   }
  },
  {
   "cell_type": "code",
   "execution_count": 31,
   "outputs": [
    {
     "ename": "KeyError",
     "evalue": "0",
     "output_type": "error",
     "traceback": [
      "\u001B[0;31m---------------------------------------------------------------------------\u001B[0m",
      "\u001B[0;31mKeyError\u001B[0m                                  Traceback (most recent call last)",
      "Input \u001B[0;32mIn [31]\u001B[0m, in \u001B[0;36m<cell line: 1>\u001B[0;34m()\u001B[0m\n\u001B[0;32m----> 1\u001B[0m f0 \u001B[38;5;241m=\u001B[39m [meta_epoch_params[i][\u001B[38;5;241m0\u001B[39m][\u001B[38;5;241m0\u001B[39m]\u001B[38;5;241m.\u001B[39mdetach()\u001B[38;5;241m.\u001B[39mnumpy()[\u001B[38;5;241m0\u001B[39m][\u001B[38;5;241m0\u001B[39m] \u001B[38;5;28;01mfor\u001B[39;00m i \u001B[38;5;129;01min\u001B[39;00m meta_epoch_params\u001B[38;5;241m.\u001B[39mkeys()]\n\u001B[1;32m      2\u001B[0m \u001B[38;5;66;03m#f1 = [meta_epoch_params[i][0][0].detach().numpy()[0][1] for i in meta_epoch_params.keys()]\u001B[39;00m\n\u001B[1;32m      3\u001B[0m \u001B[38;5;66;03m#f2 = [meta_epoch_params[i][0][0].detach().numpy()[0][2] for i in meta_epoch_params.keys()]\u001B[39;00m\n\u001B[1;32m      4\u001B[0m \u001B[38;5;66;03m#f3 = [meta_epoch_params[i][0][0].detach().numpy()[0][3] for i in meta_epoch_params.keys()]\u001B[39;00m\n\u001B[1;32m      5\u001B[0m \u001B[38;5;66;03m#f4 = [meta_epoch_params[i][0][0].detach().numpy()[0][4] for i in meta_epoch_params.keys()]\u001B[39;00m\n\u001B[1;32m      6\u001B[0m b \u001B[38;5;241m=\u001B[39m [meta_epoch_params[i][\u001B[38;5;241m0\u001B[39m][\u001B[38;5;241m1\u001B[39m]\u001B[38;5;241m.\u001B[39mdetach()\u001B[38;5;241m.\u001B[39mnumpy()[\u001B[38;5;241m0\u001B[39m] \u001B[38;5;28;01mfor\u001B[39;00m i \u001B[38;5;129;01min\u001B[39;00m meta_epoch_params\u001B[38;5;241m.\u001B[39mkeys()]\n",
      "Input \u001B[0;32mIn [31]\u001B[0m, in \u001B[0;36m<listcomp>\u001B[0;34m(.0)\u001B[0m\n\u001B[0;32m----> 1\u001B[0m f0 \u001B[38;5;241m=\u001B[39m [\u001B[43mmeta_epoch_params\u001B[49m\u001B[43m[\u001B[49m\u001B[43mi\u001B[49m\u001B[43m]\u001B[49m\u001B[43m[\u001B[49m\u001B[38;5;241;43m0\u001B[39;49m\u001B[43m]\u001B[49m[\u001B[38;5;241m0\u001B[39m]\u001B[38;5;241m.\u001B[39mdetach()\u001B[38;5;241m.\u001B[39mnumpy()[\u001B[38;5;241m0\u001B[39m][\u001B[38;5;241m0\u001B[39m] \u001B[38;5;28;01mfor\u001B[39;00m i \u001B[38;5;129;01min\u001B[39;00m meta_epoch_params\u001B[38;5;241m.\u001B[39mkeys()]\n\u001B[1;32m      2\u001B[0m \u001B[38;5;66;03m#f1 = [meta_epoch_params[i][0][0].detach().numpy()[0][1] for i in meta_epoch_params.keys()]\u001B[39;00m\n\u001B[1;32m      3\u001B[0m \u001B[38;5;66;03m#f2 = [meta_epoch_params[i][0][0].detach().numpy()[0][2] for i in meta_epoch_params.keys()]\u001B[39;00m\n\u001B[1;32m      4\u001B[0m \u001B[38;5;66;03m#f3 = [meta_epoch_params[i][0][0].detach().numpy()[0][3] for i in meta_epoch_params.keys()]\u001B[39;00m\n\u001B[1;32m      5\u001B[0m \u001B[38;5;66;03m#f4 = [meta_epoch_params[i][0][0].detach().numpy()[0][4] for i in meta_epoch_params.keys()]\u001B[39;00m\n\u001B[1;32m      6\u001B[0m b \u001B[38;5;241m=\u001B[39m [meta_epoch_params[i][\u001B[38;5;241m0\u001B[39m][\u001B[38;5;241m1\u001B[39m]\u001B[38;5;241m.\u001B[39mdetach()\u001B[38;5;241m.\u001B[39mnumpy()[\u001B[38;5;241m0\u001B[39m] \u001B[38;5;28;01mfor\u001B[39;00m i \u001B[38;5;129;01min\u001B[39;00m meta_epoch_params\u001B[38;5;241m.\u001B[39mkeys()]\n",
      "\u001B[0;31mKeyError\u001B[0m: 0"
     ]
    }
   ],
   "source": [
    "f0 = [meta_epoch_params[i][0][0].detach().numpy()[0][0] for i in meta_epoch_params.keys()]\n",
    "#f1 = [meta_epoch_params[i][0][0].detach().numpy()[0][1] for i in meta_epoch_params.keys()]\n",
    "#f2 = [meta_epoch_params[i][0][0].detach().numpy()[0][2] for i in meta_epoch_params.keys()]\n",
    "#f3 = [meta_epoch_params[i][0][0].detach().numpy()[0][3] for i in meta_epoch_params.keys()]\n",
    "#f4 = [meta_epoch_params[i][0][0].detach().numpy()[0][4] for i in meta_epoch_params.keys()]\n",
    "b = [meta_epoch_params[i][0][1].detach().numpy()[0] for i in meta_epoch_params.keys()]\n",
    "alpha = [meta_epoch_params[i][2] for i in meta_epoch_params.keys()]\n",
    "phi = [meta_epoch_params[i][3] for i in meta_epoch_params.keys()]\n",
    "loss_param = [float(meta_epoch_params[i][1].detach().numpy()) for i in meta_epoch_params.keys()]"
   ],
   "metadata": {
    "collapsed": false
   }
  },
  {
   "cell_type": "code",
   "execution_count": null,
   "outputs": [],
   "source": [
    "params_dist_df = pd.DataFrame({'f0': f0, 'b': b, 'alpha': alpha, 'phi': phi, 'loss': loss_param})#, 'f1': f1, 'f2': f2, 'f3': f3, 'f4': f4"
   ],
   "metadata": {
    "collapsed": false
   }
  },
  {
   "cell_type": "code",
   "execution_count": null,
   "outputs": [],
   "source": [
    "params_dist_df = params_dist_df[params_dist_df['loss']<20000]"
   ],
   "metadata": {
    "collapsed": false
   }
  },
  {
   "cell_type": "code",
   "execution_count": null,
   "outputs": [],
   "source": [
    "params_dist_df.boxplot(column=['f0', 'b'])#, 'f1', 'f2', 'f3', 'f4'\n",
    "plt.show()"
   ],
   "metadata": {
    "collapsed": false
   }
  }
 ],
 "metadata": {
  "colab": {
   "collapsed_sections": [],
   "name": "model_optimization_alldata.ipynb",
   "provenance": []
  },
  "kernelspec": {
   "display_name": "Python 3",
   "name": "python3"
  },
  "language_info": {
   "name": "python"
  }
 },
 "nbformat": 4,
 "nbformat_minor": 0
}
