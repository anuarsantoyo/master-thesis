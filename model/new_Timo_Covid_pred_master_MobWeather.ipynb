{
 "cells": [
  {
   "cell_type": "markdown",
   "metadata": {
    "id": "fhLhxZoQQVpZ"
   },
   "source": [
    "### Initialization"
   ]
  },
  {
   "cell_type": "code",
   "execution_count": null,
   "metadata": {
    "colab": {
     "base_uri": "https://localhost:8080/"
    },
    "id": "-9MuJnXutwd2",
    "outputId": "b21d19ca-103e-4798-ccc3-83301162d5a4"
   },
   "outputs": [
    {
     "name": "stdout",
     "output_type": "stream",
     "text": [
      "Populating the interactive namespace from numpy and matplotlib\n"
     ]
    }
   ],
   "source": [
    "import torch\n",
    "from torch import optim\n",
    "from torch import distributions\n",
    "from torch import nn\n",
    "from torch.utils.data import TensorDataset, DataLoader\n",
    "from sklearn.metrics import mean_absolute_error\n",
    "from sklearn.preprocessing import MinMaxScaler\n",
    "import numpy as np\n",
    "import pandas as pd\n",
    "import matplotlib.pyplot as plt\n",
    "import time\n",
    "import imageio\n",
    "import os\n",
    "%pylab inline"
   ]
  },
  {
   "cell_type": "code",
   "execution_count": null,
   "metadata": {
    "id": "GiRNGF49Ec_k"
   },
   "outputs": [],
   "source": [
    "#torch.autograd.set_detect_anomaly(True) "
   ]
  },
  {
   "cell_type": "code",
   "execution_count": null,
   "metadata": {
    "id": "XigkF94IgfxO"
   },
   "outputs": [],
   "source": [
    "dtype = torch.float32\n",
    "device = torch.device(\"cuda:0\")"
   ]
  },
  {
   "cell_type": "markdown",
   "metadata": {
    "id": "N7r4z_cT8YDX"
   },
   "source": [
    "\n",
    "\n",
    "---\n",
    "\n"
   ]
  },
  {
   "cell_type": "markdown",
   "metadata": {
    "id": "baC7609-Qkpj"
   },
   "source": [
    "## Load Observations, Serial Interaval and Delay Distribution"
   ]
  },
  {
   "cell_type": "markdown",
   "metadata": {
    "id": "Ab4M5geT8bbB"
   },
   "source": [
    "### Load serial_interval and delay_distr"
   ]
  },
  {
   "cell_type": "code",
   "execution_count": null,
   "metadata": {
    "colab": {
     "base_uri": "https://localhost:8080/"
    },
    "id": "A5wj_mslgWYH",
    "outputId": "5a79f285-1ad4-440b-d129-15081c8b58b5"
   },
   "outputs": [
    {
     "data": {
      "text/html": [
       "<div>\n",
       "<style scoped>\n",
       "    .dataframe tbody tr th:only-of-type {\n",
       "        vertical-align: middle;\n",
       "    }\n",
       "\n",
       "    .dataframe tbody tr th {\n",
       "        vertical-align: top;\n",
       "    }\n",
       "\n",
       "    .dataframe thead th {\n",
       "        text-align: right;\n",
       "    }\n",
       "</style>\n",
       "<table border=\"1\" class=\"dataframe\">\n",
       "  <thead>\n",
       "    <tr style=\"text-align: right;\">\n",
       "      <th></th>\n",
       "      <th>date</th>\n",
       "      <th>hospit</th>\n",
       "      <th>serial_interval</th>\n",
       "      <th>delay_distr</th>\n",
       "    </tr>\n",
       "  </thead>\n",
       "  <tbody>\n",
       "    <tr>\n",
       "      <th>0</th>\n",
       "      <td>2020-02-17</td>\n",
       "      <td>0</td>\n",
       "      <td>0.046535</td>\n",
       "      <td>0.013006</td>\n",
       "    </tr>\n",
       "    <tr>\n",
       "      <th>1</th>\n",
       "      <td>2020-02-18</td>\n",
       "      <td>0</td>\n",
       "      <td>0.087065</td>\n",
       "      <td>0.030046</td>\n",
       "    </tr>\n",
       "    <tr>\n",
       "      <th>2</th>\n",
       "      <td>2020-02-19</td>\n",
       "      <td>0</td>\n",
       "      <td>0.112061</td>\n",
       "      <td>0.044674</td>\n",
       "    </tr>\n",
       "    <tr>\n",
       "      <th>3</th>\n",
       "      <td>2020-02-20</td>\n",
       "      <td>0</td>\n",
       "      <td>0.119346</td>\n",
       "      <td>0.055473</td>\n",
       "    </tr>\n",
       "    <tr>\n",
       "      <th>4</th>\n",
       "      <td>2020-02-21</td>\n",
       "      <td>0</td>\n",
       "      <td>0.114540</td>\n",
       "      <td>0.062422</td>\n",
       "    </tr>\n",
       "  </tbody>\n",
       "</table>\n",
       "</div>"
      ],
      "text/plain": [
       "         date  hospit  serial_interval  delay_distr\n",
       "0  2020-02-17       0         0.046535     0.013006\n",
       "1  2020-02-18       0         0.087065     0.030046\n",
       "2  2020-02-19       0         0.112061     0.044674\n",
       "3  2020-02-20       0         0.119346     0.055473\n",
       "4  2020-02-21       0         0.114540     0.062422"
      ]
     },
     "execution_count": 4,
     "metadata": {
      "tags": []
     },
     "output_type": "execute_result"
    }
   ],
   "source": [
    "data = pd.read_csv('covid19model.csv')\n",
    "data.head()"
   ]
  },
  {
   "cell_type": "markdown",
   "metadata": {
    "id": "4TxmOKeZESqB"
   },
   "source": [
    "### Load Observations"
   ]
  },
  {
   "cell_type": "code",
   "execution_count": null,
   "metadata": {
    "colab": {
     "base_uri": "https://localhost:8080/",
     "height": 204
    },
    "id": "RvtPEpqyER4W",
    "outputId": "c00a0c81-cd27-489b-bc7b-8a588fc84c8d"
   },
   "outputs": [
    {
     "data": {
      "text/html": [
       "<div>\n",
       "<style scoped>\n",
       "    .dataframe tbody tr th:only-of-type {\n",
       "        vertical-align: middle;\n",
       "    }\n",
       "\n",
       "    .dataframe tbody tr th {\n",
       "        vertical-align: top;\n",
       "    }\n",
       "\n",
       "    .dataframe thead th {\n",
       "        text-align: right;\n",
       "    }\n",
       "</style>\n",
       "<table border=\"1\" class=\"dataframe\">\n",
       "  <thead>\n",
       "    <tr style=\"text-align: right;\">\n",
       "      <th></th>\n",
       "      <th>Unnamed: 0</th>\n",
       "      <th>Date</th>\n",
       "      <th>Number_of_deaths</th>\n",
       "      <th>Number_of_hospitalizations</th>\n",
       "      <th>NewPositive_pcr</th>\n",
       "      <th>PosPct_pcr</th>\n",
       "      <th>Tested_pcr</th>\n",
       "      <th>NewPositive_antigen</th>\n",
       "      <th>PosPct_antigen</th>\n",
       "      <th>Tested_antigen</th>\n",
       "    </tr>\n",
       "  </thead>\n",
       "  <tbody>\n",
       "    <tr>\n",
       "      <th>0</th>\n",
       "      <td>0</td>\n",
       "      <td>2020-03-11</td>\n",
       "      <td>1</td>\n",
       "      <td>10</td>\n",
       "      <td>207</td>\n",
       "      <td>23.6</td>\n",
       "      <td>882</td>\n",
       "      <td>0</td>\n",
       "      <td>0.0</td>\n",
       "      <td>0</td>\n",
       "    </tr>\n",
       "    <tr>\n",
       "      <th>1</th>\n",
       "      <td>1</td>\n",
       "      <td>2020-03-12</td>\n",
       "      <td>0</td>\n",
       "      <td>18</td>\n",
       "      <td>44</td>\n",
       "      <td>6.6</td>\n",
       "      <td>676</td>\n",
       "      <td>0</td>\n",
       "      <td>0.0</td>\n",
       "      <td>0</td>\n",
       "    </tr>\n",
       "    <tr>\n",
       "      <th>2</th>\n",
       "      <td>2</td>\n",
       "      <td>2020-03-13</td>\n",
       "      <td>0</td>\n",
       "      <td>26</td>\n",
       "      <td>33</td>\n",
       "      <td>4.7</td>\n",
       "      <td>710</td>\n",
       "      <td>0</td>\n",
       "      <td>0.0</td>\n",
       "      <td>0</td>\n",
       "    </tr>\n",
       "    <tr>\n",
       "      <th>3</th>\n",
       "      <td>3</td>\n",
       "      <td>2020-03-14</td>\n",
       "      <td>1</td>\n",
       "      <td>24</td>\n",
       "      <td>37</td>\n",
       "      <td>6.4</td>\n",
       "      <td>583</td>\n",
       "      <td>0</td>\n",
       "      <td>0.0</td>\n",
       "      <td>0</td>\n",
       "    </tr>\n",
       "    <tr>\n",
       "      <th>4</th>\n",
       "      <td>4</td>\n",
       "      <td>2020-03-15</td>\n",
       "      <td>2</td>\n",
       "      <td>33</td>\n",
       "      <td>45</td>\n",
       "      <td>6.2</td>\n",
       "      <td>726</td>\n",
       "      <td>0</td>\n",
       "      <td>0.0</td>\n",
       "      <td>0</td>\n",
       "    </tr>\n",
       "  </tbody>\n",
       "</table>\n",
       "</div>"
      ],
      "text/plain": [
       "   Unnamed: 0        Date  ...  PosPct_antigen  Tested_antigen\n",
       "0           0  2020-03-11  ...             0.0               0\n",
       "1           1  2020-03-12  ...             0.0               0\n",
       "2           2  2020-03-13  ...             0.0               0\n",
       "3           3  2020-03-14  ...             0.0               0\n",
       "4           4  2020-03-15  ...             0.0               0\n",
       "\n",
       "[5 rows x 10 columns]"
      ]
     },
     "execution_count": 5,
     "metadata": {
      "tags": []
     },
     "output_type": "execute_result"
    }
   ],
   "source": [
    "# Load Observations denmark\n",
    "obs_data = pd.read_excel(r'observations.xlsx')\n",
    "obs_data.head()"
   ]
  },
  {
   "cell_type": "code",
   "execution_count": null,
   "metadata": {
    "colab": {
     "base_uri": "https://localhost:8080/",
     "height": 265
    },
    "id": "_irWCbIN8aeh",
    "outputId": "d6d9b897-7454-482e-fe80-8966540f5a49"
   },
   "outputs": [
    {
     "data": {
      "image/png": "[encoded data removed]",
      "text/plain": [
       "<Figure size 432x288 with 1 Axes>"
      ]
     },
     "metadata": {
      "tags": []
     },
     "output_type": "display_data"
    }
   ],
   "source": [
    "Use_Toy_Data = False\n",
    "Use_New_Observations = False\n",
    "if Use_Toy_Data:\n",
    "    toy_data = []\n",
    "    for i in range(num_observations):\n",
    "      val = np.sin(i/5)+1\n",
    "      toy_data.append(val)\n",
    "    observed_daily_hospit = torch.tensor(toy_data, requires_grad=False, device=device, dtype=dtype)\n",
    "\n",
    "elif Use_New_Observations:\n",
    "    observed_daily_hospit = torch.tensor(obs_data.Number_of_hospitalizations, requires_grad=False, device=device, dtype=dtype)\n",
    "\n",
    "else:\n",
    "    observed_daily_hospit = torch.tensor(data.hospit, requires_grad=False, device=device, dtype=dtype)\n",
    "\n",
    "plt.plot(observed_daily_hospit.cpu().detach().numpy(), label='observed_daily_hospit')\n",
    "plt.legend()\n",
    "plt.show()"
   ]
  },
  {
   "cell_type": "code",
   "execution_count": null,
   "metadata": {
    "id": "5Hs83gyT8yjN"
   },
   "outputs": [],
   "source": [
    "cero = torch.tensor(0., requires_grad=False, device=device, dtype=dtype)\n",
    "num_impute = 6\n",
    "num_observations = len(observed_daily_hospit)\n",
    "population = torch.tensor(5793636, requires_grad=False, device=device, dtype=dtype)\n",
    "pi = torch.tensor(data.delay_distr, requires_grad=False, device=device, dtype=dtype)\n",
    "serial_interval = torch.tensor(data.serial_interval, requires_grad=False, device=device, dtype=dtype)"
   ]
  },
  {
   "cell_type": "markdown",
   "metadata": {
    "id": "YpTy8BXat1N0"
   },
   "source": [
    "## Load Model Input Data"
   ]
  },
  {
   "cell_type": "markdown",
   "metadata": {
    "id": "MV8VNUBd8exB"
   },
   "source": [
    "### Load Google Mobility Data"
   ]
  },
  {
   "cell_type": "code",
   "execution_count": null,
   "metadata": {
    "colab": {
     "base_uri": "https://localhost:8080/",
     "height": 309
    },
    "id": "ANhMBBc7b6Xc",
    "outputId": "cb9568bd-d9e7-4f3b-e67b-18d0334eceff"
   },
   "outputs": [
    {
     "data": {
      "text/html": [
       "<div>\n",
       "<style scoped>\n",
       "    .dataframe tbody tr th:only-of-type {\n",
       "        vertical-align: middle;\n",
       "    }\n",
       "\n",
       "    .dataframe tbody tr th {\n",
       "        vertical-align: top;\n",
       "    }\n",
       "\n",
       "    .dataframe thead th {\n",
       "        text-align: right;\n",
       "    }\n",
       "</style>\n",
       "<table border=\"1\" class=\"dataframe\">\n",
       "  <thead>\n",
       "    <tr style=\"text-align: right;\">\n",
       "      <th></th>\n",
       "      <th>date</th>\n",
       "      <th>retail_and_recreation_percent_change_from_baseline</th>\n",
       "      <th>grocery_and_pharmacy_percent_change_from_baseline</th>\n",
       "      <th>parks_percent_change_from_baseline</th>\n",
       "      <th>transit_stations_percent_change_from_baseline</th>\n",
       "      <th>workplaces_percent_change_from_baseline</th>\n",
       "      <th>residential_percent_change_from_baseline</th>\n",
       "    </tr>\n",
       "  </thead>\n",
       "  <tbody>\n",
       "    <tr>\n",
       "      <th>0</th>\n",
       "      <td>2020-02-17</td>\n",
       "      <td>-3</td>\n",
       "      <td>-1</td>\n",
       "      <td>0</td>\n",
       "      <td>-3</td>\n",
       "      <td>-2</td>\n",
       "      <td>1</td>\n",
       "    </tr>\n",
       "    <tr>\n",
       "      <th>1</th>\n",
       "      <td>2020-02-18</td>\n",
       "      <td>1</td>\n",
       "      <td>1</td>\n",
       "      <td>9</td>\n",
       "      <td>-1</td>\n",
       "      <td>-1</td>\n",
       "      <td>1</td>\n",
       "    </tr>\n",
       "    <tr>\n",
       "      <th>2</th>\n",
       "      <td>2020-02-19</td>\n",
       "      <td>0</td>\n",
       "      <td>0</td>\n",
       "      <td>12</td>\n",
       "      <td>-2</td>\n",
       "      <td>-1</td>\n",
       "      <td>1</td>\n",
       "    </tr>\n",
       "    <tr>\n",
       "      <th>3</th>\n",
       "      <td>2020-02-20</td>\n",
       "      <td>1</td>\n",
       "      <td>-1</td>\n",
       "      <td>-3</td>\n",
       "      <td>-1</td>\n",
       "      <td>-2</td>\n",
       "      <td>1</td>\n",
       "    </tr>\n",
       "    <tr>\n",
       "      <th>4</th>\n",
       "      <td>2020-02-21</td>\n",
       "      <td>1</td>\n",
       "      <td>1</td>\n",
       "      <td>15</td>\n",
       "      <td>-1</td>\n",
       "      <td>-3</td>\n",
       "      <td>1</td>\n",
       "    </tr>\n",
       "  </tbody>\n",
       "</table>\n",
       "</div>"
      ],
      "text/plain": [
       "        date  ...  residential_percent_change_from_baseline\n",
       "0 2020-02-17  ...                                         1\n",
       "1 2020-02-18  ...                                         1\n",
       "2 2020-02-19  ...                                         1\n",
       "3 2020-02-20  ...                                         1\n",
       "4 2020-02-21  ...                                         1\n",
       "\n",
       "[5 rows x 7 columns]"
      ]
     },
     "execution_count": 8,
     "metadata": {
      "tags": []
     },
     "output_type": "execute_result"
    }
   ],
   "source": [
    "# Load Google Mobility Data (as input for RNN)\n",
    "mob_data = pd.read_excel(r'denmark_google_mobility.xlsx', index_col=0)\n",
    "mob_data['date'] = pd.to_datetime(mob_data['date'], format='%Y-%m-%d')\n",
    "\n",
    "if Use_New_Observations:\n",
    "    mob_data = mob_data[25:457]\n",
    "else:\n",
    "    mob_data = mob_data[2:409]\n",
    "mob_data = mob_data.iloc[: , 1:]\n",
    "mob_data.reset_index(drop=True, inplace=True)\n",
    "mob_data.head()"
   ]
  },
  {
   "cell_type": "markdown",
   "metadata": {
    "id": "TBzUkAgVT_Oj"
   },
   "source": [
    "### Load Weather Data"
   ]
  },
  {
   "cell_type": "code",
   "execution_count": null,
   "metadata": {
    "colab": {
     "base_uri": "https://localhost:8080/",
     "height": 204
    },
    "id": "PpqpQTbwttUE",
    "outputId": "f819fdcf-7de0-4209-9b4f-75693ffc53a1"
   },
   "outputs": [
    {
     "data": {
      "text/html": [
       "<div>\n",
       "<style scoped>\n",
       "    .dataframe tbody tr th:only-of-type {\n",
       "        vertical-align: middle;\n",
       "    }\n",
       "\n",
       "    .dataframe tbody tr th {\n",
       "        vertical-align: top;\n",
       "    }\n",
       "\n",
       "    .dataframe thead th {\n",
       "        text-align: right;\n",
       "    }\n",
       "</style>\n",
       "<table border=\"1\" class=\"dataframe\">\n",
       "  <thead>\n",
       "    <tr style=\"text-align: right;\">\n",
       "      <th></th>\n",
       "      <th>DateTime</th>\n",
       "      <th>Hours_of_Rain</th>\n",
       "      <th>Hours_of_Sun</th>\n",
       "      <th>Lowest_Temp</th>\n",
       "      <th>Highest_Temp</th>\n",
       "      <th>Avg_Temp</th>\n",
       "    </tr>\n",
       "  </thead>\n",
       "  <tbody>\n",
       "    <tr>\n",
       "      <th>0</th>\n",
       "      <td>2020-02-17</td>\n",
       "      <td>1.3</td>\n",
       "      <td>1.2</td>\n",
       "      <td>3.9</td>\n",
       "      <td>9.2</td>\n",
       "      <td>6.6</td>\n",
       "    </tr>\n",
       "    <tr>\n",
       "      <th>1</th>\n",
       "      <td>2020-02-18</td>\n",
       "      <td>3.8</td>\n",
       "      <td>3.0</td>\n",
       "      <td>2.3</td>\n",
       "      <td>8.5</td>\n",
       "      <td>5.4</td>\n",
       "    </tr>\n",
       "    <tr>\n",
       "      <th>2</th>\n",
       "      <td>2020-02-19</td>\n",
       "      <td>4.9</td>\n",
       "      <td>3.8</td>\n",
       "      <td>1.0</td>\n",
       "      <td>7.9</td>\n",
       "      <td>4.6</td>\n",
       "    </tr>\n",
       "    <tr>\n",
       "      <th>3</th>\n",
       "      <td>2020-02-20</td>\n",
       "      <td>10.4</td>\n",
       "      <td>0.1</td>\n",
       "      <td>1.2</td>\n",
       "      <td>8.3</td>\n",
       "      <td>5.0</td>\n",
       "    </tr>\n",
       "    <tr>\n",
       "      <th>4</th>\n",
       "      <td>2020-02-21</td>\n",
       "      <td>2.3</td>\n",
       "      <td>2.5</td>\n",
       "      <td>1.9</td>\n",
       "      <td>8.9</td>\n",
       "      <td>5.5</td>\n",
       "    </tr>\n",
       "  </tbody>\n",
       "</table>\n",
       "</div>"
      ],
      "text/plain": [
       "    DateTime  Hours_of_Rain  Hours_of_Sun  Lowest_Temp  Highest_Temp  Avg_Temp\n",
       "0 2020-02-17            1.3           1.2          3.9           9.2       6.6\n",
       "1 2020-02-18            3.8           3.0          2.3           8.5       5.4\n",
       "2 2020-02-19            4.9           3.8          1.0           7.9       4.6\n",
       "3 2020-02-20           10.4           0.1          1.2           8.3       5.0\n",
       "4 2020-02-21            2.3           2.5          1.9           8.9       5.5"
      ]
     },
     "execution_count": 9,
     "metadata": {
      "tags": []
     },
     "output_type": "execute_result"
    }
   ],
   "source": [
    "df_weather_data = pd.read_csv('denmark_weather_data.csv', delimiter=';', index_col=0, decimal=',')\n",
    "df_weather_data['DateTime'] = pd.to_datetime(df_weather_data['DateTime'], format='%Y-%m-%d')\n",
    "df_weather_data = df_weather_data[16:423].reset_index(drop=True)\n",
    "df_weather_data.head()"
   ]
  },
  {
   "cell_type": "markdown",
   "metadata": {
    "id": "4CGjWaYStuR8"
   },
   "source": [
    "### Load and Preprocess Vaccination Data"
   ]
  },
  {
   "cell_type": "code",
   "execution_count": null,
   "metadata": {
    "id": "KyhfMpHzt5rL"
   },
   "outputs": [],
   "source": [
    "df = pd.read_csv('https://raw.githubusercontent.com/owid/covid-19-data/master/public/data/vaccinations/vaccinations.csv')\n",
    "vaccination = df[['date','people_fully_vaccinated']][df['iso_code'] == 'DNK'].reset_index(drop=True)\n",
    "vaccine_effectivenes = 0.9\n",
    "vaccination['daily_vaccinated'] = vaccination['people_fully_vaccinated'].diff(periods=-1)*-1\n",
    "vaccination['vaccine_inmune'] = vaccination['people_fully_vaccinated'].shift(14)\n",
    "vaccination.fillna(0, inplace=True)\n",
    "vaccination['vaccine_inmune'] = vaccination['vaccine_inmune'] * vaccine_effectivenes\n",
    "vaccine_inmune = torch.tensor(np.concatenate((np.zeros(num_observations - 103 ), vaccination['vaccine_inmune'].iloc[:103].to_numpy())),  device=device, dtype=dtype)"
   ]
  },
  {
   "cell_type": "markdown",
   "metadata": {
    "id": "CuK3erWIuJhH"
   },
   "source": [
    "## LSTM"
   ]
  },
  {
   "cell_type": "markdown",
   "metadata": {
    "id": "3wnGifSMaKtP"
   },
   "source": [
    "### Create LSTM Input Data"
   ]
  },
  {
   "cell_type": "code",
   "execution_count": null,
   "metadata": {
    "colab": {
     "background_save": true,
     "base_uri": "https://localhost:8080/"
    },
    "id": "Vyopk6Fjmu66",
    "outputId": "86d2a9a7-fcb4-46d7-dfa8-07d0ccd7244e"
   },
   "outputs": [
    {
     "data": {
      "text/html": [
       "<div>\n",
       "<style scoped>\n",
       "    .dataframe tbody tr th:only-of-type {\n",
       "        vertical-align: middle;\n",
       "    }\n",
       "\n",
       "    .dataframe tbody tr th {\n",
       "        vertical-align: top;\n",
       "    }\n",
       "\n",
       "    .dataframe thead th {\n",
       "        text-align: right;\n",
       "    }\n",
       "</style>\n",
       "<table border=\"1\" class=\"dataframe\">\n",
       "  <thead>\n",
       "    <tr style=\"text-align: right;\">\n",
       "      <th></th>\n",
       "      <th>date</th>\n",
       "      <th>retail_and_recreation_percent_change_from_baseline</th>\n",
       "      <th>grocery_and_pharmacy_percent_change_from_baseline</th>\n",
       "      <th>parks_percent_change_from_baseline</th>\n",
       "      <th>transit_stations_percent_change_from_baseline</th>\n",
       "      <th>workplaces_percent_change_from_baseline</th>\n",
       "      <th>residential_percent_change_from_baseline</th>\n",
       "      <th>Hours_of_Rain</th>\n",
       "      <th>Hours_of_Sun</th>\n",
       "      <th>Lowest_Temp</th>\n",
       "      <th>Highest_Temp</th>\n",
       "      <th>Avg_Temp</th>\n",
       "    </tr>\n",
       "  </thead>\n",
       "  <tbody>\n",
       "    <tr>\n",
       "      <th>0</th>\n",
       "      <td>2020-02-17</td>\n",
       "      <td>-3</td>\n",
       "      <td>-1</td>\n",
       "      <td>0</td>\n",
       "      <td>-3</td>\n",
       "      <td>-2</td>\n",
       "      <td>1</td>\n",
       "      <td>1.3</td>\n",
       "      <td>1.2</td>\n",
       "      <td>3.9</td>\n",
       "      <td>9.2</td>\n",
       "      <td>6.6</td>\n",
       "    </tr>\n",
       "    <tr>\n",
       "      <th>1</th>\n",
       "      <td>2020-02-18</td>\n",
       "      <td>1</td>\n",
       "      <td>1</td>\n",
       "      <td>9</td>\n",
       "      <td>-1</td>\n",
       "      <td>-1</td>\n",
       "      <td>1</td>\n",
       "      <td>3.8</td>\n",
       "      <td>3.0</td>\n",
       "      <td>2.3</td>\n",
       "      <td>8.5</td>\n",
       "      <td>5.4</td>\n",
       "    </tr>\n",
       "    <tr>\n",
       "      <th>2</th>\n",
       "      <td>2020-02-19</td>\n",
       "      <td>0</td>\n",
       "      <td>0</td>\n",
       "      <td>12</td>\n",
       "      <td>-2</td>\n",
       "      <td>-1</td>\n",
       "      <td>1</td>\n",
       "      <td>4.9</td>\n",
       "      <td>3.8</td>\n",
       "      <td>1.0</td>\n",
       "      <td>7.9</td>\n",
       "      <td>4.6</td>\n",
       "    </tr>\n",
       "    <tr>\n",
       "      <th>3</th>\n",
       "      <td>2020-02-20</td>\n",
       "      <td>1</td>\n",
       "      <td>-1</td>\n",
       "      <td>-3</td>\n",
       "      <td>-1</td>\n",
       "      <td>-2</td>\n",
       "      <td>1</td>\n",
       "      <td>10.4</td>\n",
       "      <td>0.1</td>\n",
       "      <td>1.2</td>\n",
       "      <td>8.3</td>\n",
       "      <td>5.0</td>\n",
       "    </tr>\n",
       "    <tr>\n",
       "      <th>4</th>\n",
       "      <td>2020-02-21</td>\n",
       "      <td>1</td>\n",
       "      <td>1</td>\n",
       "      <td>15</td>\n",
       "      <td>-1</td>\n",
       "      <td>-3</td>\n",
       "      <td>1</td>\n",
       "      <td>2.3</td>\n",
       "      <td>2.5</td>\n",
       "      <td>1.9</td>\n",
       "      <td>8.9</td>\n",
       "      <td>5.5</td>\n",
       "    </tr>\n",
       "    <tr>\n",
       "      <th>...</th>\n",
       "      <td>...</td>\n",
       "      <td>...</td>\n",
       "      <td>...</td>\n",
       "      <td>...</td>\n",
       "      <td>...</td>\n",
       "      <td>...</td>\n",
       "      <td>...</td>\n",
       "      <td>...</td>\n",
       "      <td>...</td>\n",
       "      <td>...</td>\n",
       "      <td>...</td>\n",
       "      <td>...</td>\n",
       "    </tr>\n",
       "    <tr>\n",
       "      <th>402</th>\n",
       "      <td>2021-03-25</td>\n",
       "      <td>-18</td>\n",
       "      <td>-1</td>\n",
       "      <td>101</td>\n",
       "      <td>-37</td>\n",
       "      <td>-29</td>\n",
       "      <td>9</td>\n",
       "      <td>0.0</td>\n",
       "      <td>6.2</td>\n",
       "      <td>-0.2</td>\n",
       "      <td>13.5</td>\n",
       "      <td>6.1</td>\n",
       "    </tr>\n",
       "    <tr>\n",
       "      <th>403</th>\n",
       "      <td>2021-03-26</td>\n",
       "      <td>-21</td>\n",
       "      <td>-2</td>\n",
       "      <td>90</td>\n",
       "      <td>-39</td>\n",
       "      <td>-29</td>\n",
       "      <td>9</td>\n",
       "      <td>0.6</td>\n",
       "      <td>2.6</td>\n",
       "      <td>-0.5</td>\n",
       "      <td>14.2</td>\n",
       "      <td>7.5</td>\n",
       "    </tr>\n",
       "    <tr>\n",
       "      <th>404</th>\n",
       "      <td>2021-03-27</td>\n",
       "      <td>-27</td>\n",
       "      <td>-1</td>\n",
       "      <td>51</td>\n",
       "      <td>-40</td>\n",
       "      <td>-2</td>\n",
       "      <td>5</td>\n",
       "      <td>3.8</td>\n",
       "      <td>3.1</td>\n",
       "      <td>1.1</td>\n",
       "      <td>12.5</td>\n",
       "      <td>5.6</td>\n",
       "    </tr>\n",
       "    <tr>\n",
       "      <th>405</th>\n",
       "      <td>2021-03-28</td>\n",
       "      <td>-21</td>\n",
       "      <td>-12</td>\n",
       "      <td>27</td>\n",
       "      <td>-44</td>\n",
       "      <td>-2</td>\n",
       "      <td>5</td>\n",
       "      <td>5.3</td>\n",
       "      <td>0.3</td>\n",
       "      <td>2.0</td>\n",
       "      <td>10.0</td>\n",
       "      <td>5.8</td>\n",
       "    </tr>\n",
       "    <tr>\n",
       "      <th>406</th>\n",
       "      <td>2021-03-29</td>\n",
       "      <td>-5</td>\n",
       "      <td>1</td>\n",
       "      <td>89</td>\n",
       "      <td>-44</td>\n",
       "      <td>-46</td>\n",
       "      <td>11</td>\n",
       "      <td>2.3</td>\n",
       "      <td>0.5</td>\n",
       "      <td>5.2</td>\n",
       "      <td>11.7</td>\n",
       "      <td>8.3</td>\n",
       "    </tr>\n",
       "  </tbody>\n",
       "</table>\n",
       "<p>407 rows × 12 columns</p>\n",
       "</div>"
      ],
      "text/plain": [
       "          date  ...  Avg_Temp\n",
       "0   2020-02-17  ...       6.6\n",
       "1   2020-02-18  ...       5.4\n",
       "2   2020-02-19  ...       4.6\n",
       "3   2020-02-20  ...       5.0\n",
       "4   2020-02-21  ...       5.5\n",
       "..         ...  ...       ...\n",
       "402 2021-03-25  ...       6.1\n",
       "403 2021-03-26  ...       7.5\n",
       "404 2021-03-27  ...       5.6\n",
       "405 2021-03-28  ...       5.8\n",
       "406 2021-03-29  ...       8.3\n",
       "\n",
       "[407 rows x 12 columns]"
      ]
     },
     "execution_count": null,
     "metadata": {},
     "output_type": "execute_result"
    }
   ],
   "source": [
    "model_input_data = pd.merge(left=mob_data, right=df_weather_data, left_on='date', right_on='DateTime', how='inner')\n",
    "model_input_data = model_input_data.drop('DateTime', axis=1)\n",
    "model_input_data"
   ]
  },
  {
   "cell_type": "markdown",
   "metadata": {
    "id": "By4f81JGaFLV"
   },
   "source": [
    "### Preprocess LSTM Input Data"
   ]
  },
  {
   "cell_type": "code",
   "execution_count": null,
   "metadata": {
    "id": "2GQkKKla8N8i"
   },
   "outputs": [],
   "source": [
    "cols_mob = [\n",
    "       'retail_and_recreation_percent_change_from_baseline',\n",
    "       'grocery_and_pharmacy_percent_change_from_baseline',\n",
    "       'parks_percent_change_from_baseline',\n",
    "       'transit_stations_percent_change_from_baseline',\n",
    "       'workplaces_percent_change_from_baseline',\n",
    "       'residential_percent_change_from_baseline']\n",
    "\n",
    "cols_weather = ['Hours_of_Rain', 'Hours_of_Sun',\t'Lowest_Temp',\t'Highest_Temp',\t'Avg_Temp']\n",
    "\n",
    "cols_sentiment = ['anger_intensity', 'fear_intensity', 'fear_intensity', 'joy_intensity']"
   ]
  },
  {
   "cell_type": "code",
   "execution_count": null,
   "metadata": {
    "id": "H0iqY_JkbFyN"
   },
   "outputs": [],
   "source": [
    "cols = cols_mob + cols_weather"
   ]
  },
  {
   "cell_type": "code",
   "execution_count": null,
   "metadata": {
    "colab": {
     "base_uri": "https://localhost:8080/"
    },
    "id": "w-QnSCk-MGng",
    "outputId": "83a07360-0431-43a8-8010-a44db5e90e94"
   },
   "outputs": [
    {
     "data": {
      "text/plain": [
       "torch.Size([407, 11])"
      ]
     },
     "execution_count": 14,
     "metadata": {
      "tags": []
     },
     "output_type": "execute_result"
    }
   ],
   "source": [
    "scaler = MinMaxScaler()\n",
    "np_model_input_data = model_input_data[cols].to_numpy()\n",
    "scaler.fit(np_model_input_data)\n",
    "np_model_input_data_scaled = scaler.transform(np_model_input_data)\n",
    "model_input_data_t = torch.tensor(np_model_input_data_scaled, dtype=dtype, device=device)\n",
    "model_input_data_t.shape"
   ]
  },
  {
   "cell_type": "markdown",
   "metadata": {
    "id": "gxn4bGs38-21"
   },
   "source": [
    "### Initialize LSTM Model"
   ]
  },
  {
   "cell_type": "code",
   "execution_count": null,
   "metadata": {
    "id": "rSBu0khjZfvc"
   },
   "outputs": [],
   "source": [
    "class LSTM(nn.Module):\n",
    "    def __init__(self, input_size=1, hidden_layer_size=100, output_size=1):\n",
    "        super().__init__()\n",
    "        self.hidden_layer_size = hidden_layer_size\n",
    "\n",
    "        self.lstm = nn.LSTM(input_size, hidden_layer_size)\n",
    "\n",
    "        self.linear = nn.Linear(hidden_layer_size, output_size)\n",
    "\n",
    "        self.hidden_cell = (torch.zeros(1,1,self.hidden_layer_size, dtype=dtype, device=device),\n",
    "                            torch.zeros(1,1,self.hidden_layer_size, dtype=dtype, device=device))\n",
    "\n",
    "    def forward(self, input_seq):\n",
    "        lstm_out, self.hidden_cell = self.lstm(input_seq.view(len(input_seq) ,1, -1), self.hidden_cell)\n",
    "        predictions = self.linear(lstm_out.view(len(input_seq), -1))\n",
    "        return predictions"
   ]
  },
  {
   "cell_type": "code",
   "execution_count": null,
   "metadata": {
    "id": "qkaY9pj7mR1D"
   },
   "outputs": [],
   "source": [
    "input_size = len(cols)\n",
    "hidden_size = 10\n",
    "output_size = 1\n",
    "\n",
    "lstm = LSTM(input_size=input_size, hidden_layer_size=hidden_size, output_size=output_size).to(device)"
   ]
  },
  {
   "cell_type": "markdown",
   "metadata": {
    "id": "zfB3Bo3luVfW"
   },
   "source": [
    "# Model Definition"
   ]
  },
  {
   "cell_type": "markdown",
   "metadata": {
    "id": "NvDr3tVFQoP-"
   },
   "source": [
    "## Set Initial Values"
   ]
  },
  {
   "cell_type": "code",
   "execution_count": null,
   "metadata": {
    "id": "rWxF_XpY94WF"
   },
   "outputs": [],
   "source": [
    "def bij_transform(prime, lower, upper):\n",
    "    # Recieves a value in [-inf, inf] and returns value in [low, upper]\n",
    "    bij = 1 / (1 + torch.exp(-prime / upper))\n",
    "    scale = upper - lower\n",
    "    return scale * bij + lower\n",
    "\n",
    "def bij_transform_inv(transf, lower, upper):\n",
    "    return -torch.log(((upper - lower) / (transf - lower) - 1) ** upper)"
   ]
  },
  {
   "cell_type": "code",
   "execution_count": null,
   "metadata": {
    "colab": {
     "base_uri": "https://localhost:8080/"
    },
    "id": "Q1votPtuaaDN",
    "outputId": "5322cd92-6b0b-47f6-9f6c-2f350255087c"
   },
   "outputs": [
    {
     "name": "stderr",
     "output_type": "stream",
     "text": [
      "/usr/local/lib/python3.7/dist-packages/ipykernel_launcher.py:1: UserWarning: To copy construct from a tensor, it is recommended to use sourceTensor.clone().detach() or sourceTensor.clone().detach().requires_grad_(True), rather than torch.tensor(sourceTensor).\n",
      "  \"\"\"Entry point for launching an IPython kernel.\n",
      "/usr/local/lib/python3.7/dist-packages/ipykernel_launcher.py:2: UserWarning: To copy construct from a tensor, it is recommended to use sourceTensor.clone().detach() or sourceTensor.clone().detach().requires_grad_(True), rather than torch.tensor(sourceTensor).\n",
      "  \n",
      "/usr/local/lib/python3.7/dist-packages/ipykernel_launcher.py:3: UserWarning: To copy construct from a tensor, it is recommended to use sourceTensor.clone().detach() or sourceTensor.clone().detach().requires_grad_(True), rather than torch.tensor(sourceTensor).\n",
      "  This is separate from the ipykernel package so we can avoid doing imports until\n",
      "/usr/local/lib/python3.7/dist-packages/ipykernel_launcher.py:4: UserWarning: To copy construct from a tensor, it is recommended to use sourceTensor.clone().detach() or sourceTensor.clone().detach().requires_grad_(True), rather than torch.tensor(sourceTensor).\n",
      "  after removing the cwd from sys.path.\n"
     ]
    }
   ],
   "source": [
    "R0_prime = torch.tensor(bij_transform_inv(torch.tensor(3.6), 2, 5), requires_grad=True, device=device, dtype=dtype)\n",
    "phi_prime = torch.tensor(bij_transform_inv(torch.tensor(25), 0, 50), requires_grad=True, device=device, dtype=dtype)\n",
    "sigma_prime = torch.tensor(bij_transform_inv(torch.tensor(0.1), 0.00001, 0.5), requires_grad=True, device=device, dtype=dtype)\n",
    "alpha_prime = torch.tensor(bij_transform_inv(torch.tensor(0.01), 0.001, 0.05), requires_grad=True, device=device, dtype=dtype)\n",
    "\n",
    "sigma = bij_transform(sigma_prime, 0.01, 0.5)"
   ]
  },
  {
   "cell_type": "code",
   "execution_count": null,
   "metadata": {
    "colab": {
     "base_uri": "https://localhost:8080/"
    },
    "id": "pden-JXAt5-j",
    "outputId": "7d9e5d96-c389-4fb2-be07-60a1a0bff4b9"
   },
   "outputs": [
    {
     "data": {
      "text/plain": [
       "tensor([-0.0074, -0.0917,  0.0062, -0.0379, -0.1631, -0.2505, -0.2759, -0.3124,\n",
       "        -0.2972, -0.2804, -0.2746, -0.2509, -0.3262, -0.2940, -0.3286, -0.4503,\n",
       "        -0.4033, -0.4125, -0.4549, -0.4833, -0.6010, -0.4941, -0.6117, -0.6330,\n",
       "        -0.6008, -0.6136, -0.6262, -0.6712, -0.6458, -0.6191, -0.6463, -0.5938,\n",
       "        -0.4665, -0.3522, -0.3091, -0.2810, -0.3439, -0.4090, -0.5306, -0.6448,\n",
       "        -0.6918, -0.7511, -0.6415, -0.5624, -0.4866, -0.4425, -0.3046, -0.3821,\n",
       "        -0.4664, -0.4892, -0.4886, -0.4284, -0.3830, -0.3017, -0.2558, -0.2495,\n",
       "        -0.3598, -0.3645, -0.4205, -0.5418, -0.6804, -0.7592, -0.7397, -0.9390,\n",
       "        -0.9576, -0.9666, -1.0936, -1.0343, -1.0547, -1.0886, -1.2441, -1.2286,\n",
       "        -1.1851, -1.1557, -1.1728, -1.1962, -1.3001, -1.2371, -1.2766, -1.3674,\n",
       "        -1.3742, -1.4124, -1.3680, -1.4377, -1.6354, -1.6171, -1.6014, -1.4733,\n",
       "        -1.5638, -1.5372, -1.5448, -1.4766, -1.4507, -1.5506, -1.5343, -1.5604,\n",
       "        -1.5529, -1.7339, -1.7019, -1.5651, -1.4695, -1.4222, -1.3826, -1.2933,\n",
       "        -1.2569, -1.3147, -1.2845, -1.2807, -1.3629, -1.3281, -1.4230, -1.3727,\n",
       "        -1.3165, -1.3666, -1.4207, -1.3618, -1.3764, -1.4389, -1.2412, -1.2341,\n",
       "        -1.2810, -1.2260, -1.2308, -1.3050, -1.2738, -1.3899, -1.4468, -1.4487,\n",
       "        -1.5763, -1.5690, -1.5503, -1.5979, -1.5666, -1.6819, -1.7431, -1.8039,\n",
       "        -1.7812, -1.7332, -1.8462, -1.9430, -2.0140, -2.0616, -2.1169, -2.0317,\n",
       "        -2.1408, -2.0790, -2.0327, -2.0176, -2.0496, -2.0861, -2.0717, -2.1157,\n",
       "        -2.2080, -2.2862, -2.1649, -2.1218, -2.1519, -2.2111, -2.2550, -2.2193,\n",
       "        -2.1891, -2.2090, -2.2067, -2.0831, -2.0921, -2.0527, -2.0170, -2.1290,\n",
       "        -2.1035, -2.1631, -2.1003, -1.9517, -1.9709, -2.0019, -2.1483, -2.0766,\n",
       "        -1.8920, -1.8481, -1.8335, -1.8470, -1.9448, -1.9306, -1.9297, -2.0038,\n",
       "        -2.0076, -2.0490, -2.0556, -2.1119, -2.1973, -2.3424, -2.4577, -2.4726,\n",
       "        -2.5077, -2.5668, -2.4664, -2.4638, -2.4642, -2.4658, -2.5118, -2.3600,\n",
       "        -2.3875, -2.3331, -2.3313, -2.3486, -2.4876, -2.5544, -2.5561, -2.5759,\n",
       "        -2.5071, -2.5712, -2.5303, -2.4579, -2.5647, -2.6154, -2.6420, -2.4611,\n",
       "        -2.6079, -2.5117, -2.5290, -2.3684, -2.4633, -2.4783, -2.3829, -2.3481,\n",
       "        -2.4681, -2.4757, -2.3754, -2.4062, -2.3941, -2.4354, -2.4405, -2.3711,\n",
       "        -2.2888, -2.2882, -2.2719, -2.2870, -2.1287, -2.0910, -2.0611, -2.0871,\n",
       "        -2.0438, -2.1306, -2.0795, -2.2755, -2.2917, -2.3432, -2.3287, -2.2760,\n",
       "        -2.1657, -2.0573, -2.1230, -2.1408, -2.0965, -2.0702, -2.1341, -2.0052,\n",
       "        -1.9850, -1.9636, -1.9165, -1.9765, -1.9909, -1.8959, -1.9515, -2.0062,\n",
       "        -1.8927, -1.9969, -2.0203, -2.0527, -2.0890, -2.0889, -2.1730, -2.1016,\n",
       "        -2.1536, -2.2203, -2.1822, -2.0909, -2.1366, -2.0904, -2.0827, -2.1399,\n",
       "        -2.1166, -2.2056, -2.0889, -2.1643, -2.3429, -2.3227, -2.3675, -2.3837,\n",
       "        -2.3954, -2.3436, -2.3930, -2.4478, -2.3335, -2.2982, -2.3706, -2.4316,\n",
       "        -2.3922, -2.4530, -2.5739, -2.6460, -2.6939, -2.6884, -2.4656, -2.3762,\n",
       "        -2.4116, -2.4750, -2.4307, -2.5351, -2.5026, -2.4831, -2.4228, -2.3374,\n",
       "        -2.3100, -2.4432, -2.4207, -2.4595, -2.4384, -2.3436, -2.3614, -2.4657,\n",
       "        -2.5039, -2.5777, -2.6631, -2.5849, -2.6662, -2.6579, -2.5176, -2.4248,\n",
       "        -2.5414, -2.4081, -2.4437, -2.3990, -2.3164, -2.2750, -2.3877, -2.3545,\n",
       "        -2.3902, -2.3637, -2.4247, -2.3729, -2.4271, -2.3747, -2.4266, -2.4775,\n",
       "        -2.4781, -2.5523, -2.5116, -2.5077, -2.5381, -2.6914, -2.5715, -2.5805,\n",
       "        -2.5495, -2.5710, -2.4494, -2.4225, -2.3996, -2.4578, -2.4602, -2.3295,\n",
       "        -2.1614, -2.1654, -2.2490, -2.1950, -2.2086, -2.2027, -2.2263, -2.3370,\n",
       "        -2.3792, -2.2776, -2.1082, -2.1165, -2.0959, -2.0535, -1.9187, -1.9352,\n",
       "        -1.9695, -1.9816, -1.8604, -1.9461, -2.0060, -1.8958, -1.9852, -2.0100,\n",
       "        -1.9351, -1.8101, -1.9333, -2.0629, -2.0971, -2.0302, -1.9475, -2.0816,\n",
       "        -2.0520, -2.2064, -2.2077, -2.1618, -2.3575, -2.4257, -2.5193, -2.4116,\n",
       "        -2.3177, -2.5137, -2.6127, -2.6161, -2.5871, -2.5523, -2.4576],\n",
       "       device='cuda:0', requires_grad=True)"
      ]
     },
     "execution_count": 19,
     "metadata": {
      "tags": []
     },
     "output_type": "execute_result"
    }
   ],
   "source": [
    "epsilon_t = torch.zeros(num_observations, device=device)\n",
    "epsilon_t[0] = torch.distributions.Normal(cero, sigma.detach()).rsample()\n",
    "for t in range(1, num_observations):\n",
    "    epsilon_t[t] = torch.distributions.Normal(epsilon_t[t - 1].detach(), sigma.detach()).rsample()\n",
    "epsilon_t = epsilon_t * 0.7\n",
    "epsilon_t.requires_grad_(True)"
   ]
  },
  {
   "cell_type": "markdown",
   "metadata": {
    "id": "GBh6-7YLQtJc"
   },
   "source": [
    "## Define Forward Pass"
   ]
  },
  {
   "cell_type": "code",
   "execution_count": null,
   "metadata": {
    "id": "h-hjS9iqQz1w"
   },
   "outputs": [],
   "source": [
    "def transform_variables(R0_prime, sigma_prime, phi_prime, alpha_prime):\n",
    "    R0 = bij_transform(R0_prime, lower=2, upper=5)\n",
    "    sigma = bij_transform(sigma_prime, lower=0.01, upper=0.5)\n",
    "    phi = bij_transform(phi_prime, lower=0.00001, upper=50)\n",
    "    alpha = bij_transform(alpha_prime, lower=0.001, upper=0.05)\n",
    "    return R0, sigma, phi, alpha"
   ]
  },
  {
   "cell_type": "code",
   "execution_count": null,
   "metadata": {
    "id": "OFeUN11KQ0C1"
   },
   "outputs": [],
   "source": [
    "def forward_pass(input_data, epsilon_t, training_days, forecasting_days):\n",
    "    days_to_calc = training_days + forecasting_days\n",
    "    lstm_input_data = input_data[:days_to_calc]\n",
    "\n",
    "    if forecasting_days != 0:\n",
    "      epsilon_t_forecasting = torch.zeros(num_observations, device=device, dtype=dtype, requires_grad=False)\n",
    "      epsilon_t_forecasting[training_days:days_to_calc] = torch.ones(forecasting_days, dtype=dtype, device=device) * epsilon_t[training_days-1]\n",
    "      epsilon_t[training_days:days_to_calc] = cero\n",
    "      epsilon_t = epsilon_t + epsilon_t_forecasting\n",
    "\n",
    "      #Use Mean Values for the forecasting period and not actual data!\n",
    "      #mean = torch.mean(lstm_input_data[-7:], 0, keepdim=True)\n",
    "      #lstm_input_data = torch.cat((lstm_input_data, torch.cat([mean]*(forecasting_days))), dim = 0)\n",
    "\n",
    "\n",
    "      \n",
    "    # Seed initial Infections\n",
    "    newly_infected = torch.zeros(days_to_calc, device=device, dtype=dtype)  # number of newly infected\n",
    "    cumulative_infected = torch.zeros(days_to_calc, device=device)  # cumulative number of infected\n",
    "    inmune = torch.zeros(days_to_calc, device=device)\n",
    "    St = torch.zeros(days_to_calc, device=device)  # fraction of susceptible population\n",
    "\n",
    "    # seed initial infection / impute first num_impute days\n",
    "    newly_infected[0:num_impute] = torch.tensor(5.) # y.clone()\n",
    "    cumulative_infected[0] = 0.\n",
    "    cumulative_infected[1:num_impute] = torch.cumsum(newly_infected[0:num_impute - 1].clone(), dim=0) \n",
    "    inmune[0:num_impute] = cumulative_infected[0:num_impute].clone() + vaccine_inmune[0:num_impute].clone()\n",
    "\n",
    "\n",
    "    St[0:num_impute] = torch.tensor([torch.maximum(population - x, torch.tensor(0)) / population for x in\n",
    "                                     inmune[0:num_impute]])\n",
    "    \n",
    "    # Initialize eta_t\n",
    "    eta_t = torch.zeros(days_to_calc, device=device)  # transformed reproduction number\n",
    "    # calculate Rt: the basic reproduction number\n",
    "    # basic reproduction number as a latent random walk\n",
    "    beta_0 = torch.log(R0) \n",
    "    eta_t[0] = beta_0\n",
    "    lstm_prediction = lstm(lstm_input_data).view(-1).cuda()\n",
    "    eta_t[1:days_to_calc] = lstm_prediction[0:days_to_calc - 1] + beta_0 + epsilon_t[0:days_to_calc - 1] \n",
    "    Rt = torch.exp(eta_t)\n",
    "\n",
    "    # Calc Infections\n",
    "    # Initialize effectively_infectious\n",
    "    effectively_infectious = torch.zeros(days_to_calc, device=device)  # effective number of infectious individuals\n",
    "\n",
    "    # calculate infections\n",
    "    for t in range(num_impute, days_to_calc):\n",
    "        # Update cumulative newly_infected\n",
    "        cumulative_infected[t] = cumulative_infected[t - 1] + newly_infected[t - 1]\n",
    "        inmune[t] = cumulative_infected[t] + vaccine_inmune[t]\n",
    "        # Adjusts for portion of pop that are susceptible\n",
    "        St[t] = torch.maximum(population - inmune[t], cero) / population\n",
    "        # effective number of infectous individuals\n",
    "        ni_temp = newly_infected[:t].view(1, 1, -1).clone()\n",
    "        si_temp = torch.flip(serial_interval, (0,))[-t:].view(1, 1, -1)\n",
    "        effectively_infectious[t] = torch.nn.functional.conv1d(ni_temp, si_temp)\n",
    "\n",
    "        newly_infected[t] = St[t].clone() * Rt[t] * effectively_infectious[t].clone()\n",
    "    \n",
    "    # calc hospitalizations\n",
    "    # Initialize expected_daily_hospit\n",
    "    expected_daily_hospit = torch.zeros(days_to_calc, device=device)  # expected number of daily hospitalizations\n",
    "\n",
    "    # calculate expected number of hospitalizations\n",
    "    expected_daily_hospit[0] = (1e-15) * newly_infected[0]\n",
    "    for t in range(1, days_to_calc):\n",
    "        ni_temp = newly_infected[:t].view(1, 1, -1)\n",
    "        pi_temp = torch.flip(pi, (0,))[-t - 1:-1].view(1, 1, -1)\n",
    "        expected_daily_hospit[t] = torch.nn.functional.conv1d(ni_temp, pi_temp)\n",
    "    expected_daily_hospit = alpha * expected_daily_hospit\n",
    "\n",
    "    return expected_daily_hospit, lstm_prediction, beta_0, eta_t"
   ]
  },
  {
   "cell_type": "markdown",
   "metadata": {
    "id": "odGDqIelQ0KI"
   },
   "source": [
    "## Define Loss Functions"
   ]
  },
  {
   "cell_type": "code",
   "execution_count": null,
   "metadata": {
    "id": "LaUPKORtblme"
   },
   "outputs": [],
   "source": [
    "def calc_random_walk_loss(epsilon_t, sigma, training_days):\n",
    "    loc = epsilon_t[:training_days-1]\n",
    "    scale = sigma * torch.ones(training_days - 1, device=device)\n",
    "    mvn = distributions.multivariate_normal.MultivariateNormal(loc, scale_tril=torch.diag(scale))\n",
    "    ll = mvn.log_prob(epsilon_t[1:training_days])\n",
    "    return -ll"
   ]
  },
  {
   "cell_type": "code",
   "execution_count": null,
   "metadata": {
    "id": "2beDUuZGfKYb"
   },
   "outputs": [],
   "source": [
    "def calc_mse(expected, observed, training_days):\n",
    "    diff = expected - observed[:training_days]\n",
    "    square = diff.square()\n",
    "    msr = square.mean()\n",
    "    return msr"
   ]
  },
  {
   "cell_type": "code",
   "execution_count": null,
   "metadata": {
    "id": "EiYHtdv0RFwd"
   },
   "outputs": [],
   "source": [
    "dist_phi = distributions.normal.Normal(loc=torch.tensor([25], device=device), scale=torch.tensor([10], device=device))\n",
    "dist_R0 = distributions.normal.Normal(loc=torch.tensor([3.6], device=device), scale=torch.tensor([0.8], device=device))\n",
    "dist_alpha = distributions.normal.Normal(loc=torch.tensor([0.01], device=device), scale=torch.tensor([0.01], device=device))\n",
    "dist_sigma = distributions.normal.Normal(loc=torch.tensor([0.05], device=device), scale=torch.tensor([0.03], device=device))\n",
    "\n",
    "def calc_prior_loss(R0, sigma, phi, alpha):\n",
    "    # log likelihood wrt. our prior (\"regularisation\")\n",
    "    # ll stands for log-likelihood\n",
    "\n",
    "    ll = torch.tensor(0.0, device=device)\n",
    "\n",
    "    ll += dist_R0.log_prob(R0)[0] # neg\n",
    "\n",
    "    ll += dist_sigma.log_prob(sigma)[0]\n",
    "\n",
    "    ll += dist_phi.log_prob(phi)[0]\n",
    "\n",
    "    ll += dist_alpha.log_prob(alpha)[0]\n",
    "\n",
    "    return -ll"
   ]
  },
  {
   "cell_type": "markdown",
   "metadata": {
    "id": "Myuzal9_Q3uN"
   },
   "source": [
    "# Optimization"
   ]
  },
  {
   "cell_type": "code",
   "execution_count": null,
   "metadata": {
    "id": "tj6Csi67VJmf"
   },
   "outputs": [],
   "source": [
    "# Visualitation\n",
    "# Parameter vis\n",
    "R0_vis = []\n",
    "sigma_vis = []\n",
    "phi_vis = []\n",
    "alpha_vis = []\n",
    "lstm_vis = []\n",
    "\n",
    "# loss vis\n",
    "loss_vis = []\n",
    "comp_loss_vis = []\n",
    "rw_loss_vis = []\n",
    "prior_loss_vis = []\n",
    "\n",
    "# performance evaluation vis\n",
    "mae_vis = []"
   ]
  },
  {
   "cell_type": "markdown",
   "metadata": {
    "id": "GPi3dEk4Q8L9"
   },
   "source": [
    "## Train Model"
   ]
  },
  {
   "cell_type": "code",
   "execution_count": null,
   "metadata": {
    "id": "LH0yr2SmAcrh"
   },
   "outputs": [],
   "source": [
    "training_days = 250\n",
    "forecasting_days = 14\n",
    "cols_to_plot_1 = ['workplaces_percent_change_from_baseline', 'Avg_Temp']\n",
    "cols_to_plot_2 = ['Hours_of_Rain', 'Hours_of_Sun']\n",
    "#plt.plot(model_input_data[cols_to_plot_2][:training_days])\n",
    "#plt.show()"
   ]
  },
  {
   "cell_type": "code",
   "execution_count": null,
   "metadata": {
    "colab": {
     "background_save": true
    },
    "id": "PgtwDDRZvQkK"
   },
   "outputs": [],
   "source": [
    "epochs = 8000\n",
    "params = [epsilon_t, R0_prime, sigma_prime , phi_prime, alpha_prime]  + list(set(lstm.parameters()))\n",
    "optimizer = optim.Adam(params, lr=0.01, weight_decay=1e-8) # \n",
    "\n",
    "\n",
    "for i in range(epochs):\n",
    "    start_time = time.time()\n",
    "    optimizer.zero_grad()\n",
    "    lstm.hidden_cell = (torch.zeros(1, 1, lstm.hidden_layer_size, dtype=dtype, device=device),\n",
    "                        torch.zeros(1, 1, lstm.hidden_layer_size, dtype=dtype, device=device))\n",
    "    \n",
    "\n",
    "    # forward pass\n",
    "    R0, sigma, phi, alpha = transform_variables(R0_prime, sigma_prime, phi_prime, alpha_prime)\n",
    "    expected_daily_hospit, lstm_prediction, beta_0, eta_t = forward_pass(model_input_data_t, epsilon_t, training_days, forecasting_days=0)\n",
    "\n",
    "    # calc loss\n",
    "    comp_loss = calc_mse(expected_daily_hospit, observed_daily_hospit, training_days)\n",
    "    rw_loss = calc_random_walk_loss(epsilon_t, sigma, training_days) * 1e1\n",
    "    prior_loss = calc_prior_loss(R0, sigma, phi, alpha)\n",
    "    loss = phi*comp_loss + prior_loss  + rw_loss\n",
    "\n",
    "    # backward pass\n",
    "    loss.backward()\n",
    "\n",
    "    optimizer.step()\n",
    "    if i % 5==0:\n",
    "      print(f'Step: {i}, Time: {time.time() - start_time}, Loss: {loss}, Mean Expected Daily Hospit: {expected_daily_hospit.cpu().detach().numpy().mean()}')\n",
    "\n",
    "    if i % 50==0:\n",
    "      plt.plot(expected_daily_hospit.cpu().detach().numpy(), label='expected_daily_hospit')\n",
    "      plt.plot(observed_daily_hospit.cpu().detach().numpy(), label='observed_daily_hospit', alpha=0.3)\n",
    "      plt.title(f'Daily Hospitalizations - Time Step: {i}')\n",
    "      plt.xlim(0, training_days+forecasting_days+10)\n",
    "      plt.ylim(-10, 200)\n",
    "      plt.legend(loc='upper left')\n",
    "      plt.show()\n",
    "\n",
    "      plt.plot(epsilon_t[:training_days].cpu().detach().numpy(), label='epsilon_t')\n",
    "      plt.plot(lstm_prediction.cpu().detach().numpy(), label='lstm_prediction')\n",
    "      plt.plot(np.full(training_days, beta_0.cpu().detach().numpy()), label='beta_0')\n",
    "      plt.plot(eta_t.cpu().detach().numpy(), label='eta_t')\n",
    "      plt.title(f'Rt Evaluation - Time Step: {i}')\n",
    "      plt.xlim(0, training_days+forecasting_days+10)\n",
    "      #plt.ylim(-2, 3)\n",
    "      plt.legend(loc='upper left')\n",
    "      plt.show()\n",
    "\n",
    "    with torch.no_grad():\n",
    "      lstm.hidden_cell = (torch.zeros(1, 1, lstm.hidden_layer_size, dtype=dtype, device=device),\n",
    "                          torch.zeros(1, 1, lstm.hidden_layer_size, dtype=dtype, device=device))\n",
    "      predicted_daily_hospit, _, _, _ = forward_pass(model_input_data_t, epsilon_t, training_days, forecasting_days=28)\n",
    "      actual = observed_daily_hospit[training_days: training_days+28].cpu().detach().numpy()\n",
    "      predicted = predicted_daily_hospit[training_days: training_days+28].cpu().detach().numpy()\n",
    "      mae_vis.append(mean_absolute_error(actual, predicted))\n",
    "\n",
    "\n",
    "    R0_vis.append(R0.item())\n",
    "    sigma_vis.append(sigma.item())\n",
    "    phi_vis.append(phi.item())\n",
    "    alpha_vis.append(alpha.item())\n",
    "    lstm_vis.append(lstm_prediction.mean().item())\n",
    "    loss_vis.append(loss.item())\n",
    "    comp_loss_vis.append(comp_loss.item())\n",
    "    rw_loss_vis.append(rw_loss.item())\n",
    "    prior_loss_vis.append(prior_loss.item())\n",
    "      \n",
    "\n",
    "    if i % 250==0:\n",
    "      fig, axs = plt.subplots(5)\n",
    "      fig.suptitle(f'Evaluate Values')\n",
    "      fig.set_figheight(10)\n",
    "      axs[0].plot(R0_vis)\n",
    "      axs[0].title.set_text('R0')\n",
    "      axs[1].plot(sigma_vis)\n",
    "      axs[1].title.set_text('Sigma')\n",
    "      axs[2].plot(phi_vis)\n",
    "      axs[2].title.set_text('Phi')\n",
    "      axs[3].plot(alpha_vis)\n",
    "      axs[3].title.set_text('Alpha')\n",
    "      axs[4].plot(lstm_vis)\n",
    "      axs[4].title.set_text('LSTM_mean')\n",
    "      plt.show()\n",
    "\n",
    "      fig, axs = plt.subplots(5)\n",
    "      fig.suptitle(f'Loss & Performance Evaluation')\n",
    "      fig.set_figheight(10)\n",
    "      axs[0].plot(loss_vis)\n",
    "      axs[0].title.set_text('Total Loss')\n",
    "      axs[0].set_yscale('symlog')\n",
    "      axs[1].plot(rw_loss_vis)\n",
    "      axs[1].title.set_text('Random Walk Loss')\n",
    "      axs[2].plot(comp_loss_vis)\n",
    "      axs[2].title.set_text('Comparison Loss')\n",
    "      axs[2].set_yscale('log')\n",
    "      axs[3].plot(prior_loss_vis)\n",
    "      axs[3].title.set_text('Prior Loss')\n",
    "      axs[4].plot(mae_vis)\n",
    "      axs[4].title.set_text('Mean Absolute Error - 14 days Forecast')\n",
    "      plt.show()\n",
    "\n",
    "      plt.title('Prediction')\n",
    "      plt.plot(predicted_daily_hospit.cpu().detach().numpy(), label='predicted_daily_hospit')\n",
    "      plt.plot(observed_daily_hospit.cpu().detach().numpy(), label='observed_daily_hospit', alpha=0.3)\n",
    "      #plt.ylim(-10, 220)\n",
    "      plt.axvline(x=training_days, c='r', linestyle='--')\n",
    "      plt.legend()\n",
    "      plt.show()\n",
    "\n"
   ]
  },
  {
   "cell_type": "markdown",
   "metadata": {
    "id": "uotTixkuQ6DV"
   },
   "source": [
    "# Evaluate Model"
   ]
  },
  {
   "cell_type": "markdown",
   "metadata": {
    "id": "x3kPZH_fnWIt"
   },
   "source": [
    "### Evaluate Values"
   ]
  },
  {
   "cell_type": "code",
   "execution_count": null,
   "metadata": {
    "colab": {
     "background_save": true
    },
    "id": "kBaV-mhpUtXd",
    "outputId": "07c4aacb-d7fd-4e8c-b50c-1ca9f86c4965"
   },
   "outputs": [
    {
     "data": {
      "image/png": "[encoded data removed]",
      "text/plain": [
       "<Figure size 432x720 with 5 Axes>"
      ]
     },
     "metadata": {},
     "output_type": "display_data"
    }
   ],
   "source": [
    "fig, axs = plt.subplots(5)\n",
    "fig.suptitle(f'Evaluate Values')\n",
    "fig.set_figheight(10)\n",
    "axs[0].plot(R0_vis)\n",
    "axs[0].title.set_text('R0')\n",
    "axs[1].plot(sigma_vis)\n",
    "axs[1].title.set_text('Sigma')\n",
    "axs[2].plot(phi_vis)\n",
    "axs[2].title.set_text('Phi')\n",
    "axs[3].plot(alpha_vis)\n",
    "axs[3].title.set_text('Alpha')\n",
    "axs[4].plot(lstm_vis)\n",
    "axs[4].title.set_text('LSTM_mean')\n",
    "plt.show()"
   ]
  },
  {
   "cell_type": "markdown",
   "metadata": {
    "id": "zSQ73BK_nYLt"
   },
   "source": [
    "### Evaluate Loss"
   ]
  },
  {
   "cell_type": "code",
   "execution_count": null,
   "metadata": {
    "colab": {
     "background_save": true
    },
    "id": "ndNSX3RaUtao",
    "outputId": "e03f39a4-117a-41a9-fcd3-4f17a54adc33"
   },
   "outputs": [
    {
     "data": {
      "image/png": "[encoded data removed]",
      "text/plain": [
       "<Figure size 432x720 with 4 Axes>"
      ]
     },
     "metadata": {},
     "output_type": "display_data"
    }
   ],
   "source": [
    "fig, axs = plt.subplots(4)\n",
    "fig.suptitle(f'Loss Evaluation')\n",
    "fig.set_figheight(10)\n",
    "axs[0].plot(loss_vis)\n",
    "axs[0].title.set_text('Total Loss')\n",
    "axs[0].set_yscale('symlog')\n",
    "axs[1].plot(rw_loss_vis)\n",
    "axs[1].title.set_text('Random Walk Loss')\n",
    "axs[2].plot(comp_loss_vis)\n",
    "axs[2].title.set_text('Comparison Loss')\n",
    "axs[2].set_yscale('log')\n",
    "axs[3].plot(prior_loss_vis)\n",
    "axs[3].title.set_text('Prior Loss')\n",
    "#axs[3].set_yscale('log')\n",
    "plt.show()"
   ]
  },
  {
   "cell_type": "markdown",
   "metadata": {
    "id": "OvQbKo1bMWg0"
   },
   "source": [
    "### Prepare Input Data for Prediction"
   ]
  },
  {
   "cell_type": "code",
   "execution_count": null,
   "metadata": {
    "colab": {
     "background_save": true
    },
    "id": "bdHS_n6-Ae2x"
   },
   "outputs": [],
   "source": [
    "max_forecasting_days = 30"
   ]
  },
  {
   "cell_type": "markdown",
   "metadata": {
    "id": "yckaprFoVkiw"
   },
   "source": [
    "#### Prepare Weather Data"
   ]
  },
  {
   "cell_type": "code",
   "execution_count": null,
   "metadata": {
    "colab": {
     "background_save": true
    },
    "id": "BIxwVQnqVkqu",
    "outputId": "2671814a-4914-4b1f-dc69-e7b8d30e86ab"
   },
   "outputs": [
    {
     "data": {
      "image/png": "[encoded data removed]",
      "text/plain": [
       "<Figure size 432x288 with 1 Axes>"
      ]
     },
     "metadata": {},
     "output_type": "display_data"
    }
   ],
   "source": [
    "# first 5 days 90% accuracy, 80% accuracy until day 7 and after that 50% accuracy\n",
    "np_first_days = np.ones(5) * 0.9\n",
    "np_7_days = np.ones(2) * 0.8\n",
    "np_last_days = 1/np.linspace(2, 4, max_forecasting_days-7)\n",
    "np_noise = 1/np.concatenate((np_first_days, np_7_days, np_last_days))\n",
    "np_noise\n",
    "\n",
    "# specifiy detailed noise for rain, sun and temp\n",
    "rain_noise = np.random.randn(max_forecasting_days)\n",
    "sun_noise = np.random.randn(max_forecasting_days)\n",
    "temp_noise = np.random.randn(max_forecasting_days)\n",
    "\n",
    "\n",
    "import warnings\n",
    "with warnings.catch_warnings():\n",
    "    warnings.simplefilter('ignore')\n",
    "    df_weather_data_pred = df_weather_data.copy()\n",
    "    df_weather_data_pred['Hours_of_Rain'][training_days:training_days+max_forecasting_days] = np.max((df_weather_data_pred['Hours_of_Rain'][training_days:training_days+max_forecasting_days] + rain_noise * np_noise, np.zeros(max_forecasting_days)), axis=0)\n",
    "    df_weather_data_pred['Hours_of_Sun'][training_days:training_days+max_forecasting_days] = np.max((df_weather_data_pred['Hours_of_Sun'][training_days:training_days+max_forecasting_days] + sun_noise * np_noise, np.zeros(max_forecasting_days)), axis=0)\n",
    "    df_weather_data_pred['Lowest_Temp'][training_days:training_days+max_forecasting_days] = df_weather_data_pred['Lowest_Temp'][training_days:training_days+max_forecasting_days] + temp_noise * np_noise\n",
    "    df_weather_data_pred['Highest_Temp'][training_days:training_days+max_forecasting_days] = df_weather_data_pred['Highest_Temp'][training_days:training_days+max_forecasting_days] + temp_noise * np_noise\n",
    "    df_weather_data_pred['Avg_Temp'][training_days:training_days+max_forecasting_days] = df_weather_data_pred['Avg_Temp'][training_days:training_days+max_forecasting_days] + temp_noise * np_noise\n",
    "\n",
    "plt.plot(df_weather_data_pred[cols_weather][training_days-10:training_days+max_forecasting_days])\n",
    "plt.show()"
   ]
  },
  {
   "cell_type": "markdown",
   "metadata": {
    "id": "E0IpMm3tAPIi"
   },
   "source": [
    "#### Prepare Mobility Data"
   ]
  },
  {
   "cell_type": "code",
   "execution_count": null,
   "metadata": {
    "colab": {
     "background_save": true
    },
    "id": "K3s0kAq0FDEL",
    "outputId": "9ac29b73-8ce3-492d-9df2-f61698dad5d7"
   },
   "outputs": [
    {
     "data": {
      "image/png": "[encoded data removed]",
      "text/plain": [
       "<Figure size 432x288 with 1 Axes>"
      ]
     },
     "metadata": {},
     "output_type": "display_data"
    }
   ],
   "source": [
    "mob_data_training_np = mob_data[cols_mob][:training_days].to_numpy()\n",
    "mob_data_mean = np.ones((max_forecasting_days, len(cols_mob))) * np.mean(mob_data_training_np[-7:], 0)\n",
    "df_mob_data_pred = pd.DataFrame(np.concatenate((mob_data_training_np, mob_data_mean), axis=0), columns=cols_mob).reset_index(drop=True)\n",
    "plt.plot(df_mob_data_pred)\n",
    "plt.show()"
   ]
  },
  {
   "cell_type": "markdown",
   "metadata": {
    "id": "chCLBDHdAUFV"
   },
   "source": [
    "#### Create Forecasting Input Data"
   ]
  },
  {
   "cell_type": "code",
   "execution_count": null,
   "metadata": {
    "colab": {
     "background_save": true
    },
    "id": "Tpu-5IjTbvNo",
    "outputId": "a63c6ab9-a6dc-4098-98dc-e27893d96359"
   },
   "outputs": [
    {
     "data": {
      "text/plain": [
       "torch.Size([380, 11])"
      ]
     },
     "execution_count": null,
     "metadata": {},
     "output_type": "execute_result"
    }
   ],
   "source": [
    "prediction_data = pd.concat((df_mob_data_pred[cols_mob][:training_days+max_forecasting_days], df_weather_data_pred[cols_weather][:training_days+max_forecasting_days]), axis=1)\n",
    "np_prediction_data = prediction_data[cols].to_numpy()\n",
    "np_prediction_data_scaled = scaler.transform(np_prediction_data)\n",
    "prediction_data_t = torch.tensor(np_prediction_data_scaled, dtype=dtype, device=device)\n",
    "prediction_data_t.shape"
   ]
  },
  {
   "cell_type": "markdown",
   "metadata": {
    "id": "wHnUjaXtnanq"
   },
   "source": [
    "### Show Prediction"
   ]
  },
  {
   "cell_type": "code",
   "execution_count": null,
   "metadata": {
    "colab": {
     "background_save": true
    },
    "id": "ZzPYwThCNJs0"
   },
   "outputs": [],
   "source": [
    "forecasting_days = 28"
   ]
  },
  {
   "cell_type": "code",
   "execution_count": null,
   "metadata": {
    "colab": {
     "background_save": true
    },
    "id": "Q2cVvYpmJL9u"
   },
   "outputs": [],
   "source": [
    "with torch.no_grad():\n",
    "  lstm.hidden_cell = (torch.zeros(1, 1, lstm.hidden_layer_size, dtype=dtype, device=device),\n",
    "                      torch.zeros(1, 1, lstm.hidden_layer_size, dtype=dtype, device=device))\n",
    "  predicted_daily_hospit, lstm_prediction, beta_0, eta_t = forward_pass(prediction_data_t, epsilon_t, training_days, forecasting_days=forecasting_days)"
   ]
  },
  {
   "cell_type": "code",
   "execution_count": null,
   "metadata": {
    "colab": {
     "background_save": true
    },
    "id": "M02GWyh8JMAO",
    "outputId": "40174990-6ba9-4c41-b8da-c91be8134c1d"
   },
   "outputs": [
    {
     "data": {
      "image/png": "[encoded data removed]",
      "text/plain": [
       "<Figure size 432x288 with 1 Axes>"
      ]
     },
     "metadata": {},
     "output_type": "display_data"
    }
   ],
   "source": [
    "plt.plot(predicted_daily_hospit.cpu().detach().numpy(), label='predicted_daily_hospit')\n",
    "#plt.plot(expected_daily_hospit.cpu().detach().numpy(), label='expected_daily_hospit')\n",
    "plt.plot(observed_daily_hospit.cpu().detach().numpy(), label='observed_daily_hospit', alpha=0.3)\n",
    "plt.axvline(x=training_days, c='r', linestyle='--')\n",
    "plt.legend()\n",
    "plt.show()"
   ]
  },
  {
   "cell_type": "code",
   "execution_count": null,
   "metadata": {
    "colab": {
     "background_save": true
    },
    "id": "-_dfmFsRmnGE",
    "outputId": "6513784b-d726-44d0-c51c-1e0692e27274"
   },
   "outputs": [
    {
     "data": {
      "image/png": "[encoded data removed]",
      "text/plain": [
       "<Figure size 432x288 with 1 Axes>"
      ]
     },
     "metadata": {},
     "output_type": "display_data"
    }
   ],
   "source": [
    "plt.plot(predicted_daily_hospit.cpu().detach().numpy(), label='predicted_daily_hospit')\n",
    "plt.plot(observed_daily_hospit.cpu().detach().numpy(), label='observed_daily_hospit', alpha=0.3)\n",
    "plt.axvline(x=training_days, c='r', linestyle='--')\n",
    "plt.xlim(training_days-15, training_days+forecasting_days+1)\n",
    "#plt.ylim(-10, 3000)\n",
    "plt.legend()\n",
    "plt.show()"
   ]
  },
  {
   "cell_type": "code",
   "execution_count": null,
   "metadata": {
    "colab": {
     "background_save": true
    },
    "id": "xTZXmwIud_Tx"
   },
   "outputs": [],
   "source": [
    "with torch.no_grad():\n",
    "  lstm.hidden_cell = (torch.zeros(1, 1, lstm.hidden_layer_size, dtype=dtype, device=device),\n",
    "                      torch.zeros(1, 1, lstm.hidden_layer_size, dtype=dtype, device=device))\n",
    "  predicted_daily_hospit_model_data, lstm_prediction, beta_0, eta_t = forward_pass(model_input_data_t, epsilon_t, training_days, forecasting_days=forecasting_days)"
   ]
  },
  {
   "cell_type": "code",
   "execution_count": null,
   "metadata": {
    "colab": {
     "background_save": true
    },
    "id": "rkDE2uKsUteT",
    "outputId": "ce9476e8-1e83-419d-fb0c-75600c3cd5e0"
   },
   "outputs": [
    {
     "data": {
      "image/png": "[encoded data removed]",
      "text/plain": [
       "<Figure size 432x288 with 1 Axes>"
      ]
     },
     "metadata": {},
     "output_type": "display_data"
    }
   ],
   "source": [
    "plt.plot(predicted_daily_hospit_model_data.cpu().detach().numpy(), label='predicted_daily_hospit')\n",
    "plt.plot(expected_daily_hospit.cpu().detach().numpy(), label='expected_daily_hospit')\n",
    "plt.plot(observed_daily_hospit.cpu().detach().numpy(), label='observed_daily_hospit', alpha=0.3)\n",
    "plt.axvline(x=training_days, c='r', linestyle='--')\n",
    "plt.legend()\n",
    "plt.show()"
   ]
  },
  {
   "cell_type": "code",
   "execution_count": null,
   "metadata": {
    "colab": {
     "background_save": true
    },
    "id": "6fvMd0E1I2Dv",
    "outputId": "a86d6eb0-e860-41a7-d895-5ce795a07bc8"
   },
   "outputs": [
    {
     "data": {
      "text/plain": [
       "<matplotlib.legend.Legend at 0x7f45e2baa810>"
      ]
     },
     "execution_count": null,
     "metadata": {},
     "output_type": "execute_result"
    },
    {
     "data": {
      "image/png": "[encoded data removed]",
      "text/plain": [
       "<Figure size 432x288 with 1 Axes>"
      ]
     },
     "metadata": {},
     "output_type": "display_data"
    }
   ],
   "source": [
    "plt.plot(epsilon_t.cpu().detach().numpy(), label='epsilon_t')\n",
    "plt.plot(lstm_prediction.cpu().detach().numpy(), label='lstm_prediction')\n",
    "plt.plot(np.full(training_days, beta_0.cpu().detach().numpy()), label='beta_0')\n",
    "plt.plot(eta_t.cpu().detach().numpy(), label='eta_t')\n",
    "plt.title(f'Rt Evaluation - Time Step: {i}')\n",
    "plt.xlim(0, training_days+forecasting_days+10)\n",
    "#plt.ylim(-2, 3)\n",
    "plt.legend(loc='upper left')"
   ]
  },
  {
   "cell_type": "markdown",
   "metadata": {
    "id": "RdBaNa8Qn3vl"
   },
   "source": [
    "### Evaluate Prediction"
   ]
  },
  {
   "cell_type": "code",
   "execution_count": null,
   "metadata": {
    "colab": {
     "background_save": true
    },
    "id": "vDUi-qQF6YdL",
    "outputId": "ae9aa4b4-7b4e-4e12-fd01-bc8d3cd38b9e"
   },
   "outputs": [
    {
     "data": {
      "text/plain": [
       "[(7, 5.673446), (14, 6.013114), (21, 6.6818733), (28, 9.36991)]"
      ]
     },
     "execution_count": null,
     "metadata": {},
     "output_type": "execute_result"
    }
   ],
   "source": [
    "eval_horizons = [7, 14, 21, 28]\n",
    "eval_results = []\n",
    "for i in eval_horizons:\n",
    "  actual = observed_daily_hospit[training_days: training_days + i].cpu().detach().numpy()\n",
    "  predicted = predicted_daily_hospit[training_days: training_days + i].cpu().detach().numpy()\n",
    "  mae = mean_absolute_error(actual, predicted)\n",
    "  eval_results.append((i, mae))\n",
    "eval_results"
   ]
  }
 ],
 "metadata": {
  "accelerator": "GPU",
  "colab": {
   "collapsed_sections": [],
   "machine_shape": "hm",
   "name": "new_Timo_Covid_pred_master_MobWeather.ipynb",
   "provenance": []
  },
  "kernelspec": {
   "display_name": "Python 3",
   "name": "python3"
  },
  "language_info": {
   "name": "python"
  }
 },
 "nbformat": 4,
 "nbformat_minor": 0
}