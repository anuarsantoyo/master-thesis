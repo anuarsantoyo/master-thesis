{
 "cells": [
  {
   "cell_type": "code",
   "execution_count": 5,
   "metadata": {
    "collapsed": true,
    "pycharm": {
     "name": "#%%\n"
    }
   },
   "outputs": [],
   "source": [
    "import numpy as np\n",
    "import pandas as pd\n",
    "import matplotlib.pyplot as plt\n",
    "import seaborn as sns\n",
    "import time\n",
    "import torch\n",
    "from torch import distributions, optim"
   ]
  },
  {
   "cell_type": "code",
   "execution_count": 6,
   "outputs": [],
   "source": [
    "import pickle\n",
    "\n",
    "with open('../linear_non_careful10.pickle', 'rb') as f:\n",
    "    # The protocol version used is detected automatically, so we do not\n",
    "    # have to specify it.\n",
    "    factors_info = pickle.load(f)"
   ],
   "metadata": {
    "collapsed": false,
    "pycharm": {
     "name": "#%%\n"
    }
   }
  },
  {
   "cell_type": "markdown",
   "source": [
    "# Losses comparison"
   ],
   "metadata": {
    "collapsed": false,
    "pycharm": {
     "name": "#%% md\n"
    }
   }
  },
  {
   "cell_type": "code",
   "execution_count": null,
   "outputs": [],
   "source": [
    "df_new = pd.DataFrame(columns=['factor', 'meta_epoch','day', 'loss'])\n",
    "for factor in factors_info.keys():\n",
    "    for meta_epoch in factors_info[factor]['loss_development'].keys():\n",
    "        losses = list(factors_info[factor]['loss_development'][meta_epoch])\n",
    "        df_dict = {'factor':[factor]*len(losses), 'meta_epoch': [meta_epoch]*len(losses),'day': list(range(len(losses))), 'loss': losses}\n",
    "        df_old = pd.DataFrame(df_dict)\n",
    "        df_new = pd.concat([df_new, df_old], ignore_index=True)"
   ],
   "metadata": {
    "collapsed": false,
    "pycharm": {
     "name": "#%%\n"
    }
   }
  },
  {
   "cell_type": "code",
   "execution_count": null,
   "outputs": [],
   "source": [
    "df_new.replace({\"['F0_cautious_behaviour', 'F1_perception_advice', 'F2_applicability_usefullness_advice', 'F3_behaviour_others', 'F4_consequence_advice']\": 'all'}, inplace=True)"
   ],
   "metadata": {
    "collapsed": false,
    "pycharm": {
     "name": "#%%\n"
    }
   }
  },
  {
   "cell_type": "code",
   "execution_count": null,
   "outputs": [],
   "source": [
    "plt.figure(figsize=(30,10))\n",
    "sns.lineplot(data=df_new, x=\"day\", y=\"loss\", hue=\"factor\")\n",
    "plt.title('Losses development')\n",
    "#plt.savefig('../data/modeling/losses_development.png')"
   ],
   "metadata": {
    "collapsed": false,
    "pycharm": {
     "name": "#%%\n"
    }
   }
  },
  {
   "cell_type": "markdown",
   "source": [
    "# Prediction Comparison"
   ],
   "metadata": {
    "collapsed": false,
    "pycharm": {
     "name": "#%% md\n"
    }
   }
  },
  {
   "cell_type": "code",
   "execution_count": null,
   "outputs": [],
   "source": [
    "df_new = pd.DataFrame(columns=['factor', 'meta_epoch','day', 'hospitalized'])\n",
    "for factor in factors_info.keys():\n",
    "    for meta_epoch in factors_info[factor]['meta_epoch_pred_test'].keys():\n",
    "        hospitalized = list(factors_info[factor]['meta_epoch_pred_test'][meta_epoch])\n",
    "        df_dict = {'factor':[factor]*len(hospitalized), 'meta_epoch': [meta_epoch]*len(hospitalized),'day': list(range(len(hospitalized))), 'hospitalized': hospitalized}\n",
    "        df_old = pd.DataFrame(df_dict)\n",
    "        df_new = pd.concat([df_new, df_old], ignore_index=True)"
   ],
   "metadata": {
    "collapsed": false,
    "pycharm": {
     "name": "#%%\n"
    }
   }
  },
  {
   "cell_type": "code",
   "execution_count": null,
   "outputs": [],
   "source": [
    "df_new.replace({\"['F0_cautious_behaviour', 'F1_perception_advice', 'F2_applicability_usefullness_advice', 'F3_behaviour_others', 'F4_consequence_advice']\": 'all'}, inplace=True)\n"
   ],
   "metadata": {
    "collapsed": false,
    "pycharm": {
     "name": "#%%\n"
    }
   }
  },
  {
   "cell_type": "code",
   "execution_count": null,
   "outputs": [],
   "source": [
    "from model.methods import *\n",
    "from model.modelcore import epid_model\n",
    "from model.modelhelper import *\n",
    "from clustering.utils import *\n",
    "start_time='2020-08-01' # Mitte November/ Anfang Dezember bis Februar\n",
    "end_time='2021-02-01'\n",
    "test_end_time='2021-02-01' # Begin Vaccination Wave\n",
    "observation = 'hospitalization'\n",
    "df_obs_initial = pd.read_csv('data/observations.csv' , sep=';', thousands='.', decimal=',', encoding='utf-8', parse_dates=['Date'])\n",
    "rolling_avg_obs = 1\n",
    "dtype = torch.float32\n",
    "device = torch.device(\"cuda:0\" if torch.cuda.is_available() else \"cpu\") #cuda:0\n",
    "\n",
    "# Initialize Observations Training\n",
    "df_obs, initial_newly_infected = initialize_observations(df_obs_initial, start=start_time, end=end_time, rolling_avg=rolling_avg_obs)\n",
    "observed_train = torch.tensor(df_obs[observation], requires_grad=False, device=device, dtype=dtype)\n",
    "\n",
    "df_obs.head(3)"
   ],
   "metadata": {
    "collapsed": false,
    "pycharm": {
     "name": "#%%\n"
    }
   }
  },
  {
   "cell_type": "code",
   "execution_count": null,
   "outputs": [],
   "source": [
    "train_size = factors_info[\"['F0_cautious_behaviour']\"]['meta_epoch_pred'][0].size\n",
    "plt.figure(figsize=(30,10))\n",
    "plt.plot(observed_train.detach().numpy()[:train_size])\n",
    "sns.lineplot(data=df_new[df_new['day']<train_size], x=\"day\", y=\"hospitalized\", hue=\"factor\")\n",
    "plt.axvline(x = factors_info[\"['F0_cautious_behaviour']\"]['meta_epoch_pred'][0].size, color = 'b', label = 'axvline - full height')\n",
    "plt.title('Hospitalized')\n",
    "plt.show()"
   ],
   "metadata": {
    "collapsed": false,
    "pycharm": {
     "name": "#%%\n"
    }
   }
  },
  {
   "cell_type": "code",
   "execution_count": null,
   "outputs": [],
   "source": [
    "#plt.figure(figsize=(15,15))\n",
    "plt.figure(figsize=(30,10))\n",
    "plt.plot(observed_train.detach().numpy())\n",
    "sns.lineplot(data=df_new, x=\"day\", y=\"hospitalized\", hue=\"factor\")\n",
    "plt.axvline(x = train_size, color = 'b', label = 'axvline - full height')\n",
    "plt.title('Hospitalized')\n",
    "plt.show()\n",
    "#plt.savefig('data/modeling/predictions_factor_comparison.png')"
   ],
   "metadata": {
    "collapsed": false,
    "pycharm": {
     "name": "#%%\n"
    }
   }
  },
  {
   "cell_type": "markdown",
   "source": [
    "# Parameter comparison"
   ],
   "metadata": {
    "collapsed": false,
    "pycharm": {
     "name": "#%% md\n"
    }
   }
  },
  {
   "cell_type": "code",
   "execution_count": null,
   "outputs": [],
   "source": [
    "loss_list = []\n",
    "alpha_list = []\n",
    "phi_list = []\n",
    "\n",
    "for factor in factors_info.keys():\n",
    "    for meta_epoch in factors_info[factor]['loss_development'].keys():\n",
    "        loss_list.append({'factor':factor, 'meta_epoch':meta_epoch, 'loss':factors_info[factor]['meta_epoch_params'][meta_epoch]['loss'].detach().item()})\n",
    "        alpha_list.append({'factor':factor, 'meta_epoch':meta_epoch, 'alpha':factors_info[factor]['meta_epoch_params'][meta_epoch]['alpha'].item()})\n",
    "        phi_list.append({'factor':factor, 'meta_epoch':meta_epoch, 'phi':factors_info[factor]['meta_epoch_params'][meta_epoch]['phi'].item()})\n",
    "\n",
    "df_loss = pd.DataFrame(loss_list)\n",
    "df_alpha = pd.DataFrame(alpha_list)\n",
    "df_phi = pd.DataFrame(phi_list)\n",
    "\n",
    "df_loss.replace({\"['F0_cautious_behaviour', 'F1_perception_advice', 'F2_applicability_usefullness_advice', 'F3_behaviour_others', 'F4_consequence_advice']\": 'all'}, inplace=True)\n",
    "\n",
    "df_alpha.replace({\"['F0_cautious_behaviour', 'F1_perception_advice', 'F2_applicability_usefullness_advice', 'F3_behaviour_others', 'F4_consequence_advice']\": 'all'}, inplace=True)\n",
    "\n",
    "df_phi.replace({\"['F0_cautious_behaviour', 'F1_perception_advice', 'F2_applicability_usefullness_advice', 'F3_behaviour_others', 'F4_consequence_advice']\": 'all'}, inplace=True)\n",
    "\n",
    "plt.figure(figsize=(30,10))\n",
    "sns.boxplot(data=df_loss, x=\"factor\", y=\"loss\")\n",
    "plt.title('Losses')\n",
    "plt.show()\n",
    "\n",
    "plt.figure(figsize=(30,10))\n",
    "sns.boxplot(data=df_alpha, x=\"factor\", y=\"alpha\")\n",
    "plt.title('alpha')\n",
    "plt.show()\n",
    "\n",
    "plt.figure(figsize=(30,10))\n",
    "sns.boxplot(data=df_phi, x=\"factor\", y=\"phi\")\n",
    "plt.title('phi')\n",
    "plt.show()"
   ],
   "metadata": {
    "collapsed": false,
    "pycharm": {
     "name": "#%%\n"
    }
   }
  },
  {
   "cell_type": "code",
   "execution_count": null,
   "outputs": [],
   "source": [
    "df_factors_all_list = []\n",
    "for meta_epoch in  factors_info[\"['F0_cautious_behaviour', 'F1_perception_advice', 'F2_applicability_usefullness_advice', 'F3_behaviour_others', 'F4_consequence_advice']\"]['meta_epoch_params'].keys():\n",
    "\n",
    "    m = factors_info[\"['F0_cautious_behaviour', 'F1_perception_advice', 'F2_applicability_usefullness_advice', 'F3_behaviour_others', 'F4_consequence_advice']\"]['meta_epoch_params'][meta_epoch]['lin_params'][0].detach()[0].to('cpu').numpy()\n",
    "\n",
    "    b = factors_info[\"['F0_cautious_behaviour', 'F1_perception_advice', 'F2_applicability_usefullness_advice', 'F3_behaviour_others', 'F4_consequence_advice']\"]['meta_epoch_params'][meta_epoch]['lin_params'][1].detach()[0].to('cpu').numpy()\n",
    "\n",
    "    df_factors_all_list.append({'f0':m[0], 'f1':m[1], 'f2':m[2], 'f3':m[3], 'f4':m[4], 'b':b.item()})\n",
    "\n",
    "df_factors_all = pd.DataFrame(df_factors_all_list)\n",
    "df_factors_all.boxplot()\n",
    "plt.title('Linear Parameters')\n",
    "plt.show()"
   ],
   "metadata": {
    "collapsed": false,
    "pycharm": {
     "name": "#%%\n"
    }
   }
  },
  {
   "cell_type": "code",
   "execution_count": null,
   "outputs": [],
   "source": [
    "factors_info.keys()"
   ],
   "metadata": {
    "collapsed": false,
    "pycharm": {
     "name": "#%%\n"
    }
   }
  },
  {
   "cell_type": "code",
   "execution_count": null,
   "outputs": [],
   "source": [
    "factors_info[\"['F0_cautious_behaviour']\"]['meta_epoch_params'][0]['lin_params'][0].detach()[0].to('cpu').numpy().item()"
   ],
   "metadata": {
    "collapsed": false,
    "pycharm": {
     "name": "#%%\n"
    }
   }
  },
  {
   "cell_type": "code",
   "execution_count": null,
   "outputs": [],
   "source": [
    "\n",
    "for factor in[\"['F0_cautious_behaviour']\", \"['F1_perception_advice']\", \"['F2_applicability_usefullness_advice']\", \"['F3_behaviour_others']\", \"['F4_consequence_advice']\"]:\n",
    "    df_factors_list = []\n",
    "    for meta_epoch in  factors_info[factor]['meta_epoch_params'].keys():\n",
    "\n",
    "        m = factors_info[factor]['meta_epoch_params'][meta_epoch]['lin_params'][0].detach()[0].to('cpu').numpy()\n",
    "\n",
    "        b = factors_info[factor]['meta_epoch_params'][meta_epoch]['lin_params'][1].detach()[0].to('cpu').numpy()\n",
    "\n",
    "        df_factors_list.append({f'{factor}':m.item(), 'b':b.item()})\n",
    "\n",
    "    df_factors = pd.DataFrame(df_factors_list)\n",
    "    df_factors.boxplot()\n",
    "    plt.title(f'Linear Parameters: {factor}')\n",
    "    plt.show()\n"
   ],
   "metadata": {
    "collapsed": false,
    "pycharm": {
     "name": "#%%\n"
    }
   }
  }
 ],
 "metadata": {
  "kernelspec": {
   "display_name": "Python 3",
   "language": "python",
   "name": "python3"
  },
  "language_info": {
   "codemirror_mode": {
    "name": "ipython",
    "version": 2
   },
   "file_extension": ".py",
   "mimetype": "text/x-python",
   "name": "python",
   "nbconvert_exporter": "python",
   "pygments_lexer": "ipython2",
   "version": "2.7.6"
  }
 },
 "nbformat": 4,
 "nbformat_minor": 0
}