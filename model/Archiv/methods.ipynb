{
 "cells": [
  {
   "cell_type": "markdown",
   "metadata": {
    "collapsed": true,
    "pycharm": {
     "name": "#%% md\n"
    }
   },
   "source": [
    "# Functions to determine R-values"
   ]
  },
  {
   "cell_type": "code",
   "execution_count": 1,
   "outputs": [],
   "source": [
    "from model.modelhelper import *\n",
    "from torch import distributions"
   ],
   "metadata": {
    "collapsed": false,
    "pycharm": {
     "name": "#%%\n"
    }
   }
  },
  {
   "cell_type": "markdown",
   "source": [
    "## Random Walk"
   ],
   "metadata": {
    "collapsed": false,
    "pycharm": {
     "name": "#%% md\n"
    }
   }
  },
  {
   "cell_type": "code",
   "execution_count": 7,
   "outputs": [],
   "source": [
    "class RandomWalk():\n",
    "    def __init__(self, n_observations, device, dtype):\n",
    "        self.device = device\n",
    "        self.dtype = dtype\n",
    "        self.n_observations = n_observations\n",
    "\n",
    "        self.dict_model_param =get_dict_model_param()\n",
    "        self.sigma = self.dict_model_param['value']['sigma']\n",
    "        self.sigma_prime = initialize_prime_param('sigma', self.device, self.dtype)\n",
    "\n",
    "        self.R0 = self.dict_model_param['value']['R0']\n",
    "        self.R0_prime = initialize_prime_param('R0', self.device, self.dtype)\n",
    "\n",
    "        self.epsilon_t = initialize_epsilon(self.n_observations, self.sigma, self.device, self.dtype)\n",
    "\n",
    "    def get_parameters(self):\n",
    "        return [self.epsilon_t, self.sigma_prime, self.R0_prime]\n",
    "\n",
    "    def calculate_R(self):\n",
    "        self.R0 = bij_transform(self.R0_prime, self.dict_model_param['lower']['R0'], self.dict_model_param['upper']['R0'])\n",
    "\n",
    "        self.sigma = bij_transform(self.sigma_prime, self.dict_model_param['lower']['sigma'], self.dict_model_param['upper']['sigma'])\n",
    "\n",
    "        # Initialize eta\n",
    "        eta = torch.zeros(self.n_observations, device=self.device, dtype=self.dtype)  # transformed reproduction number\n",
    "        # calculate Rt: the basic reproduction number\n",
    "        # basic reproduction number as a latent random walk\n",
    "        beta_0 = torch.log(self.R0)\n",
    "        eta[0] = beta_0\n",
    "        eta[1:] =beta_0 + self.epsilon_t[0:self.n_observations-1]\n",
    "        R = torch.exp(eta)\n",
    "        return R\n",
    "\n",
    "    def calculate_loss(self):\n",
    "        return calc_random_walk_loss() + calc_prior_loss()\n",
    "\n",
    "    def calc_random_walk_loss(self):\n",
    "      loc = self.epsilon_t[:self.n_observations-1]\n",
    "      scale = self.sigma * torch.ones(self.n_observations - 1, device=self.device, dtype=self.dtype)\n",
    "      mvn = distributions.multivariate_normal.MultivariateNormal(loc, scale_tril=torch.diag(scale))\n",
    "      ll = mvn.log_prob(self.epsilon_t[1:self.n_observations])\n",
    "      return -ll\n",
    "\n",
    "    def calc_prior_loss(self):\n",
    "        ll = torch.tensor(0.0, device=self.device, dtype=self.dtype)\n",
    "\n",
    "        value = torch.tensor(self.dict_model_param['value']['sigma'], device=self.device, dtype=self.dtype)\n",
    "        scale = torch.tensor(self.dict_model_param['scale']['sigma'], device=self.device, dtype=self.dtype)\n",
    "\n",
    "        ll += distributions.normal.Normal(loc=value, scale=scale).log_prob(self.sigma)\n",
    "\n",
    "        value = torch.tensor(self.dict_model_param['value']['R0'], device=self.device, dtype=self.dtype)\n",
    "        scale = torch.tensor(self.dict_model_param['scale']['R0'], device=self.device, dtype=self.dtype)\n",
    "        ll += distributions.normal.Normal(loc=value, scale=scale).log_prob(self.R0)\n",
    "\n",
    "        return -ll\n"
   ],
   "metadata": {
    "collapsed": false,
    "pycharm": {
     "name": "#%%\n"
    }
   }
  },
  {
   "cell_type": "code",
   "execution_count": null,
   "outputs": [],
   "source": [],
   "metadata": {
    "collapsed": false,
    "pycharm": {
     "name": "#%%\n"
    }
   }
  },
  {
   "cell_type": "code",
   "execution_count": null,
   "outputs": [],
   "source": [],
   "metadata": {
    "collapsed": false,
    "pycharm": {
     "name": "#%%\n"
    }
   }
  }
 ],
 "metadata": {
  "kernelspec": {
   "display_name": "Python 3",
   "language": "python",
   "name": "python3"
  },
  "language_info": {
   "codemirror_mode": {
    "name": "ipython",
    "version": 2
   },
   "file_extension": ".py",
   "mimetype": "text/x-python",
   "name": "python",
   "nbconvert_exporter": "python",
   "pygments_lexer": "ipython2",
   "version": "2.7.6"
  }
 },
 "nbformat": 4,
 "nbformat_minor": 0
}