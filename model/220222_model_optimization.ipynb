{
 "cells": [
  {
   "cell_type": "markdown",
   "metadata": {
    "id": "jAejLl15fGhW"
   },
   "source": [
    "Input:\n",
    "- True Observations\n",
    "- Number Training Steps\n",
    "\n",
    "Output:\n",
    "- New Model Parameter\n",
    "\n",
    "Parts of Optimization:\n",
    "- Initialization of Model Parameter\n",
    "- tbd"
   ]
  },
  {
   "cell_type": "markdown",
   "metadata": {
    "id": "tzUv-gnXAaCX"
   },
   "source": [
    "# Initialization"
   ]
  },
  {
   "cell_type": "markdown",
   "metadata": {
    "id": "GZBwcFlyIXFq"
   },
   "source": [
    "## Import Libraries and Mount Drive"
   ]
  },
  {
   "cell_type": "code",
   "execution_count": 1,
   "metadata": {
    "executionInfo": {
     "elapsed": 1048,
     "status": "ok",
     "timestamp": 1645618569753,
     "user": {
      "displayName": "Timo9092",
      "photoUrl": "https://lh3.googleusercontent.com/a/default-user=s64",
      "userId": "13096063072157218091"
     },
     "user_tz": -60
    },
    "id": "NkXDaY_pAXG1"
   },
   "outputs": [],
   "source": [
    "import numpy as np\n",
    "import pandas as pd\n",
    "import matplotlib.pyplot as plt\n",
    "import time\n",
    "import torch\n",
    "from torch import distributions, optim"
   ]
  },
  {
   "cell_type": "code",
   "execution_count": 2,
   "metadata": {
    "colab": {
     "base_uri": "https://localhost:8080/"
    },
    "executionInfo": {
     "elapsed": 1714,
     "status": "ok",
     "timestamp": 1645618571461,
     "user": {
      "displayName": "Timo9092",
      "photoUrl": "https://lh3.googleusercontent.com/a/default-user=s64",
      "userId": "13096063072157218091"
     },
     "user_tz": -60
    },
    "id": "gMFNWln4HWP9",
    "outputId": "4212ad58-8377-449c-e316-c6ebb6bc023b"
   },
   "outputs": [
    {
     "output_type": "stream",
     "name": "stdout",
     "text": [
      "Drive already mounted at /content/drive; to attempt to forcibly remount, call drive.mount(\"/content/drive\", force_remount=True).\n",
      "/content/drive/MyDrive/GitHub/master-thesis\n"
     ]
    }
   ],
   "source": [
    "from google.colab import drive\n",
    "drive.mount('/content/drive')\n",
    "\n",
    "%cd /content/drive/MyDrive/GitHub/master-thesis\n",
    "\n",
    "import sys\n",
    "sys.path.append('/content/gdrive/My Drive/GitHub/master-thesis')\n",
    "\n",
    "from model.modelcore import epid_model\n",
    "from model.modelhelper import *"
   ]
  },
  {
   "cell_type": "markdown",
   "metadata": {
    "id": "w-S2ACi7Aqxg"
   },
   "source": [
    "## Optimization Settings"
   ]
  },
  {
   "cell_type": "code",
   "execution_count": 3,
   "metadata": {
    "executionInfo": {
     "elapsed": 307,
     "status": "ok",
     "timestamp": 1645618571756,
     "user": {
      "displayName": "Timo9092",
      "photoUrl": "https://lh3.googleusercontent.com/a/default-user=s64",
      "userId": "13096063072157218091"
     },
     "user_tz": -60
    },
    "id": "ZcVTuwjVAxUs"
   },
   "outputs": [],
   "source": [
    "start_time='2020-02-26'\n",
    "end_time='2020-09-30'\n",
    "observations=['Confirmed_cases', 'Admissions_hospital'] # ['Number_of_deaths', 'Confirmed_cases', 'Admissions_hospital']\n",
    "\n",
    "dtype = torch.float32\n",
    "device = torch.device(\"cuda:0\") #cuda:0"
   ]
  },
  {
   "cell_type": "markdown",
   "metadata": {
    "id": "CIvgyI6sAl3A"
   },
   "source": [
    "## Initialize Observations"
   ]
  },
  {
   "cell_type": "code",
   "execution_count": 4,
   "metadata": {
    "colab": {
     "base_uri": "https://localhost:8080/",
     "height": 143
    },
    "executionInfo": {
     "elapsed": 4644,
     "status": "ok",
     "timestamp": 1645618576398,
     "user": {
      "displayName": "Timo9092",
      "photoUrl": "https://lh3.googleusercontent.com/a/default-user=s64",
      "userId": "13096063072157218091"
     },
     "user_tz": -60
    },
    "id": "LjO9hxpX31Kx",
    "outputId": "29930600-7bec-4959-c080-c229631b63d9"
   },
   "outputs": [
    {
     "output_type": "execute_result",
     "data": {
      "text/html": [
       "\n",
       "  <div id=\"df-399439f0-4b13-42e7-a8df-c0ca55ece2f4\">\n",
       "    <div class=\"colab-df-container\">\n",
       "      <div>\n",
       "<style scoped>\n",
       "    .dataframe tbody tr th:only-of-type {\n",
       "        vertical-align: middle;\n",
       "    }\n",
       "\n",
       "    .dataframe tbody tr th {\n",
       "        vertical-align: top;\n",
       "    }\n",
       "\n",
       "    .dataframe thead th {\n",
       "        text-align: right;\n",
       "    }\n",
       "</style>\n",
       "<table border=\"1\" class=\"dataframe\">\n",
       "  <thead>\n",
       "    <tr style=\"text-align: right;\">\n",
       "      <th></th>\n",
       "      <th>Date</th>\n",
       "      <th>Confirmed_cases</th>\n",
       "      <th>Admissions_hospital</th>\n",
       "    </tr>\n",
       "  </thead>\n",
       "  <tbody>\n",
       "    <tr>\n",
       "      <th>0</th>\n",
       "      <td>2020-02-26</td>\n",
       "      <td>1</td>\n",
       "      <td>0</td>\n",
       "    </tr>\n",
       "    <tr>\n",
       "      <th>1</th>\n",
       "      <td>2020-02-27</td>\n",
       "      <td>1</td>\n",
       "      <td>0</td>\n",
       "    </tr>\n",
       "    <tr>\n",
       "      <th>2</th>\n",
       "      <td>2020-02-28</td>\n",
       "      <td>1</td>\n",
       "      <td>0</td>\n",
       "    </tr>\n",
       "  </tbody>\n",
       "</table>\n",
       "</div>\n",
       "      <button class=\"colab-df-convert\" onclick=\"convertToInteractive('df-399439f0-4b13-42e7-a8df-c0ca55ece2f4')\"\n",
       "              title=\"Convert this dataframe to an interactive table.\"\n",
       "              style=\"display:none;\">\n",
       "        \n",
       "  <svg xmlns=\"http://www.w3.org/2000/svg\" height=\"24px\"viewBox=\"0 0 24 24\"\n",
       "       width=\"24px\">\n",
       "    <path d=\"M0 0h24v24H0V0z\" fill=\"none\"/>\n",
       "    <path d=\"M18.56 5.44l.94 2.06.94-2.06 2.06-.94-2.06-.94-.94-2.06-.94 2.06-2.06.94zm-11 1L8.5 8.5l.94-2.06 2.06-.94-2.06-.94L8.5 2.5l-.94 2.06-2.06.94zm10 10l.94 2.06.94-2.06 2.06-.94-2.06-.94-.94-2.06-.94 2.06-2.06.94z\"/><path d=\"M17.41 7.96l-1.37-1.37c-.4-.4-.92-.59-1.43-.59-.52 0-1.04.2-1.43.59L10.3 9.45l-7.72 7.72c-.78.78-.78 2.05 0 2.83L4 21.41c.39.39.9.59 1.41.59.51 0 1.02-.2 1.41-.59l7.78-7.78 2.81-2.81c.8-.78.8-2.07 0-2.86zM5.41 20L4 18.59l7.72-7.72 1.47 1.35L5.41 20z\"/>\n",
       "  </svg>\n",
       "      </button>\n",
       "      \n",
       "  <style>\n",
       "    .colab-df-container {\n",
       "      display:flex;\n",
       "      flex-wrap:wrap;\n",
       "      gap: 12px;\n",
       "    }\n",
       "\n",
       "    .colab-df-convert {\n",
       "      background-color: #E8F0FE;\n",
       "      border: none;\n",
       "      border-radius: 50%;\n",
       "      cursor: pointer;\n",
       "      display: none;\n",
       "      fill: #1967D2;\n",
       "      height: 32px;\n",
       "      padding: 0 0 0 0;\n",
       "      width: 32px;\n",
       "    }\n",
       "\n",
       "    .colab-df-convert:hover {\n",
       "      background-color: #E2EBFA;\n",
       "      box-shadow: 0px 1px 2px rgba(60, 64, 67, 0.3), 0px 1px 3px 1px rgba(60, 64, 67, 0.15);\n",
       "      fill: #174EA6;\n",
       "    }\n",
       "\n",
       "    [theme=dark] .colab-df-convert {\n",
       "      background-color: #3B4455;\n",
       "      fill: #D2E3FC;\n",
       "    }\n",
       "\n",
       "    [theme=dark] .colab-df-convert:hover {\n",
       "      background-color: #434B5C;\n",
       "      box-shadow: 0px 1px 3px 1px rgba(0, 0, 0, 0.15);\n",
       "      filter: drop-shadow(0px 1px 2px rgba(0, 0, 0, 0.3));\n",
       "      fill: #FFFFFF;\n",
       "    }\n",
       "  </style>\n",
       "\n",
       "      <script>\n",
       "        const buttonEl =\n",
       "          document.querySelector('#df-399439f0-4b13-42e7-a8df-c0ca55ece2f4 button.colab-df-convert');\n",
       "        buttonEl.style.display =\n",
       "          google.colab.kernel.accessAllowed ? 'block' : 'none';\n",
       "\n",
       "        async function convertToInteractive(key) {\n",
       "          const element = document.querySelector('#df-399439f0-4b13-42e7-a8df-c0ca55ece2f4');\n",
       "          const dataTable =\n",
       "            await google.colab.kernel.invokeFunction('convertToInteractive',\n",
       "                                                     [key], {});\n",
       "          if (!dataTable) return;\n",
       "\n",
       "          const docLinkHtml = 'Like what you see? Visit the ' +\n",
       "            '<a target=\"_blank\" href=https://colab.research.google.com/notebooks/data_table.ipynb>data table notebook</a>'\n",
       "            + ' to learn more about interactive tables.';\n",
       "          element.innerHTML = '';\n",
       "          dataTable['output_type'] = 'display_data';\n",
       "          await google.colab.output.renderOutput(dataTable, element);\n",
       "          const docLink = document.createElement('div');\n",
       "          docLink.innerHTML = docLinkHtml;\n",
       "          element.appendChild(docLink);\n",
       "        }\n",
       "      </script>\n",
       "    </div>\n",
       "  </div>\n",
       "  "
      ],
      "text/plain": [
       "        Date  Confirmed_cases  Admissions_hospital\n",
       "0 2020-02-26                1                    0\n",
       "1 2020-02-27                1                    0\n",
       "2 2020-02-28                1                    0"
      ]
     },
     "metadata": {},
     "execution_count": 4
    }
   ],
   "source": [
    "df_obs_initial = pd.read_csv('data/observations_03022022.csv' , sep=';', thousands='.', decimal=',', encoding='utf-8', parse_dates=['Date'])\n",
    "df_obs = initialize_observations(df_obs_initial, start=start_time, end=end_time, observations=observations)\n",
    "observed = torch.tensor(df_obs['Confirmed_cases'], requires_grad=False, device=device, dtype=dtype)\n",
    "df_obs.head(3)"
   ]
  },
  {
   "cell_type": "code",
   "execution_count": 5,
   "metadata": {
    "colab": {
     "base_uri": "https://localhost:8080/",
     "height": 545
    },
    "executionInfo": {
     "elapsed": 1006,
     "status": "ok",
     "timestamp": 1645618577394,
     "user": {
      "displayName": "Timo9092",
      "photoUrl": "https://lh3.googleusercontent.com/a/default-user=s64",
      "userId": "13096063072157218091"
     },
     "user_tz": -60
    },
    "id": "m9s1g-biD9kJ",
    "outputId": "80915a28-5ef9-4a0b-e407-89e772809e83"
   },
   "outputs": [
    {
     "output_type": "display_data",
     "data": {
      "image/png": "[encoded data removed]",
      "text/plain": [
       "<Figure size 432x288 with 1 Axes>"
      ]
     },
     "metadata": {
      "needs_background": "light"
     }
    },
    {
     "output_type": "display_data",
     "data": {
      "image/png": "[encoded data removed]",
      "text/plain": [
       "<Figure size 432x288 with 1 Axes>"
      ]
     },
     "metadata": {
      "needs_background": "light"
     }
    }
   ],
   "source": [
    "for observation in observations:\n",
    "  plt.plot(df_obs['Date'], df_obs[observation])\n",
    "  plt.title(observation)\n",
    "  plt.show()"
   ]
  },
  {
   "cell_type": "markdown",
   "metadata": {
    "id": "sVY7bdcGDiCq"
   },
   "source": [
    "## Initialize Model Parameter"
   ]
  },
  {
   "cell_type": "markdown",
   "metadata": {
    "id": "EwsYZLKcJO9k"
   },
   "source": [
    "### Initialize Helper Parameter"
   ]
  },
  {
   "cell_type": "code",
   "execution_count": 6,
   "metadata": {
    "executionInfo": {
     "elapsed": 10,
     "status": "ok",
     "timestamp": 1645618577395,
     "user": {
      "displayName": "Timo9092",
      "photoUrl": "https://lh3.googleusercontent.com/a/default-user=s64",
      "userId": "13096063072157218091"
     },
     "user_tz": -60
    },
    "id": "P6A9L25BHjZ8"
   },
   "outputs": [],
   "source": [
    "cero = torch.tensor(0., requires_grad=False, device=device, dtype=dtype)\n",
    "num_observations = df_obs.shape[0]\n",
    "population = torch.tensor(5793636, requires_grad=False, device=device, dtype=dtype)"
   ]
  },
  {
   "cell_type": "markdown",
   "metadata": {
    "id": "H8sIHVnpJSFL"
   },
   "source": [
    "### Initialize to be optimized Model Parameter"
   ]
  },
  {
   "cell_type": "code",
   "source": [
    "thisdict = {\n",
    "  \"brand\": \"Ford\",\n",
    "  \"model\": \"Mustang\",\n",
    "  \"year\": 1964\n",
    "}\n",
    "thisdict[\"color\"] = \"red\"\n",
    "print(thisdict)"
   ],
   "metadata": {
    "id": "O54Wb5M9sG15"
   },
   "execution_count": null,
   "outputs": []
  },
  {
   "cell_type": "code",
   "source": [
    "parameter = ['R0', 'alpha', 'sigma', 'phi']\n",
    "dict_parameter = {'prime_values':{}, 'real_values': {}}\n",
    "for param in parameter:\n",
    "  dict_parameter['prime_values'][param + '_prime'] = initialize_prime_param(param, device, dtype)\n",
    "  dict_parameter['real_values'][param] = \n",
    "\n",
    "\n",
    "\n",
    "dict_parameter = {'prime_values': {'R0_prime': R0_prime, 'phi_prime': phi_prime, 'sigma_prime': sigma_prime, 'alpha_prime': alpha_prime},\n",
    "                  'real_values': {'R0': R0, 'phi': phi, 'sigma': sigma, 'alpha': alpha}}"
   ],
   "metadata": {
    "id": "WsNsbWOxq1QS"
   },
   "execution_count": null,
   "outputs": []
  },
  {
   "cell_type": "code",
   "source": [
    "dict_parameter = {'prime_values': {'R0_prime': R0_prime, 'phi_prime': phi_prime, 'sigma_prime': sigma_prime, 'alpha_prime': alpha_prime},\n",
    "                  'real_values': {'R0': R0, 'phi': phi, 'sigma': sigma, 'alpha': alpha}}"
   ],
   "metadata": {
    "id": "_rgpRG60qrnR"
   },
   "execution_count": null,
   "outputs": []
  },
  {
   "cell_type": "code",
   "source": [
    "R0_prime = initialize_prime_param('R0', device, dtype)\n",
    "phi_prime = initialize_prime_param('phi', device, dtype)\n",
    "sigma_prime = initialize_prime_param('sigma', device, dtype)\n",
    "alpha_prime = initialize_prime_param('alpha', device, dtype)"
   ],
   "metadata": {
    "id": "tU-FROg2_Q-H",
    "executionInfo": {
     "status": "ok",
     "timestamp": 1645618577396,
     "user_tz": -60,
     "elapsed": 10,
     "user": {
      "displayName": "Timo9092",
      "photoUrl": "https://lh3.googleusercontent.com/a/default-user=s64",
      "userId": "13096063072157218091"
     }
    }
   },
   "execution_count": 7,
   "outputs": []
  },
  {
   "cell_type": "code",
   "source": [
    "dict_model_param = get_dict_model_param()\n",
    "sigma_lower = dict_model_param['lower']['sigma']\n",
    "sigma_upper= dict_model_param['upper']['sigma']\n",
    "\n",
    "sigma = bij_transform(sigma_prime, sigma_lower, sigma_upper)\n",
    "\n",
    "alpha_lower = dict_model_param['lower']['alpha']\n",
    "alpha_upper= dict_model_param['upper']['alpha']"
   ],
   "metadata": {
    "id": "g9SccIEBHg3c",
    "executionInfo": {
     "status": "ok",
     "timestamp": 1645618577397,
     "user_tz": -60,
     "elapsed": 11,
     "user": {
      "displayName": "Timo9092",
      "photoUrl": "https://lh3.googleusercontent.com/a/default-user=s64",
      "userId": "13096063072157218091"
     }
    }
   },
   "execution_count": 8,
   "outputs": []
  },
  {
   "cell_type": "code",
   "source": [
    "epsilon_t = initialize_epsilon(num_observations, sigma, dtype=dtype, device=device)"
   ],
   "metadata": {
    "id": "tImmcyUfHg-K",
    "executionInfo": {
     "status": "ok",
     "timestamp": 1645618577615,
     "user_tz": -60,
     "elapsed": 228,
     "user": {
      "displayName": "Timo9092",
      "photoUrl": "https://lh3.googleusercontent.com/a/default-user=s64",
      "userId": "13096063072157218091"
     }
    }
   },
   "execution_count": 9,
   "outputs": []
  },
  {
   "cell_type": "code",
   "source": [
    ""
   ],
   "metadata": {
    "colab": {
     "base_uri": "https://localhost:8080/",
     "height": 184
    },
    "id": "72Qt-9uAjN-1",
    "executionInfo": {
     "status": "error",
     "timestamp": 1645620002209,
     "user_tz": -60,
     "elapsed": 9,
     "user": {
      "displayName": "Timo9092",
      "photoUrl": "https://lh3.googleusercontent.com/a/default-user=s64",
      "userId": "13096063072157218091"
     }
    },
    "outputId": "8180b3a5-39c0-41e1-97eb-154490968287"
   },
   "execution_count": 17,
   "outputs": [
    {
     "output_type": "error",
     "ename": "NameError",
     "evalue": "ignored",
     "traceback": [
      "\u001B[0;31m---------------------------------------------------------------------------\u001B[0m",
      "\u001B[0;31mNameError\u001B[0m                                 Traceback (most recent call last)",
      "\u001B[0;32m<ipython-input-17-9ca5e44bef51>\u001B[0m in \u001B[0;36m<module>\u001B[0;34m()\u001B[0m\n\u001B[1;32m      1\u001B[0m dict_parameter = {'prime_values': {'R0_prime': R0_prime, 'phi_prime': phi_prime, 'sigma_prime': sigma_prime, 'alpha_prime': alpha_prime},\n\u001B[0;32m----> 2\u001B[0;31m                   'real_values': {'R0': R0, 'phi': phi, 'sigma': sigma, 'alpha': alpha}}\n\u001B[0m",
      "\u001B[0;31mNameError\u001B[0m: name 'R0' is not defined"
     ]
    }
   ]
  },
  {
   "cell_type": "code",
   "source": [
    "prime_parameter = ['R0_prime', 'alpha_prime']\n",
    "def transform_prime_variables(prime_parameter=[]):\n",
    "  for prime in prime_parameter:\n",
    "    real_value = prime[:-6]\n",
    "    dict_parameter['real_values'][real_value] = bij_transform(prime, dict_model_param['lower'][real_value], dict_model_param['upper'][real_value])\n"
   ],
   "metadata": {
    "colab": {
     "base_uri": "https://localhost:8080/"
    },
    "id": "WSnnpvuylAZ2",
    "executionInfo": {
     "status": "ok",
     "timestamp": 1645619838260,
     "user_tz": -60,
     "elapsed": 265,
     "user": {
      "displayName": "Timo9092",
      "photoUrl": "https://lh3.googleusercontent.com/a/default-user=s64",
      "userId": "13096063072157218091"
     }
    },
    "outputId": "596e3478-019d-426f-c3b5-af46b32fe0d6"
   },
   "execution_count": 16,
   "outputs": [
    {
     "output_type": "stream",
     "name": "stdout",
     "text": [
      "R0\n",
      "alpha\n"
     ]
    }
   ]
  },
  {
   "cell_type": "markdown",
   "metadata": {
    "id": "EajyQpZdDpaO"
   },
   "source": [
    "# Optimization"
   ]
  },
  {
   "cell_type": "code",
   "source": [
    "def transform_variables(R0_prime, sigma_prime, phi_prime, alpha_prime):\n",
    "    R0 = bij_transform(R0_prime, lower=2, upper=5)\n",
    "    sigma = bij_transform(sigma_prime, lower=0.01, upper=0.5)\n",
    "    phi = bij_transform(phi_prime, lower=0.00001, upper=50)\n",
    "    alpha = bij_transform(alpha_prime, lower=0.001, upper=0.05)\n",
    "    return R0, sigma, phi, alpha"
   ],
   "metadata": {
    "id": "5L2BffEdh6wM"
   },
   "execution_count": null,
   "outputs": []
  },
  {
   "cell_type": "code",
   "source": [
    "def calc_prior_loss(R0, sigma, phi, alpha, device, dtpye): # To Do - use for loop - flexible input parameter\n",
    "  \"\"\"Takes R0, sigma, phi and alpha as an input and calculates the prior loss.\n",
    "  The prior loss is calculated by using the log-probability.\"\"\"\n",
    "\n",
    "  ll = torch.tensor(0.0, device=device, dtype=dtype)\n",
    "\n",
    "  ll += distributions.normal.Normal(loc=torch.tensor(dict_model_param['value']['R0'], device=device, dtype=dtype), scale=torch.tensor(dict_model_param['scale']['R0'], device=device, dtype=dtype)).log_prob(R0)[0] # neg\n",
    "\n",
    "  ll += distributions.normal.Normal(loc=torch.tensor(dict_model_param['value']['sigma'], device=device, dtype=dtype), scale=torch.tensor(dict_model_param['scale']['sigma'], device=device, dtype=dtype)).log_prob(sigma)[0]\n",
    "\n",
    "  ll += distributions.normal.Normal(loc=torch.tensor(dict_model_param['value']['phi'], device=device, dtype=dtype), scale=torch.tensor(dict_model_param['scale']['phi'], device=device, dtype=dtype)).log_prob(phi)[0]\n",
    "\n",
    "  ll += distributions.normal.Normal(loc=torch.tensor(dict_model_param['value']['alpha'], device=device, dtype=dtype), scale=torch.tensor(dict_model_param['scale']['alpha'], device=device, dtype=dtype)).log_prob(alpha)[0]\n",
    "\n",
    "  return -ll"
   ],
   "metadata": {
    "id": "FlTrXp7YiB47"
   },
   "execution_count": null,
   "outputs": []
  },
  {
   "cell_type": "code",
   "source": [
    ""
   ],
   "metadata": {
    "id": "bx65X5umiB7K"
   },
   "execution_count": null,
   "outputs": []
  },
  {
   "cell_type": "markdown",
   "metadata": {
    "id": "NxxX-CfKDxee"
   },
   "source": [
    "## Training"
   ]
  },
  {
   "cell_type": "code",
   "execution_count": 11,
   "metadata": {
    "colab": {
     "base_uri": "https://localhost:8080/",
     "height": 716
    },
    "executionInfo": {
     "elapsed": 10594,
     "status": "error",
     "timestamp": 1645618723206,
     "user": {
      "displayName": "Timo9092",
      "photoUrl": "https://lh3.googleusercontent.com/a/default-user=s64",
      "userId": "13096063072157218091"
     },
     "user_tz": -60
    },
    "id": "TrXB0cdHlOcZ",
    "outputId": "9c762cf8-006b-44f5-a5e8-4bdfa06fc9c8"
   },
   "outputs": [
    {
     "output_type": "stream",
     "name": "stdout",
     "text": [
      "Step: 0, Time: 0.3875465393066406, Loss: 926.8685913085938, Mean Expected Daily Hospit: 127.15943908691406\n"
     ]
    },
    {
     "output_type": "display_data",
     "data": {
      "image/png": "[encoded data removed]",
      "text/plain": [
       "<Figure size 432x288 with 1 Axes>"
      ]
     },
     "metadata": {
      "needs_background": "light"
     }
    },
    {
     "output_type": "stream",
     "name": "stdout",
     "text": [
      "Step: 5, Time: 0.3964836597442627, Loss: 1204.9840087890625, Mean Expected Daily Hospit: 136.85487365722656\n",
      "Step: 10, Time: 0.3783450126647949, Loss: 927.3226928710938, Mean Expected Daily Hospit: 124.27967834472656\n",
      "Step: 15, Time: 0.38234591484069824, Loss: 890.49365234375, Mean Expected Daily Hospit: 126.08877563476562\n",
      "Step: 20, Time: 0.37467312812805176, Loss: 892.6591796875, Mean Expected Daily Hospit: 128.89804077148438\n"
     ]
    },
    {
     "output_type": "error",
     "ename": "KeyboardInterrupt",
     "evalue": "ignored",
     "traceback": [
      "\u001B[0;31m---------------------------------------------------------------------------\u001B[0m",
      "\u001B[0;31mKeyboardInterrupt\u001B[0m                         Traceback (most recent call last)",
      "\u001B[0;32m<ipython-input-11-5169de17d1ee>\u001B[0m in \u001B[0;36m<module>\u001B[0;34m()\u001B[0m\n\u001B[1;32m     16\u001B[0m \u001B[0;34m\u001B[0m\u001B[0m\n\u001B[1;32m     17\u001B[0m   \u001B[0;31m# backward pass\u001B[0m\u001B[0;34m\u001B[0m\u001B[0;34m\u001B[0m\u001B[0;34m\u001B[0m\u001B[0m\n\u001B[0;32m---> 18\u001B[0;31m   \u001B[0mloss\u001B[0m\u001B[0;34m.\u001B[0m\u001B[0mbackward\u001B[0m\u001B[0;34m(\u001B[0m\u001B[0;34m)\u001B[0m\u001B[0;34m\u001B[0m\u001B[0;34m\u001B[0m\u001B[0m\n\u001B[0m\u001B[1;32m     19\u001B[0m   \u001B[0moptimizer\u001B[0m\u001B[0;34m.\u001B[0m\u001B[0mstep\u001B[0m\u001B[0;34m(\u001B[0m\u001B[0;34m)\u001B[0m\u001B[0;34m\u001B[0m\u001B[0;34m\u001B[0m\u001B[0m\n\u001B[1;32m     20\u001B[0m \u001B[0;34m\u001B[0m\u001B[0m\n",
      "\u001B[0;32m/usr/local/lib/python3.7/dist-packages/torch/_tensor.py\u001B[0m in \u001B[0;36mbackward\u001B[0;34m(self, gradient, retain_graph, create_graph, inputs)\u001B[0m\n\u001B[1;32m    305\u001B[0m                 \u001B[0mcreate_graph\u001B[0m\u001B[0;34m=\u001B[0m\u001B[0mcreate_graph\u001B[0m\u001B[0;34m,\u001B[0m\u001B[0;34m\u001B[0m\u001B[0;34m\u001B[0m\u001B[0m\n\u001B[1;32m    306\u001B[0m                 inputs=inputs)\n\u001B[0;32m--> 307\u001B[0;31m         \u001B[0mtorch\u001B[0m\u001B[0;34m.\u001B[0m\u001B[0mautograd\u001B[0m\u001B[0;34m.\u001B[0m\u001B[0mbackward\u001B[0m\u001B[0;34m(\u001B[0m\u001B[0mself\u001B[0m\u001B[0;34m,\u001B[0m \u001B[0mgradient\u001B[0m\u001B[0;34m,\u001B[0m \u001B[0mretain_graph\u001B[0m\u001B[0;34m,\u001B[0m \u001B[0mcreate_graph\u001B[0m\u001B[0;34m,\u001B[0m \u001B[0minputs\u001B[0m\u001B[0;34m=\u001B[0m\u001B[0minputs\u001B[0m\u001B[0;34m)\u001B[0m\u001B[0;34m\u001B[0m\u001B[0;34m\u001B[0m\u001B[0m\n\u001B[0m\u001B[1;32m    308\u001B[0m \u001B[0;34m\u001B[0m\u001B[0m\n\u001B[1;32m    309\u001B[0m     \u001B[0;32mdef\u001B[0m \u001B[0mregister_hook\u001B[0m\u001B[0;34m(\u001B[0m\u001B[0mself\u001B[0m\u001B[0;34m,\u001B[0m \u001B[0mhook\u001B[0m\u001B[0;34m)\u001B[0m\u001B[0;34m:\u001B[0m\u001B[0;34m\u001B[0m\u001B[0;34m\u001B[0m\u001B[0m\n",
      "\u001B[0;32m/usr/local/lib/python3.7/dist-packages/torch/autograd/__init__.py\u001B[0m in \u001B[0;36mbackward\u001B[0;34m(tensors, grad_tensors, retain_graph, create_graph, grad_variables, inputs)\u001B[0m\n\u001B[1;32m    154\u001B[0m     Variable._execution_engine.run_backward(\n\u001B[1;32m    155\u001B[0m         \u001B[0mtensors\u001B[0m\u001B[0;34m,\u001B[0m \u001B[0mgrad_tensors_\u001B[0m\u001B[0;34m,\u001B[0m \u001B[0mretain_graph\u001B[0m\u001B[0;34m,\u001B[0m \u001B[0mcreate_graph\u001B[0m\u001B[0;34m,\u001B[0m \u001B[0minputs\u001B[0m\u001B[0;34m,\u001B[0m\u001B[0;34m\u001B[0m\u001B[0;34m\u001B[0m\u001B[0m\n\u001B[0;32m--> 156\u001B[0;31m         allow_unreachable=True, accumulate_grad=True)  # allow_unreachable flag\n\u001B[0m\u001B[1;32m    157\u001B[0m \u001B[0;34m\u001B[0m\u001B[0m\n\u001B[1;32m    158\u001B[0m \u001B[0;34m\u001B[0m\u001B[0m\n",
      "\u001B[0;31mKeyboardInterrupt\u001B[0m: "
     ]
    }
   ],
   "source": [
    "epochs = 1000\n",
    "params = [epsilon_t, alpha_prime, phi_prime, sigma_prime]\n",
    "\n",
    "optimizer = optim.Adam(params, lr=0.01, weight_decay=1e-8)\n",
    "\n",
    "for i in range(epochs):\n",
    "  start_time = time.time()\n",
    "  optimizer.zero_grad()\n",
    "\n",
    "  # forward pass\n",
    "  alpha = bij_transform(alpha_prime, alpha_lower, alpha_upper)\n",
    "  expected = epid_model(population, R=torch.abs(epsilon_t), initial_newly_infected=np.arange(1, 18, 3), alpha=alpha, device=device, dtype=dtype)['newly_infected']\n",
    "\n",
    "  # calc loss\n",
    "  comp_loss = calc_mse(expected, observed)\n",
    "  prior_loss = calc_prior_loss(R0, sigma, phi, alpha)\n",
    "  rw_loss = calc_random_walk_loss(epsilon_t, sigma, training_days)\n",
    "  loss = phi*comp_loss + prior_loss +rw_loss\n",
    "\n",
    "  # backward pass\n",
    "  loss.backward()\n",
    "  optimizer.step()\n",
    "\n",
    "  if i % 5==0:\n",
    "      print(f'Step: {i}, Time: {time.time() - start_time}, Loss: {loss}, Mean Expected Daily Hospit: {expected.cpu().detach().numpy().mean()}')\n",
    "  \n",
    "  if i % 50==0:\n",
    "    plt.plot(df_obs['Date'], expected.cpu().detach().numpy(), label='predicted')\n",
    "    plt.plot(df_obs['Date'], observed.cpu().detach().numpy(), label='observed')\n",
    "    plt.legend()\n",
    "    plt.show()\n"
   ]
  },
  {
   "cell_type": "markdown",
   "metadata": {
    "id": "TeJ8fa_XJmaq"
   },
   "source": [
    "# Evaluation"
   ]
  },
  {
   "cell_type": "code",
   "execution_count": 12,
   "metadata": {
    "colab": {
     "base_uri": "https://localhost:8080/",
     "height": 281
    },
    "executionInfo": {
     "elapsed": 541,
     "status": "ok",
     "timestamp": 1645618726591,
     "user": {
      "displayName": "Timo9092",
      "photoUrl": "https://lh3.googleusercontent.com/a/default-user=s64",
      "userId": "13096063072157218091"
     },
     "user_tz": -60
    },
    "id": "Mu389qdhJoL9",
    "outputId": "4d975623-abca-40a6-b4db-34abe909ebab"
   },
   "outputs": [
    {
     "output_type": "display_data",
     "data": {
      "image/png": "[encoded data removed]",
      "text/plain": [
       "<Figure size 432x288 with 1 Axes>"
      ]
     },
     "metadata": {
      "needs_background": "light"
     }
    }
   ],
   "source": [
    "plt.plot(df_obs['Date'], observed.cpu().detach().numpy())\n",
    "plt.title('observed')\n",
    "plt.show()"
   ]
  },
  {
   "cell_type": "code",
   "execution_count": 13,
   "metadata": {
    "colab": {
     "base_uri": "https://localhost:8080/",
     "height": 281
    },
    "executionInfo": {
     "elapsed": 315,
     "status": "ok",
     "timestamp": 1645618744205,
     "user": {
      "displayName": "Timo9092",
      "photoUrl": "https://lh3.googleusercontent.com/a/default-user=s64",
      "userId": "13096063072157218091"
     },
     "user_tz": -60
    },
    "id": "Z3fPkKqSnLWk",
    "outputId": "bc234583-545b-4dca-87f3-4937caf8cff2"
   },
   "outputs": [
    {
     "output_type": "display_data",
     "data": {
      "image/png": "[encoded data removed]",
      "text/plain": [
       "<Figure size 432x288 with 1 Axes>"
      ]
     },
     "metadata": {
      "needs_background": "light"
     }
    }
   ],
   "source": [
    "plt.plot(df_obs['Date'], expected.cpu().detach().numpy())\n",
    "plt.title('expected')\n",
    "plt.show()"
   ]
  },
  {
   "cell_type": "code",
   "source": [
    ""
   ],
   "metadata": {
    "id": "sejotlKBJadA",
    "executionInfo": {
     "status": "aborted",
     "timestamp": 1645618711403,
     "user_tz": -60,
     "elapsed": 8,
     "user": {
      "displayName": "Timo9092",
      "photoUrl": "https://lh3.googleusercontent.com/a/default-user=s64",
      "userId": "13096063072157218091"
     }
    }
   },
   "execution_count": null,
   "outputs": []
  }
 ],
 "metadata": {
  "accelerator": "GPU",
  "colab": {
   "collapsed_sections": [],
   "name": "220222_model_optimization.ipynb",
   "toc_visible": true,
   "provenance": [],
   "authorship_tag": "ABX9TyMh/k352OFRCXAumZNlrbtH"
  },
  "kernelspec": {
   "display_name": "Python 3",
   "name": "python3"
  },
  "language_info": {
   "name": "python"
  }
 },
 "nbformat": 4,
 "nbformat_minor": 0
}