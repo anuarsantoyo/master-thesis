{
 "nbformat": 4,
 "nbformat_minor": 0,
 "metadata": {
  "colab": {
   "name": "220208_model_optimization.ipynb",
   "provenance": [],
   "collapsed_sections": [],
   "toc_visible": true,
   "authorship_tag": "ABX9TyNnCBy//C5Yj0H4qH2JSDKs"
  },
  "kernelspec": {
   "name": "python3",
   "display_name": "Python 3"
  },
  "language_info": {
   "name": "python"
  },
  "accelerator": "GPU"
 },
 "cells": [
  {
   "cell_type": "markdown",
   "source": [
    "Input:\n",
    "- True Observations\n",
    "- Number Training Steps\n",
    "\n",
    "Output:\n",
    "- New Model Parameter\n",
    "\n",
    "Parts of Optimization:\n",
    "- Initialization of Model Parameter\n",
    "- tbd"
   ],
   "metadata": {
    "collapsed": false
   }
  },
  {
   "cell_type": "markdown",
   "source": [
    "# Initialization"
   ],
   "metadata": {
    "id": "tzUv-gnXAaCX"
   }
  },
  {
   "cell_type": "markdown",
   "source": [
    "## Import Libraries and Mount Drive"
   ],
   "metadata": {
    "id": "GZBwcFlyIXFq"
   }
  },
  {
   "cell_type": "code",
   "source": [
    "import numpy as np\n",
    "import pandas as pd\n",
    "import matplotlib.pyplot as plt\n",
    "import time\n",
    "import torch\n",
    "from torch import distributions, optim"
   ],
   "metadata": {
    "id": "NkXDaY_pAXG1",
    "executionInfo": {
     "status": "ok",
     "timestamp": 1645538163817,
     "user_tz": -60,
     "elapsed": 6719,
     "user": {
      "displayName": "Timo9092",
      "photoUrl": "https://lh3.googleusercontent.com/a/default-user=s64",
      "userId": "13096063072157218091"
     }
    }
   },
   "execution_count": 1,
   "outputs": []
  },
  {
   "cell_type": "code",
   "source": [
    "from google.colab import drive\n",
    "drive.mount('/content/drive')"
   ],
   "metadata": {
    "colab": {
     "base_uri": "https://localhost:8080/"
    },
    "id": "gMFNWln4HWP9",
    "executionInfo": {
     "status": "ok",
     "timestamp": 1645538181725,
     "user_tz": -60,
     "elapsed": 17929,
     "user": {
      "displayName": "Timo9092",
      "photoUrl": "https://lh3.googleusercontent.com/a/default-user=s64",
      "userId": "13096063072157218091"
     }
    },
    "outputId": "49d3e390-1bca-488c-b489-728da9160be0"
   },
   "execution_count": 2,
   "outputs": [
    {
     "output_type": "stream",
     "name": "stdout",
     "text": [
      "Mounted at /content/drive\n",
      "/content/drive/MyDrive/GitHub/master-thesis\n"
     ]
    }
   ]
  },
  {
   "cell_type": "code",
   "execution_count": 2,
   "outputs": [
    {
     "name": "stdout",
     "output_type": "stream",
     "text": [
      "/home/anuar/PycharmProjects/master-thesis\n"
     ]
    }
   ],
   "source": [
    "%cd .."
   ],
   "metadata": {
    "collapsed": false,
    "pycharm": {
     "name": "#%%\n"
    }
   }
  },
  {
   "cell_type": "code",
   "execution_count": 3,
   "outputs": [],
   "source": [
    "#%cd /content/drive/MyDrive/GitHub/master-thesis\n",
    "\n",
    "import sys\n",
    "#sys.path.append('/content/gdrive/My Drive/GitHub/master-thesis')\n",
    "#sys.path.append('/home/anuar/PycharmProjects/master-thesis')\n",
    "\n",
    "from model.modeloptimization import bij_transform, bij_transform_inv, calc_mse, calc_random_walk_loss, calc_prior_loss\n",
    "from model.modelinitialisierung import initialize_observations, initialize_epsilon\n",
    "from model.modelcore import epid_model"
   ],
   "metadata": {
    "collapsed": false,
    "pycharm": {
     "name": "#%%\n"
    }
   }
  },
  {
   "cell_type": "markdown",
   "source": [
    "## Optimization Settings"
   ],
   "metadata": {
    "id": "w-S2ACi7Aqxg"
   }
  },
  {
   "cell_type": "code",
   "source": [
    "start_time='2020-02-26'\n",
    "end_time='2021-01-31'\n",
    "observations=['Confirmed_cases', 'Admissions_hospital'] # ['Number_of_deaths', 'Confirmed_cases', 'Admissions_hospital']\n",
    "\n",
    "dtype = torch.float32\n",
    "device = torch.device('cuda:0' if torch.cuda.is_available() else 'cpu')"
   ],
   "metadata": {
    "id": "ZcVTuwjVAxUs",
    "executionInfo": {
     "status": "ok",
     "timestamp": 1645538181726,
     "user_tz": -60,
     "elapsed": 5,
     "user": {
      "displayName": "Timo9092",
      "photoUrl": "https://lh3.googleusercontent.com/a/default-user=s64",
      "userId": "13096063072157218091"
     }
    }
   },
   "execution_count": 4,
   "outputs": []
  },
  {
   "cell_type": "markdown",
   "source": [
    "## Initialize Observations"
   ],
   "metadata": {
    "id": "CIvgyI6sAl3A"
   }
  },
  {
   "cell_type": "code",
   "source": [
    "df_obs_initial = pd.read_csv('data/observations_03022022.csv' , sep=';', thousands='.', decimal=',', encoding='utf-8', parse_dates=['Date'])\n",
    "df_obs = initialize_observations(df_obs_initial, start=start_time, end=end_time, observations=observations)\n",
    "observed = torch.tensor(df_obs['Confirmed_cases'], requires_grad=False, device=device, dtype=dtype)\n",
    "df_obs.head(3)"
   ],
   "metadata": {
    "colab": {
     "base_uri": "https://localhost:8080/",
     "height": 143
    },
    "id": "LjO9hxpX31Kx",
    "executionInfo": {
     "status": "ok",
     "timestamp": 1645538191587,
     "user_tz": -60,
     "elapsed": 9865,
     "user": {
      "displayName": "Timo9092",
      "photoUrl": "https://lh3.googleusercontent.com/a/default-user=s64",
      "userId": "13096063072157218091"
     }
    },
    "outputId": "7de96449-89dc-40d5-ec6a-ea28e0a1aa99"
   },
   "execution_count": 5,
   "outputs": [
    {
     "data": {
      "text/plain": "        Date  Confirmed_cases  Admissions_hospital\n0 2020-02-26                1                    0\n1 2020-02-27                1                    0\n2 2020-02-28                1                    0",
      "text/html": "<div>\n<style scoped>\n    .dataframe tbody tr th:only-of-type {\n        vertical-align: middle;\n    }\n\n    .dataframe tbody tr th {\n        vertical-align: top;\n    }\n\n    .dataframe thead th {\n        text-align: right;\n    }\n</style>\n<table border=\"1\" class=\"dataframe\">\n  <thead>\n    <tr style=\"text-align: right;\">\n      <th></th>\n      <th>Date</th>\n      <th>Confirmed_cases</th>\n      <th>Admissions_hospital</th>\n    </tr>\n  </thead>\n  <tbody>\n    <tr>\n      <th>0</th>\n      <td>2020-02-26</td>\n      <td>1</td>\n      <td>0</td>\n    </tr>\n    <tr>\n      <th>1</th>\n      <td>2020-02-27</td>\n      <td>1</td>\n      <td>0</td>\n    </tr>\n    <tr>\n      <th>2</th>\n      <td>2020-02-28</td>\n      <td>1</td>\n      <td>0</td>\n    </tr>\n  </tbody>\n</table>\n</div>"
     },
     "execution_count": 5,
     "metadata": {},
     "output_type": "execute_result"
    }
   ]
  },
  {
   "cell_type": "code",
   "source": [
    "for observation in observations:\n",
    "  plt.plot(df_obs['Date'], df_obs[observation])\n",
    "  plt.title(observation)\n",
    "  plt.show()"
   ],
   "metadata": {
    "colab": {
     "base_uri": "https://localhost:8080/",
     "height": 545
    },
    "id": "m9s1g-biD9kJ",
    "executionInfo": {
     "status": "ok",
     "timestamp": 1645538192053,
     "user_tz": -60,
     "elapsed": 470,
     "user": {
      "displayName": "Timo9092",
      "photoUrl": "https://lh3.googleusercontent.com/a/default-user=s64",
      "userId": "13096063072157218091"
     }
    },
    "outputId": "e8055381-f9d6-4b87-adee-f27eb8553368"
   },
   "execution_count": 6,
   "outputs": [
    {
     "data": {
      "text/plain": "<Figure size 432x288 with 1 Axes>",
      "image/png": "[encoded data removed]"
     },
     "metadata": {
      "needs_background": "light"
     },
     "output_type": "display_data"
    },
    {
     "data": {
      "text/plain": "<Figure size 432x288 with 1 Axes>",
      "image/png": "[encoded data removed]"
     },
     "metadata": {
      "needs_background": "light"
     },
     "output_type": "display_data"
    }
   ]
  },
  {
   "cell_type": "markdown",
   "source": [
    "## Initialize Model Parameter"
   ],
   "metadata": {
    "id": "sVY7bdcGDiCq"
   }
  },
  {
   "cell_type": "markdown",
   "source": [
    "### Initialize Helper Parameter"
   ],
   "metadata": {
    "id": "EwsYZLKcJO9k"
   }
  },
  {
   "cell_type": "code",
   "source": [
    "cero = torch.tensor(0., requires_grad=False, device=device, dtype=dtype)\n",
    "num_observations = df_obs.shape[0]\n",
    "population = torch.tensor(5793636, requires_grad=False, device=device, dtype=dtype)"
   ],
   "metadata": {
    "id": "P6A9L25BHjZ8",
    "executionInfo": {
     "status": "ok",
     "timestamp": 1645538192053,
     "user_tz": -60,
     "elapsed": 12,
     "user": {
      "displayName": "Timo9092",
      "photoUrl": "https://lh3.googleusercontent.com/a/default-user=s64",
      "userId": "13096063072157218091"
     }
    }
   },
   "execution_count": 7,
   "outputs": []
  },
  {
   "cell_type": "markdown",
   "source": [
    "### Initialize to be optimized Model Parameter"
   ],
   "metadata": {
    "id": "H8sIHVnpJSFL"
   }
  },
  {
   "cell_type": "code",
   "source": [
    "\"\"\"R0_lower, R0_upper = 2, 5\n",
    "phi_lower, phi_upper = 0, 50\n",
    "sigma_lower, sigma_upper = 0.00001, 0.5\n",
    "alpha_lower, alpha_upper = 0.001, 0.05\"\"\""
   ],
   "metadata": {
    "colab": {
     "base_uri": "https://localhost:8080/",
     "height": 35
    },
    "id": "HHAdcBXa7mRh",
    "executionInfo": {
     "status": "ok",
     "timestamp": 1645538192054,
     "user_tz": -60,
     "elapsed": 11,
     "user": {
      "displayName": "Timo9092",
      "photoUrl": "https://lh3.googleusercontent.com/a/default-user=s64",
      "userId": "13096063072157218091"
     }
    },
    "outputId": "d29dee41-822c-4b12-a28a-a63df984b564"
   },
   "execution_count": 7,
   "outputs": [
    {
     "output_type": "execute_result",
     "data": {
      "application/vnd.google.colaboratory.intrinsic+json": {
       "type": "string"
      },
      "text/plain": [
       "'R0_lower, R0_upper = 2, 5\\nphi_lower, phi_upper = 0, 50\\nsigma_lower, sigma_upper = 0.00001, 0.5\\nalpha_lower, alpha_upper = 0.001, 0.05'"
      ]
     },
     "metadata": {},
     "execution_count": 7
    }
   ]
  },
  {
   "cell_type": "code",
   "source": [
    "\"\"\"R0_prime = bij_transform_inv(torch.tensor(3.6, device=device, dtype=dtype), R0_lower, R0_upper).detach().clone().requires_grad_(True)\n",
    "phi_prime = bij_transform_inv(torch.tensor(25, device=device, dtype=dtype), phi_lower, phi_upper).detach().clone().requires_grad_(True)\n",
    "sigma_prime = bij_transform_inv(torch.tensor(0.1, device=device, dtype=dtype), sigma_lower, sigma_upper).detach().clone().requires_grad_(True)\n",
    "alpha_prime = bij_transform_inv(torch.tensor(0.01, device=device, dtype=dtype), alpha_lower, alpha_upper).detach().clone().requires_grad_(True)\n",
    "\n",
    "sigma = bij_transform(sigma_prime, sigma_lower, sigma_upper)\"\"\""
   ],
   "metadata": {
    "colab": {
     "base_uri": "https://localhost:8080/",
     "height": 87
    },
    "id": "Q22rlg4Y7PzT",
    "executionInfo": {
     "status": "ok",
     "timestamp": 1645538192054,
     "user_tz": -60,
     "elapsed": 10,
     "user": {
      "displayName": "Timo9092",
      "photoUrl": "https://lh3.googleusercontent.com/a/default-user=s64",
      "userId": "13096063072157218091"
     }
    },
    "outputId": "cd1f2bda-23cb-418a-dae3-5b73c0569ce0"
   },
   "execution_count": 8,
   "outputs": [
    {
     "output_type": "execute_result",
     "data": {
      "application/vnd.google.colaboratory.intrinsic+json": {
       "type": "string"
      },
      "text/plain": [
       "'R0_prime = bij_transform_inv(torch.tensor(3.6, device=device, dtype=dtype), R0_lower, R0_upper).detach().clone().requires_grad_(True)\\nphi_prime = bij_transform_inv(torch.tensor(25, device=device, dtype=dtype), phi_lower, phi_upper).detach().clone().requires_grad_(True)\\nsigma_prime = bij_transform_inv(torch.tensor(0.1, device=device, dtype=dtype), sigma_lower, sigma_upper).detach().clone().requires_grad_(True)\\nalpha_prime = bij_transform_inv(torch.tensor(0.01, device=device, dtype=dtype), alpha_lower, alpha_upper).detach().clone().requires_grad_(True)\\n\\nsigma = bij_transform(sigma_prime, sigma_lower, sigma_upper)'"
      ]
     },
     "metadata": {},
     "execution_count": 8
    }
   ]
  },
  {
   "cell_type": "code",
   "source": [
    "alpha_lower, alpha_upper = 0.001, 0.05\n",
    "alpha_prime = bij_transform_inv(torch.tensor(0.01, device=device, dtype=dtype), alpha_lower, alpha_upper).detach().clone().requires_grad_(True)"
   ],
   "metadata": {
    "id": "_vs40torrvFE",
    "executionInfo": {
     "status": "ok",
     "timestamp": 1645538192055,
     "user_tz": -60,
     "elapsed": 10,
     "user": {
      "displayName": "Timo9092",
      "photoUrl": "https://lh3.googleusercontent.com/a/default-user=s64",
      "userId": "13096063072157218091"
     }
    }
   },
   "execution_count": 8,
   "outputs": []
  },
  {
   "cell_type": "code",
   "source": [
    "sigma_lower, sigma_upper = 0.00001, 0.5\n",
    "sigma_prime = bij_transform_inv(torch.tensor(0.1, device=device, dtype=dtype), sigma_lower, sigma_upper).detach().clone().requires_grad_(True)\n",
    "sigma = bij_transform(sigma_prime, sigma_lower, sigma_upper)\n",
    "epsilon_t = initialize_epsilon(num_observations, sigma, device, dtype)"
   ],
   "metadata": {
    "id": "YFPmDM32j6IO",
    "executionInfo": {
     "status": "ok",
     "timestamp": 1645538192374,
     "user_tz": -60,
     "elapsed": 329,
     "user": {
      "displayName": "Timo9092",
      "photoUrl": "https://lh3.googleusercontent.com/a/default-user=s64",
      "userId": "13096063072157218091"
     }
    }
   },
   "execution_count": 9,
   "outputs": []
  },
  {
   "cell_type": "markdown",
   "source": [
    "# Optimization"
   ],
   "metadata": {
    "id": "EajyQpZdDpaO"
   }
  },
  {
   "cell_type": "markdown",
   "source": [
    "## Training"
   ],
   "metadata": {
    "id": "NxxX-CfKDxee"
   }
  },
  {
   "cell_type": "code",
   "source": [
    "epochs = 1000\n",
    "params = [epsilon_t]\n",
    "\n",
    "optimizer = optim.Adam(params, lr=0.01, weight_decay=1e-8)\n",
    "\n",
    "for i in range(epochs):\n",
    "  start_time = time.time()\n",
    "  optimizer.zero_grad()\n",
    "\n",
    "  # forward pass\n",
    "  alpha = bij_transform(alpha_prime, alpha_lower, alpha_upper)\n",
    "  expected = epid_model(population, R=torch.abs(epsilon_t), initial_newly_infected=np.arange(1, 18, 3), alpha=alpha, device=device, dtype=dtype)['newly_infected']\n",
    "\n",
    "  # calc loss\n",
    "  loss = calc_mse(expected, observed)\n",
    "\n",
    "  # backward pass\n",
    "  loss.backward()\n",
    "  optimizer.step()\n",
    "\n",
    "  if i % 5==0:\n",
    "      print(f'Step: {i}, Time: {time.time() - start_time}, Loss: {loss}, Mean Expected Daily Hospit: {expected.cpu().detach().numpy().mean()}')\n"
   ],
   "metadata": {
    "colab": {
     "base_uri": "https://localhost:8080/",
     "height": 704
    },
    "id": "TrXB0cdHlOcZ",
    "executionInfo": {
     "status": "error",
     "timestamp": 1645538272058,
     "user_tz": -60,
     "elapsed": 79686,
     "user": {
      "displayName": "Timo9092",
      "photoUrl": "https://lh3.googleusercontent.com/a/default-user=s64",
      "userId": "13096063072157218091"
     }
    },
    "outputId": "0d667158-f861-43e9-9fea-fedfb9f5e60f"
   },
   "execution_count": 10,
   "outputs": [
    {
     "name": "stdout",
     "output_type": "stream",
     "text": [
      "Step: 0, Time: 0.13912081718444824, Loss: 51035260.0, Mean Expected Daily Hospit: 1290.8699951171875\n",
      "Step: 5, Time: 0.2756462097167969, Loss: 1542461.375, Mean Expected Daily Hospit: 147.0500030517578\n",
      "Step: 10, Time: 0.1964714527130127, Loss: 1054240.5, Mean Expected Daily Hospit: 49.26520538330078\n",
      "Step: 15, Time: 0.16374540328979492, Loss: 1028269.375, Mean Expected Daily Hospit: 27.295930862426758\n",
      "Step: 20, Time: 0.1448218822479248, Loss: 1026446.0, Mean Expected Daily Hospit: 19.12982177734375\n",
      "Step: 25, Time: 0.15630483627319336, Loss: 1027044.8125, Mean Expected Daily Hospit: 15.323984146118164\n",
      "Step: 30, Time: 0.1574234962463379, Loss: 1027725.125, Mean Expected Daily Hospit: 13.332612037658691\n",
      "Step: 35, Time: 0.1407473087310791, Loss: 1028214.25, Mean Expected Daily Hospit: 12.221484184265137\n",
      "Step: 40, Time: 0.1427311897277832, Loss: 1028532.5625, Mean Expected Daily Hospit: 11.579477310180664\n",
      "Step: 45, Time: 0.13556385040283203, Loss: 1028731.375, Mean Expected Daily Hospit: 11.202987670898438\n",
      "Step: 50, Time: 0.1481766700744629, Loss: 1028848.875, Mean Expected Daily Hospit: 10.987964630126953\n",
      "Step: 55, Time: 0.14278912544250488, Loss: 1028916.5625, Mean Expected Daily Hospit: 10.86618423461914\n",
      "Step: 60, Time: 0.15258502960205078, Loss: 1028953.6875, Mean Expected Daily Hospit: 10.800003051757812\n",
      "Step: 65, Time: 0.17048311233520508, Loss: 1028971.625, Mean Expected Daily Hospit: 10.768145561218262\n",
      "Step: 70, Time: 0.18931865692138672, Loss: 1028977.4375, Mean Expected Daily Hospit: 10.757672309875488\n",
      "Step: 75, Time: 0.24335956573486328, Loss: 1028975.5625, Mean Expected Daily Hospit: 10.760641098022461\n",
      "Step: 80, Time: 0.15858078002929688, Loss: 1028968.875, Mean Expected Daily Hospit: 10.772171020507812\n",
      "Step: 85, Time: 0.14030814170837402, Loss: 1028958.875, Mean Expected Daily Hospit: 10.78924560546875\n",
      "Step: 90, Time: 0.13210654258728027, Loss: 1028947.0, Mean Expected Daily Hospit: 10.810028076171875\n",
      "Step: 95, Time: 0.14180731773376465, Loss: 1028933.6875, Mean Expected Daily Hospit: 10.833374977111816\n",
      "Step: 100, Time: 0.13294696807861328, Loss: 1028919.3125, Mean Expected Daily Hospit: 10.858573913574219\n",
      "Step: 105, Time: 0.18385839462280273, Loss: 1028904.0, Mean Expected Daily Hospit: 10.8851957321167\n",
      "Step: 110, Time: 0.13366413116455078, Loss: 1028888.375, Mean Expected Daily Hospit: 10.912965774536133\n",
      "Step: 115, Time: 0.1429438591003418, Loss: 1028872.125, Mean Expected Daily Hospit: 10.941722869873047\n",
      "Step: 120, Time: 0.1379687786102295, Loss: 1028855.3125, Mean Expected Daily Hospit: 10.971359252929688\n",
      "Step: 125, Time: 0.13921141624450684, Loss: 1028838.25, Mean Expected Daily Hospit: 11.001814842224121\n",
      "Step: 130, Time: 0.13574886322021484, Loss: 1028820.75, Mean Expected Daily Hospit: 11.033026695251465\n",
      "Step: 135, Time: 0.13834452629089355, Loss: 1028802.8125, Mean Expected Daily Hospit: 11.064992904663086\n",
      "Step: 140, Time: 0.1346147060394287, Loss: 1028784.6875, Mean Expected Daily Hospit: 11.097677230834961\n",
      "Step: 145, Time: 0.13783049583435059, Loss: 1028766.1875, Mean Expected Daily Hospit: 11.131067276000977\n",
      "Step: 150, Time: 0.12537646293640137, Loss: 1028747.4375, Mean Expected Daily Hospit: 11.16515827178955\n",
      "Step: 155, Time: 0.12786221504211426, Loss: 1028728.25, Mean Expected Daily Hospit: 11.199935913085938\n",
      "Step: 160, Time: 0.1316225528717041, Loss: 1028708.9375, Mean Expected Daily Hospit: 11.235395431518555\n",
      "Step: 165, Time: 0.12964439392089844, Loss: 1028689.1875, Mean Expected Daily Hospit: 11.271514892578125\n",
      "Step: 170, Time: 0.1504957675933838, Loss: 1028669.1875, Mean Expected Daily Hospit: 11.308328628540039\n",
      "Step: 175, Time: 0.14212751388549805, Loss: 1028648.9375, Mean Expected Daily Hospit: 11.345804214477539\n",
      "Step: 180, Time: 0.12885761260986328, Loss: 1028628.3125, Mean Expected Daily Hospit: 11.383942604064941\n",
      "Step: 185, Time: 0.12933707237243652, Loss: 1028607.4375, Mean Expected Daily Hospit: 11.42273998260498\n",
      "Step: 190, Time: 0.11969923973083496, Loss: 1028586.5, Mean Expected Daily Hospit: 11.46219539642334\n",
      "Step: 195, Time: 0.089141845703125, Loss: 1028565.0625, Mean Expected Daily Hospit: 11.502303123474121\n",
      "Step: 200, Time: 0.08459901809692383, Loss: 1028543.625, Mean Expected Daily Hospit: 11.543063163757324\n",
      "Step: 205, Time: 0.08981180191040039, Loss: 1028521.75, Mean Expected Daily Hospit: 11.584466934204102\n",
      "Step: 210, Time: 0.09419631958007812, Loss: 1028499.8125, Mean Expected Daily Hospit: 11.626511573791504\n",
      "Step: 215, Time: 0.10168242454528809, Loss: 1028477.5625, Mean Expected Daily Hospit: 11.669194221496582\n",
      "Step: 220, Time: 0.0894002914428711, Loss: 1028455.0625, Mean Expected Daily Hospit: 11.712512016296387\n",
      "Step: 225, Time: 0.0872035026550293, Loss: 1028432.4375, Mean Expected Daily Hospit: 11.756464958190918\n",
      "Step: 230, Time: 0.08369827270507812, Loss: 1028409.5, Mean Expected Daily Hospit: 11.801044464111328\n",
      "Step: 235, Time: 0.0990610122680664, Loss: 1028386.375, Mean Expected Daily Hospit: 11.846242904663086\n",
      "Step: 240, Time: 0.10249924659729004, Loss: 1028363.125, Mean Expected Daily Hospit: 11.89207649230957\n",
      "Step: 245, Time: 0.08750391006469727, Loss: 1028339.8125, Mean Expected Daily Hospit: 11.938523292541504\n",
      "Step: 250, Time: 0.08621406555175781, Loss: 1028316.25, Mean Expected Daily Hospit: 11.985600471496582\n",
      "Step: 255, Time: 0.1024467945098877, Loss: 1028292.3125, Mean Expected Daily Hospit: 12.033282279968262\n",
      "Step: 260, Time: 0.08776521682739258, Loss: 1028268.375, Mean Expected Daily Hospit: 12.081575393676758\n",
      "Step: 265, Time: 0.08420777320861816, Loss: 1028244.3125, Mean Expected Daily Hospit: 12.130475044250488\n",
      "Step: 270, Time: 0.08406972885131836, Loss: 1028219.9375, Mean Expected Daily Hospit: 12.179974555969238\n",
      "Step: 275, Time: 0.08886575698852539, Loss: 1028195.5625, Mean Expected Daily Hospit: 12.230088233947754\n",
      "Step: 280, Time: 0.0884859561920166, Loss: 1028171.0625, Mean Expected Daily Hospit: 12.280789375305176\n",
      "Step: 285, Time: 0.12475037574768066, Loss: 1028146.4375, Mean Expected Daily Hospit: 12.33208179473877\n",
      "Step: 290, Time: 0.10394692420959473, Loss: 1028121.6875, Mean Expected Daily Hospit: 12.383964538574219\n",
      "Step: 295, Time: 0.09073925018310547, Loss: 1028096.875, Mean Expected Daily Hospit: 12.436422348022461\n",
      "Step: 300, Time: 0.10890436172485352, Loss: 1028071.8125, Mean Expected Daily Hospit: 12.489456176757812\n",
      "Step: 305, Time: 0.10546255111694336, Loss: 1028046.75, Mean Expected Daily Hospit: 12.543076515197754\n",
      "Step: 310, Time: 0.11466360092163086, Loss: 1028021.625, Mean Expected Daily Hospit: 12.597257614135742\n",
      "Step: 315, Time: 0.09484148025512695, Loss: 1027996.3125, Mean Expected Daily Hospit: 12.651999473571777\n",
      "Step: 320, Time: 0.09743022918701172, Loss: 1027970.9375, Mean Expected Daily Hospit: 12.707307815551758\n",
      "Step: 325, Time: 0.08545923233032227, Loss: 1027945.625, Mean Expected Daily Hospit: 12.763167381286621\n",
      "Step: 330, Time: 0.09009218215942383, Loss: 1027920.25, Mean Expected Daily Hospit: 12.819561958312988\n",
      "Step: 335, Time: 0.09324073791503906, Loss: 1027894.75, Mean Expected Daily Hospit: 12.87651538848877\n",
      "Step: 340, Time: 0.09365487098693848, Loss: 1027869.25, Mean Expected Daily Hospit: 12.93399429321289\n",
      "Step: 345, Time: 0.08637189865112305, Loss: 1027843.6875, Mean Expected Daily Hospit: 12.991991996765137\n",
      "Step: 350, Time: 0.09311246871948242, Loss: 1027818.125, Mean Expected Daily Hospit: 13.050520896911621\n",
      "Step: 355, Time: 0.10460329055786133, Loss: 1027792.625, Mean Expected Daily Hospit: 13.1095609664917\n",
      "Step: 360, Time: 0.10500478744506836, Loss: 1027767.0625, Mean Expected Daily Hospit: 13.169092178344727\n",
      "Step: 365, Time: 0.09204721450805664, Loss: 1027741.4375, Mean Expected Daily Hospit: 13.229130744934082\n",
      "Step: 370, Time: 0.08971261978149414, Loss: 1027715.875, Mean Expected Daily Hospit: 13.289641380310059\n",
      "Step: 375, Time: 0.10367560386657715, Loss: 1027690.375, Mean Expected Daily Hospit: 13.350664138793945\n",
      "Step: 380, Time: 0.12585878372192383, Loss: 1027664.875, Mean Expected Daily Hospit: 13.412140846252441\n",
      "Step: 385, Time: 0.0944223403930664, Loss: 1027639.4375, Mean Expected Daily Hospit: 13.474064826965332\n",
      "Step: 390, Time: 0.0883941650390625, Loss: 1027614.0, Mean Expected Daily Hospit: 13.536455154418945\n",
      "Step: 395, Time: 0.08356094360351562, Loss: 1027588.75, Mean Expected Daily Hospit: 13.599279403686523\n",
      "Step: 400, Time: 0.08687710762023926, Loss: 1027563.4375, Mean Expected Daily Hospit: 13.662531852722168\n",
      "Step: 405, Time: 0.08796095848083496, Loss: 1027538.3125, Mean Expected Daily Hospit: 13.726215362548828\n",
      "Step: 410, Time: 0.08838820457458496, Loss: 1027513.1875, Mean Expected Daily Hospit: 13.790312767028809\n",
      "Step: 415, Time: 0.08840322494506836, Loss: 1027488.0, Mean Expected Daily Hospit: 13.854799270629883\n",
      "Step: 420, Time: 0.11447739601135254, Loss: 1027463.25, Mean Expected Daily Hospit: 13.919648170471191\n",
      "Step: 425, Time: 0.09119534492492676, Loss: 1027438.4375, Mean Expected Daily Hospit: 13.984888076782227\n",
      "Step: 430, Time: 0.09366273880004883, Loss: 1027413.6875, Mean Expected Daily Hospit: 14.050490379333496\n",
      "Step: 435, Time: 0.09949922561645508, Loss: 1027389.25, Mean Expected Daily Hospit: 14.11643123626709\n",
      "Step: 440, Time: 0.10587000846862793, Loss: 1027364.9375, Mean Expected Daily Hospit: 14.182687759399414\n",
      "Step: 445, Time: 0.0948190689086914, Loss: 1027340.625, Mean Expected Daily Hospit: 14.249277114868164\n",
      "Step: 450, Time: 0.12500238418579102, Loss: 1027316.5625, Mean Expected Daily Hospit: 14.316161155700684\n",
      "Step: 455, Time: 0.10866498947143555, Loss: 1027292.6875, Mean Expected Daily Hospit: 14.383326530456543\n",
      "Step: 460, Time: 0.10531091690063477, Loss: 1027268.9375, Mean Expected Daily Hospit: 14.450765609741211\n",
      "Step: 465, Time: 0.08802390098571777, Loss: 1027245.3125, Mean Expected Daily Hospit: 14.518462181091309\n",
      "Step: 470, Time: 0.1108403205871582, Loss: 1027222.0625, Mean Expected Daily Hospit: 14.586400032043457\n",
      "Step: 475, Time: 0.09138631820678711, Loss: 1027198.9375, Mean Expected Daily Hospit: 14.654560089111328\n",
      "Step: 480, Time: 0.08347535133361816, Loss: 1027176.0, Mean Expected Daily Hospit: 14.722925186157227\n",
      "Step: 485, Time: 0.14145874977111816, Loss: 1027153.375, Mean Expected Daily Hospit: 14.791481971740723\n",
      "Step: 490, Time: 0.13612031936645508, Loss: 1027130.8125, Mean Expected Daily Hospit: 14.860218048095703\n",
      "Step: 495, Time: 0.09536027908325195, Loss: 1027108.625, Mean Expected Daily Hospit: 14.929089546203613\n",
      "Step: 500, Time: 0.08667635917663574, Loss: 1027086.5625, Mean Expected Daily Hospit: 14.998085975646973\n",
      "Step: 505, Time: 0.0969388484954834, Loss: 1027064.8125, Mean Expected Daily Hospit: 15.067225456237793\n",
      "Step: 510, Time: 0.09152960777282715, Loss: 1027043.375, Mean Expected Daily Hospit: 15.136459350585938\n",
      "Step: 515, Time: 0.09439587593078613, Loss: 1027022.1875, Mean Expected Daily Hospit: 15.205770492553711\n",
      "Step: 520, Time: 0.08755803108215332, Loss: 1027001.1875, Mean Expected Daily Hospit: 15.275108337402344\n",
      "Step: 525, Time: 0.09789276123046875, Loss: 1026980.4375, Mean Expected Daily Hospit: 15.344498634338379\n",
      "Step: 530, Time: 0.1321258544921875, Loss: 1026960.0625, Mean Expected Daily Hospit: 15.413893699645996\n",
      "Step: 535, Time: 0.11002898216247559, Loss: 1026940.0625, Mean Expected Daily Hospit: 15.483297348022461\n",
      "Step: 540, Time: 0.12135529518127441, Loss: 1026920.125, Mean Expected Daily Hospit: 15.552685737609863\n",
      "Step: 545, Time: 0.09210705757141113, Loss: 1026900.5625, Mean Expected Daily Hospit: 15.621994972229004\n",
      "Step: 550, Time: 0.14313149452209473, Loss: 1026881.3125, Mean Expected Daily Hospit: 15.691253662109375\n",
      "Step: 555, Time: 0.13675880432128906, Loss: 1026862.5625, Mean Expected Daily Hospit: 15.760411262512207\n",
      "Step: 560, Time: 0.14342832565307617, Loss: 1026843.875, Mean Expected Daily Hospit: 15.829479217529297\n",
      "Step: 565, Time: 0.17252516746520996, Loss: 1026825.625, Mean Expected Daily Hospit: 15.898384094238281\n",
      "Step: 570, Time: 0.15119075775146484, Loss: 1026807.625, Mean Expected Daily Hospit: 15.96713924407959\n",
      "Step: 575, Time: 0.15479612350463867, Loss: 1026789.9375, Mean Expected Daily Hospit: 16.035724639892578\n",
      "Step: 580, Time: 0.1467454433441162, Loss: 1026772.5625, Mean Expected Daily Hospit: 16.10411262512207\n",
      "Step: 585, Time: 0.1385667324066162, Loss: 1026755.6875, Mean Expected Daily Hospit: 16.172256469726562\n",
      "Step: 590, Time: 0.1630558967590332, Loss: 1026739.0, Mean Expected Daily Hospit: 16.240177154541016\n",
      "Step: 595, Time: 0.1419520378112793, Loss: 1026722.75, Mean Expected Daily Hospit: 16.307825088500977\n",
      "Step: 600, Time: 0.15155577659606934, Loss: 1026706.6875, Mean Expected Daily Hospit: 16.375179290771484\n",
      "Step: 605, Time: 0.14959073066711426, Loss: 1026691.0, Mean Expected Daily Hospit: 16.442232131958008\n",
      "Step: 610, Time: 0.14422035217285156, Loss: 1026675.75, Mean Expected Daily Hospit: 16.508949279785156\n",
      "Step: 615, Time: 0.13411855697631836, Loss: 1026660.75, Mean Expected Daily Hospit: 16.575313568115234\n",
      "Step: 620, Time: 0.14831876754760742, Loss: 1026646.0625, Mean Expected Daily Hospit: 16.64130401611328\n",
      "Step: 625, Time: 0.1274571418762207, Loss: 1026631.75, Mean Expected Daily Hospit: 16.70688247680664\n",
      "Step: 630, Time: 0.1311171054840088, Loss: 1026617.75, Mean Expected Daily Hospit: 16.77207374572754\n",
      "Step: 635, Time: 0.13497018814086914, Loss: 1026604.0625, Mean Expected Daily Hospit: 16.83679962158203\n",
      "Step: 640, Time: 0.13570666313171387, Loss: 1026590.75, Mean Expected Daily Hospit: 16.90108299255371\n",
      "Step: 645, Time: 0.1525709629058838, Loss: 1026577.75, Mean Expected Daily Hospit: 16.964876174926758\n",
      "Step: 650, Time: 0.16398119926452637, Loss: 1026565.125, Mean Expected Daily Hospit: 17.028179168701172\n",
      "Step: 655, Time: 0.1458907127380371, Loss: 1026552.8125, Mean Expected Daily Hospit: 17.090970993041992\n",
      "Step: 660, Time: 0.1638193130493164, Loss: 1026540.75, Mean Expected Daily Hospit: 17.15321922302246\n",
      "Step: 665, Time: 0.15111351013183594, Loss: 1026529.0625, Mean Expected Daily Hospit: 17.214914321899414\n",
      "Step: 670, Time: 0.2222917079925537, Loss: 1026517.625, Mean Expected Daily Hospit: 17.276029586791992\n",
      "Step: 675, Time: 0.14989638328552246, Loss: 1026506.5, Mean Expected Daily Hospit: 17.33656883239746\n",
      "Step: 680, Time: 0.13069820404052734, Loss: 1026495.6875, Mean Expected Daily Hospit: 17.396493911743164\n",
      "Step: 685, Time: 0.1419081687927246, Loss: 1026485.3125, Mean Expected Daily Hospit: 17.455799102783203\n",
      "Step: 690, Time: 0.13915801048278809, Loss: 1026475.25, Mean Expected Daily Hospit: 17.514467239379883\n",
      "Step: 695, Time: 0.12985992431640625, Loss: 1026465.125, Mean Expected Daily Hospit: 17.57248306274414\n",
      "Step: 700, Time: 0.1472020149230957, Loss: 1026455.625, Mean Expected Daily Hospit: 17.629833221435547\n",
      "Step: 705, Time: 0.14156365394592285, Loss: 1026446.25, Mean Expected Daily Hospit: 17.68650245666504\n",
      "Step: 710, Time: 0.1277151107788086, Loss: 1026437.3125, Mean Expected Daily Hospit: 17.74247932434082\n",
      "Step: 715, Time: 0.1318509578704834, Loss: 1026428.5, Mean Expected Daily Hospit: 17.79774284362793\n",
      "Step: 720, Time: 0.13007116317749023, Loss: 1026419.9375, Mean Expected Daily Hospit: 17.852294921875\n",
      "Step: 725, Time: 0.13915324211120605, Loss: 1026411.8125, Mean Expected Daily Hospit: 17.906118392944336\n",
      "Step: 730, Time: 0.14857196807861328, Loss: 1026403.75, Mean Expected Daily Hospit: 17.959205627441406\n",
      "Step: 735, Time: 0.14177560806274414, Loss: 1026395.9375, Mean Expected Daily Hospit: 18.01152801513672\n",
      "Step: 740, Time: 0.13488173484802246, Loss: 1026388.5625, Mean Expected Daily Hospit: 18.0631160736084\n",
      "Step: 745, Time: 0.17014646530151367, Loss: 1026381.1875, Mean Expected Daily Hospit: 18.11393165588379\n",
      "Step: 750, Time: 0.13769984245300293, Loss: 1026374.25, Mean Expected Daily Hospit: 18.16397476196289\n",
      "Step: 755, Time: 0.13589882850646973, Loss: 1026367.25, Mean Expected Daily Hospit: 18.213233947753906\n",
      "Step: 760, Time: 0.17615151405334473, Loss: 1026360.75, Mean Expected Daily Hospit: 18.26171112060547\n",
      "Step: 765, Time: 0.1459958553314209, Loss: 1026354.3125, Mean Expected Daily Hospit: 18.309406280517578\n",
      "Step: 770, Time: 0.14093780517578125, Loss: 1026348.1875, Mean Expected Daily Hospit: 18.356298446655273\n",
      "Step: 775, Time: 0.13960695266723633, Loss: 1026342.0625, Mean Expected Daily Hospit: 18.40241050720215\n",
      "Step: 780, Time: 0.13997912406921387, Loss: 1026336.3125, Mean Expected Daily Hospit: 18.44769287109375\n",
      "Step: 785, Time: 0.13479399681091309, Loss: 1026330.6875, Mean Expected Daily Hospit: 18.492191314697266\n",
      "Step: 790, Time: 0.13390827178955078, Loss: 1026325.25, Mean Expected Daily Hospit: 18.5358829498291\n",
      "Step: 795, Time: 0.13790631294250488, Loss: 1026319.9375, Mean Expected Daily Hospit: 18.578779220581055\n",
      "Step: 800, Time: 0.1347188949584961, Loss: 1026314.9375, Mean Expected Daily Hospit: 18.620866775512695\n",
      "Step: 805, Time: 0.13156795501708984, Loss: 1026309.875, Mean Expected Daily Hospit: 18.662155151367188\n",
      "Step: 810, Time: 0.13217854499816895, Loss: 1026305.125, Mean Expected Daily Hospit: 18.70264434814453\n",
      "Step: 815, Time: 0.1266467571258545, Loss: 1026300.4375, Mean Expected Daily Hospit: 18.74233627319336\n",
      "Step: 820, Time: 0.1397688388824463, Loss: 1026295.875, Mean Expected Daily Hospit: 18.781234741210938\n",
      "Step: 825, Time: 0.13507485389709473, Loss: 1026291.5625, Mean Expected Daily Hospit: 18.81932258605957\n",
      "Step: 830, Time: 0.12743091583251953, Loss: 1026287.1875, Mean Expected Daily Hospit: 18.856637954711914\n",
      "Step: 835, Time: 0.12485337257385254, Loss: 1026283.0625, Mean Expected Daily Hospit: 18.893159866333008\n",
      "Step: 840, Time: 0.12721705436706543, Loss: 1026279.0, Mean Expected Daily Hospit: 18.928916931152344\n",
      "Step: 845, Time: 0.16784405708312988, Loss: 1026275.125, Mean Expected Daily Hospit: 18.96389389038086\n",
      "Step: 850, Time: 0.13712620735168457, Loss: 1026271.25, Mean Expected Daily Hospit: 18.99810218811035\n",
      "Step: 855, Time: 0.12982892990112305, Loss: 1026267.5625, Mean Expected Daily Hospit: 19.03155517578125\n",
      "Step: 860, Time: 0.14101004600524902, Loss: 1026264.0, Mean Expected Daily Hospit: 19.06425666809082\n",
      "Step: 865, Time: 0.13654160499572754, Loss: 1026260.375, Mean Expected Daily Hospit: 19.09621810913086\n",
      "Step: 870, Time: 0.12933349609375, Loss: 1026257.0, Mean Expected Daily Hospit: 19.127429962158203\n",
      "Step: 875, Time: 0.17163896560668945, Loss: 1026253.5625, Mean Expected Daily Hospit: 19.15793228149414\n",
      "Step: 880, Time: 0.1294231414794922, Loss: 1026250.375, Mean Expected Daily Hospit: 19.187700271606445\n",
      "Step: 885, Time: 0.13368606567382812, Loss: 1026247.1875, Mean Expected Daily Hospit: 19.216764450073242\n",
      "Step: 890, Time: 0.13420391082763672, Loss: 1026244.0625, Mean Expected Daily Hospit: 19.245126724243164\n",
      "Step: 895, Time: 0.13237214088439941, Loss: 1026240.9375, Mean Expected Daily Hospit: 19.272809982299805\n",
      "Step: 900, Time: 0.1392073631286621, Loss: 1026237.8125, Mean Expected Daily Hospit: 19.299800872802734\n",
      "Step: 905, Time: 0.14377188682556152, Loss: 1026235.0, Mean Expected Daily Hospit: 19.326128005981445\n",
      "Step: 910, Time: 0.09687066078186035, Loss: 1026232.0625, Mean Expected Daily Hospit: 19.351806640625\n",
      "Step: 915, Time: 0.10724544525146484, Loss: 1026229.125, Mean Expected Daily Hospit: 19.376827239990234\n",
      "Step: 920, Time: 0.09666943550109863, Loss: 1026226.4375, Mean Expected Daily Hospit: 19.40121078491211\n",
      "Step: 925, Time: 0.08505964279174805, Loss: 1026223.5625, Mean Expected Daily Hospit: 19.42497444152832\n",
      "Step: 930, Time: 0.0832509994506836, Loss: 1026220.9375, Mean Expected Daily Hospit: 19.448108673095703\n",
      "Step: 935, Time: 0.09579253196716309, Loss: 1026218.3125, Mean Expected Daily Hospit: 19.470670700073242\n",
      "Step: 940, Time: 0.09434890747070312, Loss: 1026215.625, Mean Expected Daily Hospit: 19.49262237548828\n",
      "Step: 945, Time: 0.09465599060058594, Loss: 1026213.0, Mean Expected Daily Hospit: 19.514005661010742\n",
      "Step: 950, Time: 0.08532929420471191, Loss: 1026210.375, Mean Expected Daily Hospit: 19.53482437133789\n",
      "Step: 955, Time: 0.1094968318939209, Loss: 1026207.875, Mean Expected Daily Hospit: 19.555082321166992\n",
      "Step: 960, Time: 0.08468985557556152, Loss: 1026205.25, Mean Expected Daily Hospit: 19.574792861938477\n",
      "Step: 965, Time: 0.08409571647644043, Loss: 1026202.8125, Mean Expected Daily Hospit: 19.593992233276367\n",
      "Step: 970, Time: 0.09956860542297363, Loss: 1026200.25, Mean Expected Daily Hospit: 19.61265754699707\n",
      "Step: 975, Time: 0.09221911430358887, Loss: 1026197.875, Mean Expected Daily Hospit: 19.630817413330078\n",
      "Step: 980, Time: 0.08802986145019531, Loss: 1026195.4375, Mean Expected Daily Hospit: 19.64849281311035\n",
      "Step: 985, Time: 0.09340548515319824, Loss: 1026193.0625, Mean Expected Daily Hospit: 19.66568946838379\n",
      "Step: 990, Time: 0.10062980651855469, Loss: 1026190.5625, Mean Expected Daily Hospit: 19.682401657104492\n",
      "Step: 995, Time: 0.08380579948425293, Loss: 1026188.1875, Mean Expected Daily Hospit: 19.698654174804688\n"
     ]
    }
   ]
  },
  {
   "cell_type": "markdown",
   "source": [
    "# Evaluation"
   ],
   "metadata": {
    "id": "TeJ8fa_XJmaq"
   }
  },
  {
   "cell_type": "code",
   "source": [
    "plt.plot(df_obs['Date'], observed.cpu().detach().numpy())\n",
    "plt.title('observed')\n",
    "plt.show()"
   ],
   "metadata": {
    "colab": {
     "base_uri": "https://localhost:8080/",
     "height": 281
    },
    "id": "Mu389qdhJoL9",
    "executionInfo": {
     "status": "ok",
     "timestamp": 1645538289792,
     "user_tz": -60,
     "elapsed": 932,
     "user": {
      "displayName": "Timo9092",
      "photoUrl": "https://lh3.googleusercontent.com/a/default-user=s64",
      "userId": "13096063072157218091"
     }
    },
    "outputId": "1f8a8429-44d8-4606-edb8-80987ebfd29e"
   },
   "execution_count": 11,
   "outputs": [
    {
     "data": {
      "text/plain": "<Figure size 432x288 with 1 Axes>",
      "image/png": "[encoded data removed]"
     },
     "metadata": {
      "needs_background": "light"
     },
     "output_type": "display_data"
    }
   ]
  },
  {
   "cell_type": "code",
   "source": [
    "plt.plot(df_obs['Date'], expected.cpu().detach().numpy())\n",
    "plt.title('expected')\n",
    "plt.show()"
   ],
   "metadata": {
    "colab": {
     "base_uri": "https://localhost:8080/",
     "height": 281
    },
    "id": "Z3fPkKqSnLWk",
    "executionInfo": {
     "status": "ok",
     "timestamp": 1645538295626,
     "user_tz": -60,
     "elapsed": 719,
     "user": {
      "displayName": "Timo9092",
      "photoUrl": "https://lh3.googleusercontent.com/a/default-user=s64",
      "userId": "13096063072157218091"
     }
    },
    "outputId": "dcd1d8f1-b1c2-47ba-96d2-629a008648dc"
   },
   "execution_count": 14,
   "outputs": [
    {
     "data": {
      "text/plain": "<Figure size 432x288 with 1 Axes>",
      "image/png": "[encoded data removed]"
     },
     "metadata": {
      "needs_background": "light"
     },
     "output_type": "display_data"
    }
   ]
  },
  {
   "cell_type": "code",
   "source": [
    "plt.plot(np.abs(epsilon_t.detach().numpy()))"
   ],
   "metadata": {
    "id": "nYHSMR60nNgh",
    "executionInfo": {
     "status": "aborted",
     "timestamp": 1645538272058,
     "user_tz": -60,
     "elapsed": 7,
     "user": {
      "displayName": "Timo9092",
      "photoUrl": "https://lh3.googleusercontent.com/a/default-user=s64",
      "userId": "13096063072157218091"
     }
    }
   },
   "execution_count": 13,
   "outputs": [
    {
     "data": {
      "text/plain": "[<matplotlib.lines.Line2D at 0x7f91b4551640>]"
     },
     "execution_count": 13,
     "metadata": {},
     "output_type": "execute_result"
    },
    {
     "data": {
      "text/plain": "<Figure size 432x288 with 1 Axes>",
      "image/png": "[encoded data removed]"
     },
     "metadata": {
      "needs_background": "light"
     },
     "output_type": "display_data"
    }
   ]
  },
  {
   "cell_type": "code",
   "execution_count": 45,
   "outputs": [
    {
     "data": {
      "text/plain": "tensor(0.0100, grad_fn=<AddBackward0>)"
     },
     "execution_count": 45,
     "metadata": {},
     "output_type": "execute_result"
    }
   ],
   "source": [
    "alpha"
   ],
   "metadata": {
    "collapsed": false,
    "pycharm": {
     "name": "#%%\n"
    }
   }
  },
  {
   "cell_type": "code",
   "execution_count": null,
   "outputs": [],
   "source": [],
   "metadata": {
    "collapsed": false,
    "pycharm": {
     "name": "#%%\n"
    }
   }
  }
 ]
}