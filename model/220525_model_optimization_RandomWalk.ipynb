{
 "cells": [
  {
   "cell_type": "markdown",
   "metadata": {
    "id": "view-in-github"
   },
   "source": [
    "<a href=\"https://colab.research.google.com/github/anuarsantoyo/master-thesis/blob/master/220525_model_optimization_RandomWalk.ipynb\" target=\"_parent\"><img src=\"https://colab.research.google.com/assets/colab-badge.svg\" alt=\"Open In Colab\"/></a>"
   ]
  },
  {
   "cell_type": "markdown",
   "metadata": {
    "id": "jAejLl15fGhW"
   },
   "source": [
    " master-thesisInput:\n",
    "- True Observations\n",
    "- Number Training Steps\n",
    "\n",
    "Output:\n",
    "- New Model Parameter\n",
    "\n",
    "Parts of Optimization:\n",
    "- Initialization of Model Parameter\n",
    "- tbd"
   ]
  },
  {
   "cell_type": "markdown",
   "metadata": {
    "id": "tzUv-gnXAaCX"
   },
   "source": [
    "# Initialization"
   ]
  },
  {
   "cell_type": "markdown",
   "metadata": {
    "id": "GZBwcFlyIXFq"
   },
   "source": [
    "## Import Libraries and Mount Drive"
   ]
  },
  {
   "cell_type": "code",
   "execution_count": 1,
   "metadata": {
    "id": "NkXDaY_pAXG1",
    "executionInfo": {
     "status": "ok",
     "timestamp": 1654246412369,
     "user_tz": -120,
     "elapsed": 942,
     "user": {
      "displayName": "Timo9092",
      "userId": "13096063072157218091"
     }
    }
   },
   "outputs": [],
   "source": [
    "import numpy as np\n",
    "import pandas as pd\n",
    "import matplotlib.pyplot as plt\n",
    "import time\n",
    "import torch\n",
    "from torch import distributions, optim"
   ]
  },
  {
   "cell_type": "code",
   "execution_count": 2,
   "metadata": {
    "colab": {
     "base_uri": "https://localhost:8080/"
    },
    "id": "gMFNWln4HWP9",
    "outputId": "4cff4665-7427-4667-e11a-e14654003bd0",
    "executionInfo": {
     "status": "ok",
     "timestamp": 1654246413969,
     "user_tz": -120,
     "elapsed": 1605,
     "user": {
      "displayName": "Timo9092",
      "userId": "13096063072157218091"
     }
    }
   },
   "outputs": [
    {
     "output_type": "stream",
     "name": "stdout",
     "text": [
      "Drive already mounted at /content/drive; to attempt to forcibly remount, call drive.mount(\"/content/drive\", force_remount=True).\n",
      "/content/drive/MyDrive/GitHub/master-thesis\n"
     ]
    }
   ],
   "source": [
    "'''from google.colab import drive\n",
    "drive.mount('/content/drive')\n",
    "\n",
    "%cd /content/drive/MyDrive/GitHub/master-thesis\n",
    "\n",
    "import sys\n",
    "sys.path.append('/content/gdrive/My Drive/GitHub/master-thesis')'''"
   ]
  },
  {
   "cell_type": "code",
   "execution_count": 2,
   "outputs": [
    {
     "name": "stdout",
     "output_type": "stream",
     "text": [
      "/home/anuar/PycharmProjects/master-thesis\n"
     ]
    }
   ],
   "source": [
    "%cd .."
   ],
   "metadata": {
    "pycharm": {
     "name": "#%%\n"
    },
    "id": "Dvr2clMYEc9a",
    "executionInfo": {
     "status": "ok",
     "timestamp": 1654246413969,
     "user_tz": -120,
     "elapsed": 5,
     "user": {
      "displayName": "Timo9092",
      "userId": "13096063072157218091"
     }
    }
   }
  },
  {
   "cell_type": "code",
   "execution_count": 4,
   "outputs": [],
   "source": [
    "from model.methods import *\n",
    "from model.modelcore import epid_model\n",
    "from model.modelhelper import *"
   ],
   "metadata": {
    "pycharm": {
     "name": "#%%\n"
    },
    "id": "yYji4jfxEc9a",
    "executionInfo": {
     "status": "ok",
     "timestamp": 1654246414581,
     "user_tz": -120,
     "elapsed": 616,
     "user": {
      "displayName": "Timo9092",
      "userId": "13096063072157218091"
     }
    }
   }
  },
  {
   "cell_type": "markdown",
   "metadata": {
    "id": "w-S2ACi7Aqxg"
   },
   "source": [
    "## Optimization Settings"
   ]
  },
  {
   "cell_type": "code",
   "execution_count": 5,
   "metadata": {
    "id": "ZcVTuwjVAxUs",
    "executionInfo": {
     "status": "ok",
     "timestamp": 1654246414581,
     "user_tz": -120,
     "elapsed": 9,
     "user": {
      "displayName": "Timo9092",
      "userId": "13096063072157218091"
     }
    }
   },
   "outputs": [],
   "source": [
    "observation = 'hospitalization' #'newly_infected' #'hospitalization'\n",
    "rolling_avg_obs = 2\n",
    "# Overall Time Period\n",
    "start_time='2020-07-31' # Mitte November/ Anfang Dezember bis Februar\n",
    "end_time='2021-02-01' # Begin Vaccination Wave\n",
    "\n",
    "\n",
    "train_test_split_time= end_time #'2020-12-01'\n",
    "\n",
    "\n",
    "dtype = torch.float32\n",
    "device = torch.device(\"cuda:0\" if torch.cuda.is_available() else \"cpu\") #cuda:0"
   ]
  },
  {
   "cell_type": "markdown",
   "metadata": {
    "id": "CIvgyI6sAl3A"
   },
   "source": [
    "## Initialize Observations"
   ]
  },
  {
   "cell_type": "code",
   "execution_count": 6,
   "metadata": {
    "colab": {
     "base_uri": "https://localhost:8080/",
     "height": 143
    },
    "id": "LjO9hxpX31Kx",
    "outputId": "df2ba410-b1e7-45e6-cea3-f45937567923",
    "executionInfo": {
     "status": "ok",
     "timestamp": 1654246414582,
     "user_tz": -120,
     "elapsed": 8,
     "user": {
      "displayName": "Timo9092",
      "userId": "13096063072157218091"
     }
    }
   },
   "outputs": [
    {
     "data": {
      "text/plain": "        Date  number_of_deaths  newly_infected  hospitalization\n0 2020-07-31               0.5            71.0              4.0\n1 2020-08-01               0.5            61.0              3.5\n2 2020-08-02               0.0            71.0              3.0",
      "text/html": "<div>\n<style scoped>\n    .dataframe tbody tr th:only-of-type {\n        vertical-align: middle;\n    }\n\n    .dataframe tbody tr th {\n        vertical-align: top;\n    }\n\n    .dataframe thead th {\n        text-align: right;\n    }\n</style>\n<table border=\"1\" class=\"dataframe\">\n  <thead>\n    <tr style=\"text-align: right;\">\n      <th></th>\n      <th>Date</th>\n      <th>number_of_deaths</th>\n      <th>newly_infected</th>\n      <th>hospitalization</th>\n    </tr>\n  </thead>\n  <tbody>\n    <tr>\n      <th>0</th>\n      <td>2020-07-31</td>\n      <td>0.5</td>\n      <td>71.0</td>\n      <td>4.0</td>\n    </tr>\n    <tr>\n      <th>1</th>\n      <td>2020-08-01</td>\n      <td>0.5</td>\n      <td>61.0</td>\n      <td>3.5</td>\n    </tr>\n    <tr>\n      <th>2</th>\n      <td>2020-08-02</td>\n      <td>0.0</td>\n      <td>71.0</td>\n      <td>3.0</td>\n    </tr>\n  </tbody>\n</table>\n</div>"
     },
     "execution_count": 6,
     "metadata": {},
     "output_type": "execute_result"
    }
   ],
   "source": [
    "df_obs_initial = pd.read_csv('data/220309_observations.csv' , sep=';', thousands='.', decimal=',', encoding='utf-8', parse_dates=['Date'])\n",
    "\n",
    "# Initialize Observations Training\n",
    "df_obs_train, initial_newly_infected = initialize_observations(df_obs_initial, start=start_time, end=train_test_split_time, rolling_avg=rolling_avg_obs)\n",
    "observed_train = torch.tensor(df_obs_train[observation], requires_grad=False, device=device, dtype=dtype)\n",
    "\n",
    "# Initialize Observations Testing\n",
    "df_obs_test, _ = initialize_observations(df_obs_initial, start=train_test_split_time, end=end_time, rolling_avg=rolling_avg_obs)\n",
    "observed_test = torch.tensor(df_obs_test[observation], requires_grad=False, device=device, dtype=dtype)\n",
    "\n",
    "# Create df_obs\n",
    "observed_train_test = torch.concat((observed_train, observed_test))\n",
    "df_obs = pd.concat([df_obs_train, df_obs_test])\n",
    "df_obs = df_obs.reset_index(drop=True)\n",
    "df_obs.head(3)"
   ]
  },
  {
   "cell_type": "code",
   "execution_count": null,
   "metadata": {
    "id": "m9s1g-biD9kJ",
    "executionInfo": {
     "status": "ok",
     "timestamp": 1654246414814,
     "user_tz": -120,
     "elapsed": 237,
     "user": {
      "displayName": "Timo9092",
      "userId": "13096063072157218091"
     }
    }
   },
   "outputs": [],
   "source": [
    "#for column in df_obs.columns:\n",
    "#  plt.plot(df_obs['Date'], df_obs[column])\n",
    "#  plt.title(column)\n",
    "#  plt.show()"
   ]
  },
  {
   "cell_type": "markdown",
   "metadata": {
    "id": "sVY7bdcGDiCq"
   },
   "source": [
    "## Initialize Model Parameter"
   ]
  },
  {
   "cell_type": "markdown",
   "metadata": {
    "id": "EwsYZLKcJO9k"
   },
   "source": [
    "### Initialize helper parameter"
   ]
  },
  {
   "cell_type": "code",
   "execution_count": 8,
   "metadata": {
    "id": "P6A9L25BHjZ8",
    "executionInfo": {
     "status": "ok",
     "timestamp": 1654246414815,
     "user_tz": -120,
     "elapsed": 6,
     "user": {
      "displayName": "Timo9092",
      "userId": "13096063072157218091"
     }
    }
   },
   "outputs": [],
   "source": [
    "cero = torch.tensor(0., requires_grad=False, device=device, dtype=dtype)"
   ]
  },
  {
   "cell_type": "markdown",
   "metadata": {
    "id": "H8sIHVnpJSFL"
   },
   "source": [
    "### Initialize method parameter"
   ]
  },
  {
   "cell_type": "code",
   "execution_count": 9,
   "outputs": [],
   "source": [
    "method = RandomWalk(n_observations = df_obs.shape[0], device=device, dtype=dtype)"
   ],
   "metadata": {
    "pycharm": {
     "name": "#%%\n"
    },
    "id": "njwgxhOnEc9d",
    "executionInfo": {
     "status": "ok",
     "timestamp": 1654246414815,
     "user_tz": -120,
     "elapsed": 5,
     "user": {
      "displayName": "Timo9092",
      "userId": "13096063072157218091"
     }
    }
   }
  },
  {
   "cell_type": "markdown",
   "source": [
    "### Initialize alpha and phi"
   ],
   "metadata": {
    "collapsed": false,
    "id": "8LEECUSgEc9e"
   }
  },
  {
   "cell_type": "code",
   "execution_count": 10,
   "outputs": [
    {
     "data": {
      "text/plain": "{'prime_values': {'alpha': tensor(0.0102, requires_grad=True),\n  'phi': tensor(-0., requires_grad=True)},\n 'real_values': {'alpha': tensor(0.0280, grad_fn=<AddBackward0>),\n  'phi': tensor(25., grad_fn=<AddBackward0>)}}"
     },
     "execution_count": 10,
     "metadata": {},
     "output_type": "execute_result"
    }
   ],
   "source": [
    "dict_param = initialize_parameter(['alpha', 'phi'], device, dtype)\n",
    "dict_param"
   ],
   "metadata": {
    "pycharm": {
     "name": "#%%\n"
    },
    "id": "IueNV1ZHEc9e",
    "colab": {
     "base_uri": "https://localhost:8080/"
    },
    "outputId": "6c691b71-6379-4c75-d9f8-fdad94be683f",
    "executionInfo": {
     "status": "ok",
     "timestamp": 1654246414815,
     "user_tz": -120,
     "elapsed": 5,
     "user": {
      "displayName": "Timo9092",
      "userId": "13096063072157218091"
     }
    }
   }
  },
  {
   "cell_type": "markdown",
   "metadata": {
    "id": "EajyQpZdDpaO"
   },
   "source": [
    "# Optimization"
   ]
  },
  {
   "cell_type": "markdown",
   "metadata": {
    "id": "NxxX-CfKDxee"
   },
   "source": [
    "## Training"
   ]
  },
  {
   "cell_type": "code",
   "execution_count": 11,
   "metadata": {
    "id": "TrXB0cdHlOcZ",
    "colab": {
     "base_uri": "https://localhost:8080/",
     "height": 1000
    },
    "outputId": "7514dd77-24c7-4121-9591-c1180b05a1e3",
    "executionInfo": {
     "status": "ok",
     "timestamp": 1654246488078,
     "user_tz": -120,
     "elapsed": 73267,
     "user": {
      "displayName": "Timo9092",
      "userId": "13096063072157218091"
     }
    }
   },
   "outputs": [
    {
     "ename": "ValueError",
     "evalue": "Expected parameter probs (Tensor of shape ()) of distribution NegativeBinomial(total_count: 0.981773853302002, probs: 1.0203289985656738) to satisfy the constraint HalfOpenInterval(lower_bound=0.0, upper_bound=1.0), but found invalid values:\n1.0203289985656738",
     "output_type": "error",
     "traceback": [
      "\u001B[0;31m---------------------------------------------------------------------------\u001B[0m",
      "\u001B[0;31mValueError\u001B[0m                                Traceback (most recent call last)",
      "Input \u001B[0;32mIn [11]\u001B[0m, in \u001B[0;36m<module>\u001B[0;34m\u001B[0m\n\u001B[1;32m     29\u001B[0m expected \u001B[38;5;241m=\u001B[39m epid_model(R\u001B[38;5;241m=\u001B[39mmethod\u001B[38;5;241m.\u001B[39mcalculate_R(), initial_newly_infected \u001B[38;5;241m=\u001B[39m initial_newly_infected, alpha\u001B[38;5;241m=\u001B[39mdict_param[\u001B[38;5;124m'\u001B[39m\u001B[38;5;124mreal_values\u001B[39m\u001B[38;5;124m'\u001B[39m][\u001B[38;5;124m'\u001B[39m\u001B[38;5;124malpha\u001B[39m\u001B[38;5;124m'\u001B[39m], device\u001B[38;5;241m=\u001B[39mdevice, dtype\u001B[38;5;241m=\u001B[39mdtype)[observation][:df_obs_train\u001B[38;5;241m.\u001B[39mshape[\u001B[38;5;241m0\u001B[39m]] \u001B[38;5;66;03m#method.cluster_percentage_train\u001B[39;00m\n\u001B[1;32m     31\u001B[0m \u001B[38;5;66;03m# calc loss\u001B[39;00m\n\u001B[0;32m---> 32\u001B[0m comparison_loss_train \u001B[38;5;241m=\u001B[39m \u001B[43mcalc_negative_binomnial_loss\u001B[49m\u001B[43m(\u001B[49m\u001B[43mexpected\u001B[49m\u001B[43m,\u001B[49m\u001B[43m \u001B[49m\u001B[43mobserved_train\u001B[49m\u001B[43m,\u001B[49m\u001B[43m \u001B[49m\u001B[43mdict_param\u001B[49m\u001B[43m[\u001B[49m\u001B[38;5;124;43m'\u001B[39;49m\u001B[38;5;124;43mreal_values\u001B[39;49m\u001B[38;5;124;43m'\u001B[39;49m\u001B[43m]\u001B[49m\u001B[43m[\u001B[49m\u001B[38;5;124;43m'\u001B[39;49m\u001B[38;5;124;43mphi\u001B[39;49m\u001B[38;5;124;43m'\u001B[39;49m\u001B[43m]\u001B[49m\u001B[43m)\u001B[49m\n\u001B[1;32m     33\u001B[0m \u001B[38;5;66;03m# calc loss\u001B[39;00m\n\u001B[1;32m     34\u001B[0m \u001B[38;5;66;03m#comparison_loss_train =  calc_mse(expected, observed_train) * dict_param['real_values']['phi'] #calc_negative_binomnial_loss(expected, observed_train, dict_param['real_values']['phi'])\u001B[39;00m\n\u001B[1;32m     35\u001B[0m method_loss \u001B[38;5;241m=\u001B[39m method\u001B[38;5;241m.\u001B[39mcalculate_loss()\n",
      "File \u001B[0;32m~/PycharmProjects/master-thesis/model/modelhelper.py:115\u001B[0m, in \u001B[0;36mcalc_negative_binomnial_loss\u001B[0;34m(expected, observed, phi)\u001B[0m\n\u001B[1;32m    113\u001B[0m \u001B[38;5;28;01mfor\u001B[39;00m i, val \u001B[38;5;129;01min\u001B[39;00m \u001B[38;5;28menumerate\u001B[39m(expected):\n\u001B[1;32m    114\u001B[0m     probs \u001B[38;5;241m=\u001B[39m val \u001B[38;5;241m+\u001B[39m (val\u001B[38;5;241m*\u001B[39m\u001B[38;5;241m*\u001B[39m\u001B[38;5;241m2\u001B[39m)\u001B[38;5;241m/\u001B[39mphi\n\u001B[0;32m--> 115\u001B[0m     nb \u001B[38;5;241m=\u001B[39m \u001B[43mtorch\u001B[49m\u001B[38;5;241;43m.\u001B[39;49m\u001B[43mdistributions\u001B[49m\u001B[38;5;241;43m.\u001B[39;49m\u001B[43mnegative_binomial\u001B[49m\u001B[38;5;241;43m.\u001B[39;49m\u001B[43mNegativeBinomial\u001B[49m\u001B[43m(\u001B[49m\u001B[43mval\u001B[49m\u001B[43m,\u001B[49m\u001B[43m \u001B[49m\u001B[43mprobs\u001B[49m\u001B[38;5;241;43m=\u001B[39;49m\u001B[43mprobs\u001B[49m\u001B[43m,\u001B[49m\u001B[43m \u001B[49m\u001B[43mlogits\u001B[49m\u001B[38;5;241;43m=\u001B[39;49m\u001B[38;5;28;43;01mNone\u001B[39;49;00m\u001B[43m,\u001B[49m\u001B[43m \u001B[49m\u001B[43mvalidate_args\u001B[49m\u001B[38;5;241;43m=\u001B[39;49m\u001B[38;5;28;43;01mNone\u001B[39;49;00m\u001B[43m)\u001B[49m\n\u001B[1;32m    116\u001B[0m     ll \u001B[38;5;241m+\u001B[39m\u001B[38;5;241m=\u001B[39m nb\u001B[38;5;241m.\u001B[39mlog_prob(observed[i]\u001B[38;5;241m.\u001B[39mint())\n\u001B[1;32m    117\u001B[0m \u001B[38;5;28;01mreturn\u001B[39;00m \u001B[38;5;241m-\u001B[39mll\u001B[38;5;241m/\u001B[39m(i \u001B[38;5;241m+\u001B[39m \u001B[38;5;241m1\u001B[39m)\n",
      "File \u001B[0;32m~/PycharmProjects/master-thesis/venv/lib/python3.8/site-packages/torch/distributions/negative_binomial.py:39\u001B[0m, in \u001B[0;36mNegativeBinomial.__init__\u001B[0;34m(self, total_count, probs, logits, validate_args)\u001B[0m\n\u001B[1;32m     37\u001B[0m \u001B[38;5;28mself\u001B[39m\u001B[38;5;241m.\u001B[39m_param \u001B[38;5;241m=\u001B[39m \u001B[38;5;28mself\u001B[39m\u001B[38;5;241m.\u001B[39mprobs \u001B[38;5;28;01mif\u001B[39;00m probs \u001B[38;5;129;01mis\u001B[39;00m \u001B[38;5;129;01mnot\u001B[39;00m \u001B[38;5;28;01mNone\u001B[39;00m \u001B[38;5;28;01melse\u001B[39;00m \u001B[38;5;28mself\u001B[39m\u001B[38;5;241m.\u001B[39mlogits\n\u001B[1;32m     38\u001B[0m batch_shape \u001B[38;5;241m=\u001B[39m \u001B[38;5;28mself\u001B[39m\u001B[38;5;241m.\u001B[39m_param\u001B[38;5;241m.\u001B[39msize()\n\u001B[0;32m---> 39\u001B[0m \u001B[38;5;28;43msuper\u001B[39;49m\u001B[43m(\u001B[49m\u001B[43mNegativeBinomial\u001B[49m\u001B[43m,\u001B[49m\u001B[43m \u001B[49m\u001B[38;5;28;43mself\u001B[39;49m\u001B[43m)\u001B[49m\u001B[38;5;241;43m.\u001B[39;49m\u001B[38;5;21;43m__init__\u001B[39;49m\u001B[43m(\u001B[49m\u001B[43mbatch_shape\u001B[49m\u001B[43m,\u001B[49m\u001B[43m \u001B[49m\u001B[43mvalidate_args\u001B[49m\u001B[38;5;241;43m=\u001B[39;49m\u001B[43mvalidate_args\u001B[49m\u001B[43m)\u001B[49m\n",
      "File \u001B[0;32m~/PycharmProjects/master-thesis/venv/lib/python3.8/site-packages/torch/distributions/distribution.py:55\u001B[0m, in \u001B[0;36mDistribution.__init__\u001B[0;34m(self, batch_shape, event_shape, validate_args)\u001B[0m\n\u001B[1;32m     53\u001B[0m valid \u001B[38;5;241m=\u001B[39m constraint\u001B[38;5;241m.\u001B[39mcheck(value)\n\u001B[1;32m     54\u001B[0m \u001B[38;5;28;01mif\u001B[39;00m \u001B[38;5;129;01mnot\u001B[39;00m valid\u001B[38;5;241m.\u001B[39mall():\n\u001B[0;32m---> 55\u001B[0m     \u001B[38;5;28;01mraise\u001B[39;00m \u001B[38;5;167;01mValueError\u001B[39;00m(\n\u001B[1;32m     56\u001B[0m         \u001B[38;5;124mf\u001B[39m\u001B[38;5;124m\"\u001B[39m\u001B[38;5;124mExpected parameter \u001B[39m\u001B[38;5;132;01m{\u001B[39;00mparam\u001B[38;5;132;01m}\u001B[39;00m\u001B[38;5;124m \u001B[39m\u001B[38;5;124m\"\u001B[39m\n\u001B[1;32m     57\u001B[0m         \u001B[38;5;124mf\u001B[39m\u001B[38;5;124m\"\u001B[39m\u001B[38;5;124m(\u001B[39m\u001B[38;5;132;01m{\u001B[39;00m\u001B[38;5;28mtype\u001B[39m(value)\u001B[38;5;241m.\u001B[39m\u001B[38;5;18m__name__\u001B[39m\u001B[38;5;132;01m}\u001B[39;00m\u001B[38;5;124m of shape \u001B[39m\u001B[38;5;132;01m{\u001B[39;00m\u001B[38;5;28mtuple\u001B[39m(value\u001B[38;5;241m.\u001B[39mshape)\u001B[38;5;132;01m}\u001B[39;00m\u001B[38;5;124m) \u001B[39m\u001B[38;5;124m\"\u001B[39m\n\u001B[1;32m     58\u001B[0m         \u001B[38;5;124mf\u001B[39m\u001B[38;5;124m\"\u001B[39m\u001B[38;5;124mof distribution \u001B[39m\u001B[38;5;132;01m{\u001B[39;00m\u001B[38;5;28mrepr\u001B[39m(\u001B[38;5;28mself\u001B[39m)\u001B[38;5;132;01m}\u001B[39;00m\u001B[38;5;124m \u001B[39m\u001B[38;5;124m\"\u001B[39m\n\u001B[1;32m     59\u001B[0m         \u001B[38;5;124mf\u001B[39m\u001B[38;5;124m\"\u001B[39m\u001B[38;5;124mto satisfy the constraint \u001B[39m\u001B[38;5;132;01m{\u001B[39;00m\u001B[38;5;28mrepr\u001B[39m(constraint)\u001B[38;5;132;01m}\u001B[39;00m\u001B[38;5;124m, \u001B[39m\u001B[38;5;124m\"\u001B[39m\n\u001B[1;32m     60\u001B[0m         \u001B[38;5;124mf\u001B[39m\u001B[38;5;124m\"\u001B[39m\u001B[38;5;124mbut found invalid values:\u001B[39m\u001B[38;5;130;01m\\n\u001B[39;00m\u001B[38;5;132;01m{\u001B[39;00mvalue\u001B[38;5;132;01m}\u001B[39;00m\u001B[38;5;124m\"\u001B[39m\n\u001B[1;32m     61\u001B[0m     )\n\u001B[1;32m     62\u001B[0m \u001B[38;5;28;01mif\u001B[39;00m \u001B[38;5;129;01mnot\u001B[39;00m constraint\u001B[38;5;241m.\u001B[39mcheck(\u001B[38;5;28mgetattr\u001B[39m(\u001B[38;5;28mself\u001B[39m, param))\u001B[38;5;241m.\u001B[39mall():\n\u001B[1;32m     63\u001B[0m     \u001B[38;5;28;01mraise\u001B[39;00m \u001B[38;5;167;01mValueError\u001B[39;00m(\u001B[38;5;124m\"\u001B[39m\u001B[38;5;124mThe parameter \u001B[39m\u001B[38;5;132;01m{}\u001B[39;00m\u001B[38;5;124m has invalid values\u001B[39m\u001B[38;5;124m\"\u001B[39m\u001B[38;5;241m.\u001B[39mformat(param))\n",
      "\u001B[0;31mValueError\u001B[0m: Expected parameter probs (Tensor of shape ()) of distribution NegativeBinomial(total_count: 0.981773853302002, probs: 1.0203289985656738) to satisfy the constraint HalfOpenInterval(lower_bound=0.0, upper_bound=1.0), but found invalid values:\n1.0203289985656738"
     ]
    }
   ],
   "source": [
    "from torch.optim.lr_scheduler import ExponentialLR\n",
    "\n",
    "epochs = 1000\n",
    "# model_parameter = [dict_param['prime_values']['alpha'], dict_param['prime_values']['phi']] + [dict_param['prime_values']['epsilon']]\n",
    "\n",
    "params_to_be_optimized = method.get_parameters() + [dict_param['prime_values']['phi']]\n",
    "if observation == 'hospitalization':\n",
    "  params_to_be_optimized = params_to_be_optimized + [dict_param['prime_values']['alpha']]\n",
    "\n",
    "optimizer = optim.Adam(params_to_be_optimized, lr=0.01)\n",
    "scheduler = ExponentialLR(optimizer, gamma=0.999)\n",
    "list_R0 = []\n",
    "list_sigma = []\n",
    "list_phi = []\n",
    "list_alpha = []\n",
    "\n",
    "for i in range(epochs):\n",
    "  iteration_time = time.time()\n",
    "  optimizer.zero_grad()\n",
    "\n",
    "  # transform alphi, phi\n",
    "  dict_param = transform_prime_variables(dict_param)\n",
    "  list_R0.append(method.get_R0().item())\n",
    "  list_sigma.append(method.get_sigma().item())\n",
    "  list_phi.append(dict_param['real_values']['phi'].item())\n",
    "  list_alpha.append(dict_param['real_values']['alpha'].item())\n",
    "\n",
    "  # forward pass\n",
    "  expected = epid_model(R=method.calculate_R(), initial_newly_infected = initial_newly_infected, alpha=dict_param['real_values']['alpha'], device=device, dtype=dtype)[observation][:df_obs_train.shape[0]] #method.cluster_percentage_train\n",
    "\n",
    "  # calc loss\n",
    "  comparison_loss_train = calc_negative_binomnial_loss(expected, observed_train, dict_param['real_values']['phi'])\n",
    "  # calc loss\n",
    "  #comparison_loss_train =  calc_mse(expected, observed_train) * dict_param['real_values']['phi'] #calc_negative_binomnial_loss(expected, observed_train, dict_param['real_values']['phi'])\n",
    "  method_loss = method.calculate_loss()\n",
    "  model_param_loss = calc_prior_loss(dict_param, device, dtype)\n",
    "  loss = comparison_loss_train + method_loss + model_param_loss\n",
    "\n",
    "  # backward pass\n",
    "  loss.backward()\n",
    "  optimizer.step()\n",
    "  scheduler.step()\n",
    "  \n",
    "  \n",
    "  with torch.no_grad():\n",
    "    if i % 50==0:\n",
    "        current_time = round((time.time() - iteration_time),4)\n",
    "        current_lr = optimizer.state_dict()['param_groups'][0]['lr']\n",
    "        expected_test = epid_model(R=method.calculate_R(), initial_newly_infected = initial_newly_infected, alpha=dict_param['real_values']['alpha'], device=device, dtype=dtype)[observation][-df_obs_test.shape[0]:] #method.cluster_percentage_test\n",
    "        print(f\"Step: {i}, Learning Rate: {current_lr} Time: {current_time}, Comparison Loss: {comparison_loss_train}, Phi: {dict_param['real_values']['phi']} \")\n",
    "\n",
    "    if i % 100==0:\n",
    "      plt.plot(df_obs_train['Date'], expected.cpu().detach().numpy(), label='predicted')\n",
    "      plt.plot(df_obs_train['Date'], observed_train.cpu().detach().numpy(), label='observed')\n",
    "      plt.legend()\n",
    "      plt.show()\n",
    "\n"
   ]
  },
  {
   "cell_type": "markdown",
   "metadata": {
    "id": "TeJ8fa_XJmaq"
   },
   "source": [
    "# Evaluation"
   ]
  },
  {
   "cell_type": "markdown",
   "source": [
    "## Train and Test Time "
   ],
   "metadata": {
    "id": "Xzn7QQncu9cC"
   }
  },
  {
   "cell_type": "code",
   "source": [
    "expected_train_test = epid_model(R=method.calculate_R(), initial_newly_infected = initial_newly_infected, alpha=dict_param['real_values']['alpha'], device=device, dtype=dtype)[observation] #cluster_percentage_train_test\n",
    "plt.plot(expected_train_test.cpu().detach().numpy(),label='Expected All Data')\n",
    "plt.plot(observed_train_test.cpu().detach().numpy(),label='Observed All Data')\n",
    "plt.axvline(x=observed_train.shape[0])\n",
    "plt.legend()\n",
    "plt.show()"
   ],
   "metadata": {
    "id": "BrN8FYZ8u7wr",
    "executionInfo": {
     "status": "ok",
     "timestamp": 1654246488632,
     "user_tz": -120,
     "elapsed": 565,
     "user": {
      "displayName": "Timo9092",
      "userId": "13096063072157218091"
     }
    },
    "colab": {
     "base_uri": "https://localhost:8080/",
     "height": 265
    },
    "outputId": "f1681a30-d3f7-40c3-8384-f4b97cb728fe"
   },
   "execution_count": null,
   "outputs": []
  },
  {
   "cell_type": "code",
   "source": [
    "plt.plot(method.get_parameters()[0].cpu().detach().numpy())\n",
    "plt.axvline(x=observed_train.shape[0])\n",
    "plt.show()"
   ],
   "metadata": {
    "id": "SZfhVZVGLwge",
    "executionInfo": {
     "status": "ok",
     "timestamp": 1654246488633,
     "user_tz": -120,
     "elapsed": 9,
     "user": {
      "displayName": "Timo9092",
      "userId": "13096063072157218091"
     }
    },
    "colab": {
     "base_uri": "https://localhost:8080/",
     "height": 265
    },
    "outputId": "8359650f-9311-4252-8c4e-64e24e51d503"
   },
   "execution_count": null,
   "outputs": []
  },
  {
   "cell_type": "code",
   "source": [
    "plt.plot(list_R0)"
   ],
   "metadata": {
    "id": "EtHRHL8rjQiB",
    "executionInfo": {
     "status": "ok",
     "timestamp": 1654246489132,
     "user_tz": -120,
     "elapsed": 506,
     "user": {
      "displayName": "Timo9092",
      "userId": "13096063072157218091"
     }
    },
    "colab": {
     "base_uri": "https://localhost:8080/",
     "height": 282
    },
    "outputId": "735e42f7-daae-4d21-b07b-26d11f292d1f"
   },
   "execution_count": null,
   "outputs": []
  },
  {
   "cell_type": "code",
   "source": [
    "plt.plot(list_sigma)"
   ],
   "metadata": {
    "id": "0wonMN14jbn6",
    "executionInfo": {
     "status": "ok",
     "timestamp": 1654246489133,
     "user_tz": -120,
     "elapsed": 11,
     "user": {
      "displayName": "Timo9092",
      "userId": "13096063072157218091"
     }
    },
    "colab": {
     "base_uri": "https://localhost:8080/",
     "height": 282
    },
    "outputId": "27da22ef-66dd-402f-c7af-4ffc49d20ba1"
   },
   "execution_count": null,
   "outputs": []
  },
  {
   "cell_type": "code",
   "source": [
    "plt.plot(list_phi)"
   ],
   "metadata": {
    "id": "AKmBYr2tjboR",
    "executionInfo": {
     "status": "ok",
     "timestamp": 1654246489133,
     "user_tz": -120,
     "elapsed": 8,
     "user": {
      "displayName": "Timo9092",
      "userId": "13096063072157218091"
     }
    },
    "colab": {
     "base_uri": "https://localhost:8080/",
     "height": 282
    },
    "outputId": "bf10290b-08b3-4505-8769-8bd9e8a555f7"
   },
   "execution_count": null,
   "outputs": []
  },
  {
   "cell_type": "code",
   "source": [
    "plt.plot(list_alpha)"
   ],
   "metadata": {
    "id": "H-0GzO5Ei2qv",
    "executionInfo": {
     "status": "ok",
     "timestamp": 1654246489583,
     "user_tz": -120,
     "elapsed": 457,
     "user": {
      "displayName": "Timo9092",
      "userId": "13096063072157218091"
     }
    },
    "colab": {
     "base_uri": "https://localhost:8080/",
     "height": 284
    },
    "outputId": "a9904b76-1f0b-4457-a77b-a4ce3888b794"
   },
   "execution_count": null,
   "outputs": []
  },
  {
   "cell_type": "code",
   "source": [
    "df_rvalue = pd.DataFrame()\n",
    "df_rvalue['date'] = df_obs.Date\n",
    "df_rvalue['R_t'] = method.calculate_R().detach().numpy()\n",
    "df_rvalue.to_csv('data/infered_rvalue.csv', index=False)\n",
    "plt.plot(df_rvalue['date'], df_rvalue['R_t'])"
   ],
   "metadata": {
    "id": "FRna8UhKjYaB",
    "executionInfo": {
     "status": "ok",
     "timestamp": 1654246489584,
     "user_tz": -120,
     "elapsed": 15,
     "user": {
      "displayName": "Timo9092",
      "userId": "13096063072157218091"
     }
    },
    "colab": {
     "base_uri": "https://localhost:8080/",
     "height": 285
    },
    "outputId": "17b9b670-4c42-46ca-e292-f29679949b95"
   },
   "execution_count": null,
   "outputs": []
  },
  {
   "cell_type": "markdown",
   "source": [
    "## Eval on Test Data\n"
   ],
   "metadata": {
    "id": "CurE5x_3tuZY"
   }
  },
  {
   "cell_type": "code",
   "source": [
    "expected_test = expected_train_test[-df_obs_test.shape[0]:]\n",
    "comparison_loss_test = calc_mse(expected_test, observed_test) * dict_param['real_values']['phi']\n",
    "print(f'Comparison Loss Train: {comparison_loss_train} - Comparison Loss Test: {comparison_loss_test}')\n",
    "\n",
    "plt.plot(df_obs_test['Date'], expected_test.cpu().detach().numpy(),label='Expected Test Data')\n",
    "plt.plot(df_obs_test['Date'], observed_test.cpu().detach().numpy(),label='Observed Test Data')\n",
    "plt.legend()\n",
    "plt.show()"
   ],
   "metadata": {
    "id": "sXujRYIYtt8A",
    "executionInfo": {
     "status": "error",
     "timestamp": 1654246489843,
     "user_tz": -120,
     "elapsed": 266,
     "user": {
      "displayName": "Timo9092",
      "userId": "13096063072157218091"
     }
    },
    "colab": {
     "base_uri": "https://localhost:8080/",
     "height": 357
    },
    "outputId": "87e8a487-8f11-4afb-9819-b7ab0f4cc866"
   },
   "execution_count": null,
   "outputs": []
  },
  {
   "cell_type": "markdown",
   "source": [
    "Eval Newly Infected"
   ],
   "metadata": {
    "id": "o1GmRLUEbw0z"
   }
  },
  {
   "cell_type": "code",
   "source": [
    "expected_newly = epid_model(R=method.calculate_R(), initial_newly_infected = initial_newly_infected, alpha=dict_param['real_values']['alpha'], device=device, dtype=dtype)['newly_infected']\n",
    "\n",
    "plt.plot(expected_newly.cpu().detach().numpy(),label='Expected Newly Infected')\n",
    "plt.plot(df_obs['newly_infected'],label='Observed Newly Infected')\n",
    "plt.axvline(x=observed_train.shape[0])\n",
    "plt.legend()\n",
    "plt.show()"
   ],
   "metadata": {
    "id": "D3P0meAfSJz-",
    "executionInfo": {
     "status": "aborted",
     "timestamp": 1654246489842,
     "user_tz": -120,
     "elapsed": 264,
     "user": {
      "displayName": "Timo9092",
      "userId": "13096063072157218091"
     }
    }
   },
   "execution_count": null,
   "outputs": []
  }
 ],
 "metadata": {
  "colab": {
   "collapsed_sections": [],
   "name": "220525_model_optimization_RandomWalk.ipynb",
   "provenance": []
  },
  "kernelspec": {
   "display_name": "Python 3",
   "name": "python3"
  },
  "language_info": {
   "name": "python"
  }
 },
 "nbformat": 4,
 "nbformat_minor": 0
}