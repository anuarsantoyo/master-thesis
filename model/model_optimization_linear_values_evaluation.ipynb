{
 "cells": [
  {
   "cell_type": "markdown",
   "metadata": {
    "id": "jAejLl15fGhW",
    "pycharm": {
     "name": "#%% md\n"
    }
   },
   "source": [
    " master-thesisInput:\n",
    "- True Observations\n",
    "- Number Training Steps\n",
    "\n",
    "Output:\n",
    "- New Model Parameter\n",
    "\n",
    "Parts of Optimization:\n",
    "- Initialization of Model Parameter\n",
    "- tbd"
   ]
  },
  {
   "cell_type": "markdown",
   "metadata": {
    "id": "tzUv-gnXAaCX",
    "pycharm": {
     "name": "#%% md\n"
    }
   },
   "source": [
    "# Initialization"
   ]
  },
  {
   "cell_type": "markdown",
   "metadata": {
    "id": "GZBwcFlyIXFq",
    "pycharm": {
     "name": "#%% md\n"
    }
   },
   "source": [
    "## Import Libraries and Mount Drive"
   ]
  },
  {
   "cell_type": "code",
   "execution_count": 1,
   "metadata": {
    "id": "NkXDaY_pAXG1",
    "executionInfo": {
     "status": "ok",
     "timestamp": 1655373784932,
     "user_tz": -120,
     "elapsed": 1537,
     "user": {
      "displayName": "Timo9092",
      "userId": "13096063072157218091"
     }
    },
    "pycharm": {
     "name": "#%%\n"
    }
   },
   "outputs": [],
   "source": [
    "import numpy as np\n",
    "import pandas as pd\n",
    "import matplotlib.pyplot as plt\n",
    "import seaborn as sns\n",
    "import time\n",
    "import torch\n",
    "from torch import distributions, optim"
   ]
  },
  {
   "cell_type": "code",
   "execution_count": 2,
   "metadata": {
    "colab": {
     "base_uri": "https://localhost:8080/"
    },
    "id": "gMFNWln4HWP9",
    "outputId": "94fd81f4-da8d-466d-b4f6-ac40316e7994",
    "executionInfo": {
     "status": "ok",
     "timestamp": 1655373786531,
     "user_tz": -120,
     "elapsed": 1600,
     "user": {
      "displayName": "Timo9092",
      "userId": "13096063072157218091"
     }
    },
    "pycharm": {
     "name": "#%%\n"
    }
   },
   "outputs": [
    {
     "output_type": "stream",
     "name": "stdout",
     "text": [
      "Drive already mounted at /content/drive; to attempt to forcibly remount, call drive.mount(\"/content/drive\", force_remount=True).\n",
      "/content/drive/MyDrive/GitHub/master-thesis\n"
     ]
    }
   ],
   "source": [
    "from google.colab import drive\n",
    "drive.mount('/content/drive')\n",
    "\n",
    "%cd /content/drive/MyDrive/GitHub/master-thesis\n",
    "\n",
    "import sys\n",
    "sys.path.append('/content/gdrive/My Drive/GitHub/master-thesis')"
   ]
  },
  {
   "cell_type": "code",
   "execution_count": 2,
   "outputs": [
    {
     "name": "stdout",
     "output_type": "stream",
     "text": [
      "/home/anuarsantoyo/PycharmProjects/master-thesis\n"
     ]
    }
   ],
   "source": [
    "%cd .."
   ],
   "metadata": {
    "pycharm": {
     "name": "#%%\n"
    },
    "id": "Dvr2clMYEc9a",
    "executionInfo": {
     "status": "ok",
     "timestamp": 1655373786531,
     "user_tz": -120,
     "elapsed": 1,
     "user": {
      "displayName": "Timo9092",
      "userId": "13096063072157218091"
     }
    }
   }
  },
  {
   "cell_type": "code",
   "execution_count": 3,
   "outputs": [],
   "source": [
    "from model.methods import *\n",
    "from model.modelcore import epid_model\n",
    "from model.modelhelper import *\n",
    "from clustering.utils import *"
   ],
   "metadata": {
    "pycharm": {
     "name": "#%%\n"
    },
    "id": "yYji4jfxEc9a",
    "executionInfo": {
     "status": "ok",
     "timestamp": 1655373786765,
     "user_tz": -120,
     "elapsed": 235,
     "user": {
      "displayName": "Timo9092",
      "userId": "13096063072157218091"
     }
    }
   }
  },
  {
   "cell_type": "markdown",
   "source": [
    "## Optimization Settings"
   ],
   "metadata": {
    "collapsed": false,
    "id": "NXZEmoGb8SHX",
    "pycharm": {
     "name": "#%% md\n"
    }
   }
  },
  {
   "cell_type": "code",
   "execution_count": 4,
   "outputs": [],
   "source": [
    "observation = 'hospitalization' #'newly_infected' #'hospitalization'\n",
    "rolling_avg_obs = 1\n",
    "# Overall Time Period\n",
    "start_time='2020-08-01' # Mitte November/ Anfang Dezember bis Februar\n",
    "end_time='2021-02-01' # Begin Vaccination Wave\n",
    "\n",
    "\n",
    "dtype = torch.float32\n",
    "device = torch.device(\"cuda:0\" if torch.cuda.is_available() else \"cpu\") #cuda:0"
   ],
   "metadata": {
    "pycharm": {
     "name": "#%%\n"
    },
    "id": "_-1Pytbi8SHY",
    "executionInfo": {
     "status": "ok",
     "timestamp": 1655373787038,
     "user_tz": -120,
     "elapsed": 274,
     "user": {
      "displayName": "Timo9092",
      "userId": "13096063072157218091"
     }
    }
   }
  },
  {
   "cell_type": "markdown",
   "source": [
    "## Initialize Observations"
   ],
   "metadata": {
    "collapsed": false,
    "id": "k7WJbTVF8SHY",
    "pycharm": {
     "name": "#%% md\n"
    }
   }
  },
  {
   "cell_type": "code",
   "execution_count": 5,
   "outputs": [
    {
     "data": {
      "text/plain": "        Date  number_of_deaths  newly_infected  hospitalization\n0 2020-08-01               0.0            64.0              4.0\n1 2020-08-02               0.0            78.0              2.0\n2 2020-08-03               0.0           117.0              7.0",
      "text/html": "<div>\n<style scoped>\n    .dataframe tbody tr th:only-of-type {\n        vertical-align: middle;\n    }\n\n    .dataframe tbody tr th {\n        vertical-align: top;\n    }\n\n    .dataframe thead th {\n        text-align: right;\n    }\n</style>\n<table border=\"1\" class=\"dataframe\">\n  <thead>\n    <tr style=\"text-align: right;\">\n      <th></th>\n      <th>Date</th>\n      <th>number_of_deaths</th>\n      <th>newly_infected</th>\n      <th>hospitalization</th>\n    </tr>\n  </thead>\n  <tbody>\n    <tr>\n      <th>0</th>\n      <td>2020-08-01</td>\n      <td>0.0</td>\n      <td>64.0</td>\n      <td>4.0</td>\n    </tr>\n    <tr>\n      <th>1</th>\n      <td>2020-08-02</td>\n      <td>0.0</td>\n      <td>78.0</td>\n      <td>2.0</td>\n    </tr>\n    <tr>\n      <th>2</th>\n      <td>2020-08-03</td>\n      <td>0.0</td>\n      <td>117.0</td>\n      <td>7.0</td>\n    </tr>\n  </tbody>\n</table>\n</div>"
     },
     "execution_count": 5,
     "metadata": {},
     "output_type": "execute_result"
    }
   ],
   "source": [
    "df_obs_initial = pd.read_csv('data/observations.csv' , sep=';', thousands='.', decimal=',', encoding='utf-8', parse_dates=['Date'])\n",
    "\n",
    "# Initialize Observations Training\n",
    "df_obs, initial_newly_infected = initialize_observations(df_obs_initial, start=start_time, end=end_time, rolling_avg=rolling_avg_obs)\n",
    "observed_train = torch.tensor(df_obs[observation], requires_grad=False, device=device, dtype=dtype)\n",
    "\n",
    "df_obs.head(3)"
   ],
   "metadata": {
    "pycharm": {
     "name": "#%%\n"
    },
    "colab": {
     "base_uri": "https://localhost:8080/",
     "height": 143
    },
    "id": "Dq8sD-jg8SHY",
    "executionInfo": {
     "status": "ok",
     "timestamp": 1655373787038,
     "user_tz": -120,
     "elapsed": 9,
     "user": {
      "displayName": "Timo9092",
      "userId": "13096063072157218091"
     }
    },
    "outputId": "f46c67e7-e0ce-493c-f1cd-fe269e27b43f"
   }
  },
  {
   "cell_type": "code",
   "execution_count": 7,
   "outputs": [],
   "source": [
    "#for column in df_obs.columns:\n",
    "#  plt.plot(df_obs['Date'], df_obs[column])\n",
    "#  plt.title(column)\n",
    "#  plt.show()"
   ],
   "metadata": {
    "pycharm": {
     "name": "#%%\n"
    },
    "id": "G_rCw3L88SHZ",
    "executionInfo": {
     "status": "ok",
     "timestamp": 1655373787039,
     "user_tz": -120,
     "elapsed": 8,
     "user": {
      "displayName": "Timo9092",
      "userId": "13096063072157218091"
     }
    }
   }
  },
  {
   "cell_type": "markdown",
   "source": [
    "# Experiment Settings"
   ],
   "metadata": {
    "id": "oP51OfVS_Lm0",
    "pycharm": {
     "name": "#%% md\n"
    }
   }
  },
  {
   "cell_type": "code",
   "source": [
    "method_type = 'linear'\n",
    "#method_type = 'nn'\n",
    "\n",
    "input_type = 'factor_data'\n",
    "#input_type = 'group_data'\n",
    "#input_type = 'mobility_data'"
   ],
   "metadata": {
    "id": "yB-Q2Arq_OC3",
    "executionInfo": {
     "status": "ok",
     "timestamp": 1655373787039,
     "user_tz": -120,
     "elapsed": 8,
     "user": {
      "displayName": "Timo9092",
      "userId": "13096063072157218091"
     }
    },
    "pycharm": {
     "name": "#%%\n"
    }
   },
   "execution_count": 6,
   "outputs": []
  },
  {
   "cell_type": "markdown",
   "source": [
    "# Load Input Data"
   ],
   "metadata": {
    "id": "23__1ioO24xA",
    "pycharm": {
     "name": "#%% md\n"
    }
   }
  },
  {
   "cell_type": "code",
   "source": [
    "if input_type == 'factor_data':\n",
    "  input_data_cols = ['F0_cautious_behaviour', 'F1_perception_advice', 'F2_applicability_usefullness_advice', 'F3_behaviour_others', 'F4_consequence_advice']\n",
    "  input_data = get_model_input(start=start_time, end=end_time, split_date=None, path='data/modeling/fa_data_model_input.csv', rolling_avg=1, input_data_cols=input_data_cols)\n",
    "\n",
    "elif input_type == 'group_data':\n",
    "  input_data_cols = ''\n",
    "  input_data = get_model_input(start=start_time, end=end_time, split_date=None, path='data/modeling/group_percentage_non_careful.csv', rolling_avg=7, input_data_cols=None)\n",
    "elif input_type == 'mobility_data':\n",
    "  input_data_cols = ['google_workplaces', 'google_residential', 'google_transit'] #['apple_driving', 'apple_walking', 'apple', 'google_retail', 'google_grocery', 'google_workplaces', 'google_residential', 'google_transit', 'google', 'telco', 'applegoogle']\n",
    "  input_data = get_model_input(start=start_time, end=end_time, split_date=None, path='data/modeling/mobility_data_denmark.csv', rolling_avg=7, input_data_cols=input_data_cols)\n",
    "input_data_size = input_data.shape[1]\n",
    "input_data_size"
   ],
   "metadata": {
    "colab": {
     "base_uri": "https://localhost:8080/"
    },
    "id": "CDPWnbcw3Jg0",
    "executionInfo": {
     "status": "ok",
     "timestamp": 1655373787039,
     "user_tz": -120,
     "elapsed": 7,
     "user": {
      "displayName": "Timo9092",
      "userId": "13096063072157218091"
     }
    },
    "outputId": "cf02e192-832f-41b2-d2f3-471dc5d00ecb",
    "pycharm": {
     "name": "#%%\n"
    }
   },
   "execution_count": 7,
   "outputs": [
    {
     "data": {
      "text/plain": "5"
     },
     "execution_count": 7,
     "metadata": {},
     "output_type": "execute_result"
    }
   ]
  },
  {
   "cell_type": "code",
   "source": [
    "#df_mob = pd.read_csv('data/modeling/mobility_data.csv')\n",
    "#df_mob.date = pd.to_datetime(df_mob.date, format='%Y-%m-%d')\n",
    "#df_mob = df_mob[df_mob['region'] == 'denmark'].reset_index(drop=True)\n",
    "#df_mob.drop(columns=['region'], inplace=True)\n",
    "#df_mob.to_csv('data/modeling/mobility_data_denmark.csv', index=False)\n",
    "#df_mob.head()"
   ],
   "metadata": {
    "id": "tc79YmBrXnLl",
    "executionInfo": {
     "status": "ok",
     "timestamp": 1655373787039,
     "user_tz": -120,
     "elapsed": 5,
     "user": {
      "displayName": "Timo9092",
      "userId": "13096063072157218091"
     }
    },
    "pycharm": {
     "name": "#%%\n"
    }
   },
   "execution_count": 10,
   "outputs": []
  },
  {
   "cell_type": "markdown",
   "source": [
    "## Initialize Model Parameter"
   ],
   "metadata": {
    "collapsed": false,
    "id": "M8PB1HGA8SHZ",
    "pycharm": {
     "name": "#%% md\n"
    }
   }
  },
  {
   "cell_type": "markdown",
   "source": [
    "### Initialize helper parameter"
   ],
   "metadata": {
    "collapsed": false,
    "id": "u1HF0wi38SHZ",
    "pycharm": {
     "name": "#%% md\n"
    }
   }
  },
  {
   "cell_type": "code",
   "execution_count": 8,
   "metadata": {
    "id": "P6A9L25BHjZ8",
    "executionInfo": {
     "status": "ok",
     "timestamp": 1655373787303,
     "user_tz": -120,
     "elapsed": 7,
     "user": {
      "displayName": "Timo9092",
      "userId": "13096063072157218091"
     }
    },
    "pycharm": {
     "name": "#%%\n"
    }
   },
   "outputs": [],
   "source": [
    "cero = torch.tensor(0., requires_grad=False, device=device, dtype=dtype)"
   ]
  },
  {
   "cell_type": "markdown",
   "metadata": {
    "id": "H8sIHVnpJSFL",
    "pycharm": {
     "name": "#%% md\n"
    }
   },
   "source": [
    "### Initialize method parameter"
   ]
  },
  {
   "cell_type": "code",
   "execution_count": 9,
   "outputs": [],
   "source": [
    "if method_type == 'linear':\n",
    "  method = Linear(device=device, dtype=dtype, input_size=input_data_size)\n",
    "  \n",
    "elif method_type == 'nn':\n",
    "  method = NN(device=device, dtype=dtype, input_size=input_data_size)"
   ],
   "metadata": {
    "pycharm": {
     "name": "#%%\n"
    },
    "id": "njwgxhOnEc9d",
    "executionInfo": {
     "status": "ok",
     "timestamp": 1655373787304,
     "user_tz": -120,
     "elapsed": 7,
     "user": {
      "displayName": "Timo9092",
      "userId": "13096063072157218091"
     }
    }
   }
  },
  {
   "cell_type": "markdown",
   "source": [
    "### Initialize alpha and phi"
   ],
   "metadata": {
    "collapsed": false,
    "id": "8LEECUSgEc9e",
    "pycharm": {
     "name": "#%% md\n"
    }
   }
  },
  {
   "cell_type": "code",
   "execution_count": 10,
   "outputs": [
    {
     "data": {
      "text/plain": "{'prime_values': {'alpha': tensor(0.0102, requires_grad=True),\n  'phi': tensor(-0.0020, requires_grad=True)},\n 'real_values': {'alpha': tensor(0.0280, grad_fn=<AddBackward0>),\n  'phi': tensor(25., grad_fn=<AddBackward0>)}}"
     },
     "execution_count": 10,
     "metadata": {},
     "output_type": "execute_result"
    }
   ],
   "source": [
    "dict_param = initialize_parameter(['alpha', 'phi'], device, dtype)\n",
    "dict_param"
   ],
   "metadata": {
    "pycharm": {
     "name": "#%%\n"
    },
    "id": "IueNV1ZHEc9e",
    "colab": {
     "base_uri": "https://localhost:8080/"
    },
    "outputId": "3041332a-5fd8-4b13-9632-97b62593623d",
    "executionInfo": {
     "status": "ok",
     "timestamp": 1655373787304,
     "user_tz": -120,
     "elapsed": 7,
     "user": {
      "displayName": "Timo9092",
      "userId": "13096063072157218091"
     }
    }
   }
  },
  {
   "cell_type": "markdown",
   "metadata": {
    "id": "EajyQpZdDpaO",
    "pycharm": {
     "name": "#%% md\n"
    }
   },
   "source": [
    "# Optimization"
   ]
  },
  {
   "cell_type": "markdown",
   "metadata": {
    "id": "NxxX-CfKDxee",
    "pycharm": {
     "name": "#%% md\n"
    }
   },
   "source": [
    "## Training"
   ]
  },
  {
   "cell_type": "code",
   "execution_count": 12,
   "metadata": {
    "id": "TrXB0cdHlOcZ",
    "executionInfo": {
     "status": "ok",
     "timestamp": 1655373951278,
     "user_tz": -120,
     "elapsed": 163977,
     "user": {
      "displayName": "Timo9092",
      "userId": "13096063072157218091"
     }
    },
    "colab": {
     "base_uri": "https://localhost:8080/",
     "height": 1000
    },
    "outputId": "9876a570-9fce-485c-9bae-c34787902add",
    "pycharm": {
     "name": "#%%\n"
    }
   },
   "outputs": [
    {
     "name": "stdout",
     "output_type": "stream",
     "text": [
      "Meta Epoch:  1\n",
      "Meta Epoch:  2\n",
      "Meta Epoch:  3\n",
      "Meta Epoch:  4\n",
      "Meta Epoch:  5\n",
      "Meta Epoch:  6\n",
      "Meta Epoch:  7\n",
      "Meta Epoch:  8\n",
      "Meta Epoch:  9\n",
      "Meta Epoch:  10\n",
      "Meta Epoch:  11\n",
      "Meta Epoch:  12\n",
      "Meta Epoch:  13\n",
      "Meta Epoch:  14\n",
      "Meta Epoch:  15\n",
      "Meta Epoch:  16\n",
      "Meta Epoch:  17\n",
      "Meta Epoch:  18\n",
      "Meta Epoch:  19\n",
      "Meta Epoch:  20\n",
      "Meta Epoch:  21\n",
      "Meta Epoch:  22\n",
      "Meta Epoch:  23\n",
      "Meta Epoch:  24\n",
      "Meta Epoch:  25\n",
      "Meta Epoch:  26\n",
      "Meta Epoch:  27\n",
      "Meta Epoch:  28\n",
      "Meta Epoch:  29\n",
      "Meta Epoch:  30\n",
      "Meta Epoch:  31\n",
      "Meta Epoch:  32\n",
      "Meta Epoch:  33\n",
      "Meta Epoch:  34\n",
      "Meta Epoch:  35\n",
      "Meta Epoch:  36\n",
      "Meta Epoch:  37\n",
      "Meta Epoch:  38\n",
      "Meta Epoch:  39\n",
      "Meta Epoch:  40\n",
      "Meta Epoch:  41\n",
      "Meta Epoch:  42\n",
      "Meta Epoch:  43\n",
      "Meta Epoch:  44\n",
      "Meta Epoch:  45\n",
      "Meta Epoch:  46\n",
      "Meta Epoch:  47\n",
      "Meta Epoch:  48\n",
      "Meta Epoch:  49\n",
      "Meta Epoch:  50\n",
      "Meta Epoch:  51\n",
      "Meta Epoch:  52\n",
      "Meta Epoch:  53\n",
      "Meta Epoch:  54\n",
      "Meta Epoch:  55\n",
      "Meta Epoch:  56\n",
      "Meta Epoch:  57\n",
      "Meta Epoch:  58\n",
      "Meta Epoch:  59\n",
      "Meta Epoch:  60\n",
      "Meta Epoch:  61\n",
      "Meta Epoch:  62\n",
      "Meta Epoch:  63\n",
      "Meta Epoch:  64\n",
      "Meta Epoch:  65\n",
      "Meta Epoch:  66\n",
      "Meta Epoch:  67\n",
      "Meta Epoch:  68\n",
      "Meta Epoch:  69\n",
      "Meta Epoch:  70\n",
      "Meta Epoch:  71\n",
      "Meta Epoch:  72\n",
      "Meta Epoch:  73\n",
      "Meta Epoch:  74\n",
      "Meta Epoch:  75\n",
      "Meta Epoch:  76\n",
      "Meta Epoch:  77\n",
      "Meta Epoch:  78\n",
      "Meta Epoch:  79\n",
      "Meta Epoch:  80\n",
      "Meta Epoch:  81\n",
      "Meta Epoch:  82\n",
      "Meta Epoch:  83\n",
      "Meta Epoch:  84\n",
      "Meta Epoch:  85\n",
      "Meta Epoch:  86\n",
      "Meta Epoch:  87\n",
      "Meta Epoch:  88\n",
      "Meta Epoch:  89\n",
      "Meta Epoch:  90\n",
      "Meta Epoch:  91\n",
      "Meta Epoch:  92\n",
      "Meta Epoch:  93\n",
      "Meta Epoch:  94\n",
      "Meta Epoch:  95\n",
      "Meta Epoch:  96\n",
      "Meta Epoch:  97\n",
      "Meta Epoch:  98\n",
      "Meta Epoch:  99\n"
     ]
    }
   ],
   "source": [
    "from torch.optim.lr_scheduler import ExponentialLR\n",
    "dict_params = {}\n",
    "for meta_epoch in range(1, 100):\n",
    "    print('Meta Epoch: ', meta_epoch)\n",
    "    method = Linear(device=device, dtype=dtype, input_size=input_data_size)\n",
    "    epochs = 100\n",
    "\n",
    "    params_to_be_optimized = method.get_parameters() + [dict_param['prime_values']['phi']]\n",
    "    if observation == 'hospitalization':\n",
    "      params_to_be_optimized = params_to_be_optimized + [dict_param['prime_values']['alpha']]\n",
    "\n",
    "    optimizer = optim.Adam(params_to_be_optimized, lr=0.01)\n",
    "    scheduler = ExponentialLR(optimizer, gamma=0.999)\n",
    "\n",
    "\n",
    "\n",
    "    for i in range(epochs):\n",
    "      iteration_time = time.time()\n",
    "      optimizer.zero_grad()\n",
    "\n",
    "      # transform alphi, phi\n",
    "      dict_param = transform_prime_variables(dict_param)\n",
    "\n",
    "      # forward pass\n",
    "      expected = epid_model(R=method.calculate_R(input_data), initial_newly_infected = initial_newly_infected, alpha=dict_param['real_values']['alpha'], device=device, dtype=dtype)[observation]\n",
    "\n",
    "      # calc loss\n",
    "      comparison_loss_train =  calc_mse(expected, observed_train) * dict_param['real_values']['phi'] #calc_negative_binomnial_loss(expected, observed_train, dict_param['real_values']['phi']) #\n",
    "      method_loss = method.calculate_loss()\n",
    "      model_param_loss = calc_prior_loss(dict_param, device, dtype)\n",
    "      loss = comparison_loss_train + method_loss + model_param_loss\n",
    "\n",
    "      # backward pass\n",
    "      loss.backward()\n",
    "      optimizer.step()\n",
    "      scheduler.step()\n",
    "\n",
    "\n",
    "      with torch.no_grad():\n",
    "        if i+1 % 40==0:\n",
    "            current_time = round((time.time() - iteration_time),4)\n",
    "            current_lr = optimizer.state_dict()['param_groups'][0]['lr']\n",
    "            print(f\"Step: {i}, Learning Rate: {current_lr} Time: {current_time}, Comparison Loss: {comparison_loss_train}. Method Loss: {method_loss}\")\n",
    "            plt.plot(df_obs['Date'], method.calculate_R(input_data).cpu().detach().numpy(), label='R')\n",
    "            plt.plot(df_obs['Date'], input_data, label='input_data')\n",
    "            plt.legend()\n",
    "            plt.show()\n",
    "        if i+1 % 40==0:\n",
    "          plt.plot(df_obs['Date'], expected.cpu().detach().numpy(), label='predicted')\n",
    "          plt.plot(df_obs['Date'], observed_train.cpu().detach().numpy(), label='observed')\n",
    "          plt.legend()\n",
    "          plt.show()\n",
    "          plt.plot()\n",
    "\n",
    "    with torch.no_grad():\n",
    "        dict_params[meta_epoch] = method.get_parameters()\n",
    "\n"
   ]
  },
  {
   "cell_type": "code",
   "execution_count": 13,
   "outputs": [],
   "source": [
    "rows=[]\n",
    "# Convert dictionary to dataframe\n",
    "for key in dict_params:\n",
    "  rows.append(np.concatenate((dict_params[key][0].cpu().detach().numpy(),dict_params[key][1].cpu().detach().numpy().reshape(-1,1)), axis=1).reshape(-1))"
   ],
   "metadata": {
    "collapsed": false,
    "pycharm": {
     "name": "#%%\n"
    }
   }
  },
  {
   "cell_type": "code",
   "execution_count": 14,
   "outputs": [],
   "source": [
    "df_params = pd.DataFrame(rows)"
   ],
   "metadata": {
    "collapsed": false,
    "pycharm": {
     "name": "#%%\n"
    }
   }
  },
  {
   "cell_type": "code",
   "execution_count": 15,
   "outputs": [],
   "source": [
    "df_params.columns = ['F0_cautious_behaviour', 'F1_perception_advice', 'F2_applicability_usefullness_advice', 'F3_behaviour_others', 'F4_consequence_advice', 'Bias']"
   ],
   "metadata": {
    "collapsed": false,
    "pycharm": {
     "name": "#%%\n"
    }
   }
  },
  {
   "cell_type": "code",
   "execution_count": 16,
   "outputs": [
    {
     "data": {
      "text/plain": "<Figure size 432x288 with 1 Axes>",
      "image/png": "[encoded data removed]"
     },
     "metadata": {
      "needs_background": "light"
     },
     "output_type": "display_data"
    }
   ],
   "source": [
    "sns.boxplot(data=df_params)\n",
    "plt.show()"
   ],
   "metadata": {
    "collapsed": false,
    "pycharm": {
     "name": "#%%\n"
    }
   }
  },
  {
   "cell_type": "code",
   "source": [
    "comparison_loss_train / dict_param['real_values']['phi']"
   ],
   "metadata": {
    "colab": {
     "base_uri": "https://localhost:8080/"
    },
    "id": "AAi2qm7vN5Z0",
    "executionInfo": {
     "status": "ok",
     "timestamp": 1655373951287,
     "user_tz": -120,
     "elapsed": 18,
     "user": {
      "displayName": "Timo9092",
      "userId": "13096063072157218091"
     }
    },
    "outputId": "e454596c-4cea-4c2d-ba88-4a3068a4fb37",
    "pycharm": {
     "name": "#%%\n"
    }
   },
   "execution_count": 15,
   "outputs": [
    {
     "output_type": "execute_result",
     "data": {
      "text/plain": [
       "tensor(122.5926, grad_fn=<DivBackward0>)"
      ]
     },
     "metadata": {},
     "execution_count": 15
    }
   ]
  },
  {
   "cell_type": "code",
   "source": [
    "method_loss"
   ],
   "metadata": {
    "id": "1T5CW7CTEwn6",
    "executionInfo": {
     "status": "ok",
     "timestamp": 1655375599105,
     "user_tz": -120,
     "elapsed": 229,
     "user": {
      "displayName": "Timo9092",
      "userId": "13096063072157218091"
     }
    },
    "outputId": "36c485b5-285d-4f27-e9c5-c5cae23fe50c",
    "colab": {
     "base_uri": "https://localhost:8080/"
    },
    "pycharm": {
     "name": "#%%\n"
    }
   },
   "execution_count": 25,
   "outputs": [
    {
     "output_type": "execute_result",
     "data": {
      "text/plain": [
       "tensor(10.9100, grad_fn=<AddBackward0>)"
      ]
     },
     "metadata": {},
     "execution_count": 25
    }
   ]
  },
  {
   "cell_type": "markdown",
   "metadata": {
    "id": "TeJ8fa_XJmaq",
    "pycharm": {
     "name": "#%% md\n"
    }
   },
   "source": [
    "# Evaluation"
   ]
  },
  {
   "cell_type": "markdown",
   "source": [
    "## Train and Test Time "
   ],
   "metadata": {
    "id": "Xzn7QQncu9cC",
    "pycharm": {
     "name": "#%% md\n"
    }
   }
  },
  {
   "cell_type": "code",
   "source": [
    "plt.plot(expected.cpu().detach().numpy(),label='Expected All Data')\n",
    "plt.plot(observed_train.cpu().detach().numpy(),label='Observed All Data')\n",
    "plt.legend()\n",
    "plt.show()"
   ],
   "metadata": {
    "id": "BrN8FYZ8u7wr",
    "executionInfo": {
     "status": "ok",
     "timestamp": 1655373951833,
     "user_tz": -120,
     "elapsed": 558,
     "user": {
      "displayName": "Timo9092",
      "userId": "13096063072157218091"
     }
    },
    "colab": {
     "base_uri": "https://localhost:8080/",
     "height": 265
    },
    "outputId": "3e7af227-3a7e-4a61-f697-0d0415bfbbc8",
    "pycharm": {
     "name": "#%%\n"
    }
   },
   "execution_count": 16,
   "outputs": [
    {
     "output_type": "display_data",
     "data": {
      "text/plain": [
       "<Figure size 432x288 with 1 Axes>"
      ],
      "image/png": "[encoded data removed]"
     },
     "metadata": {
      "needs_background": "light"
     }
    }
   ]
  },
  {
   "cell_type": "code",
   "source": [
    "# Plot R-Value & Input Data\n",
    "plt.plot(df_obs['Date'], method.calculate_R(input_data).cpu().detach().numpy(), label='R')\n",
    "plt.plot(df_obs['Date'], input_data, label='input_data')\n",
    "plt.legend()\n",
    "plt.show()"
   ],
   "metadata": {
    "id": "TS03Rm21bNv_",
    "executionInfo": {
     "status": "ok",
     "timestamp": 1655373951833,
     "user_tz": -120,
     "elapsed": 6,
     "user": {
      "displayName": "Timo9092",
      "userId": "13096063072157218091"
     }
    },
    "colab": {
     "base_uri": "https://localhost:8080/",
     "height": 265
    },
    "outputId": "625fbc5d-8b4a-49cf-a757-b01db41d5c73",
    "pycharm": {
     "name": "#%%\n"
    }
   },
   "execution_count": 17,
   "outputs": [
    {
     "output_type": "display_data",
     "data": {
      "text/plain": [
       "<Figure size 432x288 with 1 Axes>"
      ],
      "image/png": "[encoded data removed]"
     },
     "metadata": {
      "needs_background": "light"
     }
    }
   ]
  },
  {
   "cell_type": "markdown",
   "source": [
    "## Eval What IF"
   ],
   "metadata": {
    "id": "8hZNcvOctgGo",
    "pycharm": {
     "name": "#%% md\n"
    }
   }
  },
  {
   "cell_type": "code",
   "execution_count": 18,
   "outputs": [
    {
     "output_type": "display_data",
     "data": {
      "text/plain": [
       "<Figure size 432x288 with 1 Axes>"
      ],
      "image/png": "[encoded data removed]"
     },
     "metadata": {
      "needs_background": "light"
     }
    }
   ],
   "source": [
    "expected_normal = epid_model(R=method.calculate_R(input_data), initial_newly_infected = initial_newly_infected, alpha=dict_param['real_values']['alpha'], device=device, dtype=dtype)[observation]\n",
    "expected_careful= epid_model(R=method.calculate_R(input_data*0.9), initial_newly_infected = initial_newly_infected, alpha=dict_param['real_values']['alpha'], device=device, dtype=dtype)[observation]\n",
    "expected_crazy = epid_model(R=method.calculate_R(input_data*1.1), initial_newly_infected = initial_newly_infected, alpha=dict_param['real_values']['alpha'], device=device, dtype=dtype)[observation]\n",
    "\n",
    "plt.plot(expected_normal.cpu().detach().numpy(),label='normal')\n",
    "plt.plot(expected_careful.cpu().detach().numpy(),label='careful')\n",
    "plt.plot(expected_crazy.cpu().detach().numpy(),label='CRAZY!!')\n",
    "plt.legend()\n",
    "plt.show()"
   ],
   "metadata": {
    "pycharm": {
     "name": "#%%\n"
    },
    "id": "bx9V4fuyrrDg",
    "executionInfo": {
     "status": "ok",
     "timestamp": 1655373952257,
     "user_tz": -120,
     "elapsed": 429,
     "user": {
      "displayName": "Timo9092",
      "userId": "13096063072157218091"
     }
    },
    "colab": {
     "base_uri": "https://localhost:8080/",
     "height": 265
    },
    "outputId": "ef50d9b0-6753-4bbe-e8b2-f8a0bee07512"
   }
  },
  {
   "cell_type": "markdown",
   "source": [
    "# Eval Input Data - R-Value"
   ],
   "metadata": {
    "id": "viYzjg2o8_eD",
    "pycharm": {
     "name": "#%% md\n"
    }
   }
  },
  {
   "cell_type": "code",
   "source": [
    "if method_type == 'linear':\n",
    "  print(set(method.model.parameters()))"
   ],
   "metadata": {
    "id": "-7hVzfcz7acL",
    "executionInfo": {
     "status": "ok",
     "timestamp": 1655373952258,
     "user_tz": -120,
     "elapsed": 9,
     "user": {
      "displayName": "Timo9092",
      "userId": "13096063072157218091"
     }
    },
    "pycharm": {
     "name": "#%%\n"
    }
   },
   "execution_count": 19,
   "outputs": []
  },
  {
   "cell_type": "code",
   "source": [
    "range = np.arange(0,1, 0.01)\n",
    "\n",
    "if input_data_size == 1:\n",
    "  from scipy import stats\n",
    "\n",
    "  x = range\n",
    "  y = np.squeeze(method.calculate_R(x).cpu().detach().numpy())\n",
    "\n",
    "  slope, intercept, r_value, p_value, std_err = stats.linregress(x, y)\n",
    "  y_linreg = intercept + slope * x\n",
    "  print(f'Slope: {slope}, intercept: {intercept}, r-squared: {r_value**2}')\n",
    "  plt.plot(x, y, label='actual values')\n",
    "  plt.plot(x, y_linreg, label='linear regression')\n",
    "  plt.xlabel('Input Data')\n",
    "  plt.ylabel('R Value')\n",
    "  plt.title('Input Data and R Value')\n",
    "  plt.legend()\n",
    "  plt.show()\n",
    "\n",
    "elif input_data_size == 2:\n",
    "  from mpl_toolkits.mplot3d import axes3d\n",
    "  from matplotlib import cm\n",
    "  from matplotlib.ticker import LinearLocator\n",
    "\n",
    "  x = range\n",
    "  y = range\n",
    "  X,Y = np.meshgrid(x,y)\n",
    "\n",
    "  X_new = X.reshape(-1)\n",
    "  Y_new = Y.reshape(-1)\n",
    "  input_data_plot = np.stack([X_new, Y_new], axis=1)\n",
    "  rvalue_plot = method.calculate_R(input_data_plot).cpu().detach().numpy().reshape(100,100)\n",
    "\n",
    "\n",
    "  fig = plt.figure(figsize=(12,8))\n",
    "  ax = fig.add_subplot(111, projection='3d')\n",
    "  ax.set_xlabel(input_data_cols[0])\n",
    "  ax.set_ylabel(input_data_cols[1])\n",
    "  ax.set_zlabel('R-Value')\n",
    "\n",
    "  # Plot the surface.\n",
    "  surf = ax.plot_surface(X, Y, rvalue_plot, cmap=cm.coolwarm,\n",
    "                        linewidth=0, antialiased=False)\n",
    "\n",
    "  # Customize the z axis.\n",
    "  ax.zaxis.set_major_locator(LinearLocator(10))\n",
    "\n",
    "  # Add a color bar which maps values to colors.\n",
    "  fig.colorbar(surf, shrink=0.5, aspect=5)\n",
    "  #fig.savefig(\"images/Factor01_RValue_Comparison_Linear.png\")\n",
    "  plt.show()\n",
    "\n",
    "elif input_data_size == 3:\n",
    "  range = np.arange(0,1.1, 0.1)\n",
    "\n",
    "  x = range\n",
    "  y = range\n",
    "  z = range\n",
    "  X,Y,Z = np.meshgrid(x,y,z)\n",
    "\n",
    "  X_new = X.reshape(-1)\n",
    "  Y_new = Y.reshape(-1)\n",
    "  Z_new = Z.reshape(-1)\n",
    "  input_data_plot = np.stack([X_new, Y_new, Z_new], axis=1)\n",
    "  rvalue_plot = method.calculate_R(input_data_plot).cpu().detach().numpy().reshape(-1)\n",
    "\n",
    "  import plotly.graph_objects as go\n",
    "\n",
    "  fig = go.Figure(data=[go.Scatter3d(\n",
    "      x=X_new,\n",
    "      y=Y_new,\n",
    "      z=Z_new,\n",
    "      mode='markers',\n",
    "      marker=dict(\n",
    "          size=25,\n",
    "          color=rvalue_plot,\n",
    "          colorbar=dict(title=\"R-Value\"),\n",
    "          colorscale='Viridis',\n",
    "          opacity=0.95\n",
    "      )\n",
    "  )])\n",
    "  fig.update_layout(title={\n",
    "          'text': \"Relationship Factors and R Value for \" + str(method.model)[:5],\n",
    "          'y':0.9,\n",
    "          'x':0.5,\n",
    "          'xanchor': 'center',\n",
    "          'yanchor': 'top'},\n",
    "                    scene = dict(\n",
    "                      xaxis_title=input_data_cols[0],\n",
    "                      yaxis_title=input_data_cols[1],\n",
    "                      zaxis_title=input_data_cols[2]),\n",
    "                      width=1400, height=800,\n",
    "                      margin=dict(r=0, b=0, l=0, t=0))\n",
    "  #fig.write_html('images/3dplot_factor_rvalue_nn.html')\n",
    "  fig.show()"
   ],
   "metadata": {
    "id": "p09RNqId5_cW",
    "executionInfo": {
     "status": "ok",
     "timestamp": 1655373952258,
     "user_tz": -120,
     "elapsed": 8,
     "user": {
      "displayName": "Timo9092",
      "userId": "13096063072157218091"
     }
    },
    "colab": {
     "base_uri": "https://localhost:8080/",
     "height": 312
    },
    "outputId": "88f5b629-fbae-4708-be19-9dcbc08963ae",
    "pycharm": {
     "name": "#%%\n"
    }
   },
   "execution_count": 20,
   "outputs": [
    {
     "output_type": "stream",
     "name": "stdout",
     "text": [
      "Slope: -0.6845297552678737, intercept: 1.5807231225648728, r-squared: 0.7120081553387203\n"
     ]
    },
    {
     "output_type": "display_data",
     "data": {
      "text/plain": [
       "<Figure size 432x288 with 1 Axes>"
      ],
      "image/png": "[encoded data removed]"
     },
     "metadata": {
      "needs_background": "light"
     }
    }
   ]
  },
  {
   "cell_type": "markdown",
   "source": [
    "Eval Newly Infected"
   ],
   "metadata": {
    "id": "o1GmRLUEbw0z",
    "pycharm": {
     "name": "#%% md\n"
    }
   }
  },
  {
   "cell_type": "code",
   "source": [
    "expected_newly = epid_model(R=method.calculate_R(input_data), initial_newly_infected = initial_newly_infected, alpha=dict_param['real_values']['alpha'], device=device, dtype=dtype)['newly_infected']\n",
    "\n",
    "plt.plot(expected_newly.cpu().detach().numpy(),label='Expected Newly Infected')\n",
    "plt.plot(df_obs['newly_infected'],label='Observed Newly Infected')\n",
    "plt.legend()\n",
    "plt.show()"
   ],
   "metadata": {
    "id": "D3P0meAfSJz-",
    "pycharm": {
     "name": "#%%\n"
    },
    "executionInfo": {
     "status": "ok",
     "timestamp": 1655373952741,
     "user_tz": -120,
     "elapsed": 488,
     "user": {
      "displayName": "Timo9092",
      "userId": "13096063072157218091"
     }
    },
    "colab": {
     "base_uri": "https://localhost:8080/",
     "height": 265
    },
    "outputId": "4d8e4810-b884-4106-9fb8-9ab8546c839c"
   },
   "execution_count": 21,
   "outputs": [
    {
     "output_type": "display_data",
     "data": {
      "text/plain": [
       "<Figure size 432x288 with 1 Axes>"
      ],
      "image/png": "[encoded data removed]"
     },
     "metadata": {
      "needs_background": "light"
     }
    }
   ]
  },
  {
   "cell_type": "markdown",
   "source": [
    "## Save Calculated Hospitalisation\n"
   ],
   "metadata": {
    "id": "t0-f1GHz97G7",
    "pycharm": {
     "name": "#%% md\n"
    }
   }
  },
  {
   "cell_type": "code",
   "source": [
    "df_save = pd.DataFrame()\n",
    "df_save['date'] = df_obs.Date\n",
    "df_save['expected_hospitalisation'] = expected.cpu().detach().numpy()\n",
    "df_save.head()"
   ],
   "metadata": {
    "id": "VjMidhSL97VE",
    "executionInfo": {
     "status": "ok",
     "timestamp": 1655373952742,
     "user_tz": -120,
     "elapsed": 11,
     "user": {
      "displayName": "Timo9092",
      "userId": "13096063072157218091"
     }
    },
    "colab": {
     "base_uri": "https://localhost:8080/",
     "height": 206
    },
    "outputId": "b0d67c6e-8ee5-4b1e-b88a-0c35847d4790",
    "pycharm": {
     "name": "#%%\n"
    }
   },
   "execution_count": 22,
   "outputs": [
    {
     "output_type": "execute_result",
     "data": {
      "text/plain": [
       "        date  expected_hospitalisation\n",
       "0 2020-08-01              2.500000e-14\n",
       "1 2020-08-02              1.184486e-02\n",
       "2 2020-08-03              3.563496e-02\n",
       "3 2020-08-04              7.666720e-02\n",
       "4 2020-08-05              1.225350e-01"
      ],
      "text/html": [
       "\n",
       "  <div id=\"df-39b63243-979e-4a26-8655-90e11977c71a\">\n",
       "    <div class=\"colab-df-container\">\n",
       "      <div>\n",
       "<style scoped>\n",
       "    .dataframe tbody tr th:only-of-type {\n",
       "        vertical-align: middle;\n",
       "    }\n",
       "\n",
       "    .dataframe tbody tr th {\n",
       "        vertical-align: top;\n",
       "    }\n",
       "\n",
       "    .dataframe thead th {\n",
       "        text-align: right;\n",
       "    }\n",
       "</style>\n",
       "<table border=\"1\" class=\"dataframe\">\n",
       "  <thead>\n",
       "    <tr style=\"text-align: right;\">\n",
       "      <th></th>\n",
       "      <th>date</th>\n",
       "      <th>expected_hospitalisation</th>\n",
       "    </tr>\n",
       "  </thead>\n",
       "  <tbody>\n",
       "    <tr>\n",
       "      <th>0</th>\n",
       "      <td>2020-08-01</td>\n",
       "      <td>2.500000e-14</td>\n",
       "    </tr>\n",
       "    <tr>\n",
       "      <th>1</th>\n",
       "      <td>2020-08-02</td>\n",
       "      <td>1.184486e-02</td>\n",
       "    </tr>\n",
       "    <tr>\n",
       "      <th>2</th>\n",
       "      <td>2020-08-03</td>\n",
       "      <td>3.563496e-02</td>\n",
       "    </tr>\n",
       "    <tr>\n",
       "      <th>3</th>\n",
       "      <td>2020-08-04</td>\n",
       "      <td>7.666720e-02</td>\n",
       "    </tr>\n",
       "    <tr>\n",
       "      <th>4</th>\n",
       "      <td>2020-08-05</td>\n",
       "      <td>1.225350e-01</td>\n",
       "    </tr>\n",
       "  </tbody>\n",
       "</table>\n",
       "</div>\n",
       "      <button class=\"colab-df-convert\" onclick=\"convertToInteractive('df-39b63243-979e-4a26-8655-90e11977c71a')\"\n",
       "              title=\"Convert this dataframe to an interactive table.\"\n",
       "              style=\"display:none;\">\n",
       "        \n",
       "  <svg xmlns=\"http://www.w3.org/2000/svg\" height=\"24px\"viewBox=\"0 0 24 24\"\n",
       "       width=\"24px\">\n",
       "    <path d=\"M0 0h24v24H0V0z\" fill=\"none\"/>\n",
       "    <path d=\"M18.56 5.44l.94 2.06.94-2.06 2.06-.94-2.06-.94-.94-2.06-.94 2.06-2.06.94zm-11 1L8.5 8.5l.94-2.06 2.06-.94-2.06-.94L8.5 2.5l-.94 2.06-2.06.94zm10 10l.94 2.06.94-2.06 2.06-.94-2.06-.94-.94-2.06-.94 2.06-2.06.94z\"/><path d=\"M17.41 7.96l-1.37-1.37c-.4-.4-.92-.59-1.43-.59-.52 0-1.04.2-1.43.59L10.3 9.45l-7.72 7.72c-.78.78-.78 2.05 0 2.83L4 21.41c.39.39.9.59 1.41.59.51 0 1.02-.2 1.41-.59l7.78-7.78 2.81-2.81c.8-.78.8-2.07 0-2.86zM5.41 20L4 18.59l7.72-7.72 1.47 1.35L5.41 20z\"/>\n",
       "  </svg>\n",
       "      </button>\n",
       "      \n",
       "  <style>\n",
       "    .colab-df-container {\n",
       "      display:flex;\n",
       "      flex-wrap:wrap;\n",
       "      gap: 12px;\n",
       "    }\n",
       "\n",
       "    .colab-df-convert {\n",
       "      background-color: #E8F0FE;\n",
       "      border: none;\n",
       "      border-radius: 50%;\n",
       "      cursor: pointer;\n",
       "      display: none;\n",
       "      fill: #1967D2;\n",
       "      height: 32px;\n",
       "      padding: 0 0 0 0;\n",
       "      width: 32px;\n",
       "    }\n",
       "\n",
       "    .colab-df-convert:hover {\n",
       "      background-color: #E2EBFA;\n",
       "      box-shadow: 0px 1px 2px rgba(60, 64, 67, 0.3), 0px 1px 3px 1px rgba(60, 64, 67, 0.15);\n",
       "      fill: #174EA6;\n",
       "    }\n",
       "\n",
       "    [theme=dark] .colab-df-convert {\n",
       "      background-color: #3B4455;\n",
       "      fill: #D2E3FC;\n",
       "    }\n",
       "\n",
       "    [theme=dark] .colab-df-convert:hover {\n",
       "      background-color: #434B5C;\n",
       "      box-shadow: 0px 1px 3px 1px rgba(0, 0, 0, 0.15);\n",
       "      filter: drop-shadow(0px 1px 2px rgba(0, 0, 0, 0.3));\n",
       "      fill: #FFFFFF;\n",
       "    }\n",
       "  </style>\n",
       "\n",
       "      <script>\n",
       "        const buttonEl =\n",
       "          document.querySelector('#df-39b63243-979e-4a26-8655-90e11977c71a button.colab-df-convert');\n",
       "        buttonEl.style.display =\n",
       "          google.colab.kernel.accessAllowed ? 'block' : 'none';\n",
       "\n",
       "        async function convertToInteractive(key) {\n",
       "          const element = document.querySelector('#df-39b63243-979e-4a26-8655-90e11977c71a');\n",
       "          const dataTable =\n",
       "            await google.colab.kernel.invokeFunction('convertToInteractive',\n",
       "                                                     [key], {});\n",
       "          if (!dataTable) return;\n",
       "\n",
       "          const docLinkHtml = 'Like what you see? Visit the ' +\n",
       "            '<a target=\"_blank\" href=https://colab.research.google.com/notebooks/data_table.ipynb>data table notebook</a>'\n",
       "            + ' to learn more about interactive tables.';\n",
       "          element.innerHTML = '';\n",
       "          dataTable['output_type'] = 'display_data';\n",
       "          await google.colab.output.renderOutput(dataTable, element);\n",
       "          const docLink = document.createElement('div');\n",
       "          docLink.innerHTML = docLinkHtml;\n",
       "          element.appendChild(docLink);\n",
       "        }\n",
       "      </script>\n",
       "    </div>\n",
       "  </div>\n",
       "  "
      ]
     },
     "metadata": {},
     "execution_count": 22
    }
   ]
  },
  {
   "cell_type": "code",
   "source": [
    "details = ''.join(filter(str.isalnum, str(input_data_cols)))\n",
    "save_hosp_path = 'data/modeling/results/all_data/expected_hospitalizations_' + method_type + '_' + input_type + '_' + str(input_data_size) + '_' + details +'.csv'\n",
    "save_model_path = 'data/modeling/results/models/all_data/model_' + method_type + '_' + input_type + '_' + str(input_data_size) + '_' + details + '.pt'\n",
    "df_save.to_csv(save_hosp_path, index=False)\n",
    "torch.save(obj=method, f=save_model_path)"
   ],
   "metadata": {
    "id": "V3fQh9R07yuY",
    "executionInfo": {
     "status": "ok",
     "timestamp": 1655374156044,
     "user_tz": -120,
     "elapsed": 295,
     "user": {
      "displayName": "Timo9092",
      "userId": "13096063072157218091"
     }
    },
    "pycharm": {
     "name": "#%%\n"
    }
   },
   "execution_count": 24,
   "outputs": []
  },
  {
   "cell_type": "code",
   "source": [],
   "metadata": {
    "id": "gsvzDZ5v7erb",
    "executionInfo": {
     "status": "ok",
     "timestamp": 1655373952743,
     "user_tz": -120,
     "elapsed": 10,
     "user": {
      "displayName": "Timo9092",
      "userId": "13096063072157218091"
     }
    },
    "pycharm": {
     "name": "#%%\n"
    }
   },
   "execution_count": 23,
   "outputs": []
  }
 ],
 "metadata": {
  "colab": {
   "collapsed_sections": [],
   "name": "model_optimization_alldata.ipynb",
   "provenance": []
  },
  "kernelspec": {
   "display_name": "Python 3",
   "name": "python3"
  },
  "language_info": {
   "name": "python"
  }
 },
 "nbformat": 4,
 "nbformat_minor": 0
}