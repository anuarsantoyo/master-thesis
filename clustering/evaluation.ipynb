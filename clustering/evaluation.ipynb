{
 "cells": [
  {
   "cell_type": "code",
   "execution_count": null,
   "outputs": [],
   "source": [
    "import pandas as pd\n",
    "import matplotlib.pyplot as plt\n",
    "import seaborn as sns\n",
    "from clustering.utils import *\n",
    "import plotly.express as px"
   ],
   "metadata": {
    "collapsed": false,
    "pycharm": {
     "name": "#%%\n"
    }
   }
  },
  {
   "cell_type": "markdown",
   "source": [
    "# Import Data"
   ],
   "metadata": {
    "collapsed": false
   }
  },
  {
   "cell_type": "code",
   "execution_count": null,
   "outputs": [],
   "source": [
    "%cd .."
   ],
   "metadata": {
    "collapsed": false,
    "pycharm": {
     "name": "#%%\n"
    }
   }
  },
  {
   "cell_type": "code",
   "execution_count": null,
   "outputs": [],
   "source": [
    "df = pd.read_csv(\"data/clustering/220323_gmm_clustered.csv\")"
   ],
   "metadata": {
    "collapsed": false,
    "pycharm": {
     "name": "#%%\n"
    }
   }
  },
  {
   "cell_type": "code",
   "execution_count": null,
   "outputs": [],
   "source": [
    "behaviour_cols = get_behaviour_cols()"
   ],
   "metadata": {
    "collapsed": false,
    "pycharm": {
     "name": "#%%\n"
    }
   }
  },
  {
   "cell_type": "markdown",
   "source": [
    "# Silhouette Coefficient\n",
    "Metric used to evaluate and compare cluster performance\n",
    "\n",
    "The Silhouette Coefficient is defined for each sample and is composed of two scores:\n",
    "\n",
    "a: The mean distance between a sample and all other points in the same class.\n",
    "\n",
    "b: The mean distance between a sample and all other points in the next nearest cluster.\n",
    "\n",
    "The Silhouette Coefficient s for a single sample is then given as:\n",
    "\n",
    "s=(b-a)/max(a,b)\n",
    "\n",
    "\n",
    "The Silhouette Coefficient for a set of samples is given as the mean of the Silhouette Coefficient for each sample."
   ],
   "metadata": {
    "collapsed": false
   }
  },
  {
   "cell_type": "code",
   "execution_count": null,
   "metadata": {
    "collapsed": true
   },
   "outputs": [],
   "source": [
    "from sklearn import metrics\n",
    "\n",
    "df_sample = df.sample(20000) # used only for quick results, must be changed back to only df to get real score\n",
    "\n",
    "X = df_sample[behaviour_cols].to_numpy()\n",
    "labels = df_sample.group.to_numpy()\n",
    "metrics.silhouette_score(X, labels, metric='euclidean')"
   ]
  },
  {
   "cell_type": "markdown",
   "source": [
    "# Answers Distributions"
   ],
   "metadata": {
    "collapsed": false
   }
  },
  {
   "cell_type": "code",
   "execution_count": null,
   "outputs": [],
   "source": [
    "for col in behaviour_cols:\n",
    "    fig, axes = plt.subplots(1, 3, figsize=(15, 5), sharey=False)\n",
    "    fig.suptitle(col)\n",
    "    sns.histplot(data=df.round(), x=col, hue=\"group\", discrete=True, multiple=\"stack\",ax=axes[0])\n",
    "    axes[0].set_title('stacked')\n",
    "    sns.histplot(data=df.round(), x=col, hue=\"group\", discrete=True,ax=axes[1])\n",
    "    axes[1].set_title('transparent')\n",
    "    sns.boxplot(x=\"season\", y=col, hue=\"group\",data=df, ax=axes[2])\n",
    "    axes[1].set_title('box')\n",
    "    plt.show()"
   ],
   "metadata": {
    "collapsed": false,
    "pycharm": {
     "name": "#%%\n"
    }
   }
  },
  {
   "cell_type": "markdown",
   "source": [
    "# Group distance"
   ],
   "metadata": {
    "collapsed": false
   }
  },
  {
   "cell_type": "code",
   "execution_count": null,
   "outputs": [],
   "source": [
    "df_dict = []\n",
    "for i, day in  df[behaviour_cols + ['date', 'group']].groupby(['date']):\n",
    "     groups_dist = np.abs(day[day['group']== 0].mean() - day[day['group']== 1].mean())\n",
    "     dist = np.linalg.norm(groups_dist.values, ord=1)\n",
    "     df_dict.append({'time':i, 'distance': dist})\n",
    "dist_df = pd.DataFrame(df_dict)\n",
    "dist_df['dist_smooth'] = dist_df.distance.rolling(7).mean()\n",
    "fig = px.line(dist_df,x='time', y=['distance', 'dist_smooth'])\n",
    "fig.show()"
   ],
   "metadata": {
    "collapsed": false,
    "pycharm": {
     "name": "#%%\n"
    }
   }
  },
  {
   "cell_type": "markdown",
   "source": [
    "# Daily distribution"
   ],
   "metadata": {
    "collapsed": false
   }
  },
  {
   "cell_type": "code",
   "execution_count": null,
   "outputs": [],
   "source": [
    "groups_percentage = df.groupby(['date','group'],as_index=False)['gender'].count()\n",
    "def normalize(row):\n",
    "  sum = groups_percentage[groups_percentage['date']==row['date']]['gender'].sum()\n",
    "  return row['gender']/sum\n",
    "\n",
    "groups_percentage['percentage'] = groups_percentage.apply(lambda x: normalize(x), axis=1)\n",
    "groups_percentage.drop(columns='gender',inplace=True)\n",
    "fig = px.line(groups_percentage, x=\"date\", y=\"percentage\", color='group', title='Group daily distribution')\n",
    "fig.show()"
   ],
   "metadata": {
    "collapsed": false,
    "pycharm": {
     "name": "#%%\n"
    }
   }
  },
  {
   "cell_type": "markdown",
   "source": [
    "# Daily Average Group Answer"
   ],
   "metadata": {
    "collapsed": false
   }
  },
  {
   "cell_type": "code",
   "execution_count": null,
   "outputs": [],
   "source": [
    "df_daily_average = df.groupby(['date','group']).mean().reset_index()\n",
    "df_daily_average.date = pd.to_datetime(df_daily_average.date)\n",
    "for col in df_daily_average.columns:\n",
    "    sns.lineplot(data=df_daily_average, x='date', y=col, hue='group', palette=\"bright\")\n",
    "    plt.title(col)\n",
    "    plt.show()"
   ],
   "metadata": {
    "collapsed": false,
    "pycharm": {
     "name": "#%%\n"
    }
   }
  },
  {
   "cell_type": "code",
   "execution_count": null,
   "outputs": [],
   "source": [
    "df_daily_average = df.groupby(['date','group']).mean().reset_index()\n",
    "df_daily_average_0 = df_daily_average[df_daily_average.group == 0]\n",
    "df_daily_average_1 = df_daily_average[df_daily_average.group == 1]\n",
    "for col in df_daily_average_0.columns:\n",
    "    plt.plot(df_daily_average_0.date,df_daily_average_0[col], label='0')\n",
    "    plt.plot(df_daily_average_1.date,df_daily_average_1[col], label='1')\n",
    "    plt.legend()\n",
    "    plt.title(col)\n",
    "    plt.show()"
   ],
   "metadata": {
    "collapsed": false,
    "pycharm": {
     "name": "#%%\n"
    }
   }
  },
  {
   "cell_type": "markdown",
   "source": [
    "# Observations"
   ],
   "metadata": {
    "collapsed": false
   }
  },
  {
   "cell_type": "code",
   "execution_count": null,
   "outputs": [],
   "source": [
    "observations = pd.read_csv('data/observations_30012022.csv',sep=';', decimal=',', encoding='utf-8')\n",
    "sliced_observations = observations.iloc[92:643]\n",
    "fig = px.line(sliced_observations, x=\"Date\", y=sliced_observations.columns[2:])\n",
    "fig.show()"
   ],
   "metadata": {
    "collapsed": false,
    "pycharm": {
     "name": "#%%\n"
    }
   }
  }
 ],
 "metadata": {
  "kernelspec": {
   "display_name": "Python 3",
   "language": "python",
   "name": "python3"
  },
  "language_info": {
   "codemirror_mode": {
    "name": "ipython",
    "version": 2
   },
   "file_extension": ".py",
   "mimetype": "text/x-python",
   "name": "python",
   "nbconvert_exporter": "python",
   "pygments_lexer": "ipython2",
   "version": "2.7.6"
  }
 },
 "nbformat": 4,
 "nbformat_minor": 0
}