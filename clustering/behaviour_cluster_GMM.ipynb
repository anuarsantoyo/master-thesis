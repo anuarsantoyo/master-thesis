{
  "cells": [
    {
      "cell_type": "code",
      "execution_count": 25,
      "metadata": {
        "collapsed": true,
        "id": "Fpy5tfR5cJUt"
      },
      "outputs": [],
      "source": [
        "from sklearn.mixture import GaussianMixture\n",
        "import numpy as np\n",
        "import plotly.express as px\n",
        "import matplotlib.pyplot as plt\n",
        "import pandas as pd\n",
        "from tqdm import tqdm\n",
        "import seaborn as sns\n"
      ]
    },
    {
      "cell_type": "code",
      "execution_count": 6,
      "outputs": [
        {
          "output_type": "stream",
          "name": "stdout",
          "text": [
            "Mounted at /content/drive\n"
          ]
        }
      ],
      "source": [
        "from google.colab import drive\n",
        "drive.mount('/content/drive')"
      ],
      "metadata": {
        "pycharm": {
          "name": "#%%\n"
        },
        "colab": {
          "base_uri": "https://localhost:8080/"
        },
        "id": "LAO27wgmcJUu",
        "outputId": "4a5812b6-c346-4d78-9617-2615e76e72a4"
      }
    },
    {
      "cell_type": "code",
      "execution_count": 7,
      "outputs": [
        {
          "output_type": "stream",
          "name": "stdout",
          "text": [
            "/content/drive/MyDrive/GitHub/master-thesis\n"
          ]
        }
      ],
      "source": [
        "%cd 'drive/MyDrive/GitHub/master-thesis'"
      ],
      "metadata": {
        "pycharm": {
          "name": "#%%\n"
        },
        "colab": {
          "base_uri": "https://localhost:8080/"
        },
        "id": "odCCrvn7cJUv",
        "outputId": "efbf8375-3e13-467d-9f3c-7f0517d961c9"
      }
    },
    {
      "cell_type": "code",
      "execution_count": null,
      "outputs": [
        {
          "output_type": "stream",
          "name": "stdout",
          "text": [
            "/content/drive/My Drive/GitHub/master-thesis\n"
          ]
        }
      ],
      "source": [
        "#%cd .."
      ],
      "metadata": {
        "pycharm": {
          "name": "#%%\n"
        },
        "id": "JVTLI-hWcJUw",
        "outputId": "3c66bf19-8d56-4d6c-9b9d-e4c3d6ab5717",
        "colab": {
          "base_uri": "https://localhost:8080/"
        }
      }
    },
    {
      "cell_type": "markdown",
      "source": [
        "# Import Data"
      ],
      "metadata": {
        "collapsed": false,
        "pycharm": {
          "name": "#%% md\n"
        },
        "id": "M8D6p6CQcJUx"
      }
    },
    {
      "cell_type": "code",
      "execution_count": null,
      "outputs": [
        {
          "output_type": "execute_result",
          "data": {
            "text/plain": [
              "  gender  postnr   region  Q1_2_covid_is_threat  Q2_1_easy_to_follow_advice  \\\n",
              "0    Man    2830  Capital              4.796778                         5.0   \n",
              "1  Woman    4654  Zealand              7.000000                         7.0   \n",
              "2  Woman    7451  Central              7.000000                         7.0   \n",
              "3    Man    4700  Zealand              6.000000                         1.0   \n",
              "4    Man    4000  Zealand              5.000000                         1.0   \n",
              "\n",
              "   Q2_2_can_follow_advice_if_wanted  Q2_3_if_follow_advice_safe  \\\n",
              "0                               7.0                         4.0   \n",
              "1                               7.0                         5.0   \n",
              "2                               7.0                         7.0   \n",
              "3                               7.0                         2.0   \n",
              "4                               1.0                         2.0   \n",
              "\n",
              "   Q2_4_if_follow_advice_others_safe  \\\n",
              "0                                7.0   \n",
              "1                                7.0   \n",
              "2                                7.0   \n",
              "3                                1.0   \n",
              "4                                1.0   \n",
              "\n",
              "   Q2_5_follow_advice_relationships_impared  Q2_6_follow_advice_life_degraded  \\\n",
              "0                                       4.0                               5.0   \n",
              "1                                       6.0                               5.0   \n",
              "2                                       4.0                               3.0   \n",
              "3                                       7.0                               4.0   \n",
              "4                                       2.0                               2.0   \n",
              "\n",
              "   ...  Q14_ocupation_employee_private  Q14_ocupation_unemployed  \\\n",
              "0  ...                               0                         0   \n",
              "1  ...                               0                         0   \n",
              "2  ...                               0                         0   \n",
              "3  ...                               0                         0   \n",
              "4  ...                               0                         0   \n",
              "\n",
              "   Q14_ocupation_employee_public  Q14_ocupation_self_employed  \\\n",
              "0                              1                            0   \n",
              "1                              1                            0   \n",
              "2                              1                            0   \n",
              "3                              0                            0   \n",
              "4                              0                            0   \n",
              "\n",
              "   Q14_ocupation_student  Q14_ocupation_other  Q15_economic_spectrum  \\\n",
              "0                      0                    0                    2.0   \n",
              "1                      0                    0                    2.0   \n",
              "2                      0                    0                    NaN   \n",
              "3                      0                    0                    NaN   \n",
              "4                      0                    1                    2.0   \n",
              "\n",
              "   Q15_social_spectrum  Q16_economic_spectrum  Q16_social_spectrum  \n",
              "0                  4.0                    4.0                  2.0  \n",
              "1                  4.0                    2.0                  4.0  \n",
              "2                  NaN                    NaN                  NaN  \n",
              "3                  NaN                    NaN                  NaN  \n",
              "4                  4.0                    NaN                  NaN  \n",
              "\n",
              "[5 rows x 56 columns]"
            ],
            "text/html": [
              "\n",
              "  <div id=\"df-2fb93a63-5a06-4fb1-a132-54580829e104\">\n",
              "    <div class=\"colab-df-container\">\n",
              "      <div>\n",
              "<style scoped>\n",
              "    .dataframe tbody tr th:only-of-type {\n",
              "        vertical-align: middle;\n",
              "    }\n",
              "\n",
              "    .dataframe tbody tr th {\n",
              "        vertical-align: top;\n",
              "    }\n",
              "\n",
              "    .dataframe thead th {\n",
              "        text-align: right;\n",
              "    }\n",
              "</style>\n",
              "<table border=\"1\" class=\"dataframe\">\n",
              "  <thead>\n",
              "    <tr style=\"text-align: right;\">\n",
              "      <th></th>\n",
              "      <th>gender</th>\n",
              "      <th>postnr</th>\n",
              "      <th>region</th>\n",
              "      <th>Q1_2_covid_is_threat</th>\n",
              "      <th>Q2_1_easy_to_follow_advice</th>\n",
              "      <th>Q2_2_can_follow_advice_if_wanted</th>\n",
              "      <th>Q2_3_if_follow_advice_safe</th>\n",
              "      <th>Q2_4_if_follow_advice_others_safe</th>\n",
              "      <th>Q2_5_follow_advice_relationships_impared</th>\n",
              "      <th>Q2_6_follow_advice_life_degraded</th>\n",
              "      <th>...</th>\n",
              "      <th>Q14_ocupation_employee_private</th>\n",
              "      <th>Q14_ocupation_unemployed</th>\n",
              "      <th>Q14_ocupation_employee_public</th>\n",
              "      <th>Q14_ocupation_self_employed</th>\n",
              "      <th>Q14_ocupation_student</th>\n",
              "      <th>Q14_ocupation_other</th>\n",
              "      <th>Q15_economic_spectrum</th>\n",
              "      <th>Q15_social_spectrum</th>\n",
              "      <th>Q16_economic_spectrum</th>\n",
              "      <th>Q16_social_spectrum</th>\n",
              "    </tr>\n",
              "  </thead>\n",
              "  <tbody>\n",
              "    <tr>\n",
              "      <th>0</th>\n",
              "      <td>Man</td>\n",
              "      <td>2830</td>\n",
              "      <td>Capital</td>\n",
              "      <td>4.796778</td>\n",
              "      <td>5.0</td>\n",
              "      <td>7.0</td>\n",
              "      <td>4.0</td>\n",
              "      <td>7.0</td>\n",
              "      <td>4.0</td>\n",
              "      <td>5.0</td>\n",
              "      <td>...</td>\n",
              "      <td>0</td>\n",
              "      <td>0</td>\n",
              "      <td>1</td>\n",
              "      <td>0</td>\n",
              "      <td>0</td>\n",
              "      <td>0</td>\n",
              "      <td>2.0</td>\n",
              "      <td>4.0</td>\n",
              "      <td>4.0</td>\n",
              "      <td>2.0</td>\n",
              "    </tr>\n",
              "    <tr>\n",
              "      <th>1</th>\n",
              "      <td>Woman</td>\n",
              "      <td>4654</td>\n",
              "      <td>Zealand</td>\n",
              "      <td>7.000000</td>\n",
              "      <td>7.0</td>\n",
              "      <td>7.0</td>\n",
              "      <td>5.0</td>\n",
              "      <td>7.0</td>\n",
              "      <td>6.0</td>\n",
              "      <td>5.0</td>\n",
              "      <td>...</td>\n",
              "      <td>0</td>\n",
              "      <td>0</td>\n",
              "      <td>1</td>\n",
              "      <td>0</td>\n",
              "      <td>0</td>\n",
              "      <td>0</td>\n",
              "      <td>2.0</td>\n",
              "      <td>4.0</td>\n",
              "      <td>2.0</td>\n",
              "      <td>4.0</td>\n",
              "    </tr>\n",
              "    <tr>\n",
              "      <th>2</th>\n",
              "      <td>Woman</td>\n",
              "      <td>7451</td>\n",
              "      <td>Central</td>\n",
              "      <td>7.000000</td>\n",
              "      <td>7.0</td>\n",
              "      <td>7.0</td>\n",
              "      <td>7.0</td>\n",
              "      <td>7.0</td>\n",
              "      <td>4.0</td>\n",
              "      <td>3.0</td>\n",
              "      <td>...</td>\n",
              "      <td>0</td>\n",
              "      <td>0</td>\n",
              "      <td>1</td>\n",
              "      <td>0</td>\n",
              "      <td>0</td>\n",
              "      <td>0</td>\n",
              "      <td>NaN</td>\n",
              "      <td>NaN</td>\n",
              "      <td>NaN</td>\n",
              "      <td>NaN</td>\n",
              "    </tr>\n",
              "    <tr>\n",
              "      <th>3</th>\n",
              "      <td>Man</td>\n",
              "      <td>4700</td>\n",
              "      <td>Zealand</td>\n",
              "      <td>6.000000</td>\n",
              "      <td>1.0</td>\n",
              "      <td>7.0</td>\n",
              "      <td>2.0</td>\n",
              "      <td>1.0</td>\n",
              "      <td>7.0</td>\n",
              "      <td>4.0</td>\n",
              "      <td>...</td>\n",
              "      <td>0</td>\n",
              "      <td>0</td>\n",
              "      <td>0</td>\n",
              "      <td>0</td>\n",
              "      <td>0</td>\n",
              "      <td>0</td>\n",
              "      <td>NaN</td>\n",
              "      <td>NaN</td>\n",
              "      <td>NaN</td>\n",
              "      <td>NaN</td>\n",
              "    </tr>\n",
              "    <tr>\n",
              "      <th>4</th>\n",
              "      <td>Man</td>\n",
              "      <td>4000</td>\n",
              "      <td>Zealand</td>\n",
              "      <td>5.000000</td>\n",
              "      <td>1.0</td>\n",
              "      <td>1.0</td>\n",
              "      <td>2.0</td>\n",
              "      <td>1.0</td>\n",
              "      <td>2.0</td>\n",
              "      <td>2.0</td>\n",
              "      <td>...</td>\n",
              "      <td>0</td>\n",
              "      <td>0</td>\n",
              "      <td>0</td>\n",
              "      <td>0</td>\n",
              "      <td>0</td>\n",
              "      <td>1</td>\n",
              "      <td>2.0</td>\n",
              "      <td>4.0</td>\n",
              "      <td>NaN</td>\n",
              "      <td>NaN</td>\n",
              "    </tr>\n",
              "  </tbody>\n",
              "</table>\n",
              "<p>5 rows × 56 columns</p>\n",
              "</div>\n",
              "      <button class=\"colab-df-convert\" onclick=\"convertToInteractive('df-2fb93a63-5a06-4fb1-a132-54580829e104')\"\n",
              "              title=\"Convert this dataframe to an interactive table.\"\n",
              "              style=\"display:none;\">\n",
              "        \n",
              "  <svg xmlns=\"http://www.w3.org/2000/svg\" height=\"24px\"viewBox=\"0 0 24 24\"\n",
              "       width=\"24px\">\n",
              "    <path d=\"M0 0h24v24H0V0z\" fill=\"none\"/>\n",
              "    <path d=\"M18.56 5.44l.94 2.06.94-2.06 2.06-.94-2.06-.94-.94-2.06-.94 2.06-2.06.94zm-11 1L8.5 8.5l.94-2.06 2.06-.94-2.06-.94L8.5 2.5l-.94 2.06-2.06.94zm10 10l.94 2.06.94-2.06 2.06-.94-2.06-.94-.94-2.06-.94 2.06-2.06.94z\"/><path d=\"M17.41 7.96l-1.37-1.37c-.4-.4-.92-.59-1.43-.59-.52 0-1.04.2-1.43.59L10.3 9.45l-7.72 7.72c-.78.78-.78 2.05 0 2.83L4 21.41c.39.39.9.59 1.41.59.51 0 1.02-.2 1.41-.59l7.78-7.78 2.81-2.81c.8-.78.8-2.07 0-2.86zM5.41 20L4 18.59l7.72-7.72 1.47 1.35L5.41 20z\"/>\n",
              "  </svg>\n",
              "      </button>\n",
              "      \n",
              "  <style>\n",
              "    .colab-df-container {\n",
              "      display:flex;\n",
              "      flex-wrap:wrap;\n",
              "      gap: 12px;\n",
              "    }\n",
              "\n",
              "    .colab-df-convert {\n",
              "      background-color: #E8F0FE;\n",
              "      border: none;\n",
              "      border-radius: 50%;\n",
              "      cursor: pointer;\n",
              "      display: none;\n",
              "      fill: #1967D2;\n",
              "      height: 32px;\n",
              "      padding: 0 0 0 0;\n",
              "      width: 32px;\n",
              "    }\n",
              "\n",
              "    .colab-df-convert:hover {\n",
              "      background-color: #E2EBFA;\n",
              "      box-shadow: 0px 1px 2px rgba(60, 64, 67, 0.3), 0px 1px 3px 1px rgba(60, 64, 67, 0.15);\n",
              "      fill: #174EA6;\n",
              "    }\n",
              "\n",
              "    [theme=dark] .colab-df-convert {\n",
              "      background-color: #3B4455;\n",
              "      fill: #D2E3FC;\n",
              "    }\n",
              "\n",
              "    [theme=dark] .colab-df-convert:hover {\n",
              "      background-color: #434B5C;\n",
              "      box-shadow: 0px 1px 3px 1px rgba(0, 0, 0, 0.15);\n",
              "      filter: drop-shadow(0px 1px 2px rgba(0, 0, 0, 0.3));\n",
              "      fill: #FFFFFF;\n",
              "    }\n",
              "  </style>\n",
              "\n",
              "      <script>\n",
              "        const buttonEl =\n",
              "          document.querySelector('#df-2fb93a63-5a06-4fb1-a132-54580829e104 button.colab-df-convert');\n",
              "        buttonEl.style.display =\n",
              "          google.colab.kernel.accessAllowed ? 'block' : 'none';\n",
              "\n",
              "        async function convertToInteractive(key) {\n",
              "          const element = document.querySelector('#df-2fb93a63-5a06-4fb1-a132-54580829e104');\n",
              "          const dataTable =\n",
              "            await google.colab.kernel.invokeFunction('convertToInteractive',\n",
              "                                                     [key], {});\n",
              "          if (!dataTable) return;\n",
              "\n",
              "          const docLinkHtml = 'Like what you see? Visit the ' +\n",
              "            '<a target=\"_blank\" href=https://colab.research.google.com/notebooks/data_table.ipynb>data table notebook</a>'\n",
              "            + ' to learn more about interactive tables.';\n",
              "          element.innerHTML = '';\n",
              "          dataTable['output_type'] = 'display_data';\n",
              "          await google.colab.output.renderOutput(dataTable, element);\n",
              "          const docLink = document.createElement('div');\n",
              "          docLink.innerHTML = docLinkHtml;\n",
              "          element.appendChild(docLink);\n",
              "        }\n",
              "      </script>\n",
              "    </div>\n",
              "  </div>\n",
              "  "
            ]
          },
          "metadata": {},
          "execution_count": 69
        }
      ],
      "source": [
        "df = pd.read_csv('data/preprocessing/220216_preprocessed_data_missing_data.csv')\n",
        "df.head()"
      ],
      "metadata": {
        "pycharm": {
          "name": "#%%\n"
        },
        "colab": {
          "base_uri": "https://localhost:8080/",
          "height": 300
        },
        "id": "Z0TtKc6FcJUy",
        "outputId": "1917635b-7238-4d7f-ae39-ae6c0d0fd4aa"
      }
    },
    {
      "cell_type": "markdown",
      "source": [
        "## Extract non behavioural columns"
      ],
      "metadata": {
        "collapsed": false,
        "id": "Yge18p3xcJUz"
      }
    },
    {
      "cell_type": "code",
      "execution_count": null,
      "outputs": [],
      "source": [
        " # 'Timings_yyyymmdd','timestamp',\n",
        "non_behaviour_cols = ['gender','postnr', 'region',  'season','Q10_education', 'Q11_nr_members_household',\n",
        " 'Q12_nr_children_household','age_num', 'Q14_ocupation_pensioner',\n",
        " 'Q14_ocupation_employee_private',\n",
        " 'Q14_ocupation_unemployed',\n",
        " 'Q14_ocupation_employee_public',\n",
        " 'Q14_ocupation_self_employed',\n",
        " 'Q14_ocupation_student',\n",
        " 'Q14_ocupation_other',\n",
        " 'Q15_economic_spectrum',\n",
        " 'Q15_social_spectrum',\n",
        " 'Q16_economic_spectrum',\n",
        " 'Q16_social_spectrum',\n",
        "\n",
        " 'Q7_1_last_week_fever',\n",
        " 'Q7_2_last_week_cough',\n",
        " 'Q7_3_last_week_sore_throat',\n",
        " 'Q7_4_last_week_no_smell_taste',\n",
        " 'Q7_5_last_week_shortness_breath',\n",
        " 'Q2020NovNy1',\n",
        " 'Q2020NovNy2_tested_positive',\n",
        " 'Q2020NovNy3',\n",
        " 'Q2020NovNy4', 'date']"
      ],
      "metadata": {
        "pycharm": {
          "name": "#%%\n"
        },
        "id": "yMSrWjcNcJUz"
      }
    },
    {
      "cell_type": "code",
      "execution_count": null,
      "outputs": [],
      "source": [
        "behaviour_cols = df.columns.tolist()\n",
        "for element in non_behaviour_cols:\n",
        "    if element in behaviour_cols:\n",
        "        behaviour_cols.remove(element)"
      ],
      "metadata": {
        "pycharm": {
          "name": "#%%\n"
        },
        "id": "kxG8rFIecJU1"
      }
    },
    {
      "cell_type": "markdown",
      "source": [
        "## Extract nr contact columns"
      ],
      "metadata": {
        "id": "Esc_Vm-9cdtL"
      }
    },
    {
      "cell_type": "code",
      "source": [
        "nr_contacts = ['Q4_1_nr_contact_nonhouse_family', 'Q4_2_nr_contact_colleagues',\n",
        "               'Q4_3_nr_contact_friends', 'Q4_4_nr_contact_strangers']\n",
        "\n",
        "for element in nr_contacts:\n",
        "    if element in behaviour_cols:\n",
        "        behaviour_cols.remove(element)\n",
        "\n",
        "behaviour_cols"
      ],
      "metadata": {
        "colab": {
          "base_uri": "https://localhost:8080/"
        },
        "id": "c-Tt5MZZcd09",
        "outputId": "4ca7c818-54db-4ad9-81e2-dfd9a7105c19"
      },
      "execution_count": null,
      "outputs": [
        {
          "output_type": "execute_result",
          "data": {
            "text/plain": [
              "['Q1_2_covid_is_threat',\n",
              " 'Q2_1_easy_to_follow_advice',\n",
              " 'Q2_2_can_follow_advice_if_wanted',\n",
              " 'Q2_3_if_follow_advice_safe',\n",
              " 'Q2_4_if_follow_advice_others_safe',\n",
              " 'Q2_5_follow_advice_relationships_impared',\n",
              " 'Q2_6_follow_advice_life_degraded',\n",
              " 'Q3_1_aware_hand_hygiene',\n",
              " 'Q3_2_avoid_contact',\n",
              " 'Q3_3_ensure_frequent_cleaning',\n",
              " 'Q3_4_avoid_risk_groups',\n",
              " 'Q3_5_keep_distance',\n",
              " 'Q3_6_avoid_crowds',\n",
              " 'Q3_7_minimize_activities_w_contact',\n",
              " 'Q5_4_yourself_kept_distance',\n",
              " 'Q5_5_feel_urge_scold',\n",
              " 'Q6_2_advices_important',\n",
              " 'Q6_3_others_can_avoid_spreading',\n",
              " 'Q6_5_ownership_of_advice',\n",
              " 'Q6_6_clear_information_on_advice_reason',\n",
              " 'Q6_7_advice_limits_daily_activities',\n",
              " 'Q6_9_trust_political_strategy',\n",
              " 'Ny1_nr_times_wearing_masks_last_week']"
            ]
          },
          "metadata": {},
          "execution_count": 8
        }
      ]
    },
    {
      "cell_type": "markdown",
      "source": [
        "## Use PCA Data"
      ],
      "metadata": {
        "id": "lFlk40Ss7mOj"
      }
    },
    {
      "cell_type": "code",
      "source": [
        "df = pd.read_csv('data/preprocessing/dim_reduction/220321_pca_data.csv')\n",
        "df.head()"
      ],
      "metadata": {
        "colab": {
          "base_uri": "https://localhost:8080/",
          "height": 300
        },
        "id": "x2YgjgJn1gj_",
        "outputId": "8687aaa0-7da3-4610-8359-787cfb4af03b"
      },
      "execution_count": 8,
      "outputs": [
        {
          "output_type": "execute_result",
          "data": {
            "text/plain": [
              "          0         1         2         3         4         5         6  \\\n",
              "0 -0.639591 -0.162702 -0.711649  0.720878 -0.681940  1.254401  0.383294   \n",
              "1 -1.132418 -0.192777 -0.379158 -0.150098 -0.375834  0.564165 -1.388443   \n",
              "2 -1.035513  0.283440  0.355890 -0.341522  1.302738 -0.452865  0.525508   \n",
              "3  0.169676 -1.796129  0.845639  1.852579  0.768380 -1.558062  0.143525   \n",
              "4  2.091070 -2.752190  2.938180 -0.213405  1.164145  1.317973  0.524366   \n",
              "\n",
              "          7         8         9  ...  Q7_1_last_week_fever  \\\n",
              "0  0.650458  1.067924  0.512884  ...                   0.0   \n",
              "1  0.407469 -1.490331  1.622040  ...                   0.0   \n",
              "2 -1.529978 -1.869227  0.232083  ...                   0.0   \n",
              "3 -0.367936 -1.824915  1.282615  ...                   0.0   \n",
              "4 -0.984538 -1.028091 -1.114620  ...                   0.0   \n",
              "\n",
              "   Q7_2_last_week_cough Q7_3_last_week_sore_throat  \\\n",
              "0                   0.0                        0.0   \n",
              "1                   0.0                        0.0   \n",
              "2                   0.0                        0.0   \n",
              "3                   0.0                        0.0   \n",
              "4                   0.0                        0.0   \n",
              "\n",
              "   Q7_4_last_week_no_smell_taste Q7_5_last_week_shortness_breath  Q2020NovNy1  \\\n",
              "0                            0.0                             0.0          NaN   \n",
              "1                            0.0                             0.0          NaN   \n",
              "2                            0.0                             0.0          0.0   \n",
              "3                            0.0                             0.0          NaN   \n",
              "4                            0.0                             0.0          0.0   \n",
              "\n",
              "   Q2020NovNy2_tested_positive  Q2020NovNy3  Q2020NovNy4  \\\n",
              "0                          NaN          0.0          NaN   \n",
              "1                          NaN          NaN          NaN   \n",
              "2                          0.0          0.0          NaN   \n",
              "3                          NaN          0.0          NaN   \n",
              "4                          0.0          0.0          NaN   \n",
              "\n",
              "   Ny1_nr_times_wearing_masks_last_week  \n",
              "0                                   4.0  \n",
              "1                                   0.0  \n",
              "2                                   1.0  \n",
              "3                                   4.0  \n",
              "4                                   3.0  \n",
              "\n",
              "[5 rows x 42 columns]"
            ],
            "text/html": [
              "\n",
              "  <div id=\"df-d56fed23-d99b-40bb-82d6-9d2c7764b531\">\n",
              "    <div class=\"colab-df-container\">\n",
              "      <div>\n",
              "<style scoped>\n",
              "    .dataframe tbody tr th:only-of-type {\n",
              "        vertical-align: middle;\n",
              "    }\n",
              "\n",
              "    .dataframe tbody tr th {\n",
              "        vertical-align: top;\n",
              "    }\n",
              "\n",
              "    .dataframe thead th {\n",
              "        text-align: right;\n",
              "    }\n",
              "</style>\n",
              "<table border=\"1\" class=\"dataframe\">\n",
              "  <thead>\n",
              "    <tr style=\"text-align: right;\">\n",
              "      <th></th>\n",
              "      <th>0</th>\n",
              "      <th>1</th>\n",
              "      <th>2</th>\n",
              "      <th>3</th>\n",
              "      <th>4</th>\n",
              "      <th>5</th>\n",
              "      <th>6</th>\n",
              "      <th>7</th>\n",
              "      <th>8</th>\n",
              "      <th>9</th>\n",
              "      <th>...</th>\n",
              "      <th>Q7_1_last_week_fever</th>\n",
              "      <th>Q7_2_last_week_cough</th>\n",
              "      <th>Q7_3_last_week_sore_throat</th>\n",
              "      <th>Q7_4_last_week_no_smell_taste</th>\n",
              "      <th>Q7_5_last_week_shortness_breath</th>\n",
              "      <th>Q2020NovNy1</th>\n",
              "      <th>Q2020NovNy2_tested_positive</th>\n",
              "      <th>Q2020NovNy3</th>\n",
              "      <th>Q2020NovNy4</th>\n",
              "      <th>Ny1_nr_times_wearing_masks_last_week</th>\n",
              "    </tr>\n",
              "  </thead>\n",
              "  <tbody>\n",
              "    <tr>\n",
              "      <th>0</th>\n",
              "      <td>-0.639591</td>\n",
              "      <td>-0.162702</td>\n",
              "      <td>-0.711649</td>\n",
              "      <td>0.720878</td>\n",
              "      <td>-0.681940</td>\n",
              "      <td>1.254401</td>\n",
              "      <td>0.383294</td>\n",
              "      <td>0.650458</td>\n",
              "      <td>1.067924</td>\n",
              "      <td>0.512884</td>\n",
              "      <td>...</td>\n",
              "      <td>0.0</td>\n",
              "      <td>0.0</td>\n",
              "      <td>0.0</td>\n",
              "      <td>0.0</td>\n",
              "      <td>0.0</td>\n",
              "      <td>NaN</td>\n",
              "      <td>NaN</td>\n",
              "      <td>0.0</td>\n",
              "      <td>NaN</td>\n",
              "      <td>4.0</td>\n",
              "    </tr>\n",
              "    <tr>\n",
              "      <th>1</th>\n",
              "      <td>-1.132418</td>\n",
              "      <td>-0.192777</td>\n",
              "      <td>-0.379158</td>\n",
              "      <td>-0.150098</td>\n",
              "      <td>-0.375834</td>\n",
              "      <td>0.564165</td>\n",
              "      <td>-1.388443</td>\n",
              "      <td>0.407469</td>\n",
              "      <td>-1.490331</td>\n",
              "      <td>1.622040</td>\n",
              "      <td>...</td>\n",
              "      <td>0.0</td>\n",
              "      <td>0.0</td>\n",
              "      <td>0.0</td>\n",
              "      <td>0.0</td>\n",
              "      <td>0.0</td>\n",
              "      <td>NaN</td>\n",
              "      <td>NaN</td>\n",
              "      <td>NaN</td>\n",
              "      <td>NaN</td>\n",
              "      <td>0.0</td>\n",
              "    </tr>\n",
              "    <tr>\n",
              "      <th>2</th>\n",
              "      <td>-1.035513</td>\n",
              "      <td>0.283440</td>\n",
              "      <td>0.355890</td>\n",
              "      <td>-0.341522</td>\n",
              "      <td>1.302738</td>\n",
              "      <td>-0.452865</td>\n",
              "      <td>0.525508</td>\n",
              "      <td>-1.529978</td>\n",
              "      <td>-1.869227</td>\n",
              "      <td>0.232083</td>\n",
              "      <td>...</td>\n",
              "      <td>0.0</td>\n",
              "      <td>0.0</td>\n",
              "      <td>0.0</td>\n",
              "      <td>0.0</td>\n",
              "      <td>0.0</td>\n",
              "      <td>0.0</td>\n",
              "      <td>0.0</td>\n",
              "      <td>0.0</td>\n",
              "      <td>NaN</td>\n",
              "      <td>1.0</td>\n",
              "    </tr>\n",
              "    <tr>\n",
              "      <th>3</th>\n",
              "      <td>0.169676</td>\n",
              "      <td>-1.796129</td>\n",
              "      <td>0.845639</td>\n",
              "      <td>1.852579</td>\n",
              "      <td>0.768380</td>\n",
              "      <td>-1.558062</td>\n",
              "      <td>0.143525</td>\n",
              "      <td>-0.367936</td>\n",
              "      <td>-1.824915</td>\n",
              "      <td>1.282615</td>\n",
              "      <td>...</td>\n",
              "      <td>0.0</td>\n",
              "      <td>0.0</td>\n",
              "      <td>0.0</td>\n",
              "      <td>0.0</td>\n",
              "      <td>0.0</td>\n",
              "      <td>NaN</td>\n",
              "      <td>NaN</td>\n",
              "      <td>0.0</td>\n",
              "      <td>NaN</td>\n",
              "      <td>4.0</td>\n",
              "    </tr>\n",
              "    <tr>\n",
              "      <th>4</th>\n",
              "      <td>2.091070</td>\n",
              "      <td>-2.752190</td>\n",
              "      <td>2.938180</td>\n",
              "      <td>-0.213405</td>\n",
              "      <td>1.164145</td>\n",
              "      <td>1.317973</td>\n",
              "      <td>0.524366</td>\n",
              "      <td>-0.984538</td>\n",
              "      <td>-1.028091</td>\n",
              "      <td>-1.114620</td>\n",
              "      <td>...</td>\n",
              "      <td>0.0</td>\n",
              "      <td>0.0</td>\n",
              "      <td>0.0</td>\n",
              "      <td>0.0</td>\n",
              "      <td>0.0</td>\n",
              "      <td>0.0</td>\n",
              "      <td>0.0</td>\n",
              "      <td>0.0</td>\n",
              "      <td>NaN</td>\n",
              "      <td>3.0</td>\n",
              "    </tr>\n",
              "  </tbody>\n",
              "</table>\n",
              "<p>5 rows × 42 columns</p>\n",
              "</div>\n",
              "      <button class=\"colab-df-convert\" onclick=\"convertToInteractive('df-d56fed23-d99b-40bb-82d6-9d2c7764b531')\"\n",
              "              title=\"Convert this dataframe to an interactive table.\"\n",
              "              style=\"display:none;\">\n",
              "        \n",
              "  <svg xmlns=\"http://www.w3.org/2000/svg\" height=\"24px\"viewBox=\"0 0 24 24\"\n",
              "       width=\"24px\">\n",
              "    <path d=\"M0 0h24v24H0V0z\" fill=\"none\"/>\n",
              "    <path d=\"M18.56 5.44l.94 2.06.94-2.06 2.06-.94-2.06-.94-.94-2.06-.94 2.06-2.06.94zm-11 1L8.5 8.5l.94-2.06 2.06-.94-2.06-.94L8.5 2.5l-.94 2.06-2.06.94zm10 10l.94 2.06.94-2.06 2.06-.94-2.06-.94-.94-2.06-.94 2.06-2.06.94z\"/><path d=\"M17.41 7.96l-1.37-1.37c-.4-.4-.92-.59-1.43-.59-.52 0-1.04.2-1.43.59L10.3 9.45l-7.72 7.72c-.78.78-.78 2.05 0 2.83L4 21.41c.39.39.9.59 1.41.59.51 0 1.02-.2 1.41-.59l7.78-7.78 2.81-2.81c.8-.78.8-2.07 0-2.86zM5.41 20L4 18.59l7.72-7.72 1.47 1.35L5.41 20z\"/>\n",
              "  </svg>\n",
              "      </button>\n",
              "      \n",
              "  <style>\n",
              "    .colab-df-container {\n",
              "      display:flex;\n",
              "      flex-wrap:wrap;\n",
              "      gap: 12px;\n",
              "    }\n",
              "\n",
              "    .colab-df-convert {\n",
              "      background-color: #E8F0FE;\n",
              "      border: none;\n",
              "      border-radius: 50%;\n",
              "      cursor: pointer;\n",
              "      display: none;\n",
              "      fill: #1967D2;\n",
              "      height: 32px;\n",
              "      padding: 0 0 0 0;\n",
              "      width: 32px;\n",
              "    }\n",
              "\n",
              "    .colab-df-convert:hover {\n",
              "      background-color: #E2EBFA;\n",
              "      box-shadow: 0px 1px 2px rgba(60, 64, 67, 0.3), 0px 1px 3px 1px rgba(60, 64, 67, 0.15);\n",
              "      fill: #174EA6;\n",
              "    }\n",
              "\n",
              "    [theme=dark] .colab-df-convert {\n",
              "      background-color: #3B4455;\n",
              "      fill: #D2E3FC;\n",
              "    }\n",
              "\n",
              "    [theme=dark] .colab-df-convert:hover {\n",
              "      background-color: #434B5C;\n",
              "      box-shadow: 0px 1px 3px 1px rgba(0, 0, 0, 0.15);\n",
              "      filter: drop-shadow(0px 1px 2px rgba(0, 0, 0, 0.3));\n",
              "      fill: #FFFFFF;\n",
              "    }\n",
              "  </style>\n",
              "\n",
              "      <script>\n",
              "        const buttonEl =\n",
              "          document.querySelector('#df-d56fed23-d99b-40bb-82d6-9d2c7764b531 button.colab-df-convert');\n",
              "        buttonEl.style.display =\n",
              "          google.colab.kernel.accessAllowed ? 'block' : 'none';\n",
              "\n",
              "        async function convertToInteractive(key) {\n",
              "          const element = document.querySelector('#df-d56fed23-d99b-40bb-82d6-9d2c7764b531');\n",
              "          const dataTable =\n",
              "            await google.colab.kernel.invokeFunction('convertToInteractive',\n",
              "                                                     [key], {});\n",
              "          if (!dataTable) return;\n",
              "\n",
              "          const docLinkHtml = 'Like what you see? Visit the ' +\n",
              "            '<a target=\"_blank\" href=https://colab.research.google.com/notebooks/data_table.ipynb>data table notebook</a>'\n",
              "            + ' to learn more about interactive tables.';\n",
              "          element.innerHTML = '';\n",
              "          dataTable['output_type'] = 'display_data';\n",
              "          await google.colab.output.renderOutput(dataTable, element);\n",
              "          const docLink = document.createElement('div');\n",
              "          docLink.innerHTML = docLinkHtml;\n",
              "          element.appendChild(docLink);\n",
              "        }\n",
              "      </script>\n",
              "    </div>\n",
              "  </div>\n",
              "  "
            ]
          },
          "metadata": {},
          "execution_count": 8
        }
      ]
    },
    {
      "cell_type": "code",
      "source": [
        "answers_raw = df.iloc[:,:12].to_numpy()"
      ],
      "metadata": {
        "id": "rFsFxJcq1oML"
      },
      "execution_count": 9,
      "outputs": []
    },
    {
      "cell_type": "markdown",
      "source": [
        "## Scale Answers"
      ],
      "metadata": {
        "collapsed": false,
        "id": "8u1js2RgcJU2"
      }
    },
    {
      "cell_type": "code",
      "execution_count": null,
      "outputs": [],
      "source": [
        "#answers_raw = df[behaviour_cols].to_numpy()"
      ],
      "metadata": {
        "pycharm": {
          "name": "#%%\n"
        },
        "id": "Vw6637uSHdve"
      }
    },
    {
      "cell_type": "code",
      "execution_count": null,
      "outputs": [
        {
          "output_type": "execute_result",
          "data": {
            "text/plain": [
              "'from sklearn.preprocessing import StandardScaler\\nscaler = StandardScaler()\\nscaler.fit(answers_raw)\\nanswers = scaler.transform(answers_raw)'"
            ],
            "application/vnd.google.colaboratory.intrinsic+json": {
              "type": "string"
            }
          },
          "metadata": {},
          "execution_count": 85
        }
      ],
      "source": [
        "\"\"\"from sklearn.preprocessing import StandardScaler\n",
        "scaler = StandardScaler()\n",
        "scaler.fit(answers_raw)\n",
        "answers = scaler.transform(answers_raw)\"\"\""
      ],
      "metadata": {
        "pycharm": {
          "name": "#%%\n"
        },
        "id": "YiKFQvjgcJU3",
        "colab": {
          "base_uri": "https://localhost:8080/",
          "height": 35
        },
        "outputId": "35507165-abdd-4f81-94e7-77626bbdbdad"
      }
    },
    {
      "cell_type": "code",
      "execution_count": 10,
      "outputs": [],
      "source": [
        "from sklearn.preprocessing import MinMaxScaler\n",
        "scaler = MinMaxScaler()\n",
        "scaler.fit(answers_raw)\n",
        "answers = scaler.transform(answers_raw)"
      ],
      "metadata": {
        "pycharm": {
          "name": "#%%\n"
        },
        "id": "a-xRsEtOHdve"
      }
    },
    {
      "cell_type": "code",
      "source": [
        "answers_sampled = pd.DataFrame(answers).sample(10000).to_numpy()"
      ],
      "metadata": {
        "id": "p1Gnm_tq6-qo"
      },
      "execution_count": 11,
      "outputs": []
    },
    {
      "cell_type": "markdown",
      "source": [
        "# GM clustering"
      ],
      "metadata": {
        "collapsed": false,
        "pycharm": {
          "name": "#%% md\n"
        },
        "id": "tD2nIKVEcJU4"
      }
    },
    {
      "cell_type": "markdown",
      "source": [
        "## Elbow approach to determine ideal amount of clusters"
      ],
      "metadata": {
        "collapsed": false,
        "id": "R7FNIXHocJU4"
      }
    },
    {
      "cell_type": "code",
      "source": [
        "# Set up a range of cluster numbers to try\n",
        "n_range = range(2,15)\n",
        "\n",
        "# Create empty lists to store the BIC and AIC values\n",
        "bic_score = []\n",
        "aic_score = []\n",
        "\n",
        "# Loop through the range and fit a model\n",
        "for n in tqdm(n_range):\n",
        "    gm = GaussianMixture(n_components=n, \n",
        "                         random_state=123, \n",
        "                         n_init=6)\n",
        "    gm.fit(answers_sampled)\n",
        "    cluster_labels = gm.predict(answers_sampled)\n",
        "    # Append the BIC and AIC to the respective lists\n",
        "    bic_score.append(gm.bic(answers_sampled))\n",
        "    aic_score.append(gm.aic(answers_sampled))"
      ],
      "metadata": {
        "colab": {
          "base_uri": "https://localhost:8080/"
        },
        "id": "Fj8w9BLmIqu_",
        "outputId": "0b2cf4c4-1929-434a-bdea-1e2ee03b4876"
      },
      "execution_count": null,
      "outputs": [
        {
          "output_type": "stream",
          "name": "stderr",
          "text": [
            "100%|██████████| 13/13 [02:51<00:00, 13.18s/it]\n"
          ]
        }
      ]
    },
    {
      "cell_type": "code",
      "source": [
        "# Plot the BIC and AIC values together\n",
        "fig, ax = plt.subplots(figsize=(12,8),nrows=1)\n",
        "ax.plot(n_range, bic_score, '-o', color='orange')\n",
        "ax.plot(n_range, aic_score, '-o', color='green')\n",
        "ax.set(xlabel='Number of Clusters', ylabel='Score')\n",
        "ax.set_xticks(n_range)\n",
        "ax.set_title('BIC and AIC Scores Per Number Of Clusters')"
      ],
      "metadata": {
        "colab": {
          "base_uri": "https://localhost:8080/",
          "height": 530
        },
        "id": "CwLNdUyCJAMO",
        "outputId": "d82f6bf7-2e1b-438e-e07a-f08ad13ed48c"
      },
      "execution_count": null,
      "outputs": [
        {
          "output_type": "execute_result",
          "data": {
            "text/plain": [
              "Text(0.5, 1.0, 'BIC and AIC Scores Per Number Of Clusters')"
            ]
          },
          "metadata": {},
          "execution_count": 9
        },
        {
          "output_type": "display_data",
          "data": {
            "text/plain": [
              "<Figure size 864x576 with 1 Axes>"
            ],
            "image/png": "[encoded data removed]"
          },
          "metadata": {
            "needs_background": "light"
          }
        }
      ]
    },
    {
      "cell_type": "markdown",
      "source": [
        "## Probabilistic Approach to determine number of clusters"
      ],
      "metadata": {
        "id": "uQZhaSeqOzjj"
      }
    },
    {
      "cell_type": "code",
      "source": [
        "from scipy.stats import norm\n",
        "mean = 2\n",
        "std = 3\n",
        "prior_dist = norm(loc=mean, scale=std)"
      ],
      "metadata": {
        "id": "QRk0kgmrUP6n"
      },
      "execution_count": 32,
      "outputs": []
    },
    {
      "cell_type": "code",
      "source": [
        "x = np.arange(13)\n",
        "plt.plot(x, prior_dist.pdf(x),\n",
        "       'r-', lw=5, alpha=0.6, label='norm pdf')\n",
        "plt.show()\n",
        "plt.plot(x, prior_dist.logpdf(x),\n",
        "       'r-', lw=5, alpha=0.6, label='norm pdf')\n",
        "plt.show()"
      ],
      "metadata": {
        "colab": {
          "base_uri": "https://localhost:8080/",
          "height": 513
        },
        "id": "yEDKXzfZOyog",
        "outputId": "8ea10656-26ff-411c-83c4-a43232b9ed07"
      },
      "execution_count": 38,
      "outputs": [
        {
          "output_type": "display_data",
          "data": {
            "text/plain": [
              "<Figure size 432x288 with 1 Axes>"
            ],
            "image/png": "[encoded data removed]"
          },
          "metadata": {
            "needs_background": "light"
          }
        },
        {
          "output_type": "display_data",
          "data": {
            "text/plain": [
              "<Figure size 432x288 with 1 Axes>"
            ],
            "image/png": "[encoded data removed]"
          },
          "metadata": {
            "needs_background": "light"
          }
        }
      ]
    },
    {
      "cell_type": "code",
      "source": [
        "# Set up a range of cluster numbers to try\n",
        "n_range = range(2,15)\n",
        "list_log_prob_data_given_model = []\n",
        "list_log_prob_model = []\n",
        "list_score = []\n",
        "\n",
        "# Loop through the range and fit a model\n",
        "for n in tqdm(n_range):\n",
        "    # init & fit gmm\n",
        "    gm = GaussianMixture(n_components=n, \n",
        "                         random_state=123, \n",
        "                         n_init=6)\n",
        "    gm.fit(answers_sampled)\n",
        "    \n",
        "    # Calculate Log Probabilities\n",
        "    log_prob_data_given_model = gm.score(answers_sampled) # Computes the per-sample average log-likelihood of the given data X\n",
        "    log_prob_model = prior_dist.logpdf(n)\n",
        "    score = log_prob_data_given_model + log_prob_model\n",
        "\n",
        "    # Append values to list\n",
        "    list_log_prob_data_given_model.append(log_prob_data_given_model)\n",
        "    list_log_prob_model.append(log_prob_model)\n",
        "    list_score.append(score)\n",
        "\n"
      ],
      "metadata": {
        "colab": {
          "base_uri": "https://localhost:8080/"
        },
        "id": "kesOk8IiOywC",
        "outputId": "bec1bb89-f219-416b-d423-dc55e1ba7a3a"
      },
      "execution_count": 39,
      "outputs": [
        {
          "output_type": "stream",
          "name": "stderr",
          "text": [
            "100%|██████████| 13/13 [02:57<00:00, 13.62s/it]\n"
          ]
        }
      ]
    },
    {
      "cell_type": "code",
      "source": [
        "# Plot the BIC and AIC values together\n",
        "fig, ax = plt.subplots(figsize=(12,8),nrows=1)\n",
        "ax.plot(n_range, list_log_prob_data_given_model, '-o', color='orange', label='log prob data given model')\n",
        "ax.plot(n_range, list_log_prob_model, '-o', color='green', label='log prob model')\n",
        "ax.plot(n_range, list_score, '-o', color='blue', label='score')\n",
        "ax.set(xlabel='Number of Clusters', ylabel='Score')\n",
        "ax.set_xticks(n_range)\n",
        "ax.legend()\n",
        "ax.set_title('Probabilistic Evaluation')"
      ],
      "metadata": {
        "colab": {
          "base_uri": "https://localhost:8080/",
          "height": 530
        },
        "id": "Dr0izFY-OyyI",
        "outputId": "0604ea89-ea78-47d2-f5ec-ddc33ad54c59"
      },
      "execution_count": 40,
      "outputs": [
        {
          "output_type": "execute_result",
          "data": {
            "text/plain": [
              "Text(0.5, 1.0, 'Probabilistic Evaluation')"
            ]
          },
          "metadata": {},
          "execution_count": 40
        },
        {
          "output_type": "display_data",
          "data": {
            "text/plain": [
              "<Figure size 864x576 with 1 Axes>"
            ],
            "image/png": "[encoded data removed]"
          },
          "metadata": {
            "needs_background": "light"
          }
        }
      ]
    },
    {
      "cell_type": "code",
      "source": [
        "list_score"
      ],
      "metadata": {
        "colab": {
          "base_uri": "https://localhost:8080/"
        },
        "id": "ZTvsfzixX3B8",
        "outputId": "e1ec1bbc-304d-4d74-e229-3013d2e5b042"
      },
      "execution_count": 43,
      "outputs": [
        {
          "output_type": "execute_result",
          "data": {
            "text/plain": [
              "[9.128642481927521,\n",
              " 9.494738021985173,\n",
              " 9.578866298602147,\n",
              " 9.560279544271282,\n",
              " 9.445887703168122,\n",
              " 9.148938645559028,\n",
              " 8.623877964232914,\n",
              " 8.042904920068978,\n",
              " 7.473695552842977,\n",
              " 6.537496500498059,\n",
              " 5.587439620395785,\n",
              " 4.50316503331144,\n",
              " 3.3701699038360893]"
            ]
          },
          "metadata": {},
          "execution_count": 43
        }
      ]
    },
    {
      "cell_type": "code",
      "source": [
        "n_clusters = n_range[np.argmax(list_score)]\n",
        "n_clusters"
      ],
      "metadata": {
        "colab": {
          "base_uri": "https://localhost:8080/"
        },
        "id": "zSDJ6tPMYhlk",
        "outputId": "48d1a077-dd39-4e3a-b4e9-4e2fb2d12419"
      },
      "execution_count": 46,
      "outputs": [
        {
          "output_type": "execute_result",
          "data": {
            "text/plain": [
              "4"
            ]
          },
          "metadata": {},
          "execution_count": 46
        }
      ]
    },
    {
      "cell_type": "markdown",
      "source": [
        "## GM fit"
      ],
      "metadata": {
        "collapsed": false,
        "id": "RNoLUnvlcJU5"
      }
    },
    {
      "cell_type": "code",
      "execution_count": null,
      "outputs": [
        {
          "output_type": "execute_result",
          "data": {
            "text/plain": [
              "GaussianMixture(n_components=3, n_init=6, random_state=123)"
            ]
          },
          "metadata": {},
          "execution_count": 9
        }
      ],
      "source": [
        "n_clusters = 3\n",
        "gm = GaussianMixture(n_components=n_clusters, \n",
        "                         random_state=123, \n",
        "                         n_init=6)\n",
        "gm.fit(answers)"
      ],
      "metadata": {
        "pycharm": {
          "name": "#%%\n"
        },
        "id": "tHVDWn-7cJU6",
        "colab": {
          "base_uri": "https://localhost:8080/"
        },
        "outputId": "73df7611-d207-4501-d6ce-6020dbaa66dc"
      }
    },
    {
      "cell_type": "code",
      "execution_count": 18,
      "outputs": [
        {
          "output_type": "execute_result",
          "data": {
            "text/plain": [
              "          0         1         2         3         4         5         6  \\\n",
              "0 -0.639591 -0.162702 -0.711649  0.720878 -0.681940  1.254401  0.383294   \n",
              "1 -1.132418 -0.192777 -0.379158 -0.150098 -0.375834  0.564165 -1.388443   \n",
              "2 -1.035513  0.283440  0.355890 -0.341522  1.302738 -0.452865  0.525508   \n",
              "3  0.169676 -1.796129  0.845639  1.852579  0.768380 -1.558062  0.143525   \n",
              "4  2.091070 -2.752190  2.938180 -0.213405  1.164145  1.317973  0.524366   \n",
              "\n",
              "          7         8         9  ...  Q7_3_last_week_sore_throat  \\\n",
              "0  0.650458  1.067924  0.512884  ...                         0.0   \n",
              "1  0.407469 -1.490331  1.622040  ...                         0.0   \n",
              "2 -1.529978 -1.869227  0.232083  ...                         0.0   \n",
              "3 -0.367936 -1.824915  1.282615  ...                         0.0   \n",
              "4 -0.984538 -1.028091 -1.114620  ...                         0.0   \n",
              "\n",
              "   Q7_4_last_week_no_smell_taste Q7_5_last_week_shortness_breath  Q2020NovNy1  \\\n",
              "0                            0.0                             0.0          NaN   \n",
              "1                            0.0                             0.0          NaN   \n",
              "2                            0.0                             0.0          0.0   \n",
              "3                            0.0                             0.0          NaN   \n",
              "4                            0.0                             0.0          0.0   \n",
              "\n",
              "  Q2020NovNy2_tested_positive  Q2020NovNy3  Q2020NovNy4  \\\n",
              "0                         NaN          0.0          NaN   \n",
              "1                         NaN          NaN          NaN   \n",
              "2                         0.0          0.0          NaN   \n",
              "3                         NaN          0.0          NaN   \n",
              "4                         0.0          0.0          NaN   \n",
              "\n",
              "   Ny1_nr_times_wearing_masks_last_week  group  group_prob  \n",
              "0                                   4.0      0    0.851829  \n",
              "1                                   0.0      0    0.985445  \n",
              "2                                   1.0      2    1.000000  \n",
              "3                                   4.0      0    0.987530  \n",
              "4                                   3.0      2    0.998507  \n",
              "\n",
              "[5 rows x 44 columns]"
            ],
            "text/html": [
              "\n",
              "  <div id=\"df-7cb667f0-0d65-44f7-9504-6c2c6b9c4312\">\n",
              "    <div class=\"colab-df-container\">\n",
              "      <div>\n",
              "<style scoped>\n",
              "    .dataframe tbody tr th:only-of-type {\n",
              "        vertical-align: middle;\n",
              "    }\n",
              "\n",
              "    .dataframe tbody tr th {\n",
              "        vertical-align: top;\n",
              "    }\n",
              "\n",
              "    .dataframe thead th {\n",
              "        text-align: right;\n",
              "    }\n",
              "</style>\n",
              "<table border=\"1\" class=\"dataframe\">\n",
              "  <thead>\n",
              "    <tr style=\"text-align: right;\">\n",
              "      <th></th>\n",
              "      <th>0</th>\n",
              "      <th>1</th>\n",
              "      <th>2</th>\n",
              "      <th>3</th>\n",
              "      <th>4</th>\n",
              "      <th>5</th>\n",
              "      <th>6</th>\n",
              "      <th>7</th>\n",
              "      <th>8</th>\n",
              "      <th>9</th>\n",
              "      <th>...</th>\n",
              "      <th>Q7_3_last_week_sore_throat</th>\n",
              "      <th>Q7_4_last_week_no_smell_taste</th>\n",
              "      <th>Q7_5_last_week_shortness_breath</th>\n",
              "      <th>Q2020NovNy1</th>\n",
              "      <th>Q2020NovNy2_tested_positive</th>\n",
              "      <th>Q2020NovNy3</th>\n",
              "      <th>Q2020NovNy4</th>\n",
              "      <th>Ny1_nr_times_wearing_masks_last_week</th>\n",
              "      <th>group</th>\n",
              "      <th>group_prob</th>\n",
              "    </tr>\n",
              "  </thead>\n",
              "  <tbody>\n",
              "    <tr>\n",
              "      <th>0</th>\n",
              "      <td>-0.639591</td>\n",
              "      <td>-0.162702</td>\n",
              "      <td>-0.711649</td>\n",
              "      <td>0.720878</td>\n",
              "      <td>-0.681940</td>\n",
              "      <td>1.254401</td>\n",
              "      <td>0.383294</td>\n",
              "      <td>0.650458</td>\n",
              "      <td>1.067924</td>\n",
              "      <td>0.512884</td>\n",
              "      <td>...</td>\n",
              "      <td>0.0</td>\n",
              "      <td>0.0</td>\n",
              "      <td>0.0</td>\n",
              "      <td>NaN</td>\n",
              "      <td>NaN</td>\n",
              "      <td>0.0</td>\n",
              "      <td>NaN</td>\n",
              "      <td>4.0</td>\n",
              "      <td>0</td>\n",
              "      <td>0.851829</td>\n",
              "    </tr>\n",
              "    <tr>\n",
              "      <th>1</th>\n",
              "      <td>-1.132418</td>\n",
              "      <td>-0.192777</td>\n",
              "      <td>-0.379158</td>\n",
              "      <td>-0.150098</td>\n",
              "      <td>-0.375834</td>\n",
              "      <td>0.564165</td>\n",
              "      <td>-1.388443</td>\n",
              "      <td>0.407469</td>\n",
              "      <td>-1.490331</td>\n",
              "      <td>1.622040</td>\n",
              "      <td>...</td>\n",
              "      <td>0.0</td>\n",
              "      <td>0.0</td>\n",
              "      <td>0.0</td>\n",
              "      <td>NaN</td>\n",
              "      <td>NaN</td>\n",
              "      <td>NaN</td>\n",
              "      <td>NaN</td>\n",
              "      <td>0.0</td>\n",
              "      <td>0</td>\n",
              "      <td>0.985445</td>\n",
              "    </tr>\n",
              "    <tr>\n",
              "      <th>2</th>\n",
              "      <td>-1.035513</td>\n",
              "      <td>0.283440</td>\n",
              "      <td>0.355890</td>\n",
              "      <td>-0.341522</td>\n",
              "      <td>1.302738</td>\n",
              "      <td>-0.452865</td>\n",
              "      <td>0.525508</td>\n",
              "      <td>-1.529978</td>\n",
              "      <td>-1.869227</td>\n",
              "      <td>0.232083</td>\n",
              "      <td>...</td>\n",
              "      <td>0.0</td>\n",
              "      <td>0.0</td>\n",
              "      <td>0.0</td>\n",
              "      <td>0.0</td>\n",
              "      <td>0.0</td>\n",
              "      <td>0.0</td>\n",
              "      <td>NaN</td>\n",
              "      <td>1.0</td>\n",
              "      <td>2</td>\n",
              "      <td>1.000000</td>\n",
              "    </tr>\n",
              "    <tr>\n",
              "      <th>3</th>\n",
              "      <td>0.169676</td>\n",
              "      <td>-1.796129</td>\n",
              "      <td>0.845639</td>\n",
              "      <td>1.852579</td>\n",
              "      <td>0.768380</td>\n",
              "      <td>-1.558062</td>\n",
              "      <td>0.143525</td>\n",
              "      <td>-0.367936</td>\n",
              "      <td>-1.824915</td>\n",
              "      <td>1.282615</td>\n",
              "      <td>...</td>\n",
              "      <td>0.0</td>\n",
              "      <td>0.0</td>\n",
              "      <td>0.0</td>\n",
              "      <td>NaN</td>\n",
              "      <td>NaN</td>\n",
              "      <td>0.0</td>\n",
              "      <td>NaN</td>\n",
              "      <td>4.0</td>\n",
              "      <td>0</td>\n",
              "      <td>0.987530</td>\n",
              "    </tr>\n",
              "    <tr>\n",
              "      <th>4</th>\n",
              "      <td>2.091070</td>\n",
              "      <td>-2.752190</td>\n",
              "      <td>2.938180</td>\n",
              "      <td>-0.213405</td>\n",
              "      <td>1.164145</td>\n",
              "      <td>1.317973</td>\n",
              "      <td>0.524366</td>\n",
              "      <td>-0.984538</td>\n",
              "      <td>-1.028091</td>\n",
              "      <td>-1.114620</td>\n",
              "      <td>...</td>\n",
              "      <td>0.0</td>\n",
              "      <td>0.0</td>\n",
              "      <td>0.0</td>\n",
              "      <td>0.0</td>\n",
              "      <td>0.0</td>\n",
              "      <td>0.0</td>\n",
              "      <td>NaN</td>\n",
              "      <td>3.0</td>\n",
              "      <td>2</td>\n",
              "      <td>0.998507</td>\n",
              "    </tr>\n",
              "  </tbody>\n",
              "</table>\n",
              "<p>5 rows × 44 columns</p>\n",
              "</div>\n",
              "      <button class=\"colab-df-convert\" onclick=\"convertToInteractive('df-7cb667f0-0d65-44f7-9504-6c2c6b9c4312')\"\n",
              "              title=\"Convert this dataframe to an interactive table.\"\n",
              "              style=\"display:none;\">\n",
              "        \n",
              "  <svg xmlns=\"http://www.w3.org/2000/svg\" height=\"24px\"viewBox=\"0 0 24 24\"\n",
              "       width=\"24px\">\n",
              "    <path d=\"M0 0h24v24H0V0z\" fill=\"none\"/>\n",
              "    <path d=\"M18.56 5.44l.94 2.06.94-2.06 2.06-.94-2.06-.94-.94-2.06-.94 2.06-2.06.94zm-11 1L8.5 8.5l.94-2.06 2.06-.94-2.06-.94L8.5 2.5l-.94 2.06-2.06.94zm10 10l.94 2.06.94-2.06 2.06-.94-2.06-.94-.94-2.06-.94 2.06-2.06.94z\"/><path d=\"M17.41 7.96l-1.37-1.37c-.4-.4-.92-.59-1.43-.59-.52 0-1.04.2-1.43.59L10.3 9.45l-7.72 7.72c-.78.78-.78 2.05 0 2.83L4 21.41c.39.39.9.59 1.41.59.51 0 1.02-.2 1.41-.59l7.78-7.78 2.81-2.81c.8-.78.8-2.07 0-2.86zM5.41 20L4 18.59l7.72-7.72 1.47 1.35L5.41 20z\"/>\n",
              "  </svg>\n",
              "      </button>\n",
              "      \n",
              "  <style>\n",
              "    .colab-df-container {\n",
              "      display:flex;\n",
              "      flex-wrap:wrap;\n",
              "      gap: 12px;\n",
              "    }\n",
              "\n",
              "    .colab-df-convert {\n",
              "      background-color: #E8F0FE;\n",
              "      border: none;\n",
              "      border-radius: 50%;\n",
              "      cursor: pointer;\n",
              "      display: none;\n",
              "      fill: #1967D2;\n",
              "      height: 32px;\n",
              "      padding: 0 0 0 0;\n",
              "      width: 32px;\n",
              "    }\n",
              "\n",
              "    .colab-df-convert:hover {\n",
              "      background-color: #E2EBFA;\n",
              "      box-shadow: 0px 1px 2px rgba(60, 64, 67, 0.3), 0px 1px 3px 1px rgba(60, 64, 67, 0.15);\n",
              "      fill: #174EA6;\n",
              "    }\n",
              "\n",
              "    [theme=dark] .colab-df-convert {\n",
              "      background-color: #3B4455;\n",
              "      fill: #D2E3FC;\n",
              "    }\n",
              "\n",
              "    [theme=dark] .colab-df-convert:hover {\n",
              "      background-color: #434B5C;\n",
              "      box-shadow: 0px 1px 3px 1px rgba(0, 0, 0, 0.15);\n",
              "      filter: drop-shadow(0px 1px 2px rgba(0, 0, 0, 0.3));\n",
              "      fill: #FFFFFF;\n",
              "    }\n",
              "  </style>\n",
              "\n",
              "      <script>\n",
              "        const buttonEl =\n",
              "          document.querySelector('#df-7cb667f0-0d65-44f7-9504-6c2c6b9c4312 button.colab-df-convert');\n",
              "        buttonEl.style.display =\n",
              "          google.colab.kernel.accessAllowed ? 'block' : 'none';\n",
              "\n",
              "        async function convertToInteractive(key) {\n",
              "          const element = document.querySelector('#df-7cb667f0-0d65-44f7-9504-6c2c6b9c4312');\n",
              "          const dataTable =\n",
              "            await google.colab.kernel.invokeFunction('convertToInteractive',\n",
              "                                                     [key], {});\n",
              "          if (!dataTable) return;\n",
              "\n",
              "          const docLinkHtml = 'Like what you see? Visit the ' +\n",
              "            '<a target=\"_blank\" href=https://colab.research.google.com/notebooks/data_table.ipynb>data table notebook</a>'\n",
              "            + ' to learn more about interactive tables.';\n",
              "          element.innerHTML = '';\n",
              "          dataTable['output_type'] = 'display_data';\n",
              "          await google.colab.output.renderOutput(dataTable, element);\n",
              "          const docLink = document.createElement('div');\n",
              "          docLink.innerHTML = docLinkHtml;\n",
              "          element.appendChild(docLink);\n",
              "        }\n",
              "      </script>\n",
              "    </div>\n",
              "  </div>\n",
              "  "
            ]
          },
          "metadata": {},
          "execution_count": 18
        }
      ],
      "source": [
        "df['group'] = gm.predict(answers)\n",
        "df['group_prob'] = pd.DataFrame(gm.predict_proba(answers)).max(axis=1)\n",
        "df.head()"
      ],
      "metadata": {
        "pycharm": {
          "name": "#%%\n"
        },
        "id": "dUJpEw4wcJU6",
        "colab": {
          "base_uri": "https://localhost:8080/",
          "height": 300
        },
        "outputId": "8fa47a3c-89c5-4dc1-abc9-ea50c2e9e539"
      }
    },
    {
      "cell_type": "code",
      "source": [
        "df['group'].value_counts(dropna=False)"
      ],
      "metadata": {
        "colab": {
          "base_uri": "https://localhost:8080/"
        },
        "id": "iT3ZbXL8IVAq",
        "outputId": "77243764-1df7-499e-f650-b7a03671283d"
      },
      "execution_count": 19,
      "outputs": [
        {
          "output_type": "execute_result",
          "data": {
            "text/plain": [
              "2    67483\n",
              "0    38528\n",
              "1    16818\n",
              "Name: group, dtype: int64"
            ]
          },
          "metadata": {},
          "execution_count": 19
        }
      ]
    },
    {
      "cell_type": "code",
      "source": [
        "gm.weights_"
      ],
      "metadata": {
        "colab": {
          "base_uri": "https://localhost:8080/"
        },
        "id": "g9IWgHQQMhra",
        "outputId": "b37ca235-e6aa-4d60-a1d6-1c350210c18c"
      },
      "execution_count": 16,
      "outputs": [
        {
          "output_type": "execute_result",
          "data": {
            "text/plain": [
              "array([0.59149305, 0.40850695])"
            ]
          },
          "metadata": {},
          "execution_count": 16
        }
      ]
    },
    {
      "cell_type": "markdown",
      "source": [
        "## Group Probability"
      ],
      "metadata": {
        "id": "ddYf-0m58bZi"
      }
    },
    {
      "cell_type": "code",
      "source": [
        "df_sample = df.sample(1000)\n",
        "sns.histplot(data=df_sample, multiple='stack', x=\"group_prob\", hue=\"group\", log_scale=(False, False), binwidth=0.1, palette='Set2')\n",
        "plt.show()"
      ],
      "metadata": {
        "colab": {
          "base_uri": "https://localhost:8080/",
          "height": 280
        },
        "id": "HWcw999hgcfF",
        "outputId": "e6cfad97-5cb4-41f8-e0d8-ea75dda830df"
      },
      "execution_count": null,
      "outputs": [
        {
          "output_type": "display_data",
          "data": {
            "text/plain": [
              "<Figure size 432x288 with 1 Axes>"
            ],
            "image/png": "[encoded data removed]"
          },
          "metadata": {
            "needs_background": "light"
          }
        }
      ]
    },
    {
      "cell_type": "code",
      "source": [
        "fig, ax = plt.subplots()\n",
        "sns.histplot(data=df_sample, ax=ax, multiple='stack', x=\"group_prob\", hue=\"group\", log_scale=(False, False), binwidth=0.1, palette='Set2')\n",
        "ax.set_xlim(0.35, 1)\n",
        "ax.set_ylim(0,80)\n",
        "plt.show()"
      ],
      "metadata": {
        "colab": {
          "base_uri": "https://localhost:8080/",
          "height": 284
        },
        "id": "A0TbqrCxcXVP",
        "outputId": "7dd8824f-701e-49eb-e6f8-7e0cf2199448"
      },
      "execution_count": null,
      "outputs": [
        {
          "output_type": "display_data",
          "data": {
            "text/plain": [
              "<Figure size 432x288 with 1 Axes>"
            ],
            "image/png": "[encoded data removed]"
          },
          "metadata": {
            "needs_background": "light"
          }
        }
      ]
    },
    {
      "cell_type": "code",
      "source": [
        "prob_list = []\n",
        "for i in np.arange(0, 0.2, 0.01):\n",
        "  prob = df['group_prob'].quantile(i)\n",
        "  prob_list.append(prob)\n",
        "\n",
        "plt.plot(prob_list)\n",
        "plt.show()"
      ],
      "metadata": {
        "colab": {
          "base_uri": "https://localhost:8080/",
          "height": 265
        },
        "id": "eR05jn1ZgMQE",
        "outputId": "94b31f55-820e-4e4c-9879-7c281042977e"
      },
      "execution_count": null,
      "outputs": [
        {
          "output_type": "display_data",
          "data": {
            "text/plain": [
              "<Figure size 432x288 with 1 Axes>"
            ],
            "image/png": "[encoded data removed]"
          },
          "metadata": {
            "needs_background": "light"
          }
        }
      ]
    },
    {
      "cell_type": "code",
      "source": [
        "# Drop columns with low group/cluster probability\n",
        "df = df[df['group_prob'] > 0.55]\n",
        "df.shape"
      ],
      "metadata": {
        "colab": {
          "base_uri": "https://localhost:8080/"
        },
        "id": "Uw3oVQdLqgKk",
        "outputId": "f54bea61-42c3-4aad-997a-9ae6717a8dc3"
      },
      "execution_count": null,
      "outputs": [
        {
          "output_type": "execute_result",
          "data": {
            "text/plain": [
              "(121326, 44)"
            ]
          },
          "metadata": {},
          "execution_count": 16
        }
      ]
    },
    {
      "cell_type": "markdown",
      "source": [
        "# Analysis"
      ],
      "metadata": {
        "collapsed": false,
        "id": "8Y5bUr5PcJU7"
      }
    },
    {
      "cell_type": "markdown",
      "source": [
        "## Filter and plot interesting columns"
      ],
      "metadata": {
        "id": "2EpERCsn8Noq"
      }
    },
    {
      "cell_type": "code",
      "source": [
        "df_questions = pd.DataFrame(gm.means_.T)\n",
        "#df_questions['behaviour_cols'] = behaviour_cols\n",
        "df_questions['std'] = df_questions.std(axis=1)\n",
        "\n",
        "df_questions.sort_values(by='std', ascending=False)"
      ],
      "metadata": {
        "colab": {
          "base_uri": "https://localhost:8080/",
          "height": 426
        },
        "id": "QHrnztWTC3IK",
        "outputId": "5c14a007-8eab-4794-a7ec-7bff9a20a6cb"
      },
      "execution_count": null,
      "outputs": [
        {
          "output_type": "execute_result",
          "data": {
            "text/plain": [
              "           0         1         2       std\n",
              "0   0.181801  0.329950  0.075843  0.127636\n",
              "1   0.437264  0.525864  0.527481  0.051627\n",
              "11  0.442432  0.475678  0.458450  0.016627\n",
              "2   0.449067  0.427639  0.423265  0.013808\n",
              "3   0.488095  0.495218  0.470031  0.012984\n",
              "7   0.505101  0.492292  0.484426  0.010435\n",
              "4   0.436893  0.445671  0.425895  0.009909\n",
              "5   0.482836  0.485533  0.474443  0.005784\n",
              "10  0.493181  0.500652  0.503854  0.005477\n",
              "9   0.468130  0.478105  0.470398  0.005229\n",
              "6   0.416300  0.420880  0.423287  0.003549\n",
              "8   0.487592  0.490973  0.485134  0.002931"
            ],
            "text/html": [
              "\n",
              "  <div id=\"df-5c468c34-f750-41cd-9708-5abeaa0ce1f3\">\n",
              "    <div class=\"colab-df-container\">\n",
              "      <div>\n",
              "<style scoped>\n",
              "    .dataframe tbody tr th:only-of-type {\n",
              "        vertical-align: middle;\n",
              "    }\n",
              "\n",
              "    .dataframe tbody tr th {\n",
              "        vertical-align: top;\n",
              "    }\n",
              "\n",
              "    .dataframe thead th {\n",
              "        text-align: right;\n",
              "    }\n",
              "</style>\n",
              "<table border=\"1\" class=\"dataframe\">\n",
              "  <thead>\n",
              "    <tr style=\"text-align: right;\">\n",
              "      <th></th>\n",
              "      <th>0</th>\n",
              "      <th>1</th>\n",
              "      <th>2</th>\n",
              "      <th>std</th>\n",
              "    </tr>\n",
              "  </thead>\n",
              "  <tbody>\n",
              "    <tr>\n",
              "      <th>0</th>\n",
              "      <td>0.181801</td>\n",
              "      <td>0.329950</td>\n",
              "      <td>0.075843</td>\n",
              "      <td>0.127636</td>\n",
              "    </tr>\n",
              "    <tr>\n",
              "      <th>1</th>\n",
              "      <td>0.437264</td>\n",
              "      <td>0.525864</td>\n",
              "      <td>0.527481</td>\n",
              "      <td>0.051627</td>\n",
              "    </tr>\n",
              "    <tr>\n",
              "      <th>11</th>\n",
              "      <td>0.442432</td>\n",
              "      <td>0.475678</td>\n",
              "      <td>0.458450</td>\n",
              "      <td>0.016627</td>\n",
              "    </tr>\n",
              "    <tr>\n",
              "      <th>2</th>\n",
              "      <td>0.449067</td>\n",
              "      <td>0.427639</td>\n",
              "      <td>0.423265</td>\n",
              "      <td>0.013808</td>\n",
              "    </tr>\n",
              "    <tr>\n",
              "      <th>3</th>\n",
              "      <td>0.488095</td>\n",
              "      <td>0.495218</td>\n",
              "      <td>0.470031</td>\n",
              "      <td>0.012984</td>\n",
              "    </tr>\n",
              "    <tr>\n",
              "      <th>7</th>\n",
              "      <td>0.505101</td>\n",
              "      <td>0.492292</td>\n",
              "      <td>0.484426</td>\n",
              "      <td>0.010435</td>\n",
              "    </tr>\n",
              "    <tr>\n",
              "      <th>4</th>\n",
              "      <td>0.436893</td>\n",
              "      <td>0.445671</td>\n",
              "      <td>0.425895</td>\n",
              "      <td>0.009909</td>\n",
              "    </tr>\n",
              "    <tr>\n",
              "      <th>5</th>\n",
              "      <td>0.482836</td>\n",
              "      <td>0.485533</td>\n",
              "      <td>0.474443</td>\n",
              "      <td>0.005784</td>\n",
              "    </tr>\n",
              "    <tr>\n",
              "      <th>10</th>\n",
              "      <td>0.493181</td>\n",
              "      <td>0.500652</td>\n",
              "      <td>0.503854</td>\n",
              "      <td>0.005477</td>\n",
              "    </tr>\n",
              "    <tr>\n",
              "      <th>9</th>\n",
              "      <td>0.468130</td>\n",
              "      <td>0.478105</td>\n",
              "      <td>0.470398</td>\n",
              "      <td>0.005229</td>\n",
              "    </tr>\n",
              "    <tr>\n",
              "      <th>6</th>\n",
              "      <td>0.416300</td>\n",
              "      <td>0.420880</td>\n",
              "      <td>0.423287</td>\n",
              "      <td>0.003549</td>\n",
              "    </tr>\n",
              "    <tr>\n",
              "      <th>8</th>\n",
              "      <td>0.487592</td>\n",
              "      <td>0.490973</td>\n",
              "      <td>0.485134</td>\n",
              "      <td>0.002931</td>\n",
              "    </tr>\n",
              "  </tbody>\n",
              "</table>\n",
              "</div>\n",
              "      <button class=\"colab-df-convert\" onclick=\"convertToInteractive('df-5c468c34-f750-41cd-9708-5abeaa0ce1f3')\"\n",
              "              title=\"Convert this dataframe to an interactive table.\"\n",
              "              style=\"display:none;\">\n",
              "        \n",
              "  <svg xmlns=\"http://www.w3.org/2000/svg\" height=\"24px\"viewBox=\"0 0 24 24\"\n",
              "       width=\"24px\">\n",
              "    <path d=\"M0 0h24v24H0V0z\" fill=\"none\"/>\n",
              "    <path d=\"M18.56 5.44l.94 2.06.94-2.06 2.06-.94-2.06-.94-.94-2.06-.94 2.06-2.06.94zm-11 1L8.5 8.5l.94-2.06 2.06-.94-2.06-.94L8.5 2.5l-.94 2.06-2.06.94zm10 10l.94 2.06.94-2.06 2.06-.94-2.06-.94-.94-2.06-.94 2.06-2.06.94z\"/><path d=\"M17.41 7.96l-1.37-1.37c-.4-.4-.92-.59-1.43-.59-.52 0-1.04.2-1.43.59L10.3 9.45l-7.72 7.72c-.78.78-.78 2.05 0 2.83L4 21.41c.39.39.9.59 1.41.59.51 0 1.02-.2 1.41-.59l7.78-7.78 2.81-2.81c.8-.78.8-2.07 0-2.86zM5.41 20L4 18.59l7.72-7.72 1.47 1.35L5.41 20z\"/>\n",
              "  </svg>\n",
              "      </button>\n",
              "      \n",
              "  <style>\n",
              "    .colab-df-container {\n",
              "      display:flex;\n",
              "      flex-wrap:wrap;\n",
              "      gap: 12px;\n",
              "    }\n",
              "\n",
              "    .colab-df-convert {\n",
              "      background-color: #E8F0FE;\n",
              "      border: none;\n",
              "      border-radius: 50%;\n",
              "      cursor: pointer;\n",
              "      display: none;\n",
              "      fill: #1967D2;\n",
              "      height: 32px;\n",
              "      padding: 0 0 0 0;\n",
              "      width: 32px;\n",
              "    }\n",
              "\n",
              "    .colab-df-convert:hover {\n",
              "      background-color: #E2EBFA;\n",
              "      box-shadow: 0px 1px 2px rgba(60, 64, 67, 0.3), 0px 1px 3px 1px rgba(60, 64, 67, 0.15);\n",
              "      fill: #174EA6;\n",
              "    }\n",
              "\n",
              "    [theme=dark] .colab-df-convert {\n",
              "      background-color: #3B4455;\n",
              "      fill: #D2E3FC;\n",
              "    }\n",
              "\n",
              "    [theme=dark] .colab-df-convert:hover {\n",
              "      background-color: #434B5C;\n",
              "      box-shadow: 0px 1px 3px 1px rgba(0, 0, 0, 0.15);\n",
              "      filter: drop-shadow(0px 1px 2px rgba(0, 0, 0, 0.3));\n",
              "      fill: #FFFFFF;\n",
              "    }\n",
              "  </style>\n",
              "\n",
              "      <script>\n",
              "        const buttonEl =\n",
              "          document.querySelector('#df-5c468c34-f750-41cd-9708-5abeaa0ce1f3 button.colab-df-convert');\n",
              "        buttonEl.style.display =\n",
              "          google.colab.kernel.accessAllowed ? 'block' : 'none';\n",
              "\n",
              "        async function convertToInteractive(key) {\n",
              "          const element = document.querySelector('#df-5c468c34-f750-41cd-9708-5abeaa0ce1f3');\n",
              "          const dataTable =\n",
              "            await google.colab.kernel.invokeFunction('convertToInteractive',\n",
              "                                                     [key], {});\n",
              "          if (!dataTable) return;\n",
              "\n",
              "          const docLinkHtml = 'Like what you see? Visit the ' +\n",
              "            '<a target=\"_blank\" href=https://colab.research.google.com/notebooks/data_table.ipynb>data table notebook</a>'\n",
              "            + ' to learn more about interactive tables.';\n",
              "          element.innerHTML = '';\n",
              "          dataTable['output_type'] = 'display_data';\n",
              "          await google.colab.output.renderOutput(dataTable, element);\n",
              "          const docLink = document.createElement('div');\n",
              "          docLink.innerHTML = docLinkHtml;\n",
              "          element.appendChild(docLink);\n",
              "        }\n",
              "      </script>\n",
              "    </div>\n",
              "  </div>\n",
              "  "
            ]
          },
          "metadata": {},
          "execution_count": 17
        }
      ]
    },
    {
      "cell_type": "code",
      "source": [
        "top_3_cols = df_questions.sort_values(by='std', ascending=False).index[:3].tolist()#.iloc[:3].tolist()\n",
        "for i in range(len(top_3_cols)):\n",
        "  top_3_cols[i] = str(top_3_cols[i])\n",
        "top_3_cols"
      ],
      "metadata": {
        "colab": {
          "base_uri": "https://localhost:8080/"
        },
        "id": "mbY3I9gpMz9j",
        "outputId": "12634ec0-16ae-4398-d7c0-6349378bfbfa"
      },
      "execution_count": null,
      "outputs": [
        {
          "output_type": "execute_result",
          "data": {
            "text/plain": [
              "['0', '1', '11']"
            ]
          },
          "metadata": {},
          "execution_count": 18
        }
      ]
    },
    {
      "cell_type": "code",
      "source": [
        "df_sample = df.sample(1000)\n",
        "scatter = plt.scatter(df_sample[top_3_cols[0]], df_sample[top_3_cols[1]], c=df_sample['group'], cmap='Paired', alpha=0.75)\n",
        "plt.legend(handles=scatter.legend_elements()[0], title=\"groups\", labels=[0,1,2,3,4,5,6])\n",
        "plt.xlabel(top_3_cols[0])\n",
        "plt.ylabel(top_3_cols[1])\n",
        "plt.title('Cluster visualization in 2D')\n",
        "plt.show()"
      ],
      "metadata": {
        "colab": {
          "base_uri": "https://localhost:8080/",
          "height": 295
        },
        "id": "mFdEOCaiiIgH",
        "outputId": "750999c9-4b66-4cd6-a524-0a4092d46f8a"
      },
      "execution_count": null,
      "outputs": [
        {
          "output_type": "display_data",
          "data": {
            "text/plain": [
              "<Figure size 432x288 with 1 Axes>"
            ],
            "image/png": "[encoded data removed]"
          },
          "metadata": {
            "needs_background": "light"
          }
        }
      ]
    },
    {
      "cell_type": "code",
      "source": [
        "fig = plt.figure()\n",
        "ax = plt.axes(projection='3d')\n",
        "ax.scatter3D(df_sample[top_3_cols[0]], df_sample[top_3_cols[1]], df_sample[top_3_cols[2]], c=df_sample['group'], cmap='Paired')"
      ],
      "metadata": {
        "colab": {
          "base_uri": "https://localhost:8080/",
          "height": 265
        },
        "id": "B9pJZdeohVgP",
        "outputId": "5e1a5867-6958-48de-ed52-522fe38b97e1"
      },
      "execution_count": null,
      "outputs": [
        {
          "output_type": "execute_result",
          "data": {
            "text/plain": [
              "<mpl_toolkits.mplot3d.art3d.Path3DCollection at 0x7f4e7e2ad310>"
            ]
          },
          "metadata": {},
          "execution_count": 20
        },
        {
          "output_type": "display_data",
          "data": {
            "text/plain": [
              "<Figure size 432x288 with 1 Axes>"
            ],
            "image/png": "[encoded data removed]"
          },
          "metadata": {
            "needs_background": "light"
          }
        }
      ]
    },
    {
      "cell_type": "markdown",
      "source": [
        "## Groups Daily Distribution"
      ],
      "metadata": {
        "id": "UWczMv3B8tFs"
      }
    },
    {
      "cell_type": "code",
      "source": [
        "column = '0'\n",
        "groups_percentage = df.groupby(['date','group'],as_index=False)[column].count()\n",
        "groups_percentage"
      ],
      "metadata": {
        "colab": {
          "base_uri": "https://localhost:8080/",
          "height": 424
        },
        "id": "yERH5neS8sc5",
        "outputId": "1552df25-6c95-4a26-ba38-74f076c72607"
      },
      "execution_count": null,
      "outputs": [
        {
          "output_type": "execute_result",
          "data": {
            "text/plain": [
              "            date  group    0\n",
              "0     2020-05-29      0   17\n",
              "1     2020-05-29      1   27\n",
              "2     2020-05-29      2    9\n",
              "3     2020-05-30      0  101\n",
              "4     2020-05-30      1  148\n",
              "...          ...    ...  ...\n",
              "1651  2021-11-30      1   88\n",
              "1652  2021-11-30      2   22\n",
              "1653  2021-12-01      0   41\n",
              "1654  2021-12-01      1   92\n",
              "1655  2021-12-01      2   13\n",
              "\n",
              "[1656 rows x 3 columns]"
            ],
            "text/html": [
              "\n",
              "  <div id=\"df-c57fbff4-0cc2-4a1d-b478-b392c4edbc94\">\n",
              "    <div class=\"colab-df-container\">\n",
              "      <div>\n",
              "<style scoped>\n",
              "    .dataframe tbody tr th:only-of-type {\n",
              "        vertical-align: middle;\n",
              "    }\n",
              "\n",
              "    .dataframe tbody tr th {\n",
              "        vertical-align: top;\n",
              "    }\n",
              "\n",
              "    .dataframe thead th {\n",
              "        text-align: right;\n",
              "    }\n",
              "</style>\n",
              "<table border=\"1\" class=\"dataframe\">\n",
              "  <thead>\n",
              "    <tr style=\"text-align: right;\">\n",
              "      <th></th>\n",
              "      <th>date</th>\n",
              "      <th>group</th>\n",
              "      <th>0</th>\n",
              "    </tr>\n",
              "  </thead>\n",
              "  <tbody>\n",
              "    <tr>\n",
              "      <th>0</th>\n",
              "      <td>2020-05-29</td>\n",
              "      <td>0</td>\n",
              "      <td>17</td>\n",
              "    </tr>\n",
              "    <tr>\n",
              "      <th>1</th>\n",
              "      <td>2020-05-29</td>\n",
              "      <td>1</td>\n",
              "      <td>27</td>\n",
              "    </tr>\n",
              "    <tr>\n",
              "      <th>2</th>\n",
              "      <td>2020-05-29</td>\n",
              "      <td>2</td>\n",
              "      <td>9</td>\n",
              "    </tr>\n",
              "    <tr>\n",
              "      <th>3</th>\n",
              "      <td>2020-05-30</td>\n",
              "      <td>0</td>\n",
              "      <td>101</td>\n",
              "    </tr>\n",
              "    <tr>\n",
              "      <th>4</th>\n",
              "      <td>2020-05-30</td>\n",
              "      <td>1</td>\n",
              "      <td>148</td>\n",
              "    </tr>\n",
              "    <tr>\n",
              "      <th>...</th>\n",
              "      <td>...</td>\n",
              "      <td>...</td>\n",
              "      <td>...</td>\n",
              "    </tr>\n",
              "    <tr>\n",
              "      <th>1651</th>\n",
              "      <td>2021-11-30</td>\n",
              "      <td>1</td>\n",
              "      <td>88</td>\n",
              "    </tr>\n",
              "    <tr>\n",
              "      <th>1652</th>\n",
              "      <td>2021-11-30</td>\n",
              "      <td>2</td>\n",
              "      <td>22</td>\n",
              "    </tr>\n",
              "    <tr>\n",
              "      <th>1653</th>\n",
              "      <td>2021-12-01</td>\n",
              "      <td>0</td>\n",
              "      <td>41</td>\n",
              "    </tr>\n",
              "    <tr>\n",
              "      <th>1654</th>\n",
              "      <td>2021-12-01</td>\n",
              "      <td>1</td>\n",
              "      <td>92</td>\n",
              "    </tr>\n",
              "    <tr>\n",
              "      <th>1655</th>\n",
              "      <td>2021-12-01</td>\n",
              "      <td>2</td>\n",
              "      <td>13</td>\n",
              "    </tr>\n",
              "  </tbody>\n",
              "</table>\n",
              "<p>1656 rows × 3 columns</p>\n",
              "</div>\n",
              "      <button class=\"colab-df-convert\" onclick=\"convertToInteractive('df-c57fbff4-0cc2-4a1d-b478-b392c4edbc94')\"\n",
              "              title=\"Convert this dataframe to an interactive table.\"\n",
              "              style=\"display:none;\">\n",
              "        \n",
              "  <svg xmlns=\"http://www.w3.org/2000/svg\" height=\"24px\"viewBox=\"0 0 24 24\"\n",
              "       width=\"24px\">\n",
              "    <path d=\"M0 0h24v24H0V0z\" fill=\"none\"/>\n",
              "    <path d=\"M18.56 5.44l.94 2.06.94-2.06 2.06-.94-2.06-.94-.94-2.06-.94 2.06-2.06.94zm-11 1L8.5 8.5l.94-2.06 2.06-.94-2.06-.94L8.5 2.5l-.94 2.06-2.06.94zm10 10l.94 2.06.94-2.06 2.06-.94-2.06-.94-.94-2.06-.94 2.06-2.06.94z\"/><path d=\"M17.41 7.96l-1.37-1.37c-.4-.4-.92-.59-1.43-.59-.52 0-1.04.2-1.43.59L10.3 9.45l-7.72 7.72c-.78.78-.78 2.05 0 2.83L4 21.41c.39.39.9.59 1.41.59.51 0 1.02-.2 1.41-.59l7.78-7.78 2.81-2.81c.8-.78.8-2.07 0-2.86zM5.41 20L4 18.59l7.72-7.72 1.47 1.35L5.41 20z\"/>\n",
              "  </svg>\n",
              "      </button>\n",
              "      \n",
              "  <style>\n",
              "    .colab-df-container {\n",
              "      display:flex;\n",
              "      flex-wrap:wrap;\n",
              "      gap: 12px;\n",
              "    }\n",
              "\n",
              "    .colab-df-convert {\n",
              "      background-color: #E8F0FE;\n",
              "      border: none;\n",
              "      border-radius: 50%;\n",
              "      cursor: pointer;\n",
              "      display: none;\n",
              "      fill: #1967D2;\n",
              "      height: 32px;\n",
              "      padding: 0 0 0 0;\n",
              "      width: 32px;\n",
              "    }\n",
              "\n",
              "    .colab-df-convert:hover {\n",
              "      background-color: #E2EBFA;\n",
              "      box-shadow: 0px 1px 2px rgba(60, 64, 67, 0.3), 0px 1px 3px 1px rgba(60, 64, 67, 0.15);\n",
              "      fill: #174EA6;\n",
              "    }\n",
              "\n",
              "    [theme=dark] .colab-df-convert {\n",
              "      background-color: #3B4455;\n",
              "      fill: #D2E3FC;\n",
              "    }\n",
              "\n",
              "    [theme=dark] .colab-df-convert:hover {\n",
              "      background-color: #434B5C;\n",
              "      box-shadow: 0px 1px 3px 1px rgba(0, 0, 0, 0.15);\n",
              "      filter: drop-shadow(0px 1px 2px rgba(0, 0, 0, 0.3));\n",
              "      fill: #FFFFFF;\n",
              "    }\n",
              "  </style>\n",
              "\n",
              "      <script>\n",
              "        const buttonEl =\n",
              "          document.querySelector('#df-c57fbff4-0cc2-4a1d-b478-b392c4edbc94 button.colab-df-convert');\n",
              "        buttonEl.style.display =\n",
              "          google.colab.kernel.accessAllowed ? 'block' : 'none';\n",
              "\n",
              "        async function convertToInteractive(key) {\n",
              "          const element = document.querySelector('#df-c57fbff4-0cc2-4a1d-b478-b392c4edbc94');\n",
              "          const dataTable =\n",
              "            await google.colab.kernel.invokeFunction('convertToInteractive',\n",
              "                                                     [key], {});\n",
              "          if (!dataTable) return;\n",
              "\n",
              "          const docLinkHtml = 'Like what you see? Visit the ' +\n",
              "            '<a target=\"_blank\" href=https://colab.research.google.com/notebooks/data_table.ipynb>data table notebook</a>'\n",
              "            + ' to learn more about interactive tables.';\n",
              "          element.innerHTML = '';\n",
              "          dataTable['output_type'] = 'display_data';\n",
              "          await google.colab.output.renderOutput(dataTable, element);\n",
              "          const docLink = document.createElement('div');\n",
              "          docLink.innerHTML = docLinkHtml;\n",
              "          element.appendChild(docLink);\n",
              "        }\n",
              "      </script>\n",
              "    </div>\n",
              "  </div>\n",
              "  "
            ]
          },
          "metadata": {},
          "execution_count": 21
        }
      ]
    },
    {
      "cell_type": "code",
      "source": [
        "def normalize(row):\n",
        "  sum = groups_percentage[groups_percentage['date']==row['date']][column].sum()\n",
        "  return row[column]/sum\n",
        "\n",
        "groups_percentage['percentage'] = groups_percentage.apply(lambda x: normalize(x), axis=1)\n",
        "groups_percentage.drop(columns=column,inplace=True)\n",
        "groups_percentage"
      ],
      "metadata": {
        "colab": {
          "base_uri": "https://localhost:8080/",
          "height": 424
        },
        "id": "h7x9q0VN8sfo",
        "outputId": "14afe05c-cffe-4ba9-ec49-6ee11debdada"
      },
      "execution_count": null,
      "outputs": [
        {
          "output_type": "execute_result",
          "data": {
            "text/plain": [
              "            date  group  percentage\n",
              "0     2020-05-29      0    0.320755\n",
              "1     2020-05-29      1    0.509434\n",
              "2     2020-05-29      2    0.169811\n",
              "3     2020-05-30      0    0.342373\n",
              "4     2020-05-30      1    0.501695\n",
              "...          ...    ...         ...\n",
              "1651  2021-11-30      1    0.647059\n",
              "1652  2021-11-30      2    0.161765\n",
              "1653  2021-12-01      0    0.280822\n",
              "1654  2021-12-01      1    0.630137\n",
              "1655  2021-12-01      2    0.089041\n",
              "\n",
              "[1656 rows x 3 columns]"
            ],
            "text/html": [
              "\n",
              "  <div id=\"df-454c1890-d4f4-4d9c-a68b-068f9f36d5f7\">\n",
              "    <div class=\"colab-df-container\">\n",
              "      <div>\n",
              "<style scoped>\n",
              "    .dataframe tbody tr th:only-of-type {\n",
              "        vertical-align: middle;\n",
              "    }\n",
              "\n",
              "    .dataframe tbody tr th {\n",
              "        vertical-align: top;\n",
              "    }\n",
              "\n",
              "    .dataframe thead th {\n",
              "        text-align: right;\n",
              "    }\n",
              "</style>\n",
              "<table border=\"1\" class=\"dataframe\">\n",
              "  <thead>\n",
              "    <tr style=\"text-align: right;\">\n",
              "      <th></th>\n",
              "      <th>date</th>\n",
              "      <th>group</th>\n",
              "      <th>percentage</th>\n",
              "    </tr>\n",
              "  </thead>\n",
              "  <tbody>\n",
              "    <tr>\n",
              "      <th>0</th>\n",
              "      <td>2020-05-29</td>\n",
              "      <td>0</td>\n",
              "      <td>0.320755</td>\n",
              "    </tr>\n",
              "    <tr>\n",
              "      <th>1</th>\n",
              "      <td>2020-05-29</td>\n",
              "      <td>1</td>\n",
              "      <td>0.509434</td>\n",
              "    </tr>\n",
              "    <tr>\n",
              "      <th>2</th>\n",
              "      <td>2020-05-29</td>\n",
              "      <td>2</td>\n",
              "      <td>0.169811</td>\n",
              "    </tr>\n",
              "    <tr>\n",
              "      <th>3</th>\n",
              "      <td>2020-05-30</td>\n",
              "      <td>0</td>\n",
              "      <td>0.342373</td>\n",
              "    </tr>\n",
              "    <tr>\n",
              "      <th>4</th>\n",
              "      <td>2020-05-30</td>\n",
              "      <td>1</td>\n",
              "      <td>0.501695</td>\n",
              "    </tr>\n",
              "    <tr>\n",
              "      <th>...</th>\n",
              "      <td>...</td>\n",
              "      <td>...</td>\n",
              "      <td>...</td>\n",
              "    </tr>\n",
              "    <tr>\n",
              "      <th>1651</th>\n",
              "      <td>2021-11-30</td>\n",
              "      <td>1</td>\n",
              "      <td>0.647059</td>\n",
              "    </tr>\n",
              "    <tr>\n",
              "      <th>1652</th>\n",
              "      <td>2021-11-30</td>\n",
              "      <td>2</td>\n",
              "      <td>0.161765</td>\n",
              "    </tr>\n",
              "    <tr>\n",
              "      <th>1653</th>\n",
              "      <td>2021-12-01</td>\n",
              "      <td>0</td>\n",
              "      <td>0.280822</td>\n",
              "    </tr>\n",
              "    <tr>\n",
              "      <th>1654</th>\n",
              "      <td>2021-12-01</td>\n",
              "      <td>1</td>\n",
              "      <td>0.630137</td>\n",
              "    </tr>\n",
              "    <tr>\n",
              "      <th>1655</th>\n",
              "      <td>2021-12-01</td>\n",
              "      <td>2</td>\n",
              "      <td>0.089041</td>\n",
              "    </tr>\n",
              "  </tbody>\n",
              "</table>\n",
              "<p>1656 rows × 3 columns</p>\n",
              "</div>\n",
              "      <button class=\"colab-df-convert\" onclick=\"convertToInteractive('df-454c1890-d4f4-4d9c-a68b-068f9f36d5f7')\"\n",
              "              title=\"Convert this dataframe to an interactive table.\"\n",
              "              style=\"display:none;\">\n",
              "        \n",
              "  <svg xmlns=\"http://www.w3.org/2000/svg\" height=\"24px\"viewBox=\"0 0 24 24\"\n",
              "       width=\"24px\">\n",
              "    <path d=\"M0 0h24v24H0V0z\" fill=\"none\"/>\n",
              "    <path d=\"M18.56 5.44l.94 2.06.94-2.06 2.06-.94-2.06-.94-.94-2.06-.94 2.06-2.06.94zm-11 1L8.5 8.5l.94-2.06 2.06-.94-2.06-.94L8.5 2.5l-.94 2.06-2.06.94zm10 10l.94 2.06.94-2.06 2.06-.94-2.06-.94-.94-2.06-.94 2.06-2.06.94z\"/><path d=\"M17.41 7.96l-1.37-1.37c-.4-.4-.92-.59-1.43-.59-.52 0-1.04.2-1.43.59L10.3 9.45l-7.72 7.72c-.78.78-.78 2.05 0 2.83L4 21.41c.39.39.9.59 1.41.59.51 0 1.02-.2 1.41-.59l7.78-7.78 2.81-2.81c.8-.78.8-2.07 0-2.86zM5.41 20L4 18.59l7.72-7.72 1.47 1.35L5.41 20z\"/>\n",
              "  </svg>\n",
              "      </button>\n",
              "      \n",
              "  <style>\n",
              "    .colab-df-container {\n",
              "      display:flex;\n",
              "      flex-wrap:wrap;\n",
              "      gap: 12px;\n",
              "    }\n",
              "\n",
              "    .colab-df-convert {\n",
              "      background-color: #E8F0FE;\n",
              "      border: none;\n",
              "      border-radius: 50%;\n",
              "      cursor: pointer;\n",
              "      display: none;\n",
              "      fill: #1967D2;\n",
              "      height: 32px;\n",
              "      padding: 0 0 0 0;\n",
              "      width: 32px;\n",
              "    }\n",
              "\n",
              "    .colab-df-convert:hover {\n",
              "      background-color: #E2EBFA;\n",
              "      box-shadow: 0px 1px 2px rgba(60, 64, 67, 0.3), 0px 1px 3px 1px rgba(60, 64, 67, 0.15);\n",
              "      fill: #174EA6;\n",
              "    }\n",
              "\n",
              "    [theme=dark] .colab-df-convert {\n",
              "      background-color: #3B4455;\n",
              "      fill: #D2E3FC;\n",
              "    }\n",
              "\n",
              "    [theme=dark] .colab-df-convert:hover {\n",
              "      background-color: #434B5C;\n",
              "      box-shadow: 0px 1px 3px 1px rgba(0, 0, 0, 0.15);\n",
              "      filter: drop-shadow(0px 1px 2px rgba(0, 0, 0, 0.3));\n",
              "      fill: #FFFFFF;\n",
              "    }\n",
              "  </style>\n",
              "\n",
              "      <script>\n",
              "        const buttonEl =\n",
              "          document.querySelector('#df-454c1890-d4f4-4d9c-a68b-068f9f36d5f7 button.colab-df-convert');\n",
              "        buttonEl.style.display =\n",
              "          google.colab.kernel.accessAllowed ? 'block' : 'none';\n",
              "\n",
              "        async function convertToInteractive(key) {\n",
              "          const element = document.querySelector('#df-454c1890-d4f4-4d9c-a68b-068f9f36d5f7');\n",
              "          const dataTable =\n",
              "            await google.colab.kernel.invokeFunction('convertToInteractive',\n",
              "                                                     [key], {});\n",
              "          if (!dataTable) return;\n",
              "\n",
              "          const docLinkHtml = 'Like what you see? Visit the ' +\n",
              "            '<a target=\"_blank\" href=https://colab.research.google.com/notebooks/data_table.ipynb>data table notebook</a>'\n",
              "            + ' to learn more about interactive tables.';\n",
              "          element.innerHTML = '';\n",
              "          dataTable['output_type'] = 'display_data';\n",
              "          await google.colab.output.renderOutput(dataTable, element);\n",
              "          const docLink = document.createElement('div');\n",
              "          docLink.innerHTML = docLinkHtml;\n",
              "          element.appendChild(docLink);\n",
              "        }\n",
              "      </script>\n",
              "    </div>\n",
              "  </div>\n",
              "  "
            ]
          },
          "metadata": {},
          "execution_count": 22
        }
      ]
    },
    {
      "cell_type": "code",
      "source": [
        "groups_rolling = groups_percentage.groupby('group').rolling(7).mean().reset_index()\n",
        "groups_rolling = pd.merge(groups_rolling, groups_percentage[['date']], how='left', left_on='level_1', right_index=True)\n",
        "groups_rolling.head()"
      ],
      "metadata": {
        "colab": {
          "base_uri": "https://localhost:8080/",
          "height": 206
        },
        "id": "sqyIe4TI8sh_",
        "outputId": "3a6ead9d-29f7-4f82-8138-eaef9d17c6f0"
      },
      "execution_count": null,
      "outputs": [
        {
          "output_type": "execute_result",
          "data": {
            "text/plain": [
              "   group  level_1  percentage        date\n",
              "0      0        0         NaN  2020-05-29\n",
              "1      0        3         NaN  2020-05-30\n",
              "2      0        6         NaN  2020-05-31\n",
              "3      0        9         NaN  2020-06-01\n",
              "4      0       12         NaN  2020-06-02"
            ],
            "text/html": [
              "\n",
              "  <div id=\"df-9e2bfbc3-5ac2-4ea6-a0f7-a63a379f451b\">\n",
              "    <div class=\"colab-df-container\">\n",
              "      <div>\n",
              "<style scoped>\n",
              "    .dataframe tbody tr th:only-of-type {\n",
              "        vertical-align: middle;\n",
              "    }\n",
              "\n",
              "    .dataframe tbody tr th {\n",
              "        vertical-align: top;\n",
              "    }\n",
              "\n",
              "    .dataframe thead th {\n",
              "        text-align: right;\n",
              "    }\n",
              "</style>\n",
              "<table border=\"1\" class=\"dataframe\">\n",
              "  <thead>\n",
              "    <tr style=\"text-align: right;\">\n",
              "      <th></th>\n",
              "      <th>group</th>\n",
              "      <th>level_1</th>\n",
              "      <th>percentage</th>\n",
              "      <th>date</th>\n",
              "    </tr>\n",
              "  </thead>\n",
              "  <tbody>\n",
              "    <tr>\n",
              "      <th>0</th>\n",
              "      <td>0</td>\n",
              "      <td>0</td>\n",
              "      <td>NaN</td>\n",
              "      <td>2020-05-29</td>\n",
              "    </tr>\n",
              "    <tr>\n",
              "      <th>1</th>\n",
              "      <td>0</td>\n",
              "      <td>3</td>\n",
              "      <td>NaN</td>\n",
              "      <td>2020-05-30</td>\n",
              "    </tr>\n",
              "    <tr>\n",
              "      <th>2</th>\n",
              "      <td>0</td>\n",
              "      <td>6</td>\n",
              "      <td>NaN</td>\n",
              "      <td>2020-05-31</td>\n",
              "    </tr>\n",
              "    <tr>\n",
              "      <th>3</th>\n",
              "      <td>0</td>\n",
              "      <td>9</td>\n",
              "      <td>NaN</td>\n",
              "      <td>2020-06-01</td>\n",
              "    </tr>\n",
              "    <tr>\n",
              "      <th>4</th>\n",
              "      <td>0</td>\n",
              "      <td>12</td>\n",
              "      <td>NaN</td>\n",
              "      <td>2020-06-02</td>\n",
              "    </tr>\n",
              "  </tbody>\n",
              "</table>\n",
              "</div>\n",
              "      <button class=\"colab-df-convert\" onclick=\"convertToInteractive('df-9e2bfbc3-5ac2-4ea6-a0f7-a63a379f451b')\"\n",
              "              title=\"Convert this dataframe to an interactive table.\"\n",
              "              style=\"display:none;\">\n",
              "        \n",
              "  <svg xmlns=\"http://www.w3.org/2000/svg\" height=\"24px\"viewBox=\"0 0 24 24\"\n",
              "       width=\"24px\">\n",
              "    <path d=\"M0 0h24v24H0V0z\" fill=\"none\"/>\n",
              "    <path d=\"M18.56 5.44l.94 2.06.94-2.06 2.06-.94-2.06-.94-.94-2.06-.94 2.06-2.06.94zm-11 1L8.5 8.5l.94-2.06 2.06-.94-2.06-.94L8.5 2.5l-.94 2.06-2.06.94zm10 10l.94 2.06.94-2.06 2.06-.94-2.06-.94-.94-2.06-.94 2.06-2.06.94z\"/><path d=\"M17.41 7.96l-1.37-1.37c-.4-.4-.92-.59-1.43-.59-.52 0-1.04.2-1.43.59L10.3 9.45l-7.72 7.72c-.78.78-.78 2.05 0 2.83L4 21.41c.39.39.9.59 1.41.59.51 0 1.02-.2 1.41-.59l7.78-7.78 2.81-2.81c.8-.78.8-2.07 0-2.86zM5.41 20L4 18.59l7.72-7.72 1.47 1.35L5.41 20z\"/>\n",
              "  </svg>\n",
              "      </button>\n",
              "      \n",
              "  <style>\n",
              "    .colab-df-container {\n",
              "      display:flex;\n",
              "      flex-wrap:wrap;\n",
              "      gap: 12px;\n",
              "    }\n",
              "\n",
              "    .colab-df-convert {\n",
              "      background-color: #E8F0FE;\n",
              "      border: none;\n",
              "      border-radius: 50%;\n",
              "      cursor: pointer;\n",
              "      display: none;\n",
              "      fill: #1967D2;\n",
              "      height: 32px;\n",
              "      padding: 0 0 0 0;\n",
              "      width: 32px;\n",
              "    }\n",
              "\n",
              "    .colab-df-convert:hover {\n",
              "      background-color: #E2EBFA;\n",
              "      box-shadow: 0px 1px 2px rgba(60, 64, 67, 0.3), 0px 1px 3px 1px rgba(60, 64, 67, 0.15);\n",
              "      fill: #174EA6;\n",
              "    }\n",
              "\n",
              "    [theme=dark] .colab-df-convert {\n",
              "      background-color: #3B4455;\n",
              "      fill: #D2E3FC;\n",
              "    }\n",
              "\n",
              "    [theme=dark] .colab-df-convert:hover {\n",
              "      background-color: #434B5C;\n",
              "      box-shadow: 0px 1px 3px 1px rgba(0, 0, 0, 0.15);\n",
              "      filter: drop-shadow(0px 1px 2px rgba(0, 0, 0, 0.3));\n",
              "      fill: #FFFFFF;\n",
              "    }\n",
              "  </style>\n",
              "\n",
              "      <script>\n",
              "        const buttonEl =\n",
              "          document.querySelector('#df-9e2bfbc3-5ac2-4ea6-a0f7-a63a379f451b button.colab-df-convert');\n",
              "        buttonEl.style.display =\n",
              "          google.colab.kernel.accessAllowed ? 'block' : 'none';\n",
              "\n",
              "        async function convertToInteractive(key) {\n",
              "          const element = document.querySelector('#df-9e2bfbc3-5ac2-4ea6-a0f7-a63a379f451b');\n",
              "          const dataTable =\n",
              "            await google.colab.kernel.invokeFunction('convertToInteractive',\n",
              "                                                     [key], {});\n",
              "          if (!dataTable) return;\n",
              "\n",
              "          const docLinkHtml = 'Like what you see? Visit the ' +\n",
              "            '<a target=\"_blank\" href=https://colab.research.google.com/notebooks/data_table.ipynb>data table notebook</a>'\n",
              "            + ' to learn more about interactive tables.';\n",
              "          element.innerHTML = '';\n",
              "          dataTable['output_type'] = 'display_data';\n",
              "          await google.colab.output.renderOutput(dataTable, element);\n",
              "          const docLink = document.createElement('div');\n",
              "          docLink.innerHTML = docLinkHtml;\n",
              "          element.appendChild(docLink);\n",
              "        }\n",
              "      </script>\n",
              "    </div>\n",
              "  </div>\n",
              "  "
            ]
          },
          "metadata": {},
          "execution_count": 23
        }
      ]
    },
    {
      "cell_type": "code",
      "source": [
        "fig = px.line(groups_rolling, x=\"date\", y=\"percentage\", color='group', title='Group daily distribution')\n",
        "fig.show()"
      ],
      "metadata": {
        "colab": {
          "base_uri": "https://localhost:8080/",
          "height": 542
        },
        "id": "ZcevEDm48skd",
        "outputId": "c18deeed-90e2-40ea-8300-6f5e2890161e"
      },
      "execution_count": null,
      "outputs": [
        {
          "output_type": "display_data",
          "data": {
            "text/html": [
              "<html>\n",
              "<head><meta charset=\"utf-8\" /></head>\n",
              "<body>\n",
              "    <div>            <script src=\"https://cdnjs.cloudflare.com/ajax/libs/mathjax/2.7.5/MathJax.js?config=TeX-AMS-MML_SVG\"></script><script type=\"text/javascript\">if (window.MathJax) {MathJax.Hub.Config({SVG: {font: \"STIX-Web\"}});}</script>                <script type=\"text/javascript\">window.PlotlyConfig = {MathJaxConfig: 'local'};</script>\n",
              "        <script src=\"https://cdn.plot.ly/plotly-2.8.3.min.js\"></script>                <div id=\"b6283744-5bc0-4825-b453-206a61dca244\" class=\"plotly-graph-div\" style=\"height:525px; width:100%;\"></div>            <script type=\"text/javascript\">                                    window.PLOTLYENV=window.PLOTLYENV || {};                                    if (document.getElementById(\"b6283744-5bc0-4825-b453-206a61dca244\")) {                    Plotly.newPlot(                        \"b6283744-5bc0-4825-b453-206a61dca244\",                        [{\"hovertemplate\":\"group=0<br>date=%{x}<br>percentage=%{y}<extra></extra>\",\"legendgroup\":\"0\",\"line\":{\"color\":\"#636efa\",\"dash\":\"solid\"},\"marker\":{\"symbol\":\"circle\"},\"mode\":\"lines\",\"name\":\"0\",\"showlegend\":true,\"x\":[\"2020-05-29\",\"2020-05-30\",\"2020-05-31\",\"2020-06-01\",\"2020-06-02\",\"2020-06-03\",\"2020-06-04\",\"2020-06-05\",\"2020-06-06\",\"2020-06-07\",\"2020-06-08\",\"2020-06-09\",\"2020-06-10\",\"2020-06-11\",\"2020-06-12\",\"2020-06-13\",\"2020-06-14\",\"2020-06-15\",\"2020-06-16\",\"2020-06-17\",\"2020-06-18\",\"2020-06-19\",\"2020-06-20\",\"2020-06-21\",\"2020-06-22\",\"2020-06-23\",\"2020-06-24\",\"2020-06-25\",\"2020-06-26\",\"2020-06-27\",\"2020-06-28\",\"2020-06-29\",\"2020-06-30\",\"2020-07-01\",\"2020-07-02\",\"2020-07-03\",\"2020-07-04\",\"2020-07-05\",\"2020-07-06\",\"2020-07-07\",\"2020-07-08\",\"2020-07-09\",\"2020-07-10\",\"2020-07-11\",\"2020-07-12\",\"2020-07-13\",\"2020-07-14\",\"2020-07-15\",\"2020-07-16\",\"2020-07-17\",\"2020-07-18\",\"2020-07-19\",\"2020-07-20\",\"2020-07-21\",\"2020-07-22\",\"2020-07-23\",\"2020-07-24\",\"2020-07-25\",\"2020-07-26\",\"2020-07-27\",\"2020-07-28\",\"2020-07-29\",\"2020-07-30\",\"2020-07-31\",\"2020-08-01\",\"2020-08-02\",\"2020-08-03\",\"2020-08-04\",\"2020-08-05\",\"2020-08-06\",\"2020-08-07\",\"2020-08-08\",\"2020-08-09\",\"2020-08-10\",\"2020-08-11\",\"2020-08-12\",\"2020-08-13\",\"2020-08-14\",\"2020-08-15\",\"2020-08-16\",\"2020-08-17\",\"2020-08-18\",\"2020-08-19\",\"2020-08-20\",\"2020-08-21\",\"2020-08-22\",\"2020-08-23\",\"2020-08-24\",\"2020-08-25\",\"2020-08-26\",\"2020-08-27\",\"2020-08-28\",\"2020-08-29\",\"2020-08-30\",\"2020-08-31\",\"2020-09-01\",\"2020-09-02\",\"2020-09-03\",\"2020-09-04\",\"2020-09-05\",\"2020-09-06\",\"2020-09-07\",\"2020-09-08\",\"2020-09-09\",\"2020-09-10\",\"2020-09-11\",\"2020-09-12\",\"2020-09-13\",\"2020-09-14\",\"2020-09-15\",\"2020-09-16\",\"2020-09-17\",\"2020-09-18\",\"2020-09-19\",\"2020-09-20\",\"2020-09-21\",\"2020-09-22\",\"2020-09-23\",\"2020-09-24\",\"2020-09-25\",\"2020-09-26\",\"2020-09-27\",\"2020-09-28\",\"2020-09-29\",\"2020-09-30\",\"2020-10-01\",\"2020-10-02\",\"2020-10-03\",\"2020-10-04\",\"2020-10-05\",\"2020-10-06\",\"2020-10-07\",\"2020-10-08\",\"2020-10-09\",\"2020-10-10\",\"2020-10-11\",\"2020-10-12\",\"2020-10-13\",\"2020-10-14\",\"2020-10-15\",\"2020-10-16\",\"2020-10-17\",\"2020-10-18\",\"2020-10-19\",\"2020-10-20\",\"2020-10-21\",\"2020-10-22\",\"2020-10-23\",\"2020-10-24\",\"2020-10-25\",\"2020-10-26\",\"2020-10-27\",\"2020-10-28\",\"2020-10-29\",\"2020-10-30\",\"2020-10-31\",\"2020-11-01\",\"2020-11-02\",\"2020-11-03\",\"2020-11-04\",\"2020-11-05\",\"2020-11-06\",\"2020-11-07\",\"2020-11-08\",\"2020-11-09\",\"2020-11-10\",\"2020-11-11\",\"2020-11-12\",\"2020-11-13\",\"2020-11-14\",\"2020-11-15\",\"2020-11-16\",\"2020-11-17\",\"2020-11-18\",\"2020-11-19\",\"2020-11-20\",\"2020-11-21\",\"2020-11-22\",\"2020-11-23\",\"2020-11-24\",\"2020-11-25\",\"2020-11-26\",\"2020-11-27\",\"2020-11-28\",\"2020-11-29\",\"2020-11-30\",\"2020-12-01\",\"2020-12-02\",\"2020-12-03\",\"2020-12-04\",\"2020-12-05\",\"2020-12-06\",\"2020-12-07\",\"2020-12-08\",\"2020-12-09\",\"2020-12-10\",\"2020-12-11\",\"2020-12-12\",\"2020-12-13\",\"2020-12-14\",\"2020-12-15\",\"2020-12-16\",\"2020-12-17\",\"2020-12-18\",\"2020-12-19\",\"2020-12-20\",\"2020-12-21\",\"2020-12-22\",\"2020-12-23\",\"2020-12-24\",\"2020-12-25\",\"2020-12-26\",\"2020-12-27\",\"2020-12-28\",\"2020-12-29\",\"2020-12-30\",\"2020-12-31\",\"2021-01-01\",\"2021-01-02\",\"2021-01-03\",\"2021-01-04\",\"2021-01-05\",\"2021-01-06\",\"2021-01-07\",\"2021-01-08\",\"2021-01-09\",\"2021-01-10\",\"2021-01-11\",\"2021-01-12\",\"2021-01-13\",\"2021-01-14\",\"2021-01-15\",\"2021-01-16\",\"2021-01-17\",\"2021-01-18\",\"2021-01-19\",\"2021-01-20\",\"2021-01-21\",\"2021-01-22\",\"2021-01-23\",\"2021-01-24\",\"2021-01-25\",\"2021-01-26\",\"2021-01-27\",\"2021-01-28\",\"2021-01-29\",\"2021-01-30\",\"2021-01-31\",\"2021-02-01\",\"2021-02-02\",\"2021-02-03\",\"2021-02-04\",\"2021-02-05\",\"2021-02-06\",\"2021-02-07\",\"2021-02-08\",\"2021-02-09\",\"2021-02-10\",\"2021-02-11\",\"2021-02-12\",\"2021-02-13\",\"2021-02-14\",\"2021-02-15\",\"2021-02-16\",\"2021-02-17\",\"2021-02-18\",\"2021-02-19\",\"2021-02-20\",\"2021-02-21\",\"2021-02-22\",\"2021-02-23\",\"2021-02-24\",\"2021-02-25\",\"2021-02-26\",\"2021-02-27\",\"2021-02-28\",\"2021-03-01\",\"2021-03-02\",\"2021-03-03\",\"2021-03-04\",\"2021-03-05\",\"2021-03-06\",\"2021-03-07\",\"2021-03-08\",\"2021-03-09\",\"2021-03-10\",\"2021-03-11\",\"2021-03-12\",\"2021-03-13\",\"2021-03-14\",\"2021-03-15\",\"2021-03-16\",\"2021-03-17\",\"2021-03-18\",\"2021-03-19\",\"2021-03-20\",\"2021-03-21\",\"2021-03-22\",\"2021-03-23\",\"2021-03-24\",\"2021-03-25\",\"2021-03-26\",\"2021-03-27\",\"2021-03-28\",\"2021-03-29\",\"2021-03-30\",\"2021-03-31\",\"2021-04-01\",\"2021-04-02\",\"2021-04-03\",\"2021-04-04\",\"2021-04-05\",\"2021-04-06\",\"2021-04-07\",\"2021-04-08\",\"2021-04-09\",\"2021-04-10\",\"2021-04-11\",\"2021-04-12\",\"2021-04-13\",\"2021-04-14\",\"2021-04-15\",\"2021-04-16\",\"2021-04-17\",\"2021-04-18\",\"2021-04-19\",\"2021-04-20\",\"2021-04-21\",\"2021-04-22\",\"2021-04-23\",\"2021-04-24\",\"2021-04-25\",\"2021-04-26\",\"2021-04-27\",\"2021-04-28\",\"2021-04-29\",\"2021-04-30\",\"2021-05-01\",\"2021-05-02\",\"2021-05-03\",\"2021-05-04\",\"2021-05-05\",\"2021-05-06\",\"2021-05-07\",\"2021-05-08\",\"2021-05-09\",\"2021-05-10\",\"2021-05-11\",\"2021-05-12\",\"2021-05-13\",\"2021-05-14\",\"2021-05-15\",\"2021-05-16\",\"2021-05-17\",\"2021-05-18\",\"2021-05-19\",\"2021-05-20\",\"2021-05-21\",\"2021-05-22\",\"2021-05-23\",\"2021-05-24\",\"2021-05-25\",\"2021-05-26\",\"2021-05-27\",\"2021-05-28\",\"2021-05-29\",\"2021-05-30\",\"2021-05-31\",\"2021-06-01\",\"2021-06-02\",\"2021-06-03\",\"2021-06-04\",\"2021-06-05\",\"2021-06-06\",\"2021-06-07\",\"2021-06-08\",\"2021-06-09\",\"2021-06-10\",\"2021-06-11\",\"2021-06-12\",\"2021-06-13\",\"2021-06-14\",\"2021-06-15\",\"2021-06-16\",\"2021-06-17\",\"2021-06-18\",\"2021-06-19\",\"2021-06-20\",\"2021-06-21\",\"2021-06-22\",\"2021-06-23\",\"2021-06-24\",\"2021-06-25\",\"2021-06-26\",\"2021-06-27\",\"2021-06-28\",\"2021-06-29\",\"2021-06-30\",\"2021-07-01\",\"2021-07-02\",\"2021-07-03\",\"2021-07-04\",\"2021-07-05\",\"2021-07-06\",\"2021-07-07\",\"2021-07-08\",\"2021-07-09\",\"2021-07-10\",\"2021-07-11\",\"2021-07-12\",\"2021-07-13\",\"2021-07-14\",\"2021-07-15\",\"2021-07-16\",\"2021-07-17\",\"2021-07-18\",\"2021-07-19\",\"2021-07-20\",\"2021-07-21\",\"2021-07-22\",\"2021-07-23\",\"2021-07-24\",\"2021-07-25\",\"2021-07-26\",\"2021-07-27\",\"2021-07-28\",\"2021-07-29\",\"2021-07-30\",\"2021-07-31\",\"2021-08-01\",\"2021-08-02\",\"2021-08-03\",\"2021-08-04\",\"2021-08-05\",\"2021-08-06\",\"2021-08-07\",\"2021-08-08\",\"2021-08-09\",\"2021-08-10\",\"2021-08-11\",\"2021-08-12\",\"2021-08-13\",\"2021-08-14\",\"2021-08-15\",\"2021-08-16\",\"2021-08-17\",\"2021-08-18\",\"2021-08-19\",\"2021-08-20\",\"2021-08-21\",\"2021-08-22\",\"2021-08-23\",\"2021-08-24\",\"2021-08-25\",\"2021-08-26\",\"2021-08-27\",\"2021-08-28\",\"2021-08-29\",\"2021-08-30\",\"2021-08-31\",\"2021-09-01\",\"2021-09-02\",\"2021-09-03\",\"2021-09-04\",\"2021-09-05\",\"2021-09-06\",\"2021-09-07\",\"2021-09-08\",\"2021-09-09\",\"2021-09-10\",\"2021-09-11\",\"2021-09-12\",\"2021-09-13\",\"2021-09-14\",\"2021-09-15\",\"2021-09-16\",\"2021-09-17\",\"2021-09-18\",\"2021-09-19\",\"2021-09-20\",\"2021-09-21\",\"2021-09-22\",\"2021-09-23\",\"2021-09-24\",\"2021-09-25\",\"2021-09-26\",\"2021-09-27\",\"2021-09-28\",\"2021-09-29\",\"2021-09-30\",\"2021-10-01\",\"2021-10-02\",\"2021-10-03\",\"2021-10-04\",\"2021-10-05\",\"2021-10-06\",\"2021-10-07\",\"2021-10-08\",\"2021-10-09\",\"2021-10-10\",\"2021-10-11\",\"2021-10-12\",\"2021-10-13\",\"2021-10-14\",\"2021-10-15\",\"2021-10-16\",\"2021-10-17\",\"2021-10-18\",\"2021-10-19\",\"2021-10-20\",\"2021-10-21\",\"2021-10-22\",\"2021-10-23\",\"2021-10-24\",\"2021-10-25\",\"2021-10-26\",\"2021-10-27\",\"2021-10-28\",\"2021-10-29\",\"2021-10-30\",\"2021-10-31\",\"2021-11-01\",\"2021-11-02\",\"2021-11-03\",\"2021-11-04\",\"2021-11-05\",\"2021-11-06\",\"2021-11-07\",\"2021-11-08\",\"2021-11-09\",\"2021-11-10\",\"2021-11-11\",\"2021-11-12\",\"2021-11-13\",\"2021-11-14\",\"2021-11-15\",\"2021-11-16\",\"2021-11-17\",\"2021-11-18\",\"2021-11-19\",\"2021-11-20\",\"2021-11-21\",\"2021-11-22\",\"2021-11-23\",\"2021-11-24\",\"2021-11-25\",\"2021-11-26\",\"2021-11-27\",\"2021-11-28\",\"2021-11-29\",\"2021-11-30\",\"2021-12-01\"],\"xaxis\":\"x\",\"y\":[null,null,null,null,null,null,0.3402736278405564,0.3468667361032724,0.3446324206620431,0.3407506642085934,0.3432211970972186,0.34913277726622455,0.35040914635689396,0.3546021586634965,0.353118624993538,0.3498359954141491,0.3526716191287889,0.3518011785901832,0.34156321511480964,0.3338731504673924,0.3327452722604067,0.33145039911586516,0.33706631729001557,0.3370458212867362,0.3367523194181076,0.33853941617489797,0.3343723306214647,0.33226814677285893,0.33518500685139463,0.3218899077898722,0.31419584255882177,0.3080913203060927,0.3098346088885264,0.3066202773338021,0.29970072629660394,0.2847166356278353,0.28927365131244737,0.2945963123904883,0.2935026844471783,0.28624881419565007,0.28663515741218193,0.29027454128412394,0.29512542963470034,0.29444104734079396,0.29569249131460984,0.29687003365889764,0.2981564858099354,0.30422791438136404,0.2979320960348057,0.30039726236756925,0.2971468290764156,0.28734706011222616,0.2825940112922264,0.28114027911442374,0.27944793551031544,0.27964312155594134,0.27557382011935466,0.2771130033051052,0.2810576626977908,0.2853066118373427,0.28080989789752947,0.2715995135762968,0.2682799574439948,0.2655968124728589,0.2655721813243085,0.2651335325165482,0.26381891384207423,0.2678054237002548,0.2767751619348741,0.29180095879200624,0.30015303800350485,0.30240225077903343,0.30288753192124895,0.30238382582748075,0.3012041819954256,0.30071417646575427,0.2920103097110401,0.2931440965591126,0.2950305330805237,0.29430061783447936,0.30152387449357176,0.3021701231493745,0.3059043071809563,0.3050402061859653,0.2990637265252751,0.300966884471962,0.31007970122017386,0.30846744743669713,0.3055610796109744,0.3049032009043152,0.3063235110792088,0.3009743794142877,0.29635155002642966,0.2814158053942377,0.2782758683262289,0.2864332055616887,0.2783133123326813,0.2725722149997631,0.2820592530582297,0.2856493802085663,0.29446521458463265,0.2911332432563426,0.29010540578712873,0.2943252356648533,0.3046706137344564,0.3066862094834563,0.3082819541643074,0.31069671759602,0.31625634054833995,0.3250449849670507,0.33476932925021846,0.34112803540108166,0.34738601935423297,0.35284271590303834,0.35691635475928585,0.3646831557471969,0.3615317984251192,0.3672413815284335,0.3650677897313991,0.3669364606392159,0.37490864995143136,0.3781167922087407,0.3848438484652199,0.3886584091827201,0.38341567948743566,0.38032716763916036,0.37558554503949415,0.36068197987292494,0.35598293815672893,0.3499513782179678,0.3557953544376991,0.35660548241045686,0.3576986785886045,0.3513472235665073,0.3565759524298878,0.35191019457940176,0.34590744683064717,0.33387677325055687,0.33056924992326087,0.3247439514843261,0.32240978334855847,0.315274274824161,0.3174812586186429,0.3167223893338772,0.31694741318640557,0.32852286898886723,0.3333717680961396,0.3436713199477003,0.3494382988704169,0.36589489799694863,0.3737226866466551,0.3839289608194097,0.37916421990219706,0.3798414855854892,0.3739547700946206,0.3778076068401068,0.3741017352469112,0.3706859350347523,0.37111421398014155,0.36462650871340113,0.3682425850808881,0.382273330454917,0.38727215885451083,0.3849956118720815,0.38684495149517,0.37996004900454966,0.39247942051909096,0.39273335827002614,0.38777885331552114,0.38671062941579176,0.38619384516198324,0.3808964654337167,0.3797981439240027,0.3656769164660235,0.3663413839813197,0.36120428562388235,0.3566252084840444,0.35330259381052187,0.35753649926755554,0.3587825358396791,0.3618643330747021,0.36422794438772976,0.36655153096304544,0.3691131946393031,0.363368329604283,0.3631830071432007,0.3555576516917583,0.3527624255611051,0.34536893753678477,0.34872959692487754,0.3450793227526559,0.34689684365414625,0.3496765201180333,0.3578665283080415,0.3676159797908074,0.3754541593104029,0.3737022623793817,0.38363186983687575,0.390724068418436,0.38794439195454905,0.3867551050509764,0.3883519343489117,0.38726066450764185,0.3881320339812398,0.38077738146529694,0.3908172481744422,0.39258127362267814,0.40584811882229654,0.3960936480231802,0.3900420607215929,0.3886679145494097,0.39056016705158353,0.3825393274786019,0.3788883452561911,0.3678930380423965,0.37794385678886744,0.3967269255719362,0.3968716643184987,0.3966417851327818,0.39111252317401274,0.39751075814367637,0.4021245653890625,0.39506920939753637,0.3877545526804892,0.39278777984418706,0.39281757899789105,0.40485587608212686,0.4155996777350195,0.4106190057159889,0.4143490246242162,0.4162038141792686,0.4141412075782062,0.4243250071254224,0.41529035925082336,0.4073340140439238,0.4186830660292636,0.4195200517692493,0.41686221218340036,0.4230378338497138,0.420108936263282,0.42624910326184956,0.42543209016561023,0.41763414350277633,0.41807454279813744,0.4082749816287133,0.40125458973990036,0.3930922825635087,0.3894367973809299,0.3898030507916648,0.3957919863901491,0.38933120579143754,0.39046779584016145,0.38800600865615203,0.39147940377136886,0.3908340174116968,0.38662036548958156,0.377171321419309,0.3812757627051595,0.3871551451896495,0.3899049508068386,0.39014997930752215,0.3894228868511064,0.3915493741399944,0.3950094826117826,0.4014350609562887,0.4026665880498848,0.402207524187039,0.40551587661199917,0.40720773200500887,0.4030697806047128,0.41216135947452787,0.4072652773830301,0.40146708283710414,0.4018747291832874,0.3927082858705027,0.39014700624305243,0.38988796007829907,0.3817246947721767,0.3817492427819468,0.38095514523862317,0.3926409168214016,0.40628403100429983,0.4160622819273106,0.4129975420946409,0.41381721422578843,0.4147843444407062,0.4176569220431758,0.40853820723884227,0.392863210884689,0.3683890734036096,0.37841400998420793,0.37228460333978614,0.3648476285498701,0.3621130623563437,0.36228559513757214,0.36709417137471984,0.38586999428768115,0.3749827288160499,0.3768048711093376,0.3773370839944917,0.38271377846790144,0.37128049228214,0.3704931862191967,0.3647869389625848,0.3706636709262733,0.36439171576295015,0.3656510824537889,0.34909002254595484,0.35075872874241726,0.3397870616090516,0.340281039104356,0.338265069462487,0.3322778635990436,0.32718653480399135,0.3412168849757017,0.33854760253113836,0.33306995134796574,0.3230803723333651,0.3105987913331051,0.3104908790142101,0.312821009616592,0.30557855332954975,0.3133148610658575,0.3209392591396938,0.3238113157186258,0.33770211115277254,0.34331146647311056,0.33716800363673427,0.33539071614516114,0.3275569425219138,0.33114213777445917,0.3234245927434813,0.3061920443978742,0.30821817656099265,0.31345477926720783,0.3091555204137783,0.30798514163664675,0.3071442119047352,0.3234875788016076,0.3300578965639181,0.32270640193258,0.31211737787313,0.3094793985544545,0.3059853384566208,0.3041570475329582,0.2955096883320935,0.2971297864257041,0.2888153495398386,0.295549328967545,0.29600130636867494,0.29176850213587074,0.28707428331121715,0.27644164109962754,0.26933500709127894,0.280843553162037,0.2830299084733923,0.2838462350040046,0.29232347205267023,0.2960941089986626,0.2983435999699581,0.29216355102256186,0.29117605925165996,0.2772680922186929,0.27096219907491853,0.27577718539041873,0.26605955426213806,0.27665375610057946,0.2801367296616438,0.2740267266811546,0.28950689868306567,0.2932170166746739,0.2757278603000158,0.2794278477576854,0.25839637408379584,0.25609294942012273,0.2541384362715797,0.23787333491331067,0.2342848181668992,0.23163651308215344,0.23501024118665806,0.24982329278514928,0.25573200395701834,0.24783726711491308,0.24763810593494165,0.24451867634492383,0.2549353430115905,0.2522228656155688,0.2488297011208552,0.242252281963205,0.2522670448979391,0.25852364070677375,0.26830567852189974,0.2716939569101781,0.26728679873667843,0.25385691065241245,0.24590437434815948,0.23958266758326177,0.24078221786256665,0.23282090833875713,0.22696456955558908,0.2320875203752612,0.23317046968401697,0.24514753128335678,0.24375540816905078,0.23270459803848606,0.23659460474539418,0.2222407189705116,0.2050481623362074,0.2070331662825373,0.19253417116338714,0.18857063088557569,0.1838558218850524,0.17553421594885718,0.17334959397413027,0.18667310298938686,0.19242101829771532,0.19952968186896394,0.20664084198031699,0.2160585751752899,0.21999756356713854,0.22782526992301985,0.23027092209693287,0.2138740502145913,0.2166523043733977,0.21444010323326324,0.2135536900807582,0.20864947552137122,0.20949807617327637,0.20620782940476873,0.21374082965149954,0.2051998694077529,0.2001179947606609,0.2009437585922051,0.2052120400859201,0.19691710921034405,0.19056458462577527,0.1920980025614775,0.19648396747375818,0.19701951440105767,0.1984717197599802,0.19342990819696046,0.20015033830448734,0.19734158893904977,0.19699530315958083,0.19862929008768543,0.20199833530027217,0.19116742152348035,0.18781396746580095,0.19444020286562122,0.18959392087258778,0.18018014900386572,0.17065056397397746,0.164916815075357,0.17030735641670253,0.16958585569520176,0.16304846180213345,0.1662236370803903,0.18035134411636022,0.19221519618639787,0.19226387535820288,0.18856711129277523,0.1940505167761807,0.18155624580792454,0.18540841791769574,0.1868894701086871,0.18647984389260922,0.19175058121979818,0.19723743597562485,0.19842791216610103,0.20386778944928713,0.19739207957600471,0.18412227890211197,0.17398403005418572,0.1610702669879836,0.16531050183175958,0.16196738376261413,0.1638963059043022,0.16934941632978834,0.17258756206528297,0.17488564598475906,0.1889473682346346,0.17768418032474012,0.1699728766251781,0.1728165242056678,0.17168721872853623,0.17225342081912856,0.17012950867656745,0.1587789010177736,0.15999544602993904,0.16384435401418537,0.1574081451488267,0.1486147890179034,0.14389540126280137,0.13587420765032068,0.14080611879825214,0.13794753766129192,0.1426020310375898,0.14094983707770353,0.1391841869974467,0.13982194209948753,0.15325652153873986,0.15721730057604352,0.15729805645103342,0.14375176837058384,0.14032261325603548,0.14545437469847652,0.14142044405304763,0.13331604844865202,0.12540919009061832,0.12874730047546226,0.13577235937458412,0.1338886455398999,0.14429848535334583,0.1471975132187651,0.14835746437871625,0.15285690194901996,0.1519365295049709,0.16267544576112855,0.17922976143567884,0.1682926466024601,0.1648451608715098,0.16856795583141818,0.1708480762217748,0.1858646344038006,0.18300749154665774,0.17847600153129675,0.17744294368005709,0.1767702301502007,0.18266697691100137,0.17625850658500525,0.1603854907119894,0.15222222540586694,0.1516727748564164,0.15830542791764088,0.1714009038702597,0.16955913992732843,0.17933572000441303,0.18868946150101165,0.20169143648455345,0.21259526134186668,0.21245611477414866,0.21542320756160074,0.20854148713149323,0.20696840549122233,0.19843568205702108,0.18994248732976785,0.1872322232975944,0.18526963364843757,0.18094527743475658,0.19439598443385067,0.19288485366575395,0.2083717286235783],\"yaxis\":\"y\",\"type\":\"scattergl\"},{\"hovertemplate\":\"group=1<br>date=%{x}<br>percentage=%{y}<extra></extra>\",\"legendgroup\":\"1\",\"line\":{\"color\":\"#EF553B\",\"dash\":\"solid\"},\"marker\":{\"symbol\":\"circle\"},\"mode\":\"lines\",\"name\":\"1\",\"showlegend\":true,\"x\":[\"2020-05-29\",\"2020-05-30\",\"2020-05-31\",\"2020-06-01\",\"2020-06-02\",\"2020-06-03\",\"2020-06-04\",\"2020-06-05\",\"2020-06-06\",\"2020-06-07\",\"2020-06-08\",\"2020-06-09\",\"2020-06-10\",\"2020-06-11\",\"2020-06-12\",\"2020-06-13\",\"2020-06-14\",\"2020-06-15\",\"2020-06-16\",\"2020-06-17\",\"2020-06-18\",\"2020-06-19\",\"2020-06-20\",\"2020-06-21\",\"2020-06-22\",\"2020-06-23\",\"2020-06-24\",\"2020-06-25\",\"2020-06-26\",\"2020-06-27\",\"2020-06-28\",\"2020-06-29\",\"2020-06-30\",\"2020-07-01\",\"2020-07-02\",\"2020-07-03\",\"2020-07-04\",\"2020-07-05\",\"2020-07-06\",\"2020-07-07\",\"2020-07-08\",\"2020-07-09\",\"2020-07-10\",\"2020-07-11\",\"2020-07-12\",\"2020-07-13\",\"2020-07-14\",\"2020-07-15\",\"2020-07-16\",\"2020-07-17\",\"2020-07-18\",\"2020-07-19\",\"2020-07-20\",\"2020-07-21\",\"2020-07-22\",\"2020-07-23\",\"2020-07-24\",\"2020-07-25\",\"2020-07-26\",\"2020-07-27\",\"2020-07-28\",\"2020-07-29\",\"2020-07-30\",\"2020-07-31\",\"2020-08-01\",\"2020-08-02\",\"2020-08-03\",\"2020-08-04\",\"2020-08-05\",\"2020-08-06\",\"2020-08-07\",\"2020-08-08\",\"2020-08-09\",\"2020-08-10\",\"2020-08-11\",\"2020-08-12\",\"2020-08-13\",\"2020-08-14\",\"2020-08-15\",\"2020-08-16\",\"2020-08-17\",\"2020-08-18\",\"2020-08-19\",\"2020-08-20\",\"2020-08-21\",\"2020-08-22\",\"2020-08-23\",\"2020-08-24\",\"2020-08-25\",\"2020-08-26\",\"2020-08-27\",\"2020-08-28\",\"2020-08-29\",\"2020-08-30\",\"2020-08-31\",\"2020-09-01\",\"2020-09-02\",\"2020-09-03\",\"2020-09-04\",\"2020-09-05\",\"2020-09-06\",\"2020-09-07\",\"2020-09-08\",\"2020-09-09\",\"2020-09-10\",\"2020-09-11\",\"2020-09-12\",\"2020-09-13\",\"2020-09-14\",\"2020-09-15\",\"2020-09-16\",\"2020-09-17\",\"2020-09-18\",\"2020-09-19\",\"2020-09-20\",\"2020-09-21\",\"2020-09-22\",\"2020-09-23\",\"2020-09-24\",\"2020-09-25\",\"2020-09-26\",\"2020-09-27\",\"2020-09-28\",\"2020-09-29\",\"2020-09-30\",\"2020-10-01\",\"2020-10-02\",\"2020-10-03\",\"2020-10-04\",\"2020-10-05\",\"2020-10-06\",\"2020-10-07\",\"2020-10-08\",\"2020-10-09\",\"2020-10-10\",\"2020-10-11\",\"2020-10-12\",\"2020-10-13\",\"2020-10-14\",\"2020-10-15\",\"2020-10-16\",\"2020-10-17\",\"2020-10-18\",\"2020-10-19\",\"2020-10-20\",\"2020-10-21\",\"2020-10-22\",\"2020-10-23\",\"2020-10-24\",\"2020-10-25\",\"2020-10-26\",\"2020-10-27\",\"2020-10-28\",\"2020-10-29\",\"2020-10-30\",\"2020-10-31\",\"2020-11-01\",\"2020-11-02\",\"2020-11-03\",\"2020-11-04\",\"2020-11-05\",\"2020-11-06\",\"2020-11-07\",\"2020-11-08\",\"2020-11-09\",\"2020-11-10\",\"2020-11-11\",\"2020-11-12\",\"2020-11-13\",\"2020-11-14\",\"2020-11-15\",\"2020-11-16\",\"2020-11-17\",\"2020-11-18\",\"2020-11-19\",\"2020-11-20\",\"2020-11-21\",\"2020-11-22\",\"2020-11-23\",\"2020-11-24\",\"2020-11-25\",\"2020-11-26\",\"2020-11-27\",\"2020-11-28\",\"2020-11-29\",\"2020-11-30\",\"2020-12-01\",\"2020-12-02\",\"2020-12-03\",\"2020-12-04\",\"2020-12-05\",\"2020-12-06\",\"2020-12-07\",\"2020-12-08\",\"2020-12-09\",\"2020-12-10\",\"2020-12-11\",\"2020-12-12\",\"2020-12-13\",\"2020-12-14\",\"2020-12-15\",\"2020-12-16\",\"2020-12-17\",\"2020-12-18\",\"2020-12-19\",\"2020-12-20\",\"2020-12-21\",\"2020-12-22\",\"2020-12-23\",\"2020-12-24\",\"2020-12-25\",\"2020-12-26\",\"2020-12-27\",\"2020-12-28\",\"2020-12-29\",\"2020-12-30\",\"2020-12-31\",\"2021-01-01\",\"2021-01-02\",\"2021-01-03\",\"2021-01-04\",\"2021-01-05\",\"2021-01-06\",\"2021-01-07\",\"2021-01-08\",\"2021-01-09\",\"2021-01-10\",\"2021-01-11\",\"2021-01-12\",\"2021-01-13\",\"2021-01-14\",\"2021-01-15\",\"2021-01-16\",\"2021-01-17\",\"2021-01-18\",\"2021-01-19\",\"2021-01-20\",\"2021-01-21\",\"2021-01-22\",\"2021-01-23\",\"2021-01-24\",\"2021-01-25\",\"2021-01-26\",\"2021-01-27\",\"2021-01-28\",\"2021-01-29\",\"2021-01-30\",\"2021-01-31\",\"2021-02-01\",\"2021-02-02\",\"2021-02-03\",\"2021-02-04\",\"2021-02-05\",\"2021-02-06\",\"2021-02-07\",\"2021-02-08\",\"2021-02-09\",\"2021-02-10\",\"2021-02-11\",\"2021-02-12\",\"2021-02-13\",\"2021-02-14\",\"2021-02-15\",\"2021-02-16\",\"2021-02-17\",\"2021-02-18\",\"2021-02-19\",\"2021-02-20\",\"2021-02-21\",\"2021-02-22\",\"2021-02-23\",\"2021-02-24\",\"2021-02-25\",\"2021-02-26\",\"2021-02-27\",\"2021-02-28\",\"2021-03-01\",\"2021-03-02\",\"2021-03-03\",\"2021-03-04\",\"2021-03-05\",\"2021-03-06\",\"2021-03-07\",\"2021-03-08\",\"2021-03-09\",\"2021-03-10\",\"2021-03-11\",\"2021-03-12\",\"2021-03-13\",\"2021-03-14\",\"2021-03-15\",\"2021-03-16\",\"2021-03-17\",\"2021-03-18\",\"2021-03-19\",\"2021-03-20\",\"2021-03-21\",\"2021-03-22\",\"2021-03-23\",\"2021-03-24\",\"2021-03-25\",\"2021-03-26\",\"2021-03-27\",\"2021-03-28\",\"2021-03-29\",\"2021-03-30\",\"2021-03-31\",\"2021-04-01\",\"2021-04-02\",\"2021-04-03\",\"2021-04-04\",\"2021-04-05\",\"2021-04-06\",\"2021-04-07\",\"2021-04-08\",\"2021-04-09\",\"2021-04-10\",\"2021-04-11\",\"2021-04-12\",\"2021-04-13\",\"2021-04-14\",\"2021-04-15\",\"2021-04-16\",\"2021-04-17\",\"2021-04-18\",\"2021-04-19\",\"2021-04-20\",\"2021-04-21\",\"2021-04-22\",\"2021-04-23\",\"2021-04-24\",\"2021-04-25\",\"2021-04-26\",\"2021-04-27\",\"2021-04-28\",\"2021-04-29\",\"2021-04-30\",\"2021-05-01\",\"2021-05-02\",\"2021-05-03\",\"2021-05-04\",\"2021-05-05\",\"2021-05-06\",\"2021-05-07\",\"2021-05-08\",\"2021-05-09\",\"2021-05-10\",\"2021-05-11\",\"2021-05-12\",\"2021-05-13\",\"2021-05-14\",\"2021-05-15\",\"2021-05-16\",\"2021-05-17\",\"2021-05-18\",\"2021-05-19\",\"2021-05-20\",\"2021-05-21\",\"2021-05-22\",\"2021-05-23\",\"2021-05-24\",\"2021-05-25\",\"2021-05-26\",\"2021-05-27\",\"2021-05-28\",\"2021-05-29\",\"2021-05-30\",\"2021-05-31\",\"2021-06-01\",\"2021-06-02\",\"2021-06-03\",\"2021-06-04\",\"2021-06-05\",\"2021-06-06\",\"2021-06-07\",\"2021-06-08\",\"2021-06-09\",\"2021-06-10\",\"2021-06-11\",\"2021-06-12\",\"2021-06-13\",\"2021-06-14\",\"2021-06-15\",\"2021-06-16\",\"2021-06-17\",\"2021-06-18\",\"2021-06-19\",\"2021-06-20\",\"2021-06-21\",\"2021-06-22\",\"2021-06-23\",\"2021-06-24\",\"2021-06-25\",\"2021-06-26\",\"2021-06-27\",\"2021-06-28\",\"2021-06-29\",\"2021-06-30\",\"2021-07-01\",\"2021-07-02\",\"2021-07-03\",\"2021-07-04\",\"2021-07-05\",\"2021-07-06\",\"2021-07-07\",\"2021-07-08\",\"2021-07-09\",\"2021-07-10\",\"2021-07-11\",\"2021-07-12\",\"2021-07-13\",\"2021-07-14\",\"2021-07-15\",\"2021-07-16\",\"2021-07-17\",\"2021-07-18\",\"2021-07-19\",\"2021-07-20\",\"2021-07-21\",\"2021-07-22\",\"2021-07-23\",\"2021-07-24\",\"2021-07-25\",\"2021-07-26\",\"2021-07-27\",\"2021-07-28\",\"2021-07-29\",\"2021-07-30\",\"2021-07-31\",\"2021-08-01\",\"2021-08-02\",\"2021-08-03\",\"2021-08-04\",\"2021-08-05\",\"2021-08-06\",\"2021-08-07\",\"2021-08-08\",\"2021-08-09\",\"2021-08-10\",\"2021-08-11\",\"2021-08-12\",\"2021-08-13\",\"2021-08-14\",\"2021-08-15\",\"2021-08-16\",\"2021-08-17\",\"2021-08-18\",\"2021-08-19\",\"2021-08-20\",\"2021-08-21\",\"2021-08-22\",\"2021-08-23\",\"2021-08-24\",\"2021-08-25\",\"2021-08-26\",\"2021-08-27\",\"2021-08-28\",\"2021-08-29\",\"2021-08-30\",\"2021-08-31\",\"2021-09-01\",\"2021-09-02\",\"2021-09-03\",\"2021-09-04\",\"2021-09-05\",\"2021-09-06\",\"2021-09-07\",\"2021-09-08\",\"2021-09-09\",\"2021-09-10\",\"2021-09-11\",\"2021-09-12\",\"2021-09-13\",\"2021-09-14\",\"2021-09-15\",\"2021-09-16\",\"2021-09-17\",\"2021-09-18\",\"2021-09-19\",\"2021-09-20\",\"2021-09-21\",\"2021-09-22\",\"2021-09-23\",\"2021-09-24\",\"2021-09-25\",\"2021-09-26\",\"2021-09-27\",\"2021-09-28\",\"2021-09-29\",\"2021-09-30\",\"2021-10-01\",\"2021-10-02\",\"2021-10-03\",\"2021-10-04\",\"2021-10-05\",\"2021-10-06\",\"2021-10-07\",\"2021-10-08\",\"2021-10-09\",\"2021-10-10\",\"2021-10-11\",\"2021-10-12\",\"2021-10-13\",\"2021-10-14\",\"2021-10-15\",\"2021-10-16\",\"2021-10-17\",\"2021-10-18\",\"2021-10-19\",\"2021-10-20\",\"2021-10-21\",\"2021-10-22\",\"2021-10-23\",\"2021-10-24\",\"2021-10-25\",\"2021-10-26\",\"2021-10-27\",\"2021-10-28\",\"2021-10-29\",\"2021-10-30\",\"2021-10-31\",\"2021-11-01\",\"2021-11-02\",\"2021-11-03\",\"2021-11-04\",\"2021-11-05\",\"2021-11-06\",\"2021-11-07\",\"2021-11-08\",\"2021-11-09\",\"2021-11-10\",\"2021-11-11\",\"2021-11-12\",\"2021-11-13\",\"2021-11-14\",\"2021-11-15\",\"2021-11-16\",\"2021-11-17\",\"2021-11-18\",\"2021-11-19\",\"2021-11-20\",\"2021-11-21\",\"2021-11-22\",\"2021-11-23\",\"2021-11-24\",\"2021-11-25\",\"2021-11-26\",\"2021-11-27\",\"2021-11-28\",\"2021-11-29\",\"2021-11-30\",\"2021-12-01\"],\"xaxis\":\"x\",\"y\":[null,null,null,null,null,null,0.5142854818848864,0.5076277353058692,0.5091536385015157,0.5074691026820942,0.5029448361616665,0.4935385328939771,0.4979929096018889,0.4902830175106581,0.49331562248258115,0.5010551458254566,0.4981950066320159,0.5051162050795769,0.5216930095700505,0.5258715158548714,0.5287647686467043,0.5292262207293797,0.5191972870064673,0.5045426446617245,0.5087864642733019,0.5100839639563451,0.5112149582259742,0.5112305612841735,0.515637215488843,0.5335055306981384,0.5577758225813851,0.5578387233773947,0.550024359263818,0.5562128184749957,0.564487631896868,0.5767392588783248,0.5697780767793723,0.5653947088327504,0.5631245540349761,0.565732601724991,0.5658269413476325,0.5568606169743313,0.5442017225312822,0.5438561264972945,0.5418433145114367,0.5476837895772306,0.5572888712236328,0.5551970344889389,0.5657129456390996,0.5762615205354891,0.5799097620830631,0.5894697438802418,0.590548656802573,0.5894945365243246,0.592954253744546,0.6002285044205562,0.6052194020357639,0.6082045280465253,0.611518598923083,0.6104731275028945,0.6137429099921615,0.6192630409926353,0.6203972333148686,0.6137728179794327,0.6093093019885393,0.6020485098811396,0.6060268100619712,0.6011063673085987,0.5907107465933387,0.5740528488895542,0.563521279023892,0.5625894623026018,0.5638407657436861,0.5616950853371362,0.5594040415310787,0.5578373013179583,0.5648077320172025,0.5675690515987986,0.5626912657362928,0.5578316092637332,0.5513762021764621,0.5551166893962487,0.5561101197577087,0.5541439358543522,0.5580453353414901,0.5585296072987508,0.553690705448899,0.5536825214195412,0.5534564705886517,0.552241222422184,0.5488715691081704,0.5582442732177165,0.5622047674008817,0.5763136804692184,0.5808413193393359,0.572279209278984,0.5790415419399045,0.5805011093447501,0.5718965864545129,0.5747418868783473,0.5596777791057878,0.5606844598049733,0.5635496487406341,0.562310756054373,0.5586112682911402,0.5514100757474092,0.5453183837514618,0.5509528317587912,0.5482454707874969,0.5450486430512439,0.5326505019766322,0.5275170317507596,0.5267204305824112,0.5203874691726924,0.515882964668188,0.5096543585760696,0.5103961125975613,0.5037817880356198,0.5099893721175613,0.5051596822344907,0.5038938594496806,0.5035378291871081,0.4973540076215963,0.4903727734263072,0.49811179028941155,0.5000427619627003,0.5076846003272106,0.5222124453635303,0.5273179472163053,0.5327375475315181,0.5332953858025321,0.5320059217102998,0.5359452806253868,0.5435933831899721,0.5311231513223768,0.5335589025757599,0.5380244241751629,0.5477512880918188,0.5589258692120253,0.5584749312610874,0.5552479532711202,0.5630117686738244,0.5579924958222755,0.5599529081412536,0.5552124056479893,0.5354634842356628,0.5367394013010536,0.5270216561953063,0.520378548132409,0.5104325847265557,0.4995606560464079,0.4933396889315861,0.4989529129784015,0.49209224987024947,0.4967089180819858,0.4929545607070951,0.49311552650186374,0.492627852768096,0.48495365117754463,0.4925498204771088,0.4866721159269848,0.4730514082764264,0.4729010528909698,0.4772860796289377,0.47502454731445215,0.48965381915121303,0.4751124574327193,0.48244919948000664,0.4871809542117613,0.48930790668766694,0.4865442343738216,0.49309641466484727,0.4907200989973924,0.5057270247585601,0.5045802280316529,0.511942311664923,0.51139718343399,0.5128784308753558,0.5155320041367867,0.5147610359745143,0.5119960590159889,0.507717803764971,0.5087140143644346,0.5096636365229026,0.5170517653008165,0.5140676954682876,0.5230309218228182,0.52197205606546,0.5313504226112794,0.5247832625226211,0.528541181223689,0.5266218791517152,0.5291151252539839,0.5219350128107135,0.5118771783668644,0.49711450740950325,0.4940242761016691,0.48257292639285787,0.4692598564840433,0.4624701549574996,0.4579258271049011,0.4506101207864535,0.45012310779944054,0.4487125245426755,0.4531346257389703,0.4475808401237056,0.44639518367489117,0.43257427069431437,0.4435532610649009,0.45248183249347235,0.4604285128318471,0.45589238753128697,0.463629794886207,0.46829906384119013,0.4785759018491206,0.4525877595566305,0.4234872304561014,0.39439474239704797,0.3943181160018091,0.39467638844404046,0.38439316822293207,0.3766085551751611,0.3958403871729506,0.41327330102020704,0.4327377341923198,0.42574486612310636,0.41214843493465664,0.40853979061454987,0.4061255629550055,0.40902955691469817,0.3999271620362585,0.39641496128549847,0.38933030093734095,0.3958255674271866,0.39501063956126103,0.3908031215999226,0.3810892248582629,0.38587749983015784,0.38242404682487763,0.39067584069310984,0.38497675254721325,0.38764406000846513,0.3937440439447514,0.39855488196169625,0.4047963573812539,0.4050526800059976,0.41192726082424036,0.42094086626641725,0.4165275126670619,0.4130848738053973,0.4114365221570457,0.4160960885320932,0.42131360763850123,0.4206086479533832,0.42285877877494255,0.43280950967105103,0.4395504594334899,0.44451940353286873,0.4477528062576869,0.4527119384569624,0.4486035658515172,0.4530487447327864,0.4489096078043083,0.447674215933962,0.4419533921353351,0.4370272837609508,0.4345818858761758,0.43508473991259883,0.43220278653821714,0.44100654576186216,0.44195801453916167,0.4472868706600464,0.44346560118541944,0.44253351094442717,0.45361633056383205,0.45460338496571506,0.45210836137888005,0.4561993987154737,0.4576906903090077,0.4675850786863682,0.4663860845681595,0.454690762696908,0.4491300478449295,0.45096441767178286,0.44537024980897405,0.4457305532223748,0.43914220359681033,0.4462231939553926,0.4564379986666844,0.47660084641447925,0.4679017885429278,0.47270479780698443,0.47636025999185844,0.48208476042811216,0.4813083629125842,0.47856464588315284,0.46643232312068267,0.4779053060962563,0.4859031456408988,0.4886762548845963,0.4819495678594213,0.4914380167043057,0.48828879245253265,0.4862606684275922,0.4807661629330867,0.48191829021824983,0.47863330109569724,0.496140707283979,0.5022354580110582,0.5188220585398219,0.5179805736204954,0.5224473298858128,0.5269236703770048,0.5379947477568499,0.5210438539824508,0.5156458395956723,0.5192677967045457,0.5336638837926087,0.5407157294073389,0.5346491803494604,0.5251519460953076,0.5357820029037084,0.5303908975126029,0.5214316155654742,0.5203626046481639,0.5174059929251983,0.5176103486208835,0.5291865114906347,0.5353610533794623,0.5383990537858837,0.5416444756321421,0.5368488290454507,0.546768357369887,0.5521746709953788,0.5437382255510593,0.5408999537770253,0.5409070469817351,0.5343477950728247,0.527887124405512,0.5171749066869248,0.5182620995549396,0.5332858212207278,0.5347212719793498,0.5425346558933628,0.5456652910366205,0.5610244706024422,0.5695510690622393,0.5793772217455349,0.5727784085046553,0.5749522045767564,0.5822588309310017,0.5922086637069216,0.5939174812052127,0.587359368947994,0.5791424621135757,0.5707175536886673,0.5690395491535198,0.5575272519269369,0.5519598335633099,0.5489798005080889,0.5604448770690942,0.5539713199042928,0.5670207704537434,0.5733037330769949,0.574489597572212,0.589042148450383,0.5834707442614674,0.5779664678621109,0.593017938618926,0.5818318421067424,0.5805435089142106,0.5859696764547545,0.5711948112848058,0.5886066490466779,0.5978830868945444,0.5980521024439749,0.6173818410283719,0.6222614643290478,0.6351549267987815,0.6391224310496788,0.6250326372239199,0.6175821929313703,0.617334622786496,0.6131990994612071,0.6130187242808319,0.5990731460495394,0.593648191257496,0.592345019386338,0.5971558268929092,0.5937878178291539,0.5926032644057946,0.5792104072629375,0.5824416997799443,0.5903073901523788,0.6144021893623853,0.6307733175868614,0.6392054575661408,0.639546289195316,0.6509550193540461,0.6549619879951611,0.6612802940060901,0.6575936580613896,0.6409929428234354,0.6445618402619289,0.6585677729795181,0.6597973728006672,0.6663494103707324,0.6731541953915368,0.6749695071515999,0.695395248507574,0.6888378317176779,0.6859649902734077,0.6973512267675169,0.6907331072558442,0.6857140365207541,0.6809484142016847,0.6667490836758236,0.6704378831392709,0.6652862631692491,0.6597859167281014,0.664207399366573,0.6591774526052597,0.6664948986194844,0.668867276141922,0.664467690220597,0.6583747661302201,0.6585608635576968,0.6538851301644183,0.6568156560763105,0.6491747110972828,0.6502804165373535,0.6633380111166872,0.6649895387797756,0.6636976771410931,0.6793658799060699,0.689323430195112,0.6955704086819382,0.6922704922241271,0.6907307948081408,0.6984284323642598,0.7077328135647575,0.7014732129503181,0.7006950633899727,0.6916223759678869,0.6896149063133584,0.6834303018873956,0.6944025830126798,0.693290648246186,0.6888207470781716,0.7006443770299252,0.7208499152553914,0.7344512320707773,0.7408951241816123,0.7311588812381791,0.727779219963781,0.7347189150194998,0.7240305885085024,0.7084467362297902,0.7016147938308374,0.7072940305414235,0.7071041282777885,0.7098728872965474,0.7207431023095996,0.7227288876059907,0.7185111085403415,0.7160789528823793,0.7033197362925175,0.7030296457842791,0.7023352013398345,0.6980884041918642,0.6965347309976986,0.7109259947495762,0.7238292205560278,0.7424050045281533,0.7380109150093491,0.744466122663187,0.7345487350862249,0.7288504738631018,0.7229422781351816,0.7128889189307189,0.6953237315049042,0.7028142449834417,0.7041538219101028,0.7039128348270106,0.7058420650171103,0.7173403228568315,0.7302022019640484,0.7412000323840297,0.7478709770111787,0.7442010880029438,0.7529656028403331,0.7617008018539885,0.7583844753233763,0.7553778418067714,0.745759967835871,0.739341644150998,0.7336577916626342,0.7386207773948508,0.7337572139919616,0.7280174180735941,0.7167523980468918,0.7231014175228244,0.7239897321477136,0.7495738788498727,0.7568821136861974,0.7663273286653929,0.77375743485421,0.7865321601289352,0.7913682344517615,0.8014349966594585,0.790511886785824,0.7886149073607545,0.7769247944223753,0.7778758950469923,0.773037677708775,0.775287396493927,0.7681775193636481,0.7548770267528108,0.7316959067974971,0.7441769322655356,0.7482910013402346,0.7481784992947429,0.7372035198158263,0.7276111936767377,0.7196746857402297,0.7331155459552835,0.7257365613035714,0.7222974078644182,0.7146471095887438,0.7158810386577245,0.7262977053243912,0.7362750295874296,0.7353592786716788,0.727536149419978,0.7171465390303676,0.722568069510264,0.7182124777451525,0.6980168995138599,0.6846857606066842,0.6681596510573188,0.6662425205687599,0.6607210958856584,0.6640544292189918,0.6657874852633581,0.6813135232647655,0.6922716199317894,0.7003149841563042,0.7052578025319585,0.7044200691317638,0.6803052950169896,0.6737447760725698,0.6627791238693171],\"yaxis\":\"y\",\"type\":\"scattergl\"},{\"hovertemplate\":\"group=2<br>date=%{x}<br>percentage=%{y}<extra></extra>\",\"legendgroup\":\"2\",\"line\":{\"color\":\"#00cc96\",\"dash\":\"solid\"},\"marker\":{\"symbol\":\"circle\"},\"mode\":\"lines\",\"name\":\"2\",\"showlegend\":true,\"x\":[\"2020-05-29\",\"2020-05-30\",\"2020-05-31\",\"2020-06-01\",\"2020-06-02\",\"2020-06-03\",\"2020-06-04\",\"2020-06-05\",\"2020-06-06\",\"2020-06-07\",\"2020-06-08\",\"2020-06-09\",\"2020-06-10\",\"2020-06-11\",\"2020-06-12\",\"2020-06-13\",\"2020-06-14\",\"2020-06-15\",\"2020-06-16\",\"2020-06-17\",\"2020-06-18\",\"2020-06-19\",\"2020-06-20\",\"2020-06-21\",\"2020-06-22\",\"2020-06-23\",\"2020-06-24\",\"2020-06-25\",\"2020-06-26\",\"2020-06-27\",\"2020-06-28\",\"2020-06-29\",\"2020-06-30\",\"2020-07-01\",\"2020-07-02\",\"2020-07-03\",\"2020-07-04\",\"2020-07-05\",\"2020-07-06\",\"2020-07-07\",\"2020-07-08\",\"2020-07-09\",\"2020-07-10\",\"2020-07-11\",\"2020-07-12\",\"2020-07-13\",\"2020-07-14\",\"2020-07-15\",\"2020-07-16\",\"2020-07-17\",\"2020-07-18\",\"2020-07-19\",\"2020-07-20\",\"2020-07-21\",\"2020-07-22\",\"2020-07-23\",\"2020-07-24\",\"2020-07-25\",\"2020-07-26\",\"2020-07-27\",\"2020-07-28\",\"2020-07-29\",\"2020-07-30\",\"2020-07-31\",\"2020-08-01\",\"2020-08-02\",\"2020-08-03\",\"2020-08-04\",\"2020-08-05\",\"2020-08-06\",\"2020-08-07\",\"2020-08-08\",\"2020-08-09\",\"2020-08-10\",\"2020-08-11\",\"2020-08-12\",\"2020-08-13\",\"2020-08-14\",\"2020-08-15\",\"2020-08-16\",\"2020-08-17\",\"2020-08-18\",\"2020-08-19\",\"2020-08-20\",\"2020-08-21\",\"2020-08-22\",\"2020-08-23\",\"2020-08-24\",\"2020-08-25\",\"2020-08-26\",\"2020-08-27\",\"2020-08-28\",\"2020-08-29\",\"2020-08-30\",\"2020-08-31\",\"2020-09-01\",\"2020-09-02\",\"2020-09-03\",\"2020-09-04\",\"2020-09-05\",\"2020-09-06\",\"2020-09-07\",\"2020-09-08\",\"2020-09-09\",\"2020-09-10\",\"2020-09-11\",\"2020-09-12\",\"2020-09-13\",\"2020-09-14\",\"2020-09-15\",\"2020-09-16\",\"2020-09-17\",\"2020-09-18\",\"2020-09-19\",\"2020-09-20\",\"2020-09-21\",\"2020-09-22\",\"2020-09-23\",\"2020-09-24\",\"2020-09-25\",\"2020-09-26\",\"2020-09-27\",\"2020-09-28\",\"2020-09-29\",\"2020-09-30\",\"2020-10-01\",\"2020-10-02\",\"2020-10-03\",\"2020-10-04\",\"2020-10-05\",\"2020-10-06\",\"2020-10-07\",\"2020-10-08\",\"2020-10-09\",\"2020-10-10\",\"2020-10-11\",\"2020-10-12\",\"2020-10-13\",\"2020-10-14\",\"2020-10-15\",\"2020-10-16\",\"2020-10-17\",\"2020-10-18\",\"2020-10-19\",\"2020-10-20\",\"2020-10-21\",\"2020-10-22\",\"2020-10-23\",\"2020-10-24\",\"2020-10-25\",\"2020-10-26\",\"2020-10-27\",\"2020-10-28\",\"2020-10-29\",\"2020-10-30\",\"2020-10-31\",\"2020-11-01\",\"2020-11-02\",\"2020-11-03\",\"2020-11-04\",\"2020-11-05\",\"2020-11-06\",\"2020-11-07\",\"2020-11-08\",\"2020-11-09\",\"2020-11-10\",\"2020-11-11\",\"2020-11-12\",\"2020-11-13\",\"2020-11-14\",\"2020-11-15\",\"2020-11-16\",\"2020-11-17\",\"2020-11-18\",\"2020-11-19\",\"2020-11-20\",\"2020-11-21\",\"2020-11-22\",\"2020-11-23\",\"2020-11-24\",\"2020-11-25\",\"2020-11-26\",\"2020-11-27\",\"2020-11-28\",\"2020-11-29\",\"2020-11-30\",\"2020-12-01\",\"2020-12-02\",\"2020-12-03\",\"2020-12-04\",\"2020-12-05\",\"2020-12-06\",\"2020-12-07\",\"2020-12-08\",\"2020-12-09\",\"2020-12-10\",\"2020-12-11\",\"2020-12-12\",\"2020-12-13\",\"2020-12-14\",\"2020-12-15\",\"2020-12-16\",\"2020-12-17\",\"2020-12-18\",\"2020-12-19\",\"2020-12-20\",\"2020-12-21\",\"2020-12-22\",\"2020-12-23\",\"2020-12-24\",\"2020-12-25\",\"2020-12-26\",\"2020-12-27\",\"2020-12-28\",\"2020-12-29\",\"2020-12-30\",\"2020-12-31\",\"2021-01-01\",\"2021-01-02\",\"2021-01-03\",\"2021-01-04\",\"2021-01-05\",\"2021-01-06\",\"2021-01-07\",\"2021-01-08\",\"2021-01-09\",\"2021-01-10\",\"2021-01-11\",\"2021-01-12\",\"2021-01-13\",\"2021-01-14\",\"2021-01-15\",\"2021-01-16\",\"2021-01-17\",\"2021-01-18\",\"2021-01-19\",\"2021-01-20\",\"2021-01-21\",\"2021-01-22\",\"2021-01-23\",\"2021-01-24\",\"2021-01-25\",\"2021-01-26\",\"2021-01-27\",\"2021-01-28\",\"2021-01-29\",\"2021-01-30\",\"2021-01-31\",\"2021-02-01\",\"2021-02-02\",\"2021-02-03\",\"2021-02-04\",\"2021-02-05\",\"2021-02-06\",\"2021-02-07\",\"2021-02-08\",\"2021-02-09\",\"2021-02-10\",\"2021-02-11\",\"2021-02-12\",\"2021-02-13\",\"2021-02-14\",\"2021-02-15\",\"2021-02-16\",\"2021-02-17\",\"2021-02-18\",\"2021-02-19\",\"2021-02-20\",\"2021-02-21\",\"2021-02-22\",\"2021-02-23\",\"2021-02-24\",\"2021-02-25\",\"2021-02-26\",\"2021-02-27\",\"2021-02-28\",\"2021-03-01\",\"2021-03-02\",\"2021-03-03\",\"2021-03-04\",\"2021-03-05\",\"2021-03-06\",\"2021-03-07\",\"2021-03-08\",\"2021-03-09\",\"2021-03-10\",\"2021-03-11\",\"2021-03-12\",\"2021-03-13\",\"2021-03-14\",\"2021-03-15\",\"2021-03-16\",\"2021-03-17\",\"2021-03-18\",\"2021-03-19\",\"2021-03-20\",\"2021-03-21\",\"2021-03-22\",\"2021-03-23\",\"2021-03-24\",\"2021-03-25\",\"2021-03-26\",\"2021-03-27\",\"2021-03-28\",\"2021-03-29\",\"2021-03-30\",\"2021-03-31\",\"2021-04-01\",\"2021-04-02\",\"2021-04-03\",\"2021-04-04\",\"2021-04-05\",\"2021-04-06\",\"2021-04-07\",\"2021-04-08\",\"2021-04-09\",\"2021-04-10\",\"2021-04-11\",\"2021-04-12\",\"2021-04-13\",\"2021-04-14\",\"2021-04-15\",\"2021-04-16\",\"2021-04-17\",\"2021-04-18\",\"2021-04-19\",\"2021-04-20\",\"2021-04-21\",\"2021-04-22\",\"2021-04-23\",\"2021-04-24\",\"2021-04-25\",\"2021-04-26\",\"2021-04-27\",\"2021-04-28\",\"2021-04-29\",\"2021-04-30\",\"2021-05-01\",\"2021-05-02\",\"2021-05-03\",\"2021-05-04\",\"2021-05-05\",\"2021-05-06\",\"2021-05-07\",\"2021-05-08\",\"2021-05-09\",\"2021-05-10\",\"2021-05-11\",\"2021-05-12\",\"2021-05-13\",\"2021-05-14\",\"2021-05-15\",\"2021-05-16\",\"2021-05-17\",\"2021-05-18\",\"2021-05-19\",\"2021-05-20\",\"2021-05-21\",\"2021-05-22\",\"2021-05-23\",\"2021-05-24\",\"2021-05-25\",\"2021-05-26\",\"2021-05-27\",\"2021-05-28\",\"2021-05-29\",\"2021-05-30\",\"2021-05-31\",\"2021-06-01\",\"2021-06-02\",\"2021-06-03\",\"2021-06-04\",\"2021-06-05\",\"2021-06-06\",\"2021-06-07\",\"2021-06-08\",\"2021-06-09\",\"2021-06-10\",\"2021-06-11\",\"2021-06-12\",\"2021-06-13\",\"2021-06-14\",\"2021-06-15\",\"2021-06-16\",\"2021-06-17\",\"2021-06-18\",\"2021-06-19\",\"2021-06-20\",\"2021-06-21\",\"2021-06-22\",\"2021-06-23\",\"2021-06-24\",\"2021-06-25\",\"2021-06-26\",\"2021-06-27\",\"2021-06-28\",\"2021-06-29\",\"2021-06-30\",\"2021-07-01\",\"2021-07-02\",\"2021-07-03\",\"2021-07-04\",\"2021-07-05\",\"2021-07-06\",\"2021-07-07\",\"2021-07-08\",\"2021-07-09\",\"2021-07-10\",\"2021-07-11\",\"2021-07-12\",\"2021-07-13\",\"2021-07-14\",\"2021-07-15\",\"2021-07-16\",\"2021-07-17\",\"2021-07-18\",\"2021-07-19\",\"2021-07-20\",\"2021-07-21\",\"2021-07-22\",\"2021-07-23\",\"2021-07-24\",\"2021-07-25\",\"2021-07-26\",\"2021-07-27\",\"2021-07-28\",\"2021-07-29\",\"2021-07-30\",\"2021-07-31\",\"2021-08-01\",\"2021-08-02\",\"2021-08-03\",\"2021-08-04\",\"2021-08-05\",\"2021-08-06\",\"2021-08-07\",\"2021-08-08\",\"2021-08-09\",\"2021-08-10\",\"2021-08-11\",\"2021-08-12\",\"2021-08-13\",\"2021-08-14\",\"2021-08-15\",\"2021-08-16\",\"2021-08-17\",\"2021-08-18\",\"2021-08-19\",\"2021-08-20\",\"2021-08-21\",\"2021-08-22\",\"2021-08-23\",\"2021-08-24\",\"2021-08-25\",\"2021-08-26\",\"2021-08-27\",\"2021-08-28\",\"2021-08-29\",\"2021-08-30\",\"2021-08-31\",\"2021-09-01\",\"2021-09-02\",\"2021-09-03\",\"2021-09-04\",\"2021-09-05\",\"2021-09-06\",\"2021-09-07\",\"2021-09-08\",\"2021-09-09\",\"2021-09-10\",\"2021-09-11\",\"2021-09-12\",\"2021-09-13\",\"2021-09-14\",\"2021-09-15\",\"2021-09-16\",\"2021-09-17\",\"2021-09-18\",\"2021-09-19\",\"2021-09-20\",\"2021-09-21\",\"2021-09-22\",\"2021-09-23\",\"2021-09-24\",\"2021-09-25\",\"2021-09-26\",\"2021-09-27\",\"2021-09-28\",\"2021-09-29\",\"2021-09-30\",\"2021-10-01\",\"2021-10-02\",\"2021-10-03\",\"2021-10-04\",\"2021-10-05\",\"2021-10-06\",\"2021-10-07\",\"2021-10-08\",\"2021-10-09\",\"2021-10-10\",\"2021-10-11\",\"2021-10-12\",\"2021-10-13\",\"2021-10-14\",\"2021-10-15\",\"2021-10-16\",\"2021-10-17\",\"2021-10-18\",\"2021-10-19\",\"2021-10-20\",\"2021-10-21\",\"2021-10-22\",\"2021-10-23\",\"2021-10-24\",\"2021-10-25\",\"2021-10-26\",\"2021-10-27\",\"2021-10-28\",\"2021-10-29\",\"2021-10-30\",\"2021-10-31\",\"2021-11-01\",\"2021-11-02\",\"2021-11-03\",\"2021-11-04\",\"2021-11-05\",\"2021-11-06\",\"2021-11-07\",\"2021-11-08\",\"2021-11-09\",\"2021-11-10\",\"2021-11-11\",\"2021-11-12\",\"2021-11-13\",\"2021-11-14\",\"2021-11-15\",\"2021-11-16\",\"2021-11-17\",\"2021-11-18\",\"2021-11-19\",\"2021-11-20\",\"2021-11-21\",\"2021-11-22\",\"2021-11-23\",\"2021-11-24\",\"2021-11-25\",\"2021-11-26\",\"2021-11-27\",\"2021-11-28\",\"2021-11-29\",\"2021-11-30\",\"2021-12-01\"],\"xaxis\":\"x\",\"y\":[null,null,null,null,null,null,0.14544089027455717,0.14550552859085827,0.1462139408364412,0.15178023310931235,0.1538339667411149,0.15732868983979845,0.15159794404121715,0.15511482382584538,0.15356575252388074,0.1491088587603942,0.14913337423919512,0.1430826163302399,0.1367437753151399,0.1402553336777362,0.13848995909288903,0.13932338015475518,0.1437363957035172,0.15841153405153935,0.15446121630859047,0.15137661986875695,0.1544127111525611,0.15650129194296744,0.1491777776597623,0.14460456151198933,0.12802833485979306,0.13406995631651258,0.1401410318476556,0.1371669041912022,0.13581164180652805,0.13854410549384,0.1409482719081802,0.14000897877676124,0.14337276151784564,0.14801858407935906,0.14753790124018565,0.15286484174154477,0.1606728478340175,0.1617028261619115,0.16246419417395336,0.1554461767638717,0.14455464296643178,0.1405750511296971,0.1363549583260948,0.12334121709694172,0.12294340884052132,0.12318319600753222,0.1268573319052007,0.12936518436125163,0.1275978107451385,0.1201283740235024,0.11920677784488147,0.11468246864836952,0.10742373837912614,0.10422026065976277,0.10544719211030908,0.10913744543106786,0.11132280924113662,0.12063036954770842,0.12511851668715238,0.13281795760231233,0.1301542760959545,0.13108820899114645,0.13251409147178728,0.1341461923184396,0.136325682972603,0.13500828691836483,0.1332717023350649,0.1359210888353831,0.13939177647349568,0.14144852221628748,0.14318195827175742,0.1392868518420888,0.14227820118318346,0.14786777290178743,0.14709992332996616,0.14271318745437675,0.13798557306133485,0.14081585795968257,0.14289093813323475,0.14050350822928717,0.13622959333092716,0.13785003114376168,0.1409824498003739,0.14285557667350077,0.1448049198126208,0.14078134736799572,0.14144368257268883,0.14227051413654399,0.1408828123344352,0.1412875851593273,0.14264514572741419,0.14692667565548684,0.14604416048725738,0.13960873291308637,0.1458570063095795,0.14818229693868407,0.1463449454722372,0.1433640082807737,0.13671811797440336,0.1419037147691345,0.14639966208423075,0.13835045064518883,0.13549818866416324,0.12990637198170543,0.13258016877314927,0.13135493284815875,0.1258935500633559,0.12676981492426928,0.12720068057252623,0.12566248567673352,0.12807208897731948,0.1289768304359467,0.12494283815103967,0.1279038571262935,0.12119749059888815,0.11834537860415119,0.11780214391318385,0.12096881739097275,0.11847253022315275,0.11963007039813944,0.1167298546332951,0.11710557476354475,0.11669911462696579,0.117311074250514,0.11090925975976886,0.11138859587924341,0.10635604078600869,0.10505939324352054,0.11230089624773541,0.11453090284483824,0.11606812899418992,0.11837193865762427,0.11050488086471379,0.11678111725458654,0.1223422633803214,0.12171395650201453,0.12452624555908155,0.12332470252486918,0.1278401811656051,0.13601364677546993,0.12988883060280687,0.12930702385699352,0.1301831529971742,0.12367251727649561,0.126716657306937,0.12273135024900426,0.12188286711940141,0.12806626454426126,0.12933631182339353,0.12923783245279816,0.13278273825122505,0.13668621219715163,0.14393213484231385,0.14282367080949004,0.1450852989921272,0.14467526126865662,0.1398267882545193,0.13771830849898076,0.13813050119037792,0.1303861318442374,0.13240812204818972,0.1248174422499673,0.12504019247271753,0.1239814638965413,0.1272619204641951,0.12600711990143607,0.12948175707860488,0.12859605877541636,0.12907838798702737,0.1268534027111946,0.13197760808196568,0.13381897531412232,0.1269314965956577,0.12645642818580669,0.12613960790930898,0.1280542518472992,0.12473445467251991,0.1212231688377943,0.11957990509490045,0.12274929738851174,0.12141142648542344,0.12526551837343494,0.12328063985193576,0.12648714055250135,0.12637949602365503,0.12648127719413851,0.12120835462798284,0.120198458881245,0.12050684184232807,0.12743133328009384,0.1322734615189492,0.13379520377026638,0.1400160750975207,0.1495854530879513,0.15531906784412244,0.1610379448646348,0.1626162276929176,0.16315544147608466,0.16608799279573278,0.16160191170185226,0.16102354270243063,0.16157761048338917,0.16035309091191888,0.15747610678493476,0.1509035726187433,0.1535474454171295,0.15383087763519115,0.15281259090261873,0.1535310601084829,0.16946838365450206,0.1797858439719624,0.20873359328445334,0.2090400988654091,0.21421108838194672,0.2180960736333916,0.22126687943577633,0.2090904034295131,0.19897214629930376,0.17447448596349316,0.18143755487900262,0.18299568898321641,0.17586053165043064,0.1832554313290056,0.1766214184610857,0.18386902378447298,0.1894438311362953,0.18634469193723666,0.18888407332199006,0.19765534639481522,0.19051381237081386,0.1993907233724878,0.19726028798644182,0.19453811932540852,0.18921522304360813,0.1887741441909372,0.1869238498259246,0.18862181255247226,0.18337057524016623,0.18692866099003283,0.19369273025410208,0.194980456612251,0.18962233635265294,0.19366943654127342,0.19112313980445353,0.1992322720515168,0.19343611562774532,0.19068038370534673,0.18791194827524788,0.1863072038133606,0.18057012483936738,0.18327821914720124,0.17420483376197174,0.16509204855266368,0.15738311073619898,0.16124645484096065,0.1575283684161073,0.1595410180556973,0.15731630145425526,0.15661154690837617,0.16030612818916437,0.16321058993678514,0.15939938347540203,0.16058948145677396,0.155923673633425,0.14588062598631044,0.14544785195692353,0.15506731597747647,0.1555917598722854,0.1536753835656652,0.15524960879123245,0.15800367854282077,0.16207590651234963,0.16056006690904545,0.1514597760750085,0.14097299861043894,0.13902520629879217,0.13480767022776,0.1360380402335763,0.14081253596523755,0.13948510233691896,0.1432008743600139,0.14523859880576512,0.15069879044862652,0.15501008018191115,0.1536842014728643,0.15501059885322946,0.1587921114582715,0.15580217721554415,0.15640604194984364,0.1543411827421273,0.14769768259163615,0.14711196508769384,0.1372919832497636,0.13398666112091204,0.13533665367267728,0.13728149101355422,0.14121802132827066,0.14895239260982293,0.14857016614063998,0.15368999401879999,0.1557156164505138,0.15476927017006611,0.14700581324652465,0.14139087985112644,0.1417383872751487,0.13928760065170018,0.14079846602395168,0.13481871743915888,0.13773926104184753,0.1458065578731893,0.1476622519474886,0.14325574387402626,0.14868547925955605,0.15485994063632955,0.16202704428810039,0.1586394437667419,0.15629424142153955,0.15762912529483206,0.15582607963321043,0.14489189592202914,0.139078184906006,0.13364548487263103,0.12924823047537665,0.1340440036922025,0.12721338659339873,0.13972657821106796,0.14703959823223872,0.13960715244362856,0.14280699518173287,0.1499445258091964,0.15110781138161802,0.1585079930224401,0.14862529679288042,0.1527671967491571,0.15903149851248036,0.1545968009061423,0.15579932946619562,0.15148000565001646,0.15017766143042116,0.14346584106546428,0.13331914451205654,0.13180742871462645,0.13167226252779973,0.12904648905456864,0.12597266693312745,0.12071705298186133,0.12964087769515972,0.14330562396072707,0.14001398472438736,0.14625253783794048,0.14711421584247564,0.15014927602039294,0.15194605743802744,0.15267659952195298,0.14739157190834398,0.15485262084404727,0.15571113732756375,0.15573406784808658,0.14973321703736936,0.1448982972874789,0.13987549963795315,0.14189680247624523,0.1329553346999195,0.12866125921019184,0.12623947441111547,0.1383024632452298,0.14937734095750874,0.15299697686952626,0.14602396368533294,0.1478094612844454,0.14474482405831748,0.14345371750405306,0.13320856011906515,0.12586732776366313,0.12514406999093083,0.12668580311161134,0.134828110098591,0.1391627946038512,0.1424625993742442,0.14599151093887006,0.15412894312693518,0.1588252794928068,0.16059189114388572,0.15394513727290687,0.1488730948874317,0.15248391421516277,0.14586434330987758,0.1424058111109428,0.1317408999852022,0.12332230806497908,0.12121187485059744,0.11967149294211736,0.11622407230719671,0.1180734424492498,0.1066321856186487,0.1092358722545934,0.11385952589320779,0.11168275156902029,0.10872762898199585,0.10360802245393862,0.11140987065875607,0.12179764227225585,0.1179973265658628,0.11207058032903904,0.12259153739674647,0.13017918784153976,0.12711455728362583,0.13591729877002548,0.12761286048985904,0.12663056750059992,0.13372123445521247,0.12292127488041206,0.11865516165546106,0.12021651970476012,0.10796733071040711,0.1105516252978073,0.1196310511659243,0.11448041948468038,0.12109220654613986,0.12807154378902175,0.13278966092093197,0.13661679366230547,0.13697651451892073,0.13708445925121782,0.14451971405489367,0.136543994122652,0.13406670262801945,0.1310902827729869,0.12371701088358596,0.12011198517911273,0.11233158875658433,0.11124554030211482,0.11224969079080138,0.10309984787576014,0.0988372782382821,0.09837644874519456,0.10196334767097762,0.11138232087253222,0.11175580359895614,0.11457136281233223,0.11442999546383995,0.11889538428801305,0.1167390500562071,0.10976170209748705,0.09896993574074296,0.09489820395524526,0.09418806074303078,0.09853376234511839,0.10263492434101724,0.10223262317836687,0.10974577441110722,0.11120191965384973,0.10617000998276481,0.10044209410037368,0.10432876042943631,0.09607659592727182,0.09770065188247577,0.09186269447631355,0.09459942135097145,0.0974412032250114,0.10492968248768421,0.09973291824009611,0.09923688649406436,0.0980438063588486,0.10607318942629666,0.10495172634831185,0.10218674938978653,0.09652472848386318,0.09667858315889133,0.093566493574199,0.10155495900947296,0.10180010980710993,0.10447015979953532,0.11222543508452197,0.11572890026046102,0.11950157469181809,0.12587330146471903,0.1232706409673217,0.1224707162543535,0.11040625632403991,0.09966828935938418,0.10002106659819673,0.09213357695888227,0.09195455798287082,0.08962625201084015,0.08968440912810816,0.09772012341382244,0.10874795054290795,0.11343391336587692,0.12271081818771003,0.1237401772997759,0.12042938552744566,0.12705859901059174,0.13216063982691825,0.1299910804143682,0.11968128190113196,0.1187122114012531,0.10667435277954354,0.10279527305776719,0.08821829663613058,0.08482212109274248,0.08015179142241281,0.0832225754576201,0.06981770286507928,0.07371575383959203,0.07749644709934556,0.07877672022427887,0.07492659173424257,0.07860485791250874,0.07185570155705319,0.07988595113138093,0.08244752748606073,0.08907433176682396,0.08753042113200422,0.08686383778825553,0.08325354487383889,0.09194840396239878,0.0865241719194617,0.0973178227131125,0.08840845251341971,0.09682049501637131,0.10093236198538114,0.1026859135002548,0.10786045475727028,0.1133168039636195,0.11150274500670339,0.11296794647190486,0.11415842266238105,0.11145255709937262,0.10787279056240764,0.10245180225043446,0.11329363898512836,0.11362280290876232,0.11924508760081445,0.12130136465709151,0.12385569655274077,0.12740408364951497,0.12724410924541962,0.12025079467821342,0.11778589273844277,0.11245279254610145,0.10947256381960406,0.11463465343347977,0.12529872054915978,0.13337037026167636,0.12884914750710455],\"yaxis\":\"y\",\"type\":\"scattergl\"}],                        {\"template\":{\"data\":{\"bar\":[{\"error_x\":{\"color\":\"#2a3f5f\"},\"error_y\":{\"color\":\"#2a3f5f\"},\"marker\":{\"line\":{\"color\":\"#E5ECF6\",\"width\":0.5},\"pattern\":{\"fillmode\":\"overlay\",\"size\":10,\"solidity\":0.2}},\"type\":\"bar\"}],\"barpolar\":[{\"marker\":{\"line\":{\"color\":\"#E5ECF6\",\"width\":0.5},\"pattern\":{\"fillmode\":\"overlay\",\"size\":10,\"solidity\":0.2}},\"type\":\"barpolar\"}],\"carpet\":[{\"aaxis\":{\"endlinecolor\":\"#2a3f5f\",\"gridcolor\":\"white\",\"linecolor\":\"white\",\"minorgridcolor\":\"white\",\"startlinecolor\":\"#2a3f5f\"},\"baxis\":{\"endlinecolor\":\"#2a3f5f\",\"gridcolor\":\"white\",\"linecolor\":\"white\",\"minorgridcolor\":\"white\",\"startlinecolor\":\"#2a3f5f\"},\"type\":\"carpet\"}],\"choropleth\":[{\"colorbar\":{\"outlinewidth\":0,\"ticks\":\"\"},\"type\":\"choropleth\"}],\"contour\":[{\"colorbar\":{\"outlinewidth\":0,\"ticks\":\"\"},\"colorscale\":[[0.0,\"#0d0887\"],[0.1111111111111111,\"#46039f\"],[0.2222222222222222,\"#7201a8\"],[0.3333333333333333,\"#9c179e\"],[0.4444444444444444,\"#bd3786\"],[0.5555555555555556,\"#d8576b\"],[0.6666666666666666,\"#ed7953\"],[0.7777777777777778,\"#fb9f3a\"],[0.8888888888888888,\"#fdca26\"],[1.0,\"#f0f921\"]],\"type\":\"contour\"}],\"contourcarpet\":[{\"colorbar\":{\"outlinewidth\":0,\"ticks\":\"\"},\"type\":\"contourcarpet\"}],\"heatmap\":[{\"colorbar\":{\"outlinewidth\":0,\"ticks\":\"\"},\"colorscale\":[[0.0,\"#0d0887\"],[0.1111111111111111,\"#46039f\"],[0.2222222222222222,\"#7201a8\"],[0.3333333333333333,\"#9c179e\"],[0.4444444444444444,\"#bd3786\"],[0.5555555555555556,\"#d8576b\"],[0.6666666666666666,\"#ed7953\"],[0.7777777777777778,\"#fb9f3a\"],[0.8888888888888888,\"#fdca26\"],[1.0,\"#f0f921\"]],\"type\":\"heatmap\"}],\"heatmapgl\":[{\"colorbar\":{\"outlinewidth\":0,\"ticks\":\"\"},\"colorscale\":[[0.0,\"#0d0887\"],[0.1111111111111111,\"#46039f\"],[0.2222222222222222,\"#7201a8\"],[0.3333333333333333,\"#9c179e\"],[0.4444444444444444,\"#bd3786\"],[0.5555555555555556,\"#d8576b\"],[0.6666666666666666,\"#ed7953\"],[0.7777777777777778,\"#fb9f3a\"],[0.8888888888888888,\"#fdca26\"],[1.0,\"#f0f921\"]],\"type\":\"heatmapgl\"}],\"histogram\":[{\"marker\":{\"pattern\":{\"fillmode\":\"overlay\",\"size\":10,\"solidity\":0.2}},\"type\":\"histogram\"}],\"histogram2d\":[{\"colorbar\":{\"outlinewidth\":0,\"ticks\":\"\"},\"colorscale\":[[0.0,\"#0d0887\"],[0.1111111111111111,\"#46039f\"],[0.2222222222222222,\"#7201a8\"],[0.3333333333333333,\"#9c179e\"],[0.4444444444444444,\"#bd3786\"],[0.5555555555555556,\"#d8576b\"],[0.6666666666666666,\"#ed7953\"],[0.7777777777777778,\"#fb9f3a\"],[0.8888888888888888,\"#fdca26\"],[1.0,\"#f0f921\"]],\"type\":\"histogram2d\"}],\"histogram2dcontour\":[{\"colorbar\":{\"outlinewidth\":0,\"ticks\":\"\"},\"colorscale\":[[0.0,\"#0d0887\"],[0.1111111111111111,\"#46039f\"],[0.2222222222222222,\"#7201a8\"],[0.3333333333333333,\"#9c179e\"],[0.4444444444444444,\"#bd3786\"],[0.5555555555555556,\"#d8576b\"],[0.6666666666666666,\"#ed7953\"],[0.7777777777777778,\"#fb9f3a\"],[0.8888888888888888,\"#fdca26\"],[1.0,\"#f0f921\"]],\"type\":\"histogram2dcontour\"}],\"mesh3d\":[{\"colorbar\":{\"outlinewidth\":0,\"ticks\":\"\"},\"type\":\"mesh3d\"}],\"parcoords\":[{\"line\":{\"colorbar\":{\"outlinewidth\":0,\"ticks\":\"\"}},\"type\":\"parcoords\"}],\"pie\":[{\"automargin\":true,\"type\":\"pie\"}],\"scatter\":[{\"marker\":{\"colorbar\":{\"outlinewidth\":0,\"ticks\":\"\"}},\"type\":\"scatter\"}],\"scatter3d\":[{\"line\":{\"colorbar\":{\"outlinewidth\":0,\"ticks\":\"\"}},\"marker\":{\"colorbar\":{\"outlinewidth\":0,\"ticks\":\"\"}},\"type\":\"scatter3d\"}],\"scattercarpet\":[{\"marker\":{\"colorbar\":{\"outlinewidth\":0,\"ticks\":\"\"}},\"type\":\"scattercarpet\"}],\"scattergeo\":[{\"marker\":{\"colorbar\":{\"outlinewidth\":0,\"ticks\":\"\"}},\"type\":\"scattergeo\"}],\"scattergl\":[{\"marker\":{\"colorbar\":{\"outlinewidth\":0,\"ticks\":\"\"}},\"type\":\"scattergl\"}],\"scattermapbox\":[{\"marker\":{\"colorbar\":{\"outlinewidth\":0,\"ticks\":\"\"}},\"type\":\"scattermapbox\"}],\"scatterpolar\":[{\"marker\":{\"colorbar\":{\"outlinewidth\":0,\"ticks\":\"\"}},\"type\":\"scatterpolar\"}],\"scatterpolargl\":[{\"marker\":{\"colorbar\":{\"outlinewidth\":0,\"ticks\":\"\"}},\"type\":\"scatterpolargl\"}],\"scatterternary\":[{\"marker\":{\"colorbar\":{\"outlinewidth\":0,\"ticks\":\"\"}},\"type\":\"scatterternary\"}],\"surface\":[{\"colorbar\":{\"outlinewidth\":0,\"ticks\":\"\"},\"colorscale\":[[0.0,\"#0d0887\"],[0.1111111111111111,\"#46039f\"],[0.2222222222222222,\"#7201a8\"],[0.3333333333333333,\"#9c179e\"],[0.4444444444444444,\"#bd3786\"],[0.5555555555555556,\"#d8576b\"],[0.6666666666666666,\"#ed7953\"],[0.7777777777777778,\"#fb9f3a\"],[0.8888888888888888,\"#fdca26\"],[1.0,\"#f0f921\"]],\"type\":\"surface\"}],\"table\":[{\"cells\":{\"fill\":{\"color\":\"#EBF0F8\"},\"line\":{\"color\":\"white\"}},\"header\":{\"fill\":{\"color\":\"#C8D4E3\"},\"line\":{\"color\":\"white\"}},\"type\":\"table\"}]},\"layout\":{\"annotationdefaults\":{\"arrowcolor\":\"#2a3f5f\",\"arrowhead\":0,\"arrowwidth\":1},\"autotypenumbers\":\"strict\",\"coloraxis\":{\"colorbar\":{\"outlinewidth\":0,\"ticks\":\"\"}},\"colorscale\":{\"diverging\":[[0,\"#8e0152\"],[0.1,\"#c51b7d\"],[0.2,\"#de77ae\"],[0.3,\"#f1b6da\"],[0.4,\"#fde0ef\"],[0.5,\"#f7f7f7\"],[0.6,\"#e6f5d0\"],[0.7,\"#b8e186\"],[0.8,\"#7fbc41\"],[0.9,\"#4d9221\"],[1,\"#276419\"]],\"sequential\":[[0.0,\"#0d0887\"],[0.1111111111111111,\"#46039f\"],[0.2222222222222222,\"#7201a8\"],[0.3333333333333333,\"#9c179e\"],[0.4444444444444444,\"#bd3786\"],[0.5555555555555556,\"#d8576b\"],[0.6666666666666666,\"#ed7953\"],[0.7777777777777778,\"#fb9f3a\"],[0.8888888888888888,\"#fdca26\"],[1.0,\"#f0f921\"]],\"sequentialminus\":[[0.0,\"#0d0887\"],[0.1111111111111111,\"#46039f\"],[0.2222222222222222,\"#7201a8\"],[0.3333333333333333,\"#9c179e\"],[0.4444444444444444,\"#bd3786\"],[0.5555555555555556,\"#d8576b\"],[0.6666666666666666,\"#ed7953\"],[0.7777777777777778,\"#fb9f3a\"],[0.8888888888888888,\"#fdca26\"],[1.0,\"#f0f921\"]]},\"colorway\":[\"#636efa\",\"#EF553B\",\"#00cc96\",\"#ab63fa\",\"#FFA15A\",\"#19d3f3\",\"#FF6692\",\"#B6E880\",\"#FF97FF\",\"#FECB52\"],\"font\":{\"color\":\"#2a3f5f\"},\"geo\":{\"bgcolor\":\"white\",\"lakecolor\":\"white\",\"landcolor\":\"#E5ECF6\",\"showlakes\":true,\"showland\":true,\"subunitcolor\":\"white\"},\"hoverlabel\":{\"align\":\"left\"},\"hovermode\":\"closest\",\"mapbox\":{\"style\":\"light\"},\"paper_bgcolor\":\"white\",\"plot_bgcolor\":\"#E5ECF6\",\"polar\":{\"angularaxis\":{\"gridcolor\":\"white\",\"linecolor\":\"white\",\"ticks\":\"\"},\"bgcolor\":\"#E5ECF6\",\"radialaxis\":{\"gridcolor\":\"white\",\"linecolor\":\"white\",\"ticks\":\"\"}},\"scene\":{\"xaxis\":{\"backgroundcolor\":\"#E5ECF6\",\"gridcolor\":\"white\",\"gridwidth\":2,\"linecolor\":\"white\",\"showbackground\":true,\"ticks\":\"\",\"zerolinecolor\":\"white\"},\"yaxis\":{\"backgroundcolor\":\"#E5ECF6\",\"gridcolor\":\"white\",\"gridwidth\":2,\"linecolor\":\"white\",\"showbackground\":true,\"ticks\":\"\",\"zerolinecolor\":\"white\"},\"zaxis\":{\"backgroundcolor\":\"#E5ECF6\",\"gridcolor\":\"white\",\"gridwidth\":2,\"linecolor\":\"white\",\"showbackground\":true,\"ticks\":\"\",\"zerolinecolor\":\"white\"}},\"shapedefaults\":{\"line\":{\"color\":\"#2a3f5f\"}},\"ternary\":{\"aaxis\":{\"gridcolor\":\"white\",\"linecolor\":\"white\",\"ticks\":\"\"},\"baxis\":{\"gridcolor\":\"white\",\"linecolor\":\"white\",\"ticks\":\"\"},\"bgcolor\":\"#E5ECF6\",\"caxis\":{\"gridcolor\":\"white\",\"linecolor\":\"white\",\"ticks\":\"\"}},\"title\":{\"x\":0.05},\"xaxis\":{\"automargin\":true,\"gridcolor\":\"white\",\"linecolor\":\"white\",\"ticks\":\"\",\"title\":{\"standoff\":15},\"zerolinecolor\":\"white\",\"zerolinewidth\":2},\"yaxis\":{\"automargin\":true,\"gridcolor\":\"white\",\"linecolor\":\"white\",\"ticks\":\"\",\"title\":{\"standoff\":15},\"zerolinecolor\":\"white\",\"zerolinewidth\":2}}},\"xaxis\":{\"anchor\":\"y\",\"domain\":[0.0,1.0],\"title\":{\"text\":\"date\"}},\"yaxis\":{\"anchor\":\"x\",\"domain\":[0.0,1.0],\"title\":{\"text\":\"percentage\"}},\"legend\":{\"title\":{\"text\":\"group\"},\"tracegroupgap\":0},\"title\":{\"text\":\"Group daily distribution\"}},                        {\"responsive\": true}                    ).then(function(){\n",
              "                            \n",
              "var gd = document.getElementById('b6283744-5bc0-4825-b453-206a61dca244');\n",
              "var x = new MutationObserver(function (mutations, observer) {{\n",
              "        var display = window.getComputedStyle(gd).display;\n",
              "        if (!display || display === 'none') {{\n",
              "            console.log([gd, 'removed!']);\n",
              "            Plotly.purge(gd);\n",
              "            observer.disconnect();\n",
              "        }}\n",
              "}});\n",
              "\n",
              "// Listen for the removal of the full notebook cells\n",
              "var notebookContainer = gd.closest('#notebook-container');\n",
              "if (notebookContainer) {{\n",
              "    x.observe(notebookContainer, {childList: true});\n",
              "}}\n",
              "\n",
              "// Listen for the clearing of the current output cell\n",
              "var outputEl = gd.closest('.output');\n",
              "if (outputEl) {{\n",
              "    x.observe(outputEl, {childList: true});\n",
              "}}\n",
              "\n",
              "                        })                };                            </script>        </div>\n",
              "</body>\n",
              "</html>"
            ]
          },
          "metadata": {}
        }
      ]
    },
    {
      "cell_type": "code",
      "source": [
        "#Save for model prediction\n",
        "#groups_percentage[groups_percentage.group == 1][['date','percentage']].to_csv(\"data/clustering/220309_percentage_non_careful.csv\")"
      ],
      "metadata": {
        "id": "myUJ_ceG81xh"
      },
      "execution_count": null,
      "outputs": []
    },
    {
      "cell_type": "code",
      "source": [
        ""
      ],
      "metadata": {
        "id": "WfOp_xkI810A"
      },
      "execution_count": null,
      "outputs": []
    }
  ],
  "metadata": {
    "kernelspec": {
      "display_name": "Python 3",
      "language": "python",
      "name": "python3"
    },
    "language_info": {
      "codemirror_mode": {
        "name": "ipython",
        "version": 2
      },
      "file_extension": ".py",
      "mimetype": "text/x-python",
      "name": "python",
      "nbconvert_exporter": "python",
      "pygments_lexer": "ipython2",
      "version": "2.7.6"
    },
    "colab": {
      "name": "behaviour_cluster_GMM.ipynb",
      "provenance": [],
      "collapsed_sections": [],
      "toc_visible": true
    }
  },
  "nbformat": 4,
  "nbformat_minor": 0
}