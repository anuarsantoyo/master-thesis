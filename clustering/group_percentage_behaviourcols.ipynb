{
 "cells": [
  {
   "cell_type": "code",
   "execution_count": 1,
   "metadata": {
    "collapsed": true
   },
   "outputs": [],
   "source": [
    "import pandas as pd\n",
    "import pandas as pd\n",
    "import numpy as np\n",
    "from sklearn import metrics\n",
    "import matplotlib.pyplot as plt\n",
    "import seaborn as sns\n",
    "import plotly.express as px\n",
    "from datetime import datetime, timedelta\n",
    "import os\n",
    "from clustering.utils import *"
   ]
  },
  {
   "cell_type": "code",
   "execution_count": 2,
   "outputs": [
    {
     "name": "stdout",
     "output_type": "stream",
     "text": [
      "/home/anuarsantoyo/PycharmProjects/master-thesis\n"
     ]
    }
   ],
   "source": [
    "%cd .."
   ],
   "metadata": {
    "collapsed": false
   }
  },
  {
   "cell_type": "code",
   "execution_count": 23,
   "outputs": [],
   "source": [
    "beh_cols = get_behaviour_cols()\n",
    "preproccesed = get_preprocessed_data(impute=True, impute_cols=beh_cols, start='2020-09-8', end='2021-02-01')"
   ],
   "metadata": {
    "collapsed": false
   }
  },
  {
   "cell_type": "code",
   "execution_count": 25,
   "outputs": [],
   "source": [
    "# Train Test Split\n",
    "start_train = '2020-09-8' #originally 15 but 8 because rolling average\n",
    "end_train = '2020-12-01'\n",
    "df_train = preproccesed[(preproccesed.date >= start_train) & (preproccesed.date < end_train)]\n",
    "df_test = preproccesed[preproccesed.date >= end_train]"
   ],
   "metadata": {
    "collapsed": false
   }
  },
  {
   "cell_type": "code",
   "execution_count": 26,
   "outputs": [],
   "source": [
    "from sklearn.preprocessing import StandardScaler\n",
    "scaler = StandardScaler()\n",
    "X_train = scaler.fit_transform(df_train[beh_cols].to_numpy())\n",
    "X_test = scaler.transform(df_test[beh_cols].to_numpy())"
   ],
   "metadata": {
    "collapsed": false
   }
  },
  {
   "cell_type": "code",
   "execution_count": 31,
   "outputs": [],
   "source": [
    "from sklearn.cluster import KMeans\n",
    "import numpy as np\n",
    "kmeans = KMeans(n_clusters=2, random_state=0).fit(X_train)\n",
    "labels_train = kmeans.labels_\n"
   ],
   "metadata": {
    "collapsed": false
   }
  },
  {
   "cell_type": "code",
   "execution_count": 32,
   "outputs": [],
   "source": [
    "labels_test = kmeans.predict(X_test)"
   ],
   "metadata": {
    "collapsed": false
   }
  },
  {
   "cell_type": "code",
   "execution_count": 35,
   "outputs": [],
   "source": [
    "labels = np.concatenate((labels_train,labels_test), axis=0)"
   ],
   "metadata": {
    "collapsed": false
   }
  },
  {
   "cell_type": "code",
   "execution_count": 51,
   "outputs": [
    {
     "data": {
      "text/plain": "['Q1_1_feel_exposed',\n 'Q1_2_covid_is_threat',\n 'Q2_1_easy_to_follow_advice',\n 'Q2_2_can_follow_advice_if_wanted',\n 'Q2_3_if_follow_advice_safe',\n 'Q2_4_if_follow_advice_others_safe',\n 'Q2_5_follow_advice_relationships_impared',\n 'Q2_6_follow_advice_life_degraded',\n 'Q3_1_aware_hand_hygiene',\n 'Q3_2_avoid_contact',\n 'Q3_3_ensure_frequent_cleaning',\n 'Q3_4_avoid_risk_groups',\n 'Q3_5_keep_distance',\n 'Q3_6_avoid_crowds',\n 'Q3_7_minimize_activities_w_contact',\n 'Q3b_1_sneeze_sleeve',\n 'Q5_1_others_took_distance',\n 'Q5_2_others_follow_advice',\n 'Q5_3_others_not_care_spreading',\n 'Q5_4_yourself_kept_distance',\n 'Q5_5_feel_urge_scold',\n 'Q6_1_sanctions_are_too_harsh',\n 'Q6_2_advices_important',\n 'Q6_3_others_can_avoid_spreading',\n 'Q6_4_advices_create_fair_burden_dristribution',\n 'Q6_5_ownership_of_advice',\n 'Q6_6_clear_information_on_advice_reason',\n 'Q6_7_advice_limits_daily_activities',\n 'Q6_8_advices_enough_for_prevention',\n 'Q6_9_trust_political_strategy']"
     },
     "execution_count": 51,
     "metadata": {},
     "output_type": "execute_result"
    }
   ],
   "source": [
    "beh_cols"
   ],
   "metadata": {
    "collapsed": false
   }
  },
  {
   "cell_type": "code",
   "execution_count": 36,
   "outputs": [
    {
     "data": {
      "text/plain": "array([[-0.18637027, -0.36273388, -0.53926032, -0.46741495, -0.57442229,\n        -0.51787789,  0.07687142,  0.24938581, -0.56099805, -0.6694019 ,\n        -0.57025468, -0.54897977, -0.68760505, -0.64987228, -0.64619299,\n        -0.36536639, -0.36634484, -0.36835725, -0.01087207, -0.65768667,\n        -0.19619225,  0.13347002, -0.75457901, -0.30497   , -0.55210197,\n        -0.72949301, -0.69927084,  0.02737797, -0.47810011, -0.70257165],\n       [ 0.10528718,  0.20492125,  0.30464731,  0.2640593 ,  0.32451155,\n         0.29256761, -0.04342739, -0.1408869 ,  0.31692772,  0.3781689 ,\n         0.32215712,  0.31013816,  0.38845251,  0.36713592,  0.36505736,\n         0.20640845,  0.20696121,  0.20809809,  0.00614202,  0.37155055,\n         0.11083597, -0.07540195,  0.42628848,  0.17228838,  0.31190201,\n         0.4121165 ,  0.39504293, -0.01546678,  0.27009573,  0.39690767]])"
     },
     "execution_count": 36,
     "metadata": {},
     "output_type": "execute_result"
    }
   ],
   "source": [
    "kmeans.cluster_centers_"
   ],
   "metadata": {
    "collapsed": false
   }
  },
  {
   "cell_type": "code",
   "execution_count": 37,
   "outputs": [],
   "source": [
    "preproccesed['labels'] =  labels"
   ],
   "metadata": {
    "collapsed": false
   }
  },
  {
   "cell_type": "code",
   "execution_count": 38,
   "outputs": [],
   "source": [
    "df = preproccesed"
   ],
   "metadata": {
    "collapsed": false
   }
  },
  {
   "cell_type": "code",
   "execution_count": 39,
   "outputs": [],
   "source": [
    "df = df[['date', 'labels']]"
   ],
   "metadata": {
    "collapsed": false
   }
  },
  {
   "cell_type": "code",
   "execution_count": 40,
   "outputs": [],
   "source": [
    "percentage = df.groupby('date').mean()"
   ],
   "metadata": {
    "collapsed": false
   }
  },
  {
   "cell_type": "code",
   "execution_count": 52,
   "outputs": [],
   "source": [
    "percentage_roll =  1-percentage.rolling(7).mean()"
   ],
   "metadata": {
    "collapsed": false
   }
  },
  {
   "cell_type": "code",
   "execution_count": 59,
   "outputs": [],
   "source": [
    "percentage_roll.dropna(inplace=True)"
   ],
   "metadata": {
    "collapsed": false
   }
  },
  {
   "cell_type": "code",
   "execution_count": 63,
   "outputs": [],
   "source": [
    "non_carefull = percentage_roll.reset_index('date')"
   ],
   "metadata": {
    "collapsed": false
   }
  },
  {
   "cell_type": "code",
   "execution_count": 55,
   "outputs": [
    {
     "data": {
      "text/plain": "[<matplotlib.lines.Line2D at 0x7f78203a14e0>]"
     },
     "execution_count": 55,
     "metadata": {},
     "output_type": "execute_result"
    },
    {
     "data": {
      "text/plain": "<Figure size 432x288 with 1 Axes>",
      "image/png": "[encoded data removed]"
     },
     "metadata": {
      "needs_background": "light"
     },
     "output_type": "display_data"
    }
   ],
   "source": [
    "plt.plot(percentage_roll)"
   ],
   "metadata": {
    "collapsed": false
   }
  },
  {
   "cell_type": "code",
   "execution_count": 65,
   "outputs": [],
   "source": [
    "non_carefull.to_csv('data/modeling/group_percentage_non_careful_behavioural.csv', index=False)"
   ],
   "metadata": {
    "collapsed": false
   }
  }
 ],
 "metadata": {
  "kernelspec": {
   "display_name": "Python 3",
   "language": "python",
   "name": "python3"
  },
  "language_info": {
   "codemirror_mode": {
    "name": "ipython",
    "version": 2
   },
   "file_extension": ".py",
   "mimetype": "text/x-python",
   "name": "python",
   "nbconvert_exporter": "python",
   "pygments_lexer": "ipython2",
   "version": "2.7.6"
  }
 },
 "nbformat": 4,
 "nbformat_minor": 0
}
